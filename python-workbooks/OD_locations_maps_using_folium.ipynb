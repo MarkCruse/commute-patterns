{
 "cells": [
  {
   "cell_type": "markdown",
   "metadata": {},
   "source": [
    "## Mapping Work Locations with 1000+ Employees using Folium"
   ]
  },
  {
   "cell_type": "code",
   "execution_count": 1,
   "metadata": {},
   "outputs": [],
   "source": [
    "import pathlib\n",
    "import pandas as pd\n",
    "import numpy as np\n",
    "import geopandas as gp\n",
    "import shapely.geometry as geom\n",
    "import folium\n",
    "from folium.plugins import MarkerCluster"
   ]
  },
  {
   "cell_type": "markdown",
   "metadata": {},
   "source": [
    "#### Set input file location and read into Pandas"
   ]
  },
  {
   "cell_type": "code",
   "execution_count": 2,
   "metadata": {},
   "outputs": [
    {
     "name": "stdout",
     "output_type": "stream",
     "text": [
      "input file:  ../data/OD/od_stats.csv.gz\n",
      "\n",
      "records loaded to dataframe: 17,233 \n",
      "\n",
      "\n"
     ]
    },
    {
     "data": {
      "text/html": [
       "<div>\n",
       "<style scoped>\n",
       "    .dataframe tbody tr th:only-of-type {\n",
       "        vertical-align: middle;\n",
       "    }\n",
       "\n",
       "    .dataframe tbody tr th {\n",
       "        vertical-align: top;\n",
       "    }\n",
       "\n",
       "    .dataframe thead th {\n",
       "        text-align: right;\n",
       "    }\n",
       "</style>\n",
       "<table border=\"1\" class=\"dataframe\">\n",
       "  <thead>\n",
       "    <tr style=\"text-align: right;\">\n",
       "      <th></th>\n",
       "      <th>w_geocode</th>\n",
       "      <th>S000</th>\n",
       "      <th>SA01</th>\n",
       "      <th>SA02</th>\n",
       "      <th>SA03</th>\n",
       "      <th>SE01</th>\n",
       "      <th>SE02</th>\n",
       "      <th>SE03</th>\n",
       "      <th>SI01</th>\n",
       "      <th>SI02</th>\n",
       "      <th>SI03</th>\n",
       "      <th>w_lat</th>\n",
       "      <th>w_lon</th>\n",
       "    </tr>\n",
       "  </thead>\n",
       "  <tbody>\n",
       "    <tr>\n",
       "      <th>0</th>\n",
       "      <td>010010205001001</td>\n",
       "      <td>1100</td>\n",
       "      <td>536</td>\n",
       "      <td>426</td>\n",
       "      <td>138</td>\n",
       "      <td>534</td>\n",
       "      <td>412</td>\n",
       "      <td>154</td>\n",
       "      <td>13</td>\n",
       "      <td>540</td>\n",
       "      <td>547</td>\n",
       "      <td>32.45674</td>\n",
       "      <td>-86.415025</td>\n",
       "    </tr>\n",
       "  </tbody>\n",
       "</table>\n",
       "</div>"
      ],
      "text/plain": [
       "         w_geocode  S000  SA01  SA02  SA03  SE01  SE02  SE03  SI01  SI02  \\\n",
       "0  010010205001001  1100   536   426   138   534   412   154    13   540   \n",
       "\n",
       "   SI03     w_lat      w_lon  \n",
       "0   547  32.45674 -86.415025  "
      ]
     },
     "execution_count": 2,
     "metadata": {},
     "output_type": "execute_result"
    }
   ],
   "source": [
    "input_file = 'od_stats.csv.gz'\n",
    "ODpath = pathlib.Path('../data/OD/')\n",
    "ODfile = ODpath.joinpath(input_file)\n",
    "\n",
    "with ODfile.open(mode='r') as fid:\n",
    "#    df_All = pd.read_csv(ODfile, dtype = {'w_geocode': object, 'h_geocode': object})\n",
    "    df_All = pd.read_csv(ODfile, dtype = {'w_geocode': object})\n",
    "\n",
    "print ('input file: ',ODfile)\n",
    "print('\\nrecords loaded to dataframe:', \"{:,}\".format(len(df_All)),'\\n\\n')\n",
    "df_All.head(1)"
   ]
  },
  {
   "cell_type": "markdown",
   "metadata": {},
   "source": [
    "#### Set the state to analyze"
   ]
  },
  {
   "cell_type": "code",
   "execution_count": 3,
   "metadata": {},
   "outputs": [],
   "source": [
    "state_id = '21'"
   ]
  },
  {
   "cell_type": "markdown",
   "metadata": {},
   "source": [
    "#### Set the output file location for html"
   ]
  },
  {
   "cell_type": "code",
   "execution_count": 4,
   "metadata": {},
   "outputs": [
    {
     "name": "stdout",
     "output_type": "stream",
     "text": [
      "path for html output: ../docs\n"
     ]
    }
   ],
   "source": [
    "output_loc = pathlib.Path('../docs/')\n",
    "output_loc.mkdir(exist_ok=True, parents=True)\n",
    "print ('path for html output:',output_loc)"
   ]
  },
  {
   "cell_type": "markdown",
   "metadata": {},
   "source": [
    "#### Drop all records where the work location does not being with the chosen state_id"
   ]
  },
  {
   "cell_type": "code",
   "execution_count": 5,
   "metadata": {},
   "outputs": [
    {
     "name": "stdout",
     "output_type": "stream",
     "text": [
      "\n",
      "new dataframe length:  223 \n",
      "\n",
      "\n"
     ]
    },
    {
     "data": {
      "text/html": [
       "<div>\n",
       "<style scoped>\n",
       "    .dataframe tbody tr th:only-of-type {\n",
       "        vertical-align: middle;\n",
       "    }\n",
       "\n",
       "    .dataframe tbody tr th {\n",
       "        vertical-align: top;\n",
       "    }\n",
       "\n",
       "    .dataframe thead th {\n",
       "        text-align: right;\n",
       "    }\n",
       "</style>\n",
       "<table border=\"1\" class=\"dataframe\">\n",
       "  <thead>\n",
       "    <tr style=\"text-align: right;\">\n",
       "      <th></th>\n",
       "      <th>w_geocode</th>\n",
       "      <th>S000</th>\n",
       "      <th>SA01</th>\n",
       "      <th>SA02</th>\n",
       "      <th>SA03</th>\n",
       "      <th>SE01</th>\n",
       "      <th>SE02</th>\n",
       "      <th>SE03</th>\n",
       "      <th>SI01</th>\n",
       "      <th>SI02</th>\n",
       "      <th>SI03</th>\n",
       "      <th>w_lat</th>\n",
       "      <th>w_lon</th>\n",
       "    </tr>\n",
       "  </thead>\n",
       "  <tbody>\n",
       "    <tr>\n",
       "      <th>0</th>\n",
       "      <td>210099505002000</td>\n",
       "      <td>1238</td>\n",
       "      <td>137</td>\n",
       "      <td>854</td>\n",
       "      <td>247</td>\n",
       "      <td>71</td>\n",
       "      <td>599</td>\n",
       "      <td>568</td>\n",
       "      <td>0</td>\n",
       "      <td>0</td>\n",
       "      <td>1238</td>\n",
       "      <td>37.010798</td>\n",
       "      <td>-85.906837</td>\n",
       "    </tr>\n",
       "  </tbody>\n",
       "</table>\n",
       "</div>"
      ],
      "text/plain": [
       "         w_geocode  S000  SA01  SA02  SA03  SE01  SE02  SE03  SI01  SI02  \\\n",
       "0  210099505002000  1238   137   854   247    71   599   568     0     0   \n",
       "\n",
       "   SI03      w_lat      w_lon  \n",
       "0  1238  37.010798 -85.906837  "
      ]
     },
     "execution_count": 5,
     "metadata": {},
     "output_type": "execute_result"
    }
   ],
   "source": [
    "df = df_All.drop(df_All[~df_All['w_geocode'].str.startswith(state_id)].index)\n",
    "df = df.reset_index(drop=True)\n",
    "print('\\nnew dataframe length: ', \"{:,}\".format(len(df)),'\\n\\n')\n",
    "df.head(1)"
   ]
  },
  {
   "cell_type": "markdown",
   "metadata": {},
   "source": [
    "#### Create a column for the dominant industry sector of the block"
   ]
  },
  {
   "cell_type": "code",
   "execution_count": 6,
   "metadata": {},
   "outputs": [
    {
     "data": {
      "text/html": [
       "<div>\n",
       "<style scoped>\n",
       "    .dataframe tbody tr th:only-of-type {\n",
       "        vertical-align: middle;\n",
       "    }\n",
       "\n",
       "    .dataframe tbody tr th {\n",
       "        vertical-align: top;\n",
       "    }\n",
       "\n",
       "    .dataframe thead th {\n",
       "        text-align: right;\n",
       "    }\n",
       "</style>\n",
       "<table border=\"1\" class=\"dataframe\">\n",
       "  <thead>\n",
       "    <tr style=\"text-align: right;\">\n",
       "      <th></th>\n",
       "      <th>w_geocode</th>\n",
       "      <th>S000</th>\n",
       "      <th>SA01</th>\n",
       "      <th>SA02</th>\n",
       "      <th>SA03</th>\n",
       "      <th>SE01</th>\n",
       "      <th>SE02</th>\n",
       "      <th>SE03</th>\n",
       "      <th>SI01</th>\n",
       "      <th>SI02</th>\n",
       "      <th>SI03</th>\n",
       "      <th>w_lat</th>\n",
       "      <th>w_lon</th>\n",
       "      <th>industry_max</th>\n",
       "    </tr>\n",
       "  </thead>\n",
       "  <tbody>\n",
       "    <tr>\n",
       "      <th>0</th>\n",
       "      <td>210099505002000</td>\n",
       "      <td>1238</td>\n",
       "      <td>137</td>\n",
       "      <td>854</td>\n",
       "      <td>247</td>\n",
       "      <td>71</td>\n",
       "      <td>599</td>\n",
       "      <td>568</td>\n",
       "      <td>0</td>\n",
       "      <td>0</td>\n",
       "      <td>1238</td>\n",
       "      <td>37.010798</td>\n",
       "      <td>-85.906837</td>\n",
       "      <td>SI03</td>\n",
       "    </tr>\n",
       "  </tbody>\n",
       "</table>\n",
       "</div>"
      ],
      "text/plain": [
       "         w_geocode  S000  SA01  SA02  SA03  SE01  SE02  SE03  SI01  SI02  \\\n",
       "0  210099505002000  1238   137   854   247    71   599   568     0     0   \n",
       "\n",
       "   SI03      w_lat      w_lon industry_max  \n",
       "0  1238  37.010798 -85.906837         SI03  "
      ]
     },
     "execution_count": 6,
     "metadata": {},
     "output_type": "execute_result"
    }
   ],
   "source": [
    "df['industry_max']=df[['SI01','SI02','SI03']].idxmax(axis=1)\n",
    "df.head(1)"
   ]
  },
  {
   "cell_type": "code",
   "execution_count": 7,
   "metadata": {},
   "outputs": [
    {
     "data": {
      "text/html": [
       "<div>\n",
       "<style scoped>\n",
       "    .dataframe tbody tr th:only-of-type {\n",
       "        vertical-align: middle;\n",
       "    }\n",
       "\n",
       "    .dataframe tbody tr th {\n",
       "        vertical-align: top;\n",
       "    }\n",
       "\n",
       "    .dataframe thead th {\n",
       "        text-align: right;\n",
       "    }\n",
       "</style>\n",
       "<table border=\"1\" class=\"dataframe\">\n",
       "  <thead>\n",
       "    <tr style=\"text-align: right;\">\n",
       "      <th></th>\n",
       "      <th>w_geocode</th>\n",
       "      <th>S000</th>\n",
       "      <th>SA01</th>\n",
       "      <th>SA02</th>\n",
       "      <th>SA03</th>\n",
       "      <th>SE01</th>\n",
       "      <th>SE02</th>\n",
       "      <th>SE03</th>\n",
       "      <th>SI01</th>\n",
       "      <th>SI02</th>\n",
       "      <th>SI03</th>\n",
       "      <th>w_lat</th>\n",
       "      <th>w_lon</th>\n",
       "      <th>industry_max</th>\n",
       "      <th>industry</th>\n",
       "    </tr>\n",
       "  </thead>\n",
       "  <tbody>\n",
       "    <tr>\n",
       "      <th>0</th>\n",
       "      <td>210099505002000</td>\n",
       "      <td>1238</td>\n",
       "      <td>137</td>\n",
       "      <td>854</td>\n",
       "      <td>247</td>\n",
       "      <td>71</td>\n",
       "      <td>599</td>\n",
       "      <td>568</td>\n",
       "      <td>0</td>\n",
       "      <td>0</td>\n",
       "      <td>1238</td>\n",
       "      <td>37.010798</td>\n",
       "      <td>-85.906837</td>\n",
       "      <td>SI03</td>\n",
       "      <td>Service</td>\n",
       "    </tr>\n",
       "    <tr>\n",
       "      <th>1</th>\n",
       "      <td>210150702005017</td>\n",
       "      <td>1327</td>\n",
       "      <td>260</td>\n",
       "      <td>795</td>\n",
       "      <td>272</td>\n",
       "      <td>164</td>\n",
       "      <td>637</td>\n",
       "      <td>526</td>\n",
       "      <td>208</td>\n",
       "      <td>590</td>\n",
       "      <td>529</td>\n",
       "      <td>38.982623</td>\n",
       "      <td>-84.625940</td>\n",
       "      <td>SI02</td>\n",
       "      <td>Trade, Transportation, Utilities</td>\n",
       "    </tr>\n",
       "    <tr>\n",
       "      <th>2</th>\n",
       "      <td>210150703011003</td>\n",
       "      <td>1455</td>\n",
       "      <td>142</td>\n",
       "      <td>919</td>\n",
       "      <td>394</td>\n",
       "      <td>45</td>\n",
       "      <td>367</td>\n",
       "      <td>1043</td>\n",
       "      <td>1177</td>\n",
       "      <td>45</td>\n",
       "      <td>233</td>\n",
       "      <td>38.977810</td>\n",
       "      <td>-84.625726</td>\n",
       "      <td>SI01</td>\n",
       "      <td>Goods Producing</td>\n",
       "    </tr>\n",
       "  </tbody>\n",
       "</table>\n",
       "</div>"
      ],
      "text/plain": [
       "         w_geocode  S000  SA01  SA02  SA03  SE01  SE02  SE03  SI01  SI02  \\\n",
       "0  210099505002000  1238   137   854   247    71   599   568     0     0   \n",
       "1  210150702005017  1327   260   795   272   164   637   526   208   590   \n",
       "2  210150703011003  1455   142   919   394    45   367  1043  1177    45   \n",
       "\n",
       "   SI03      w_lat      w_lon industry_max                          industry  \n",
       "0  1238  37.010798 -85.906837         SI03                           Service  \n",
       "1   529  38.982623 -84.625940         SI02  Trade, Transportation, Utilities  \n",
       "2   233  38.977810 -84.625726         SI01                   Goods Producing  "
      ]
     },
     "execution_count": 7,
     "metadata": {},
     "output_type": "execute_result"
    }
   ],
   "source": [
    "df.loc[df['industry_max'] == 'SI01', 'industry'] = 'Goods Producing'\n",
    "df.loc[df['industry_max'] == 'SI02', 'industry'] = 'Trade, Transportation, Utilities'\n",
    "df.loc[df['industry_max'] == 'SI03', 'industry'] = 'Service'\n",
    "df.head(3)"
   ]
  },
  {
   "cell_type": "code",
   "execution_count": 8,
   "metadata": {},
   "outputs": [
    {
     "data": {
      "text/html": [
       "<div>\n",
       "<style scoped>\n",
       "    .dataframe tbody tr th:only-of-type {\n",
       "        vertical-align: middle;\n",
       "    }\n",
       "\n",
       "    .dataframe tbody tr th {\n",
       "        vertical-align: top;\n",
       "    }\n",
       "\n",
       "    .dataframe thead th {\n",
       "        text-align: right;\n",
       "    }\n",
       "</style>\n",
       "<table border=\"1\" class=\"dataframe\">\n",
       "  <thead>\n",
       "    <tr style=\"text-align: right;\">\n",
       "      <th></th>\n",
       "      <th>GEOID</th>\n",
       "      <th>Goods Producing</th>\n",
       "      <th>Trade, Transportation, Utilities</th>\n",
       "      <th>Service</th>\n",
       "    </tr>\n",
       "  </thead>\n",
       "  <tbody>\n",
       "    <tr>\n",
       "      <th>0</th>\n",
       "      <td>210099505002000</td>\n",
       "      <td>0</td>\n",
       "      <td>0</td>\n",
       "      <td>1238</td>\n",
       "    </tr>\n",
       "    <tr>\n",
       "      <th>1</th>\n",
       "      <td>210150702005017</td>\n",
       "      <td>208</td>\n",
       "      <td>590</td>\n",
       "      <td>529</td>\n",
       "    </tr>\n",
       "    <tr>\n",
       "      <th>2</th>\n",
       "      <td>210150703011003</td>\n",
       "      <td>1177</td>\n",
       "      <td>45</td>\n",
       "      <td>233</td>\n",
       "    </tr>\n",
       "    <tr>\n",
       "      <th>3</th>\n",
       "      <td>210150703011004</td>\n",
       "      <td>1341</td>\n",
       "      <td>276</td>\n",
       "      <td>215</td>\n",
       "    </tr>\n",
       "    <tr>\n",
       "      <th>4</th>\n",
       "      <td>210150703011019</td>\n",
       "      <td>1394</td>\n",
       "      <td>95</td>\n",
       "      <td>68</td>\n",
       "    </tr>\n",
       "    <tr>\n",
       "      <th>5</th>\n",
       "      <td>210150703011029</td>\n",
       "      <td>370</td>\n",
       "      <td>1102</td>\n",
       "      <td>36</td>\n",
       "    </tr>\n",
       "    <tr>\n",
       "      <th>6</th>\n",
       "      <td>210150703111008</td>\n",
       "      <td>1513</td>\n",
       "      <td>1078</td>\n",
       "      <td>512</td>\n",
       "    </tr>\n",
       "    <tr>\n",
       "      <th>7</th>\n",
       "      <td>210150703111044</td>\n",
       "      <td>217</td>\n",
       "      <td>24</td>\n",
       "      <td>3474</td>\n",
       "    </tr>\n",
       "    <tr>\n",
       "      <th>8</th>\n",
       "      <td>210150703112018</td>\n",
       "      <td>5</td>\n",
       "      <td>84</td>\n",
       "      <td>959</td>\n",
       "    </tr>\n",
       "    <tr>\n",
       "      <th>9</th>\n",
       "      <td>210150703112041</td>\n",
       "      <td>1461</td>\n",
       "      <td>549</td>\n",
       "      <td>315</td>\n",
       "    </tr>\n",
       "  </tbody>\n",
       "</table>\n",
       "</div>"
      ],
      "text/plain": [
       "             GEOID Goods Producing Trade, Transportation, Utilities Service\n",
       "0  210099505002000               0                                0    1238\n",
       "1  210150702005017             208                              590     529\n",
       "2  210150703011003            1177                               45     233\n",
       "3  210150703011004            1341                              276     215\n",
       "4  210150703011019            1394                               95      68\n",
       "5  210150703011029             370                             1102      36\n",
       "6  210150703111008            1513                             1078     512\n",
       "7  210150703111044             217                               24    3474\n",
       "8  210150703112018               5                               84     959\n",
       "9  210150703112041            1461                              549     315"
      ]
     },
     "execution_count": 8,
     "metadata": {},
     "output_type": "execute_result"
    }
   ],
   "source": [
    "#df.loc[df['SI01'] == 'SI03', 'Industry'] = 'Service'\n",
    "df2 = pd.DataFrame([df.w_geocode,df.SI01,df.SI02,df.SI03]).transpose()\n",
    "df2 = df2.rename(columns={'w_geocode': 'GEOID','SI01': 'Goods Producing', 'SI02': 'Trade, Transportation, Utilities', 'SI03': 'Service'})\n",
    "df2.head(10)"
   ]
  },
  {
   "cell_type": "code",
   "execution_count": 9,
   "metadata": {},
   "outputs": [],
   "source": [
    "def color_icon(industry):\n",
    "    if industry == 'SI01': \n",
    "        col='green'\n",
    "    elif industry == 'SI02':\n",
    "        col='red'\n",
    "    else:\n",
    "        col='blue'\n",
    "    return col"
   ]
  },
  {
   "cell_type": "code",
   "execution_count": 10,
   "metadata": {},
   "outputs": [],
   "source": [
    "def popup(block_id, industry, employed,si01,si02,si03):\n",
    "    # generate the popup message that is shown on click.\n",
    "    popup_text = \"<br>GEOID: {} <br> Main industry type: {}<br> Number employed: {}<br> Goods Producing: {}<br> Trade, Transportation, Utilities: {}<br> Service: {}\"\n",
    "    popup_text = popup_text.format(block_id, industry,employed,si01,si02,si03)\n",
    "    return popup_text"
   ]
  },
  {
   "cell_type": "markdown",
   "metadata": {},
   "source": [
    "#### Create lat lon list for mapping locations with 1000+ employees"
   ]
  },
  {
   "cell_type": "code",
   "execution_count": 11,
   "metadata": {},
   "outputs": [
    {
     "name": "stdout",
     "output_type": "stream",
     "text": [
      "\n",
      "the number of locations with 1000+ employees: 223 \n",
      "\n",
      "\n"
     ]
    }
   ],
   "source": [
    "locations = df[['w_lat', 'w_lon']]\n",
    "locationlist = locations.values.tolist()\n",
    "print ('\\nthe number of locations with 1000+ employees:',  \"{:,}\".format(len(locationlist)),'\\n\\n')"
   ]
  },
  {
   "cell_type": "markdown",
   "metadata": {},
   "source": [
    "#### Generate map with basic markers"
   ]
  },
  {
   "cell_type": "code",
   "execution_count": 12,
   "metadata": {},
   "outputs": [],
   "source": [
    "m = folium.Map(location=[37.645556, -84.769722], tiles='cartodbpositron',\n",
    "                zoom_start=7, control_scale=True, prefer_canvas=True)\n",
    "\n",
    "legend_html =   '''\n",
    "                <div style=\"position: fixed; \n",
    "                            bottom: 50px; left: 5px; width: 270px; height: 140px; \n",
    "                            border:2px solid grey; z-index:9999; font-size:16px;\n",
    "                            \">&nbsp;&nbsp;&nbsp;&nbsp;&nbsp;&nbsp;&nbsp;&nbsp;&nbsp;<b>Industry Type </b><br>\n",
    "                            &nbsp;&nbsp;<i class=\"fa fa-map-marker fa-2x\" style=\"color:green\"></i>&nbsp; Goods Producing &nbsp;<br>\n",
    "                            &nbsp;&nbsp;<i class=\"fa fa-map-marker fa-2x\" style=\"color:red\"></i>&nbsp; Trade, Transportation, Utilities &nbsp;<br>\n",
    "                            &nbsp;&nbsp;<i class=\"fa fa-map-marker fa-2x\" style=\"color:blue\"></i>&nbsp; Service &nbsp; \n",
    "                </div>\n",
    "                ''' \n",
    "\n",
    "title_html =   '''\n",
    "                <div style=\"position: fixed; \n",
    "                            top: 10px; left: 450px; width: 500px; height: 30px; \n",
    "                            border:0px solid grey; z-index:9999; font-size:24px;\n",
    "                            \"><b>Block Locations with 1000+ Employees </b><br>\n",
    "                </div>\n",
    "                ''' \n",
    "\n",
    "m.get_root().html.add_child(folium.Element(title_html))    \n",
    "\n",
    "for point in range(len(locationlist)):\n",
    "    #folium.Marker(locations[point], popup=df_blocks['w_geocode'][point]).add_to(m)\n",
    "    folium.Marker(locationlist[point],popup=folium.Popup(popup(df['w_geocode'][point],df['industry'][point],\n",
    "                                                               df['S000'][point],df['SI01'][point],df['SI02'][point],df['SI03'][point]),\n",
    "                  max_width=650),\n",
    "                  icon= folium.Icon(color=color_icon(df['industry_max'][point]))).add_to(m)\n",
    "    \n",
    "m.get_root().html.add_child(folium.Element(legend_html))  \n",
    "\n",
    "m.save('../docs/basic_markers.html')\n"
   ]
  },
  {
   "cell_type": "markdown",
   "metadata": {},
   "source": [
    "__[Click here for the interactive map](https://markcruse.github.io/698-final-project/basic_markers.html)__"
   ]
  },
  {
   "cell_type": "markdown",
   "metadata": {},
   "source": [
    "#### Generate map of circle markers with radius based on # of employees"
   ]
  },
  {
   "cell_type": "code",
   "execution_count": 13,
   "metadata": {},
   "outputs": [],
   "source": [
    "# generate a new map\n",
    "folium_map = folium.Map(location=[37.645556, -84.769722],\n",
    "                        zoom_start=8,\n",
    "                        tiles=\"CartoDB dark_matter\",\n",
    "                        width='100%')\n",
    "legend_html =   '''\n",
    "                <div style=\"position: fixed; \n",
    "                            bottom: 50px; left: 5px; width: 270px; height: 140px; \n",
    "                            border:2px solid grey; z-index:9999; font-size:16px;color:lightgrey;\n",
    "                            \">&nbsp;&nbsp;&nbsp;&nbsp;&nbsp;&nbsp;&nbsp;&nbsp;&nbsp;<b>Industry Type </b><br>\n",
    "                            &nbsp;&nbsp;<i class=\"fa fa-map-marker fa-2x\" style=\"color:green\"></i>&nbsp; Goods Producing &nbsp;<br>\n",
    "                            &nbsp;&nbsp;<i class=\"fa fa-map-marker fa-2x\" style=\"color:red\"></i>&nbsp; Trade, Transportation, Utilities &nbsp;<br>\n",
    "                            &nbsp;&nbsp;<i class=\"fa fa-map-marker fa-2x\" style=\"color:blue\"></i>&nbsp; Service &nbsp; \n",
    "                </div>\n",
    "                ''' \n",
    "\n",
    "title_html =   '''\n",
    "                <div style=\"position: fixed; \n",
    "                            top: 10px; left: 450px; width: 500px; height: 30px; \n",
    "                            border:0px solid grey; z-index:9999; font-size:24px; color:lightgrey;\n",
    "                            \"><b>Block Locations with 1000+ Employees </b><br>\n",
    "                </div>\n",
    "                ''' \n",
    "\n",
    "folium_map.get_root().html.add_child(folium.Element(title_html))    \n",
    "\n",
    "# for each row in the data, add a cicle marker\n",
    "for index, row in df.iterrows():\n",
    "    # generate the popup message that is shown on click.\n",
    "    popup_text = \"<br>GEOID: {} <br> Main industry type: {}<br> Number employed: {}<br> Goods Producing: {}<br> Trade, Transportation, Utilities: {}<br> Service: {}\"\n",
    "    popup_text = popup_text.format(row['w_geocode'],row['industry'],row['S000'],row['SI01'],row['SI02'],row['SI03'])\n",
    "    \n",
    "\n",
    "    # radius of circles\n",
    "    radius = row.S000/300\n",
    "\n",
    "    # choose the color of the marker\n",
    "    if row['industry_max'] == 'SI01': \n",
    "        color='green'\n",
    "    elif row['industry_max'] == 'SI02':\n",
    "        # color=\"#FFCE00\" # orange\n",
    "        # color=\"#007849\" # green\n",
    "        color=\"#E37222\" # tangerine\n",
    "    else:\n",
    "        # color=\"#0375B4\" # blue\n",
    "        # color=\"#FFCE00\" # yellow            \n",
    "        color=\"#0A8A9F\" # teal\n",
    "\n",
    "    # add marker to the map\n",
    "    folium.CircleMarker(location=(row['w_lat'],\n",
    "                                  row['w_lon']),\n",
    "                        radius=radius,\n",
    "                        color=color,\n",
    "                        popup=folium.Popup(popup_text,max_width=650)).add_to(folium_map)\n",
    "    \n",
    "folium_map.get_root().html.add_child(folium.Element(legend_html)) \n",
    "\n",
    "\n",
    "folium_map.save('../docs/circle_markers.html')\n",
    "\n",
    "\n",
    "#folium_map"
   ]
  },
  {
   "cell_type": "markdown",
   "metadata": {},
   "source": [
    "__[Click here for the interactive map](https://markcruse.github.io/698-final-project/circle_markers.html)__"
   ]
  },
  {
   "cell_type": "markdown",
   "metadata": {},
   "source": [
    "#### Generate map of clustered markers"
   ]
  },
  {
   "cell_type": "code",
   "execution_count": 14,
   "metadata": {},
   "outputs": [],
   "source": [
    "m = folium.Map(location=[37.645556, -84.769722], tiles='cartodbpositron',\n",
    "                zoom_start=7, control_scale=True, prefer_canvas=True)\n",
    "\n",
    "marker_cluster = MarkerCluster().add_to(m)\n",
    "\n",
    "\n",
    "legend_html =   '''\n",
    "                <div style=\"position: fixed; \n",
    "                            bottom: 50px; left: 5px; width: 270px; height: 140px; \n",
    "                            border:2px solid grey; z-index:9999; font-size:16px;\n",
    "                            \">&nbsp;&nbsp;&nbsp;&nbsp;&nbsp;&nbsp;&nbsp;&nbsp;&nbsp;<b>Industry Type </b><br>\n",
    "                            &nbsp;&nbsp;<i class=\"fa fa-map-marker fa-2x\" style=\"color:green\"></i>&nbsp; Goods Producing &nbsp;<br>\n",
    "                            &nbsp;&nbsp;<i class=\"fa fa-map-marker fa-2x\" style=\"color:red\"></i>&nbsp; Trade, Transportation, Utilities &nbsp;<br>\n",
    "                            &nbsp;&nbsp;<i class=\"fa fa-map-marker fa-2x\" style=\"color:blue\"></i>&nbsp; Service &nbsp; \n",
    "                </div>\n",
    "                ''' \n",
    "\n",
    "title_html =   '''\n",
    "                <div style=\"position: fixed; \n",
    "                            top: 10px; left: 450px; width: 500px; height: 30px; \n",
    "                            border:0px solid grey; z-index:9999; font-size:24px;\n",
    "                            \"><b>Block Locations with 1000+ Employees </b><br>\n",
    "                </div>\n",
    "                ''' \n",
    "        \n",
    "m.get_root().html.add_child(folium.Element(title_html))    \n",
    "\n",
    "for point in range(len(locationlist)):\n",
    "    #folium.Marker(locations[point], popup=df_blocks['w_geocode'][point]).add_to(m)\n",
    "    folium.Marker(locationlist[point],popup=folium.Popup(popup(df['w_geocode'][point],df['industry'][point],\n",
    "                                                               df['S000'][point],df['SI01'][point],df['SI02'][point],df['SI03'][point]),\n",
    "                  max_width=650),\n",
    "                  icon= folium.Icon(color=color_icon(df['industry_max'][point]))).add_to(marker_cluster)\n",
    "    \n",
    "    \n",
    "m.get_root().html.add_child(folium.Element(legend_html))  \n",
    "\n",
    "m.save('../docs/cluster_markers.html')\n",
    "\n",
    "#m"
   ]
  },
  {
   "cell_type": "markdown",
   "metadata": {},
   "source": [
    "__[Click here for the interactive map](https://markcruse.github.io/698-final-project/cluster_markers.html)__"
   ]
  }
 ],
 "metadata": {
  "kernelspec": {
   "display_name": "Python 3",
   "language": "python",
   "name": "python3"
  },
  "language_info": {
   "codemirror_mode": {
    "name": "ipython",
    "version": 3
   },
   "file_extension": ".py",
   "mimetype": "text/x-python",
   "name": "python",
   "nbconvert_exporter": "python",
   "pygments_lexer": "ipython3",
   "version": "3.7.2"
  }
 },
 "nbformat": 4,
 "nbformat_minor": 2
}
