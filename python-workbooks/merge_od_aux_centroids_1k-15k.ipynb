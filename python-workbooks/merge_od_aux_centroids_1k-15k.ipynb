{
 "cells": [
  {
   "cell_type": "markdown",
   "metadata": {},
   "source": [
    "## Merge OD and AUX data with Block Centroid 1k-15k employed per block"
   ]
  },
  {
   "cell_type": "code",
   "execution_count": 1,
   "metadata": {},
   "outputs": [],
   "source": [
    "import pandas as pd\n",
    "\n",
    "from pathlib import Path\n",
    "import timeit\n",
    "from IPython.display import clear_output\n",
    "from pyproj import Geod\n",
    "import numpy as np"
   ]
  },
  {
   "cell_type": "markdown",
   "metadata": {},
   "source": [
    "#### Function - Convert decimal time to minutes and seconds"
   ]
  },
  {
   "cell_type": "code",
   "execution_count": 2,
   "metadata": {},
   "outputs": [],
   "source": [
    "def get_time(timer):\n",
    "    minutes, seconds = int(np.floor(timer)), round(np.asscalar(timer % 1)*60)\n",
    "    return[minutes,  seconds]"
   ]
  },
  {
   "cell_type": "markdown",
   "metadata": {},
   "source": [
    "#### Funtion to calculate distance between work and home"
   ]
  },
  {
   "cell_type": "code",
   "execution_count": 3,
   "metadata": {},
   "outputs": [],
   "source": [
    "def Distance(lat1,lon1,lat2,lon2):\n",
    "  az12,az21,dist = wgs84_geod.inv(lon1,lat1,lon2,lat2) \n",
    "  return dist"
   ]
  },
  {
   "cell_type": "markdown",
   "metadata": {},
   "source": [
    "#### Funtion to process the locations with range of employees and merge with centroids"
   ]
  },
  {
   "cell_type": "code",
   "execution_count": 4,
   "metadata": {},
   "outputs": [],
   "source": [
    "def chunk_process_distance(df):\n",
    "    # create a group of all workplace geoids\n",
    "    df_group = df.groupby(['w_geocode']).sum()\n",
    "    \n",
    "    # include only the records with # employees in the block\n",
    "     # create a dataframe with only blocks with 1000+ employees\n",
    "    df_group_limited = df_group[(df_group['S000'] >= 1000) & (df_group['S000'] < 15000)]\n",
    "    \n",
    "   \n",
    "    df2 = pd.merge(df, df_group_limited, on='w_geocode', suffixes=('','_del'))\n",
    "    # keep the sum of the S000 column to use in later filtering.\n",
    "    df2.rename(columns={'S000_del': 'w_group_count'}, inplace=True)\n",
    "    # Remove all other S*_del columns\n",
    "    df2.drop(list(df2.filter(regex='_del')), axis=1, inplace=True)\n",
    "    \n",
    "    \n",
    "    # create list of all block with > 1000 workers\n",
    "    #top_block_list = df_group_limited.index.tolist()\n",
    "    # create a dataframe with only block with > 1000\n",
    "    #df2 = df[df['w_geocode'].isin(top_block_list)]\n",
    "    \n",
    "    # load the centroid file\n",
    "    #centroids = pd.read_csv(block_file, dtype={'block_geoid': 'object', 'lat': 'float', 'lon': 'float'})\n",
    "    \n",
    "    # merge the centroid data frame with the grouped dataframe\n",
    "    #merge_result = pd.merge(df2_sort, centroids,left_on=  ['w_geocode'],right_on= ['block_geoid'],how = 'left')\n",
    "    merge_result = pd.merge(df2, centroids,left_on=  ['w_geocode'],right_on= ['block_geoid'],how = 'left')\n",
    "    merge_result.drop(['block_geoid'], axis=1, inplace=True)\n",
    "    merge_result.rename(columns={'lat': 'w_lat', 'lon': 'w_lon'}, inplace=True)\n",
    "    # merge the centroid data frame on the Fayette county h_geocode column\n",
    "    merge_result = pd.merge(merge_result, centroids,left_on=  ['h_geocode'],right_on= ['block_geoid'],how = 'left')\n",
    "    merge_result.drop(['block_geoid'], axis=1, inplace=True)\n",
    "    merge_result.rename(columns={'lat': 'h_lat', 'lon': 'h_lon'}, inplace=True)\n",
    "    merge_result['distance'] = Distance(merge_result['w_lat'].tolist(),merge_result['w_lon'].tolist(),merge_result['h_lat'].tolist(),merge_result['h_lon'].tolist())\n",
    "    merge_result['distance'] = merge_result['distance'].apply(lambda x: round(x, decimals))\n",
    "    #merge_limited = merge_result[(merge_result['distance'] < 100000) & (merge_result['distance'] > 15000)]\n",
    "    #merge_limited['geometry'] = merge_limited.apply(lambda x: geom.LineString([(x['w_lon'], x['w_lat'] ), (x['h_lon'],x['h_lat'])]), axis = 1)\n",
    "    return merge_result"
   ]
  },
  {
   "cell_type": "markdown",
   "metadata": {},
   "source": [
    "#### Input locations and file names"
   ]
  },
  {
   "cell_type": "code",
   "execution_count": 5,
   "metadata": {},
   "outputs": [
    {
     "name": "stdout",
     "output_type": "stream",
     "text": [
      "OD file exist\n",
      "Block Centroid file exist\n"
     ]
    }
   ],
   "source": [
    "ODpath = Path(\"../data/OD/\")\n",
    "OD_file = ODpath.joinpath(\"od_aux.csv.gz\")\n",
    "if OD_file.exists ():\n",
    "    print (\"OD file exist\")\n",
    "else:\n",
    "    print (\"OD file does not exist\")\n",
    "    \n",
    "blockPath = Path(\"../data/blocks/\")\n",
    "block_file = blockPath.joinpath(\"block_centroids_ftp.csv.gz\")\n",
    "if block_file.exists ():\n",
    "    print (\"Block Centroid file exist\")\n",
    "else:\n",
    "    print (\"Block Centroid file does not exist\")"
   ]
  },
  {
   "cell_type": "markdown",
   "metadata": {},
   "source": [
    "#### Load the centroid file to dataframe for merging"
   ]
  },
  {
   "cell_type": "code",
   "execution_count": 6,
   "metadata": {},
   "outputs": [],
   "source": [
    "centroids = pd.read_csv(block_file, dtype={'block_geoid': 'object', 'lat': 'float', 'lon': 'float'})"
   ]
  },
  {
   "cell_type": "markdown",
   "metadata": {},
   "source": [
    "#### Read the Origin Destination (OD) data into chunk dataframes"
   ]
  },
  {
   "cell_type": "code",
   "execution_count": 7,
   "metadata": {},
   "outputs": [
    {
     "name": "stdout",
     "output_type": "stream",
     "text": [
      "Wall time: 299 ms\n"
     ]
    }
   ],
   "source": [
    "%time df_chunk = pd.read_csv(OD_file, compression='gzip', dtype={'w_geocode': str,'h_geocode':str}, chunksize=10000000)"
   ]
  },
  {
   "cell_type": "markdown",
   "metadata": {},
   "source": [
    "#### Read the data in chunks. Filter data by calling function 'chunk_process_distance'"
   ]
  },
  {
   "cell_type": "code",
   "execution_count": 8,
   "metadata": {},
   "outputs": [
    {
     "name": "stdout",
     "output_type": "stream",
     "text": [
      "Chunk number: 12\n",
      "Length of dataframe: 562,150 \n",
      "\n",
      "Timer: 8 minutes 3 seconds\n",
      "\n",
      "Data merge complete.\n"
     ]
    }
   ],
   "source": [
    "chunk_list = []\n",
    "\n",
    "wgs84_geod = Geod(ellps='WGS84') \n",
    "#Distance will be measured on this ellipsoid - more accurate than a spherical method\n",
    "\n",
    "chunk_num = 1\n",
    "decimals = 0   \n",
    "\n",
    "print('Reading in the chunk dataframe')\n",
    "start = timeit.default_timer()\n",
    "for df in df_chunk:\n",
    "    print('Starting processing for chunk #', chunk_num)\n",
    "    # call function to group and filter the data \n",
    "    filter_chunk = chunk_process_distance(df)\n",
    "    # append the filtered data to list\n",
    "    chunk_list.append(filter_chunk)\n",
    "    \n",
    "    # get the current time on timer\n",
    "    stop = timeit.default_timer()\n",
    "    timer = np.array([(stop-start)/60])\n",
    "    min_sec = get_time(timer)\n",
    "    minutes, seconds = min_sec[0], min_sec[1]\n",
    "    \n",
    "    clear_output(wait=True)\n",
    "    print('Chunk number:', chunk_num)\n",
    "    print('Length of dataframe:',\"{:,}\".format(len(filter_chunk)),'\\n')\n",
    "    print('Timer:', minutes, 'minutes', seconds, 'seconds')\n",
    "    chunk_num += 1\n",
    "\n",
    "print('\\nData merge complete.')"
   ]
  },
  {
   "cell_type": "markdown",
   "metadata": {},
   "source": [
    "#### Concatenate the chunk list into a dataframe"
   ]
  },
  {
   "cell_type": "code",
   "execution_count": 9,
   "metadata": {},
   "outputs": [
    {
     "name": "stdout",
     "output_type": "stream",
     "text": [
      "Wall time: 3.25 s\n",
      "Length of concatenated dataframe: 27,612,549 \n",
      "\n"
     ]
    }
   ],
   "source": [
    "# concat the list into dataframe \n",
    "%time df_concat = pd.concat(chunk_list)\n",
    "print('Length of concatenated dataframe:',\"{:,}\".format(len(df_concat)),'\\n')"
   ]
  },
  {
   "cell_type": "code",
   "execution_count": 10,
   "metadata": {},
   "outputs": [],
   "source": [
    "outputZip = 'od_distance_1k-15k_unclean.csv.gz'"
   ]
  },
  {
   "cell_type": "markdown",
   "metadata": {},
   "source": [
    "#### Create full path with zip file"
   ]
  },
  {
   "cell_type": "code",
   "execution_count": 11,
   "metadata": {},
   "outputs": [],
   "source": [
    "out_Zip = ODpath.joinpath(outputZip)"
   ]
  },
  {
   "cell_type": "markdown",
   "metadata": {},
   "source": [
    "#### Write all the unclean OD line data to compressed csv file"
   ]
  },
  {
   "cell_type": "code",
   "execution_count": 12,
   "metadata": {},
   "outputs": [
    {
     "name": "stdout",
     "output_type": "stream",
     "text": [
      "\n",
      "Data compression complete.\n",
      "Total time: 12 minutes 2 seconds\n"
     ]
    }
   ],
   "source": [
    "# start a timer\n",
    "start = timeit.default_timer()\n",
    "print ('Compressing dataframe. Please be patient.')\n",
    "df_concat.to_csv(out_Zip, compression='gzip', index=None)\n",
    "clear_output(wait=True)\n",
    "# get the current time on timer\n",
    "stop = timeit.default_timer()\n",
    "timer = np.array([(stop-start)/60])\n",
    "min_sec = get_time(timer)\n",
    "minutes, seconds = min_sec[0], min_sec[1]\n",
    "print('\\nData compression complete.\\nTotal time:', minutes, 'minutes', seconds, 'seconds')"
   ]
  },
  {
   "cell_type": "markdown",
   "metadata": {},
   "source": [
    "#### Arrange the columns"
   ]
  },
  {
   "cell_type": "code",
   "execution_count": 13,
   "metadata": {},
   "outputs": [
    {
     "data": {
      "text/html": [
       "<div>\n",
       "<style scoped>\n",
       "    .dataframe tbody tr th:only-of-type {\n",
       "        vertical-align: middle;\n",
       "    }\n",
       "\n",
       "    .dataframe tbody tr th {\n",
       "        vertical-align: top;\n",
       "    }\n",
       "\n",
       "    .dataframe thead th {\n",
       "        text-align: right;\n",
       "    }\n",
       "</style>\n",
       "<table border=\"1\" class=\"dataframe\">\n",
       "  <thead>\n",
       "    <tr style=\"text-align: right;\">\n",
       "      <th></th>\n",
       "      <th>w_geocode</th>\n",
       "      <th>h_geocode</th>\n",
       "      <th>distance</th>\n",
       "      <th>w_group_count</th>\n",
       "      <th>S000</th>\n",
       "      <th>SA01</th>\n",
       "      <th>SA02</th>\n",
       "      <th>SA03</th>\n",
       "      <th>SE01</th>\n",
       "      <th>SE02</th>\n",
       "      <th>SE03</th>\n",
       "      <th>SI01</th>\n",
       "      <th>SI02</th>\n",
       "      <th>SI03</th>\n",
       "      <th>w_lat</th>\n",
       "      <th>w_lon</th>\n",
       "      <th>h_lat</th>\n",
       "      <th>h_lon</th>\n",
       "    </tr>\n",
       "  </thead>\n",
       "  <tbody>\n",
       "    <tr>\n",
       "      <th>0</th>\n",
       "      <td>020160002001050</td>\n",
       "      <td>020160001001250</td>\n",
       "      <td>716908.0</td>\n",
       "      <td>1042</td>\n",
       "      <td>3</td>\n",
       "      <td>0</td>\n",
       "      <td>1</td>\n",
       "      <td>2</td>\n",
       "      <td>0</td>\n",
       "      <td>2</td>\n",
       "      <td>1</td>\n",
       "      <td>2</td>\n",
       "      <td>1</td>\n",
       "      <td>0</td>\n",
       "      <td>53.892794</td>\n",
       "      <td>-166.53362</td>\n",
       "      <td>51.830655</td>\n",
       "      <td>-176.629546</td>\n",
       "    </tr>\n",
       "    <tr>\n",
       "      <th>1</th>\n",
       "      <td>020160002001050</td>\n",
       "      <td>020160001001270</td>\n",
       "      <td>714934.0</td>\n",
       "      <td>1042</td>\n",
       "      <td>1</td>\n",
       "      <td>0</td>\n",
       "      <td>1</td>\n",
       "      <td>0</td>\n",
       "      <td>0</td>\n",
       "      <td>0</td>\n",
       "      <td>1</td>\n",
       "      <td>1</td>\n",
       "      <td>0</td>\n",
       "      <td>0</td>\n",
       "      <td>53.892794</td>\n",
       "      <td>-166.53362</td>\n",
       "      <td>51.879600</td>\n",
       "      <td>-176.631172</td>\n",
       "    </tr>\n",
       "    <tr>\n",
       "      <th>2</th>\n",
       "      <td>020160002001050</td>\n",
       "      <td>020160001001453</td>\n",
       "      <td>433979.0</td>\n",
       "      <td>1042</td>\n",
       "      <td>1</td>\n",
       "      <td>1</td>\n",
       "      <td>0</td>\n",
       "      <td>0</td>\n",
       "      <td>0</td>\n",
       "      <td>1</td>\n",
       "      <td>0</td>\n",
       "      <td>1</td>\n",
       "      <td>0</td>\n",
       "      <td>0</td>\n",
       "      <td>53.892794</td>\n",
       "      <td>-166.53362</td>\n",
       "      <td>57.196681</td>\n",
       "      <td>-170.186087</td>\n",
       "    </tr>\n",
       "    <tr>\n",
       "      <th>3</th>\n",
       "      <td>020160002001050</td>\n",
       "      <td>020160001001461</td>\n",
       "      <td>430850.0</td>\n",
       "      <td>1042</td>\n",
       "      <td>1</td>\n",
       "      <td>1</td>\n",
       "      <td>0</td>\n",
       "      <td>0</td>\n",
       "      <td>0</td>\n",
       "      <td>1</td>\n",
       "      <td>0</td>\n",
       "      <td>0</td>\n",
       "      <td>0</td>\n",
       "      <td>1</td>\n",
       "      <td>53.892794</td>\n",
       "      <td>-166.53362</td>\n",
       "      <td>57.132906</td>\n",
       "      <td>-170.266955</td>\n",
       "    </tr>\n",
       "    <tr>\n",
       "      <th>4</th>\n",
       "      <td>020160002001050</td>\n",
       "      <td>020160001001475</td>\n",
       "      <td>430559.0</td>\n",
       "      <td>1042</td>\n",
       "      <td>1</td>\n",
       "      <td>0</td>\n",
       "      <td>1</td>\n",
       "      <td>0</td>\n",
       "      <td>0</td>\n",
       "      <td>1</td>\n",
       "      <td>0</td>\n",
       "      <td>1</td>\n",
       "      <td>0</td>\n",
       "      <td>0</td>\n",
       "      <td>53.892794</td>\n",
       "      <td>-166.53362</td>\n",
       "      <td>57.127304</td>\n",
       "      <td>-170.273371</td>\n",
       "    </tr>\n",
       "  </tbody>\n",
       "</table>\n",
       "</div>"
      ],
      "text/plain": [
       "         w_geocode        h_geocode  distance  w_group_count  S000  SA01  \\\n",
       "0  020160002001050  020160001001250  716908.0           1042     3     0   \n",
       "1  020160002001050  020160001001270  714934.0           1042     1     0   \n",
       "2  020160002001050  020160001001453  433979.0           1042     1     1   \n",
       "3  020160002001050  020160001001461  430850.0           1042     1     1   \n",
       "4  020160002001050  020160001001475  430559.0           1042     1     0   \n",
       "\n",
       "   SA02  SA03  SE01  SE02  SE03  SI01  SI02  SI03      w_lat      w_lon  \\\n",
       "0     1     2     0     2     1     2     1     0  53.892794 -166.53362   \n",
       "1     1     0     0     0     1     1     0     0  53.892794 -166.53362   \n",
       "2     0     0     0     1     0     1     0     0  53.892794 -166.53362   \n",
       "3     0     0     0     1     0     0     0     1  53.892794 -166.53362   \n",
       "4     1     0     0     1     0     1     0     0  53.892794 -166.53362   \n",
       "\n",
       "       h_lat       h_lon  \n",
       "0  51.830655 -176.629546  \n",
       "1  51.879600 -176.631172  \n",
       "2  57.196681 -170.186087  \n",
       "3  57.132906 -170.266955  \n",
       "4  57.127304 -170.273371  "
      ]
     },
     "execution_count": 13,
     "metadata": {},
     "output_type": "execute_result"
    }
   ],
   "source": [
    "df_concat = df_concat[['w_geocode','h_geocode','distance','w_group_count', 'S000', 'SA01', 'SA02', 'SA03', 'SE01', 'SE02', 'SE03', 'SI01', 'SI02', 'SI03','w_lat','w_lon','h_lat','h_lon']]\n",
    "df_concat.head()"
   ]
  },
  {
   "cell_type": "markdown",
   "metadata": {},
   "source": [
    "#### Identify null records"
   ]
  },
  {
   "cell_type": "code",
   "execution_count": 14,
   "metadata": {},
   "outputs": [
    {
     "name": "stdout",
     "output_type": "stream",
     "text": [
      "\n",
      "the number of null records: 7,510 \n",
      "\n",
      "\n"
     ]
    },
    {
     "data": {
      "text/html": [
       "<div>\n",
       "<style scoped>\n",
       "    .dataframe tbody tr th:only-of-type {\n",
       "        vertical-align: middle;\n",
       "    }\n",
       "\n",
       "    .dataframe tbody tr th {\n",
       "        vertical-align: top;\n",
       "    }\n",
       "\n",
       "    .dataframe thead th {\n",
       "        text-align: right;\n",
       "    }\n",
       "</style>\n",
       "<table border=\"1\" class=\"dataframe\">\n",
       "  <thead>\n",
       "    <tr style=\"text-align: right;\">\n",
       "      <th></th>\n",
       "      <th>w_geocode</th>\n",
       "      <th>h_geocode</th>\n",
       "      <th>distance</th>\n",
       "      <th>w_group_count</th>\n",
       "      <th>S000</th>\n",
       "      <th>SA01</th>\n",
       "      <th>SA02</th>\n",
       "      <th>SA03</th>\n",
       "      <th>SE01</th>\n",
       "      <th>SE02</th>\n",
       "      <th>SE03</th>\n",
       "      <th>SI01</th>\n",
       "      <th>SI02</th>\n",
       "      <th>SI03</th>\n",
       "      <th>w_lat</th>\n",
       "      <th>w_lon</th>\n",
       "      <th>h_lat</th>\n",
       "      <th>h_lon</th>\n",
       "    </tr>\n",
       "  </thead>\n",
       "  <tbody>\n",
       "    <tr>\n",
       "      <th>187398</th>\n",
       "      <td>010970008003004</td>\n",
       "      <td>010979900000021</td>\n",
       "      <td>NaN</td>\n",
       "      <td>1440</td>\n",
       "      <td>1</td>\n",
       "      <td>0</td>\n",
       "      <td>1</td>\n",
       "      <td>0</td>\n",
       "      <td>0</td>\n",
       "      <td>1</td>\n",
       "      <td>0</td>\n",
       "      <td>0</td>\n",
       "      <td>0</td>\n",
       "      <td>1</td>\n",
       "      <td>30.704259</td>\n",
       "      <td>-88.098358</td>\n",
       "      <td>NaN</td>\n",
       "      <td>NaN</td>\n",
       "    </tr>\n",
       "    <tr>\n",
       "      <th>200041</th>\n",
       "      <td>010970065021063</td>\n",
       "      <td>010979900000032</td>\n",
       "      <td>NaN</td>\n",
       "      <td>1470</td>\n",
       "      <td>1</td>\n",
       "      <td>0</td>\n",
       "      <td>1</td>\n",
       "      <td>0</td>\n",
       "      <td>0</td>\n",
       "      <td>1</td>\n",
       "      <td>0</td>\n",
       "      <td>0</td>\n",
       "      <td>0</td>\n",
       "      <td>1</td>\n",
       "      <td>30.560570</td>\n",
       "      <td>-88.338963</td>\n",
       "      <td>NaN</td>\n",
       "      <td>NaN</td>\n",
       "    </tr>\n",
       "    <tr>\n",
       "      <th>1157056</th>\n",
       "      <td>060014010001002</td>\n",
       "      <td>060419901000015</td>\n",
       "      <td>NaN</td>\n",
       "      <td>2994</td>\n",
       "      <td>1</td>\n",
       "      <td>0</td>\n",
       "      <td>0</td>\n",
       "      <td>1</td>\n",
       "      <td>0</td>\n",
       "      <td>0</td>\n",
       "      <td>1</td>\n",
       "      <td>0</td>\n",
       "      <td>0</td>\n",
       "      <td>1</td>\n",
       "      <td>37.837367</td>\n",
       "      <td>-122.267539</td>\n",
       "      <td>NaN</td>\n",
       "      <td>NaN</td>\n",
       "    </tr>\n",
       "    <tr>\n",
       "      <th>1165080</th>\n",
       "      <td>060014029001002</td>\n",
       "      <td>060139900000020</td>\n",
       "      <td>NaN</td>\n",
       "      <td>1946</td>\n",
       "      <td>1</td>\n",
       "      <td>1</td>\n",
       "      <td>0</td>\n",
       "      <td>0</td>\n",
       "      <td>1</td>\n",
       "      <td>0</td>\n",
       "      <td>0</td>\n",
       "      <td>0</td>\n",
       "      <td>0</td>\n",
       "      <td>1</td>\n",
       "      <td>37.811102</td>\n",
       "      <td>-122.266235</td>\n",
       "      <td>NaN</td>\n",
       "      <td>NaN</td>\n",
       "    </tr>\n",
       "    <tr>\n",
       "      <th>1180044</th>\n",
       "      <td>060014030001002</td>\n",
       "      <td>060139900000011</td>\n",
       "      <td>NaN</td>\n",
       "      <td>4210</td>\n",
       "      <td>1</td>\n",
       "      <td>0</td>\n",
       "      <td>1</td>\n",
       "      <td>0</td>\n",
       "      <td>0</td>\n",
       "      <td>0</td>\n",
       "      <td>1</td>\n",
       "      <td>0</td>\n",
       "      <td>1</td>\n",
       "      <td>0</td>\n",
       "      <td>37.804006</td>\n",
       "      <td>-122.271411</td>\n",
       "      <td>NaN</td>\n",
       "      <td>NaN</td>\n",
       "    </tr>\n",
       "  </tbody>\n",
       "</table>\n",
       "</div>"
      ],
      "text/plain": [
       "               w_geocode        h_geocode  distance  w_group_count  S000  \\\n",
       "187398   010970008003004  010979900000021       NaN           1440     1   \n",
       "200041   010970065021063  010979900000032       NaN           1470     1   \n",
       "1157056  060014010001002  060419901000015       NaN           2994     1   \n",
       "1165080  060014029001002  060139900000020       NaN           1946     1   \n",
       "1180044  060014030001002  060139900000011       NaN           4210     1   \n",
       "\n",
       "         SA01  SA02  SA03  SE01  SE02  SE03  SI01  SI02  SI03      w_lat  \\\n",
       "187398      0     1     0     0     1     0     0     0     1  30.704259   \n",
       "200041      0     1     0     0     1     0     0     0     1  30.560570   \n",
       "1157056     0     0     1     0     0     1     0     0     1  37.837367   \n",
       "1165080     1     0     0     1     0     0     0     0     1  37.811102   \n",
       "1180044     0     1     0     0     0     1     0     1     0  37.804006   \n",
       "\n",
       "              w_lon  h_lat  h_lon  \n",
       "187398   -88.098358    NaN    NaN  \n",
       "200041   -88.338963    NaN    NaN  \n",
       "1157056 -122.267539    NaN    NaN  \n",
       "1165080 -122.266235    NaN    NaN  \n",
       "1180044 -122.271411    NaN    NaN  "
      ]
     },
     "execution_count": 14,
     "metadata": {},
     "output_type": "execute_result"
    }
   ],
   "source": [
    "df_null = df_concat[df_concat.isnull().any(axis=1)]\n",
    "print ('\\nthe number of null records:', \"{:,}\".format(len(df_null)),'\\n\\n')\n",
    "df_null.head()"
   ]
  },
  {
   "cell_type": "markdown",
   "metadata": {},
   "source": [
    "#### Remove null records"
   ]
  },
  {
   "cell_type": "code",
   "execution_count": 15,
   "metadata": {},
   "outputs": [
    {
     "name": "stdout",
     "output_type": "stream",
     "text": [
      "Length of cleaned dataframe: 27,605,039 \n",
      "\n"
     ]
    },
    {
     "data": {
      "text/html": [
       "<div>\n",
       "<style scoped>\n",
       "    .dataframe tbody tr th:only-of-type {\n",
       "        vertical-align: middle;\n",
       "    }\n",
       "\n",
       "    .dataframe tbody tr th {\n",
       "        vertical-align: top;\n",
       "    }\n",
       "\n",
       "    .dataframe thead th {\n",
       "        text-align: right;\n",
       "    }\n",
       "</style>\n",
       "<table border=\"1\" class=\"dataframe\">\n",
       "  <thead>\n",
       "    <tr style=\"text-align: right;\">\n",
       "      <th></th>\n",
       "      <th>w_geocode</th>\n",
       "      <th>h_geocode</th>\n",
       "      <th>distance</th>\n",
       "      <th>w_group_count</th>\n",
       "      <th>S000</th>\n",
       "      <th>SA01</th>\n",
       "      <th>SA02</th>\n",
       "      <th>SA03</th>\n",
       "      <th>SE01</th>\n",
       "      <th>SE02</th>\n",
       "      <th>SE03</th>\n",
       "      <th>SI01</th>\n",
       "      <th>SI02</th>\n",
       "      <th>SI03</th>\n",
       "      <th>w_lat</th>\n",
       "      <th>w_lon</th>\n",
       "      <th>h_lat</th>\n",
       "      <th>h_lon</th>\n",
       "    </tr>\n",
       "  </thead>\n",
       "  <tbody>\n",
       "    <tr>\n",
       "      <th>0</th>\n",
       "      <td>020160002001050</td>\n",
       "      <td>020160001001250</td>\n",
       "      <td>716908.0</td>\n",
       "      <td>1042</td>\n",
       "      <td>3</td>\n",
       "      <td>0</td>\n",
       "      <td>1</td>\n",
       "      <td>2</td>\n",
       "      <td>0</td>\n",
       "      <td>2</td>\n",
       "      <td>1</td>\n",
       "      <td>2</td>\n",
       "      <td>1</td>\n",
       "      <td>0</td>\n",
       "      <td>53.892794</td>\n",
       "      <td>-166.53362</td>\n",
       "      <td>51.830655</td>\n",
       "      <td>-176.629546</td>\n",
       "    </tr>\n",
       "    <tr>\n",
       "      <th>1</th>\n",
       "      <td>020160002001050</td>\n",
       "      <td>020160001001270</td>\n",
       "      <td>714934.0</td>\n",
       "      <td>1042</td>\n",
       "      <td>1</td>\n",
       "      <td>0</td>\n",
       "      <td>1</td>\n",
       "      <td>0</td>\n",
       "      <td>0</td>\n",
       "      <td>0</td>\n",
       "      <td>1</td>\n",
       "      <td>1</td>\n",
       "      <td>0</td>\n",
       "      <td>0</td>\n",
       "      <td>53.892794</td>\n",
       "      <td>-166.53362</td>\n",
       "      <td>51.879600</td>\n",
       "      <td>-176.631172</td>\n",
       "    </tr>\n",
       "    <tr>\n",
       "      <th>2</th>\n",
       "      <td>020160002001050</td>\n",
       "      <td>020160001001453</td>\n",
       "      <td>433979.0</td>\n",
       "      <td>1042</td>\n",
       "      <td>1</td>\n",
       "      <td>1</td>\n",
       "      <td>0</td>\n",
       "      <td>0</td>\n",
       "      <td>0</td>\n",
       "      <td>1</td>\n",
       "      <td>0</td>\n",
       "      <td>1</td>\n",
       "      <td>0</td>\n",
       "      <td>0</td>\n",
       "      <td>53.892794</td>\n",
       "      <td>-166.53362</td>\n",
       "      <td>57.196681</td>\n",
       "      <td>-170.186087</td>\n",
       "    </tr>\n",
       "  </tbody>\n",
       "</table>\n",
       "</div>"
      ],
      "text/plain": [
       "         w_geocode        h_geocode  distance  w_group_count  S000  SA01  \\\n",
       "0  020160002001050  020160001001250  716908.0           1042     3     0   \n",
       "1  020160002001050  020160001001270  714934.0           1042     1     0   \n",
       "2  020160002001050  020160001001453  433979.0           1042     1     1   \n",
       "\n",
       "   SA02  SA03  SE01  SE02  SE03  SI01  SI02  SI03      w_lat      w_lon  \\\n",
       "0     1     2     0     2     1     2     1     0  53.892794 -166.53362   \n",
       "1     1     0     0     0     1     1     0     0  53.892794 -166.53362   \n",
       "2     0     0     0     1     0     1     0     0  53.892794 -166.53362   \n",
       "\n",
       "       h_lat       h_lon  \n",
       "0  51.830655 -176.629546  \n",
       "1  51.879600 -176.631172  \n",
       "2  57.196681 -170.186087  "
      ]
     },
     "execution_count": 15,
     "metadata": {},
     "output_type": "execute_result"
    }
   ],
   "source": [
    "df_clean = df_concat.dropna(how='any')\n",
    "df_null = df_concat[df_concat.isnull().any(axis=1)]\n",
    "print ('Length of cleaned dataframe:',\"{:,}\".format(len(df_clean)),'\\n')\n",
    "df_clean.head(3)"
   ]
  },
  {
   "cell_type": "markdown",
   "metadata": {},
   "source": [
    "#### Remove the precision on the distance"
   ]
  },
  {
   "cell_type": "code",
   "execution_count": 16,
   "metadata": {},
   "outputs": [
    {
     "name": "stderr",
     "output_type": "stream",
     "text": [
      "C:\\Users\\mdcr226\\AppData\\Local\\Continuum\\anaconda3\\envs\\sandbox\\lib\\site-packages\\pandas\\core\\generic.py:4405: SettingWithCopyWarning: \n",
      "A value is trying to be set on a copy of a slice from a DataFrame.\n",
      "Try using .loc[row_indexer,col_indexer] = value instead\n",
      "\n",
      "See the caveats in the documentation: http://pandas.pydata.org/pandas-docs/stable/indexing.html#indexing-view-versus-copy\n",
      "  self[name] = value\n"
     ]
    }
   ],
   "source": [
    "df_clean.distance =  df_clean.distance.map(lambda x: '%.0f' % x)"
   ]
  },
  {
   "cell_type": "markdown",
   "metadata": {},
   "source": [
    "#### Reduce the precision on the lat & lon columns"
   ]
  },
  {
   "cell_type": "code",
   "execution_count": 17,
   "metadata": {},
   "outputs": [],
   "source": [
    "df_clean.w_lat =  df_clean.w_lat.map(lambda x: '%.3f' % x)\n",
    "df_clean.w_lon =  df_clean.w_lon.map(lambda x: '%.3f' % x)\n",
    "df_clean.h_lat =  df_clean.h_lat.map(lambda x: '%.3f' % x)\n",
    "df_clean.h_lon =  df_clean.h_lon.map(lambda x: '%.3f' % x)"
   ]
  },
  {
   "cell_type": "code",
   "execution_count": 18,
   "metadata": {},
   "outputs": [
    {
     "data": {
      "text/html": [
       "<div>\n",
       "<style scoped>\n",
       "    .dataframe tbody tr th:only-of-type {\n",
       "        vertical-align: middle;\n",
       "    }\n",
       "\n",
       "    .dataframe tbody tr th {\n",
       "        vertical-align: top;\n",
       "    }\n",
       "\n",
       "    .dataframe thead th {\n",
       "        text-align: right;\n",
       "    }\n",
       "</style>\n",
       "<table border=\"1\" class=\"dataframe\">\n",
       "  <thead>\n",
       "    <tr style=\"text-align: right;\">\n",
       "      <th></th>\n",
       "      <th>w_geocode</th>\n",
       "      <th>h_geocode</th>\n",
       "      <th>distance</th>\n",
       "      <th>w_group_count</th>\n",
       "      <th>S000</th>\n",
       "      <th>SA01</th>\n",
       "      <th>SA02</th>\n",
       "      <th>SA03</th>\n",
       "      <th>SE01</th>\n",
       "      <th>SE02</th>\n",
       "      <th>SE03</th>\n",
       "      <th>SI01</th>\n",
       "      <th>SI02</th>\n",
       "      <th>SI03</th>\n",
       "      <th>w_lat</th>\n",
       "      <th>w_lon</th>\n",
       "      <th>h_lat</th>\n",
       "      <th>h_lon</th>\n",
       "    </tr>\n",
       "  </thead>\n",
       "  <tbody>\n",
       "    <tr>\n",
       "      <th>0</th>\n",
       "      <td>020160002001050</td>\n",
       "      <td>020160001001250</td>\n",
       "      <td>716908</td>\n",
       "      <td>1042</td>\n",
       "      <td>3</td>\n",
       "      <td>0</td>\n",
       "      <td>1</td>\n",
       "      <td>2</td>\n",
       "      <td>0</td>\n",
       "      <td>2</td>\n",
       "      <td>1</td>\n",
       "      <td>2</td>\n",
       "      <td>1</td>\n",
       "      <td>0</td>\n",
       "      <td>53.893</td>\n",
       "      <td>-166.534</td>\n",
       "      <td>51.831</td>\n",
       "      <td>-176.630</td>\n",
       "    </tr>\n",
       "    <tr>\n",
       "      <th>1</th>\n",
       "      <td>020160002001050</td>\n",
       "      <td>020160001001270</td>\n",
       "      <td>714934</td>\n",
       "      <td>1042</td>\n",
       "      <td>1</td>\n",
       "      <td>0</td>\n",
       "      <td>1</td>\n",
       "      <td>0</td>\n",
       "      <td>0</td>\n",
       "      <td>0</td>\n",
       "      <td>1</td>\n",
       "      <td>1</td>\n",
       "      <td>0</td>\n",
       "      <td>0</td>\n",
       "      <td>53.893</td>\n",
       "      <td>-166.534</td>\n",
       "      <td>51.880</td>\n",
       "      <td>-176.631</td>\n",
       "    </tr>\n",
       "    <tr>\n",
       "      <th>2</th>\n",
       "      <td>020160002001050</td>\n",
       "      <td>020160001001453</td>\n",
       "      <td>433979</td>\n",
       "      <td>1042</td>\n",
       "      <td>1</td>\n",
       "      <td>1</td>\n",
       "      <td>0</td>\n",
       "      <td>0</td>\n",
       "      <td>0</td>\n",
       "      <td>1</td>\n",
       "      <td>0</td>\n",
       "      <td>1</td>\n",
       "      <td>0</td>\n",
       "      <td>0</td>\n",
       "      <td>53.893</td>\n",
       "      <td>-166.534</td>\n",
       "      <td>57.197</td>\n",
       "      <td>-170.186</td>\n",
       "    </tr>\n",
       "  </tbody>\n",
       "</table>\n",
       "</div>"
      ],
      "text/plain": [
       "         w_geocode        h_geocode distance  w_group_count  S000  SA01  SA02  \\\n",
       "0  020160002001050  020160001001250   716908           1042     3     0     1   \n",
       "1  020160002001050  020160001001270   714934           1042     1     0     1   \n",
       "2  020160002001050  020160001001453   433979           1042     1     1     0   \n",
       "\n",
       "   SA03  SE01  SE02  SE03  SI01  SI02  SI03   w_lat     w_lon   h_lat  \\\n",
       "0     2     0     2     1     2     1     0  53.893  -166.534  51.831   \n",
       "1     0     0     0     1     1     0     0  53.893  -166.534  51.880   \n",
       "2     0     0     1     0     1     0     0  53.893  -166.534  57.197   \n",
       "\n",
       "      h_lon  \n",
       "0  -176.630  \n",
       "1  -176.631  \n",
       "2  -170.186  "
      ]
     },
     "execution_count": 18,
     "metadata": {},
     "output_type": "execute_result"
    }
   ],
   "source": [
    "df_clean.head(3)"
   ]
  },
  {
   "cell_type": "markdown",
   "metadata": {},
   "source": [
    "#### Name zip file"
   ]
  },
  {
   "cell_type": "code",
   "execution_count": 19,
   "metadata": {},
   "outputs": [],
   "source": [
    "outputZip = 'od_distance_1k-15k_clean.csv.gz'"
   ]
  },
  {
   "cell_type": "markdown",
   "metadata": {},
   "source": [
    "#### Create full path with zip file"
   ]
  },
  {
   "cell_type": "code",
   "execution_count": 20,
   "metadata": {},
   "outputs": [],
   "source": [
    "out_Zip = ODpath.joinpath(outputZip)"
   ]
  },
  {
   "cell_type": "markdown",
   "metadata": {},
   "source": [
    "#### Write all the OD line data to compressed csv file"
   ]
  },
  {
   "cell_type": "code",
   "execution_count": 21,
   "metadata": {},
   "outputs": [
    {
     "name": "stdout",
     "output_type": "stream",
     "text": [
      "\n",
      "Data compression complete.\n",
      "Total time: 8 minutes 53 seconds\n"
     ]
    }
   ],
   "source": [
    "# start a timer\n",
    "start = timeit.default_timer()\n",
    "print ('Compressing dataframe. Please be patient.')\n",
    "df_clean.to_csv(out_Zip, compression='gzip', index=None)\n",
    "clear_output(wait=True)\n",
    "# get the current time on timer\n",
    "stop = timeit.default_timer()\n",
    "timer = np.array([(stop-start)/60])\n",
    "min_sec = get_time(timer)\n",
    "minutes, seconds = min_sec[0], min_sec[1]\n",
    "print('\\nData compression complete.\\nTotal time:', minutes, 'minutes', seconds, 'seconds')"
   ]
  },
  {
   "cell_type": "code",
   "execution_count": null,
   "metadata": {},
   "outputs": [],
   "source": []
  }
 ],
 "metadata": {
  "kernelspec": {
   "display_name": "Python 3",
   "language": "python",
   "name": "python3"
  },
  "language_info": {
   "codemirror_mode": {
    "name": "ipython",
    "version": 3
   },
   "file_extension": ".py",
   "mimetype": "text/x-python",
   "name": "python",
   "nbconvert_exporter": "python",
   "pygments_lexer": "ipython3",
   "version": "3.7.0"
  }
 },
 "nbformat": 4,
 "nbformat_minor": 2
}
