{
 "cells": [
  {
   "cell_type": "markdown",
   "metadata": {},
   "source": [
    "## Merge ALL  OD and AUX data with Block Centroid and Calculate Distance and Stats"
   ]
  },
  {
   "cell_type": "code",
   "execution_count": 1,
   "metadata": {},
   "outputs": [],
   "source": [
    "import pandas as pd\n",
    "\n",
    "from pathlib import Path\n",
    "import timeit\n",
    "from IPython.display import clear_output\n",
    "from pyproj import Geod\n",
    "import numpy as np"
   ]
  },
  {
   "cell_type": "markdown",
   "metadata": {},
   "source": [
    "#### Function - Convert decimal time to minutes and seconds"
   ]
  },
  {
   "cell_type": "code",
   "execution_count": 2,
   "metadata": {},
   "outputs": [],
   "source": [
    "def get_time(timer):\n",
    "    minutes, seconds = int(np.floor(timer)), round(np.asscalar(timer % 1)*60)\n",
    "    return[minutes,  seconds]"
   ]
  },
  {
   "cell_type": "markdown",
   "metadata": {},
   "source": [
    "#### Funtion to calculate distance between work and home"
   ]
  },
  {
   "cell_type": "code",
   "execution_count": 3,
   "metadata": {},
   "outputs": [],
   "source": [
    "def Distance(lat1,lon1,lat2,lon2):\n",
    "  az12,az21,dist = wgs84_geod.inv(lon1,lat1,lon2,lat2) \n",
    "  return dist"
   ]
  },
  {
   "cell_type": "markdown",
   "metadata": {},
   "source": [
    "#### Funtion to process the locations with range of employees and merge with centroids"
   ]
  },
  {
   "cell_type": "code",
   "execution_count": 4,
   "metadata": {},
   "outputs": [],
   "source": [
    "def chunk_process_distance(df):\n",
    "    # create a group of all workplace geoids\n",
    "    df_group = df.groupby(['w_geocode']).sum()\n",
    "    \n",
    "    # include only the records with # employees in the block\n",
    "    df_group_limited = df_group[(df_group['S000'] >= 500)]\n",
    "    \n",
    "    # create a dataframe with only blocks with 1000+ employees\n",
    "    df2 = pd.merge(df, df_group_limited, on='w_geocode', suffixes=('','_del'))\n",
    "    # keep the sum of the S000 to use in later filtering\n",
    "    df2.rename(columns={'S000_del': 'w_group_count'}, inplace=True)\n",
    "    df2.drop(list(df2.filter(regex='_del')), axis=1, inplace=True)\n",
    "    \n",
    "    \n",
    "    # create list of all block with > 1000 workers\n",
    "    #top_block_list = df_group_limited.index.tolist()\n",
    "    # create a dataframe with only block with > 1000\n",
    "    #df2 = df[df['w_geocode'].isin(top_block_list)]\n",
    "    \n",
    "    # sort the dataframe\n",
    "    #df2_sort= df2.sort_values(['w_geocode','h_geocode'], ascending=[True, True])\n",
    "    # reorder df2_sort dataframe\n",
    "    #df2_sort = df2_sort.reset_index(drop=True)\n",
    "    # reorder the columns of the dataframe\n",
    "    #cols = df2_sort.columns.tolist()\n",
    "    #cols = cols[-2:] + cols[:-2]\n",
    "    #df2_sort = df2_sort[cols ]\n",
    "    # group the dataframe by the worker and home block geoid\n",
    "    #df2_group = df2_sort.groupby(['block_w_geoid','block_h_geoid']).sum().reset_index()\n",
    "    #df2_sort.drop(['S000','SA01','SA02','SA03','SE01','SE02','SE03','SI01','SI02','SI03'], axis = 1, inplace=True)\n",
    "    # load the centroid file\n",
    "    centroids = pd.read_csv(block_file, dtype={'block_geoid': 'object', 'lat': 'float', 'lon': 'float'})\n",
    "    # merge the centroid data frame with the grouped dataframe\n",
    "    #merge_result = pd.merge(df2_sort, centroids,left_on=  ['w_geocode'],right_on= ['block_geoid'],how = 'left')\n",
    "    merge_result = pd.merge(df2, centroids,left_on=  ['w_geocode'],right_on= ['block_geoid'],how = 'left')\n",
    "    merge_result.drop(['block_geoid'], axis=1, inplace=True)\n",
    "    merge_result.rename(columns={'lat': 'w_lat', 'lon': 'w_lon'}, inplace=True)\n",
    "    # merge the centroid data frame on the Fayette county h_geocode column\n",
    "    merge_result = pd.merge(merge_result, centroids,left_on=  ['h_geocode'],right_on= ['block_geoid'],how = 'left')\n",
    "    merge_result.drop(['block_geoid'], axis=1, inplace=True)\n",
    "    merge_result.rename(columns={'lat': 'h_lat', 'lon': 'h_lon'}, inplace=True)\n",
    "    merge_result['distance'] = Distance(merge_result['w_lat'].tolist(),merge_result['w_lon'].tolist(),merge_result['h_lat'].tolist(),merge_result['h_lon'].tolist())\n",
    "    merge_result['distance'] = merge_result['distance'].apply(lambda x: round(x, decimals))\n",
    "    #merge_limited = merge_result[(merge_result['distance'] < 100000) & (merge_result['distance'] > 15000)]\n",
    "    #merge_limited['geometry'] = merge_limited.apply(lambda x: geom.LineString([(x['w_lon'], x['w_lat'] ), (x['h_lon'],x['h_lat'])]), axis = 1)\n",
    "    return merge_result"
   ]
  },
  {
   "cell_type": "markdown",
   "metadata": {},
   "source": [
    "#### Setup output location and file name"
   ]
  },
  {
   "cell_type": "code",
   "execution_count": 5,
   "metadata": {},
   "outputs": [
    {
     "name": "stdout",
     "output_type": "stream",
     "text": [
      "OD file exist\n",
      "Block Centroid file exist\n"
     ]
    }
   ],
   "source": [
    "ODpath = Path(\"../data/OD/\")\n",
    "OD_file = ODpath.joinpath(\"od_aux.csv.gz\")\n",
    "if OD_file.exists ():\n",
    "    print (\"OD file exist\")\n",
    "else:\n",
    "    print (\"OD file does not exist\")\n",
    "    \n",
    "blockPath = Path(\"../data/blocks/\")\n",
    "block_file = blockPath.joinpath(\"block_centroids.csv.gz\")\n",
    "if block_file.exists ():\n",
    "    print (\"Block Centroid file exist\")\n",
    "else:\n",
    "    print (\"Block Centroid file does not exist\")"
   ]
  },
  {
   "cell_type": "markdown",
   "metadata": {},
   "source": [
    "#### Read the Origin Destination (OD) data into chunk dataframes"
   ]
  },
  {
   "cell_type": "code",
   "execution_count": 6,
   "metadata": {},
   "outputs": [
    {
     "name": "stdout",
     "output_type": "stream",
     "text": [
      "Wall time: 320 ms\n"
     ]
    }
   ],
   "source": [
    "%time df_chunk = pd.read_csv(OD_file, compression='gzip', dtype={'w_geocode': str,'h_geocode':str}, chunksize=10000000)"
   ]
  },
  {
   "cell_type": "markdown",
   "metadata": {},
   "source": [
    "#### Read the data in chunks. Filter data by calling function 'chunk_process_distance'"
   ]
  },
  {
   "cell_type": "code",
   "execution_count": null,
   "metadata": {},
   "outputs": [
    {
     "name": "stdout",
     "output_type": "stream",
     "text": [
      "Reading in the chunk dataframe\n",
      "Starting processing for chunk # 1\n"
     ]
    }
   ],
   "source": [
    "chunk_list = []\n",
    "\n",
    "wgs84_geod = Geod(ellps='WGS84') \n",
    "#Distance will be measured on this ellipsoid - more accurate than a spherical method\n",
    "\n",
    "chunk_num = 1\n",
    "decimals = 0   \n",
    "\n",
    "print('Reading in the chunk dataframe')\n",
    "start = timeit.default_timer()\n",
    "for df in df_chunk:\n",
    "    print('Starting processing for chunk #', chunk_num)\n",
    "    # call function to group and filter the data \n",
    "    filter_chunk = chunk_process_distance(df)\n",
    "    # append the filtered data to list\n",
    "    chunk_list.append(filter_chunk)\n",
    "    \n",
    "    # get the current time on timer\n",
    "    stop = timeit.default_timer()\n",
    "    timer = np.array([(stop-start)/60])\n",
    "    min_sec = get_time(timer)\n",
    "    minutes, seconds = min_sec[0], min_sec[1]\n",
    "    \n",
    "    clear_output(wait=True)\n",
    "    print('Chunk number:', chunk_num)\n",
    "    print('Length of dataframe:',\"{:,}\".format(len(filter_chunk)),'\\n')\n",
    "    print('Timer:', minutes, 'minutes', seconds, 'seconds')\n",
    "    chunk_num += 1\n",
    "\n",
    "print('\\nData merge complete.')"
   ]
  },
  {
   "cell_type": "markdown",
   "metadata": {},
   "source": [
    "#### Concatenate the chunk list into a dataframe"
   ]
  },
  {
   "cell_type": "code",
   "execution_count": 8,
   "metadata": {},
   "outputs": [
    {
     "name": "stdout",
     "output_type": "stream",
     "text": [
      "Wall time: 5.68 s\n",
      "Length of concatenated dataframe: 45,300,441 \n",
      "\n"
     ]
    }
   ],
   "source": [
    "# concat the list into dataframe \n",
    "%time df_concat = pd.concat(chunk_list)\n",
    "print('Length of concatenated dataframe:',\"{:,}\".format(len(df_concat)),'\\n')"
   ]
  },
  {
   "cell_type": "code",
   "execution_count": 9,
   "metadata": {},
   "outputs": [],
   "source": [
    "outputZip = 'od_distance_500_unclean.csv.gz'"
   ]
  },
  {
   "cell_type": "markdown",
   "metadata": {},
   "source": [
    "#### Create full path with zip file"
   ]
  },
  {
   "cell_type": "code",
   "execution_count": 10,
   "metadata": {},
   "outputs": [],
   "source": [
    "out_Zip = ODpath.joinpath(outputZip)"
   ]
  },
  {
   "cell_type": "markdown",
   "metadata": {},
   "source": [
    "#### Write all the unclean OD line data to compressed csv file"
   ]
  },
  {
   "cell_type": "code",
   "execution_count": 11,
   "metadata": {},
   "outputs": [
    {
     "name": "stdout",
     "output_type": "stream",
     "text": [
      "\n",
      "Data compression complete.\n",
      "Total time: 21 minutes 9 seconds\n"
     ]
    }
   ],
   "source": [
    "# start a timer\n",
    "start = timeit.default_timer()\n",
    "print ('Compressing dataframe. Please be patient.')\n",
    "df_concat.to_csv(out_Zip, compression='gzip', index=None)\n",
    "clear_output(wait=True)\n",
    "# get the current time on timer\n",
    "stop = timeit.default_timer()\n",
    "timer = np.array([(stop-start)/60])\n",
    "min_sec = get_time(timer)\n",
    "minutes, seconds = min_sec[0], min_sec[1]\n",
    "print('\\nData compression complete.\\nTotal time:', minutes, 'minutes', seconds, 'seconds')"
   ]
  },
  {
   "cell_type": "code",
   "execution_count": 7,
   "metadata": {},
   "outputs": [],
   "source": [
    "df_concat = pd.read_csv(out_Zip, compression='gzip', dtype={'w_geocode': str,'h_geocode':str})"
   ]
  },
  {
   "cell_type": "markdown",
   "metadata": {},
   "source": [
    "#### Arrange the columns"
   ]
  },
  {
   "cell_type": "code",
   "execution_count": 12,
   "metadata": {},
   "outputs": [
    {
     "data": {
      "text/html": [
       "<div>\n",
       "<style scoped>\n",
       "    .dataframe tbody tr th:only-of-type {\n",
       "        vertical-align: middle;\n",
       "    }\n",
       "\n",
       "    .dataframe tbody tr th {\n",
       "        vertical-align: top;\n",
       "    }\n",
       "\n",
       "    .dataframe thead th {\n",
       "        text-align: right;\n",
       "    }\n",
       "</style>\n",
       "<table border=\"1\" class=\"dataframe\">\n",
       "  <thead>\n",
       "    <tr style=\"text-align: right;\">\n",
       "      <th></th>\n",
       "      <th>w_geocode</th>\n",
       "      <th>h_geocode</th>\n",
       "      <th>distance</th>\n",
       "      <th>w_group_count</th>\n",
       "      <th>S000</th>\n",
       "      <th>SA01</th>\n",
       "      <th>SA02</th>\n",
       "      <th>SA03</th>\n",
       "      <th>SE01</th>\n",
       "      <th>SE02</th>\n",
       "      <th>SE03</th>\n",
       "      <th>SI01</th>\n",
       "      <th>SI02</th>\n",
       "      <th>SI03</th>\n",
       "      <th>w_lat</th>\n",
       "      <th>w_lon</th>\n",
       "      <th>h_lat</th>\n",
       "      <th>h_lon</th>\n",
       "    </tr>\n",
       "  </thead>\n",
       "  <tbody>\n",
       "    <tr>\n",
       "      <th>0</th>\n",
       "      <td>020160002001050</td>\n",
       "      <td>020160001001250</td>\n",
       "      <td>NaN</td>\n",
       "      <td>1042</td>\n",
       "      <td>3</td>\n",
       "      <td>0</td>\n",
       "      <td>1</td>\n",
       "      <td>2</td>\n",
       "      <td>0</td>\n",
       "      <td>2</td>\n",
       "      <td>1</td>\n",
       "      <td>2</td>\n",
       "      <td>1</td>\n",
       "      <td>0</td>\n",
       "      <td>NaN</td>\n",
       "      <td>NaN</td>\n",
       "      <td>NaN</td>\n",
       "      <td>NaN</td>\n",
       "    </tr>\n",
       "    <tr>\n",
       "      <th>1</th>\n",
       "      <td>020160002001050</td>\n",
       "      <td>020160001001270</td>\n",
       "      <td>NaN</td>\n",
       "      <td>1042</td>\n",
       "      <td>1</td>\n",
       "      <td>0</td>\n",
       "      <td>1</td>\n",
       "      <td>0</td>\n",
       "      <td>0</td>\n",
       "      <td>0</td>\n",
       "      <td>1</td>\n",
       "      <td>1</td>\n",
       "      <td>0</td>\n",
       "      <td>0</td>\n",
       "      <td>NaN</td>\n",
       "      <td>NaN</td>\n",
       "      <td>NaN</td>\n",
       "      <td>NaN</td>\n",
       "    </tr>\n",
       "    <tr>\n",
       "      <th>2</th>\n",
       "      <td>020160002001050</td>\n",
       "      <td>020160001001453</td>\n",
       "      <td>NaN</td>\n",
       "      <td>1042</td>\n",
       "      <td>1</td>\n",
       "      <td>1</td>\n",
       "      <td>0</td>\n",
       "      <td>0</td>\n",
       "      <td>0</td>\n",
       "      <td>1</td>\n",
       "      <td>0</td>\n",
       "      <td>1</td>\n",
       "      <td>0</td>\n",
       "      <td>0</td>\n",
       "      <td>NaN</td>\n",
       "      <td>NaN</td>\n",
       "      <td>NaN</td>\n",
       "      <td>NaN</td>\n",
       "    </tr>\n",
       "    <tr>\n",
       "      <th>3</th>\n",
       "      <td>020160002001050</td>\n",
       "      <td>020160001001461</td>\n",
       "      <td>NaN</td>\n",
       "      <td>1042</td>\n",
       "      <td>1</td>\n",
       "      <td>1</td>\n",
       "      <td>0</td>\n",
       "      <td>0</td>\n",
       "      <td>0</td>\n",
       "      <td>1</td>\n",
       "      <td>0</td>\n",
       "      <td>0</td>\n",
       "      <td>0</td>\n",
       "      <td>1</td>\n",
       "      <td>NaN</td>\n",
       "      <td>NaN</td>\n",
       "      <td>NaN</td>\n",
       "      <td>NaN</td>\n",
       "    </tr>\n",
       "    <tr>\n",
       "      <th>4</th>\n",
       "      <td>020160002001050</td>\n",
       "      <td>020160001001475</td>\n",
       "      <td>NaN</td>\n",
       "      <td>1042</td>\n",
       "      <td>1</td>\n",
       "      <td>0</td>\n",
       "      <td>1</td>\n",
       "      <td>0</td>\n",
       "      <td>0</td>\n",
       "      <td>1</td>\n",
       "      <td>0</td>\n",
       "      <td>1</td>\n",
       "      <td>0</td>\n",
       "      <td>0</td>\n",
       "      <td>NaN</td>\n",
       "      <td>NaN</td>\n",
       "      <td>NaN</td>\n",
       "      <td>NaN</td>\n",
       "    </tr>\n",
       "  </tbody>\n",
       "</table>\n",
       "</div>"
      ],
      "text/plain": [
       "         w_geocode        h_geocode  distance  w_group_count  S000  SA01  \\\n",
       "0  020160002001050  020160001001250       NaN           1042     3     0   \n",
       "1  020160002001050  020160001001270       NaN           1042     1     0   \n",
       "2  020160002001050  020160001001453       NaN           1042     1     1   \n",
       "3  020160002001050  020160001001461       NaN           1042     1     1   \n",
       "4  020160002001050  020160001001475       NaN           1042     1     0   \n",
       "\n",
       "   SA02  SA03  SE01  SE02  SE03  SI01  SI02  SI03  w_lat  w_lon  h_lat  h_lon  \n",
       "0     1     2     0     2     1     2     1     0    NaN    NaN    NaN    NaN  \n",
       "1     1     0     0     0     1     1     0     0    NaN    NaN    NaN    NaN  \n",
       "2     0     0     0     1     0     1     0     0    NaN    NaN    NaN    NaN  \n",
       "3     0     0     0     1     0     0     0     1    NaN    NaN    NaN    NaN  \n",
       "4     1     0     0     1     0     1     0     0    NaN    NaN    NaN    NaN  "
      ]
     },
     "execution_count": 12,
     "metadata": {},
     "output_type": "execute_result"
    }
   ],
   "source": [
    "df_concat = df_concat[['w_geocode','h_geocode','distance','w_group_count', 'S000', 'SA01', 'SA02', 'SA03', 'SE01', 'SE02', 'SE03', 'SI01', 'SI02', 'SI03','w_lat','w_lon','h_lat','h_lon']]\n",
    "df_concat.head()"
   ]
  },
  {
   "cell_type": "markdown",
   "metadata": {},
   "source": [
    "#### Identify null records"
   ]
  },
  {
   "cell_type": "code",
   "execution_count": 13,
   "metadata": {},
   "outputs": [
    {
     "name": "stdout",
     "output_type": "stream",
     "text": [
      "\n",
      "the number of null records: 234,893 \n",
      "\n",
      "\n"
     ]
    },
    {
     "data": {
      "text/html": [
       "<div>\n",
       "<style scoped>\n",
       "    .dataframe tbody tr th:only-of-type {\n",
       "        vertical-align: middle;\n",
       "    }\n",
       "\n",
       "    .dataframe tbody tr th {\n",
       "        vertical-align: top;\n",
       "    }\n",
       "\n",
       "    .dataframe thead th {\n",
       "        text-align: right;\n",
       "    }\n",
       "</style>\n",
       "<table border=\"1\" class=\"dataframe\">\n",
       "  <thead>\n",
       "    <tr style=\"text-align: right;\">\n",
       "      <th></th>\n",
       "      <th>w_geocode</th>\n",
       "      <th>h_geocode</th>\n",
       "      <th>distance</th>\n",
       "      <th>w_group_count</th>\n",
       "      <th>S000</th>\n",
       "      <th>SA01</th>\n",
       "      <th>SA02</th>\n",
       "      <th>SA03</th>\n",
       "      <th>SE01</th>\n",
       "      <th>SE02</th>\n",
       "      <th>SE03</th>\n",
       "      <th>SI01</th>\n",
       "      <th>SI02</th>\n",
       "      <th>SI03</th>\n",
       "      <th>w_lat</th>\n",
       "      <th>w_lon</th>\n",
       "      <th>h_lat</th>\n",
       "      <th>h_lon</th>\n",
       "    </tr>\n",
       "  </thead>\n",
       "  <tbody>\n",
       "    <tr>\n",
       "      <th>0</th>\n",
       "      <td>020160002001050</td>\n",
       "      <td>020160001001250</td>\n",
       "      <td>NaN</td>\n",
       "      <td>1042</td>\n",
       "      <td>3</td>\n",
       "      <td>0</td>\n",
       "      <td>1</td>\n",
       "      <td>2</td>\n",
       "      <td>0</td>\n",
       "      <td>2</td>\n",
       "      <td>1</td>\n",
       "      <td>2</td>\n",
       "      <td>1</td>\n",
       "      <td>0</td>\n",
       "      <td>NaN</td>\n",
       "      <td>NaN</td>\n",
       "      <td>NaN</td>\n",
       "      <td>NaN</td>\n",
       "    </tr>\n",
       "    <tr>\n",
       "      <th>1</th>\n",
       "      <td>020160002001050</td>\n",
       "      <td>020160001001270</td>\n",
       "      <td>NaN</td>\n",
       "      <td>1042</td>\n",
       "      <td>1</td>\n",
       "      <td>0</td>\n",
       "      <td>1</td>\n",
       "      <td>0</td>\n",
       "      <td>0</td>\n",
       "      <td>0</td>\n",
       "      <td>1</td>\n",
       "      <td>1</td>\n",
       "      <td>0</td>\n",
       "      <td>0</td>\n",
       "      <td>NaN</td>\n",
       "      <td>NaN</td>\n",
       "      <td>NaN</td>\n",
       "      <td>NaN</td>\n",
       "    </tr>\n",
       "    <tr>\n",
       "      <th>2</th>\n",
       "      <td>020160002001050</td>\n",
       "      <td>020160001001453</td>\n",
       "      <td>NaN</td>\n",
       "      <td>1042</td>\n",
       "      <td>1</td>\n",
       "      <td>1</td>\n",
       "      <td>0</td>\n",
       "      <td>0</td>\n",
       "      <td>0</td>\n",
       "      <td>1</td>\n",
       "      <td>0</td>\n",
       "      <td>1</td>\n",
       "      <td>0</td>\n",
       "      <td>0</td>\n",
       "      <td>NaN</td>\n",
       "      <td>NaN</td>\n",
       "      <td>NaN</td>\n",
       "      <td>NaN</td>\n",
       "    </tr>\n",
       "    <tr>\n",
       "      <th>3</th>\n",
       "      <td>020160002001050</td>\n",
       "      <td>020160001001461</td>\n",
       "      <td>NaN</td>\n",
       "      <td>1042</td>\n",
       "      <td>1</td>\n",
       "      <td>1</td>\n",
       "      <td>0</td>\n",
       "      <td>0</td>\n",
       "      <td>0</td>\n",
       "      <td>1</td>\n",
       "      <td>0</td>\n",
       "      <td>0</td>\n",
       "      <td>0</td>\n",
       "      <td>1</td>\n",
       "      <td>NaN</td>\n",
       "      <td>NaN</td>\n",
       "      <td>NaN</td>\n",
       "      <td>NaN</td>\n",
       "    </tr>\n",
       "    <tr>\n",
       "      <th>4</th>\n",
       "      <td>020160002001050</td>\n",
       "      <td>020160001001475</td>\n",
       "      <td>NaN</td>\n",
       "      <td>1042</td>\n",
       "      <td>1</td>\n",
       "      <td>0</td>\n",
       "      <td>1</td>\n",
       "      <td>0</td>\n",
       "      <td>0</td>\n",
       "      <td>1</td>\n",
       "      <td>0</td>\n",
       "      <td>1</td>\n",
       "      <td>0</td>\n",
       "      <td>0</td>\n",
       "      <td>NaN</td>\n",
       "      <td>NaN</td>\n",
       "      <td>NaN</td>\n",
       "      <td>NaN</td>\n",
       "    </tr>\n",
       "  </tbody>\n",
       "</table>\n",
       "</div>"
      ],
      "text/plain": [
       "         w_geocode        h_geocode  distance  w_group_count  S000  SA01  \\\n",
       "0  020160002001050  020160001001250       NaN           1042     3     0   \n",
       "1  020160002001050  020160001001270       NaN           1042     1     0   \n",
       "2  020160002001050  020160001001453       NaN           1042     1     1   \n",
       "3  020160002001050  020160001001461       NaN           1042     1     1   \n",
       "4  020160002001050  020160001001475       NaN           1042     1     0   \n",
       "\n",
       "   SA02  SA03  SE01  SE02  SE03  SI01  SI02  SI03  w_lat  w_lon  h_lat  h_lon  \n",
       "0     1     2     0     2     1     2     1     0    NaN    NaN    NaN    NaN  \n",
       "1     1     0     0     0     1     1     0     0    NaN    NaN    NaN    NaN  \n",
       "2     0     0     0     1     0     1     0     0    NaN    NaN    NaN    NaN  \n",
       "3     0     0     0     1     0     0     0     1    NaN    NaN    NaN    NaN  \n",
       "4     1     0     0     1     0     1     0     0    NaN    NaN    NaN    NaN  "
      ]
     },
     "execution_count": 13,
     "metadata": {},
     "output_type": "execute_result"
    }
   ],
   "source": [
    "df_null = df_concat[df_concat.isnull().any(axis=1)]\n",
    "print ('\\nthe number of null records:', \"{:,}\".format(len(df_null)),'\\n\\n')\n",
    "df_null.head()"
   ]
  },
  {
   "cell_type": "markdown",
   "metadata": {},
   "source": [
    "#### Remove null records"
   ]
  },
  {
   "cell_type": "code",
   "execution_count": 14,
   "metadata": {},
   "outputs": [
    {
     "name": "stdout",
     "output_type": "stream",
     "text": [
      "Length of cleaned dataframe: 45,065,548 \n",
      "\n"
     ]
    },
    {
     "data": {
      "text/html": [
       "<div>\n",
       "<style scoped>\n",
       "    .dataframe tbody tr th:only-of-type {\n",
       "        vertical-align: middle;\n",
       "    }\n",
       "\n",
       "    .dataframe tbody tr th {\n",
       "        vertical-align: top;\n",
       "    }\n",
       "\n",
       "    .dataframe thead th {\n",
       "        text-align: right;\n",
       "    }\n",
       "</style>\n",
       "<table border=\"1\" class=\"dataframe\">\n",
       "  <thead>\n",
       "    <tr style=\"text-align: right;\">\n",
       "      <th></th>\n",
       "      <th>w_geocode</th>\n",
       "      <th>h_geocode</th>\n",
       "      <th>distance</th>\n",
       "      <th>w_group_count</th>\n",
       "      <th>S000</th>\n",
       "      <th>SA01</th>\n",
       "      <th>SA02</th>\n",
       "      <th>SA03</th>\n",
       "      <th>SE01</th>\n",
       "      <th>SE02</th>\n",
       "      <th>SE03</th>\n",
       "      <th>SI01</th>\n",
       "      <th>SI02</th>\n",
       "      <th>SI03</th>\n",
       "      <th>w_lat</th>\n",
       "      <th>w_lon</th>\n",
       "      <th>h_lat</th>\n",
       "      <th>h_lon</th>\n",
       "    </tr>\n",
       "  </thead>\n",
       "  <tbody>\n",
       "    <tr>\n",
       "      <th>63272</th>\n",
       "      <td>010010205001001</td>\n",
       "      <td>010010201001016</td>\n",
       "      <td>5896.0</td>\n",
       "      <td>1076</td>\n",
       "      <td>1</td>\n",
       "      <td>1</td>\n",
       "      <td>0</td>\n",
       "      <td>0</td>\n",
       "      <td>1</td>\n",
       "      <td>0</td>\n",
       "      <td>0</td>\n",
       "      <td>0</td>\n",
       "      <td>1</td>\n",
       "      <td>0</td>\n",
       "      <td>32.45674</td>\n",
       "      <td>-86.415025</td>\n",
       "      <td>32.466619</td>\n",
       "      <td>-86.476649</td>\n",
       "    </tr>\n",
       "    <tr>\n",
       "      <th>63273</th>\n",
       "      <td>010010205001001</td>\n",
       "      <td>010010201001025</td>\n",
       "      <td>6964.0</td>\n",
       "      <td>1076</td>\n",
       "      <td>1</td>\n",
       "      <td>1</td>\n",
       "      <td>0</td>\n",
       "      <td>0</td>\n",
       "      <td>0</td>\n",
       "      <td>1</td>\n",
       "      <td>0</td>\n",
       "      <td>0</td>\n",
       "      <td>1</td>\n",
       "      <td>0</td>\n",
       "      <td>32.45674</td>\n",
       "      <td>-86.415025</td>\n",
       "      <td>32.459802</td>\n",
       "      <td>-86.489003</td>\n",
       "    </tr>\n",
       "    <tr>\n",
       "      <th>63274</th>\n",
       "      <td>010010205001001</td>\n",
       "      <td>010010201002016</td>\n",
       "      <td>7088.0</td>\n",
       "      <td>1076</td>\n",
       "      <td>2</td>\n",
       "      <td>0</td>\n",
       "      <td>2</td>\n",
       "      <td>0</td>\n",
       "      <td>0</td>\n",
       "      <td>0</td>\n",
       "      <td>2</td>\n",
       "      <td>0</td>\n",
       "      <td>2</td>\n",
       "      <td>0</td>\n",
       "      <td>32.45674</td>\n",
       "      <td>-86.415025</td>\n",
       "      <td>32.474176</td>\n",
       "      <td>-86.487559</td>\n",
       "    </tr>\n",
       "  </tbody>\n",
       "</table>\n",
       "</div>"
      ],
      "text/plain": [
       "             w_geocode        h_geocode  distance  w_group_count  S000  SA01  \\\n",
       "63272  010010205001001  010010201001016    5896.0           1076     1     1   \n",
       "63273  010010205001001  010010201001025    6964.0           1076     1     1   \n",
       "63274  010010205001001  010010201002016    7088.0           1076     2     0   \n",
       "\n",
       "       SA02  SA03  SE01  SE02  SE03  SI01  SI02  SI03     w_lat      w_lon  \\\n",
       "63272     0     0     1     0     0     0     1     0  32.45674 -86.415025   \n",
       "63273     0     0     0     1     0     0     1     0  32.45674 -86.415025   \n",
       "63274     2     0     0     0     2     0     2     0  32.45674 -86.415025   \n",
       "\n",
       "           h_lat      h_lon  \n",
       "63272  32.466619 -86.476649  \n",
       "63273  32.459802 -86.489003  \n",
       "63274  32.474176 -86.487559  "
      ]
     },
     "execution_count": 14,
     "metadata": {},
     "output_type": "execute_result"
    }
   ],
   "source": [
    "df_clean = df_concat.dropna(how='any')\n",
    "df_null = df_concat[df_concat.isnull().any(axis=1)]\n",
    "print ('Length of cleaned dataframe:',\"{:,}\".format(len(df_clean)),'\\n')\n",
    "df_clean.head(3)"
   ]
  },
  {
   "cell_type": "markdown",
   "metadata": {},
   "source": [
    "#### Remove the precision on the distance"
   ]
  },
  {
   "cell_type": "code",
   "execution_count": 15,
   "metadata": {},
   "outputs": [
    {
     "name": "stderr",
     "output_type": "stream",
     "text": [
      "C:\\Users\\mdcr226\\AppData\\Local\\Continuum\\anaconda3\\envs\\sandbox\\lib\\site-packages\\pandas\\core\\generic.py:4405: SettingWithCopyWarning: \n",
      "A value is trying to be set on a copy of a slice from a DataFrame.\n",
      "Try using .loc[row_indexer,col_indexer] = value instead\n",
      "\n",
      "See the caveats in the documentation: http://pandas.pydata.org/pandas-docs/stable/indexing.html#indexing-view-versus-copy\n",
      "  self[name] = value\n"
     ]
    }
   ],
   "source": [
    "df_clean.distance =  df_clean.distance.map(lambda x: '%.0f' % x)"
   ]
  },
  {
   "cell_type": "markdown",
   "metadata": {},
   "source": [
    "#### Reduce the precision on the lat & lon columns"
   ]
  },
  {
   "cell_type": "code",
   "execution_count": 16,
   "metadata": {},
   "outputs": [],
   "source": [
    "df_clean.w_lat =  df_clean.w_lat.map(lambda x: '%.3f' % x)\n",
    "df_clean.w_lon =  df_clean.w_lon.map(lambda x: '%.3f' % x)\n",
    "df_clean.h_lat =  df_clean.h_lat.map(lambda x: '%.3f' % x)\n",
    "df_clean.h_lon =  df_clean.h_lon.map(lambda x: '%.3f' % x)"
   ]
  },
  {
   "cell_type": "code",
   "execution_count": 17,
   "metadata": {},
   "outputs": [
    {
     "data": {
      "text/html": [
       "<div>\n",
       "<style scoped>\n",
       "    .dataframe tbody tr th:only-of-type {\n",
       "        vertical-align: middle;\n",
       "    }\n",
       "\n",
       "    .dataframe tbody tr th {\n",
       "        vertical-align: top;\n",
       "    }\n",
       "\n",
       "    .dataframe thead th {\n",
       "        text-align: right;\n",
       "    }\n",
       "</style>\n",
       "<table border=\"1\" class=\"dataframe\">\n",
       "  <thead>\n",
       "    <tr style=\"text-align: right;\">\n",
       "      <th></th>\n",
       "      <th>w_geocode</th>\n",
       "      <th>h_geocode</th>\n",
       "      <th>distance</th>\n",
       "      <th>w_group_count</th>\n",
       "      <th>S000</th>\n",
       "      <th>SA01</th>\n",
       "      <th>SA02</th>\n",
       "      <th>SA03</th>\n",
       "      <th>SE01</th>\n",
       "      <th>SE02</th>\n",
       "      <th>SE03</th>\n",
       "      <th>SI01</th>\n",
       "      <th>SI02</th>\n",
       "      <th>SI03</th>\n",
       "      <th>w_lat</th>\n",
       "      <th>w_lon</th>\n",
       "      <th>h_lat</th>\n",
       "      <th>h_lon</th>\n",
       "    </tr>\n",
       "  </thead>\n",
       "  <tbody>\n",
       "    <tr>\n",
       "      <th>63272</th>\n",
       "      <td>010010205001001</td>\n",
       "      <td>010010201001016</td>\n",
       "      <td>5896</td>\n",
       "      <td>1076</td>\n",
       "      <td>1</td>\n",
       "      <td>1</td>\n",
       "      <td>0</td>\n",
       "      <td>0</td>\n",
       "      <td>1</td>\n",
       "      <td>0</td>\n",
       "      <td>0</td>\n",
       "      <td>0</td>\n",
       "      <td>1</td>\n",
       "      <td>0</td>\n",
       "      <td>32.457</td>\n",
       "      <td>-86.415</td>\n",
       "      <td>32.467</td>\n",
       "      <td>-86.477</td>\n",
       "    </tr>\n",
       "    <tr>\n",
       "      <th>63273</th>\n",
       "      <td>010010205001001</td>\n",
       "      <td>010010201001025</td>\n",
       "      <td>6964</td>\n",
       "      <td>1076</td>\n",
       "      <td>1</td>\n",
       "      <td>1</td>\n",
       "      <td>0</td>\n",
       "      <td>0</td>\n",
       "      <td>0</td>\n",
       "      <td>1</td>\n",
       "      <td>0</td>\n",
       "      <td>0</td>\n",
       "      <td>1</td>\n",
       "      <td>0</td>\n",
       "      <td>32.457</td>\n",
       "      <td>-86.415</td>\n",
       "      <td>32.460</td>\n",
       "      <td>-86.489</td>\n",
       "    </tr>\n",
       "    <tr>\n",
       "      <th>63274</th>\n",
       "      <td>010010205001001</td>\n",
       "      <td>010010201002016</td>\n",
       "      <td>7088</td>\n",
       "      <td>1076</td>\n",
       "      <td>2</td>\n",
       "      <td>0</td>\n",
       "      <td>2</td>\n",
       "      <td>0</td>\n",
       "      <td>0</td>\n",
       "      <td>0</td>\n",
       "      <td>2</td>\n",
       "      <td>0</td>\n",
       "      <td>2</td>\n",
       "      <td>0</td>\n",
       "      <td>32.457</td>\n",
       "      <td>-86.415</td>\n",
       "      <td>32.474</td>\n",
       "      <td>-86.488</td>\n",
       "    </tr>\n",
       "  </tbody>\n",
       "</table>\n",
       "</div>"
      ],
      "text/plain": [
       "             w_geocode        h_geocode distance  w_group_count  S000  SA01  \\\n",
       "63272  010010205001001  010010201001016     5896           1076     1     1   \n",
       "63273  010010205001001  010010201001025     6964           1076     1     1   \n",
       "63274  010010205001001  010010201002016     7088           1076     2     0   \n",
       "\n",
       "       SA02  SA03  SE01  SE02  SE03  SI01  SI02  SI03   w_lat    w_lon  \\\n",
       "63272     0     0     1     0     0     0     1     0  32.457  -86.415   \n",
       "63273     0     0     0     1     0     0     1     0  32.457  -86.415   \n",
       "63274     2     0     0     0     2     0     2     0  32.457  -86.415   \n",
       "\n",
       "        h_lat    h_lon  \n",
       "63272  32.467  -86.477  \n",
       "63273  32.460  -86.489  \n",
       "63274  32.474  -86.488  "
      ]
     },
     "execution_count": 17,
     "metadata": {},
     "output_type": "execute_result"
    }
   ],
   "source": [
    "df_clean.head(3)"
   ]
  },
  {
   "cell_type": "markdown",
   "metadata": {},
   "source": [
    "#### Name zip file"
   ]
  },
  {
   "cell_type": "code",
   "execution_count": 4,
   "metadata": {},
   "outputs": [],
   "source": [
    "outputZip = 'od_distance_500.csv.gz'"
   ]
  },
  {
   "cell_type": "markdown",
   "metadata": {},
   "source": [
    "#### Create full path with zip file"
   ]
  },
  {
   "cell_type": "code",
   "execution_count": 5,
   "metadata": {},
   "outputs": [],
   "source": [
    "out_Zip = ODpath.joinpath(outputZip)"
   ]
  },
  {
   "cell_type": "markdown",
   "metadata": {},
   "source": [
    "#### Write all the OD line data to compressed csv file"
   ]
  },
  {
   "cell_type": "code",
   "execution_count": 20,
   "metadata": {},
   "outputs": [
    {
     "name": "stdout",
     "output_type": "stream",
     "text": [
      "\n",
      "Data compression complete.\n",
      "Total time: 14 minutes 45 seconds\n"
     ]
    }
   ],
   "source": [
    "# start a timer\n",
    "start = timeit.default_timer()\n",
    "print ('Compressing dataframe. Please be patient.')\n",
    "df_clean.to_csv(out_Zip, compression='gzip', index=None)\n",
    "clear_output(wait=True)\n",
    "# get the current time on timer\n",
    "stop = timeit.default_timer()\n",
    "timer = np.array([(stop-start)/60])\n",
    "min_sec = get_time(timer)\n",
    "minutes, seconds = min_sec[0], min_sec[1]\n",
    "print('\\nData compression complete.\\nTotal time:', minutes, 'minutes', seconds, 'seconds')"
   ]
  },
  {
   "cell_type": "code",
   "execution_count": null,
   "metadata": {},
   "outputs": [],
   "source": []
  },
  {
   "cell_type": "code",
   "execution_count": null,
   "metadata": {},
   "outputs": [],
   "source": []
  }
 ],
 "metadata": {
  "kernelspec": {
   "display_name": "Python 3",
   "language": "python",
   "name": "python3"
  },
  "language_info": {
   "codemirror_mode": {
    "name": "ipython",
    "version": 3
   },
   "file_extension": ".py",
   "mimetype": "text/x-python",
   "name": "python",
   "nbconvert_exporter": "python",
   "pygments_lexer": "ipython3",
   "version": "3.7.0"
  }
 },
 "nbformat": 4,
 "nbformat_minor": 2
}
