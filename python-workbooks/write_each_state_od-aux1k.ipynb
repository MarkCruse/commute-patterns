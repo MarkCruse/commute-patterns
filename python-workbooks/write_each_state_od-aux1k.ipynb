{
 "cells": [
  {
   "cell_type": "code",
   "execution_count": null,
   "metadata": {},
   "outputs": [],
   "source": []
  },
  {
   "cell_type": "code",
   "execution_count": 1,
   "metadata": {},
   "outputs": [],
   "source": [
    "import pandas as pd\n",
    "import numpy as np\n",
    "from pathlib import Path\n",
    "import zipfile\n",
    "import timeit\n",
    "from IPython.display import clear_output"
   ]
  },
  {
   "cell_type": "code",
   "execution_count": 2,
   "metadata": {},
   "outputs": [
    {
     "name": "stdout",
     "output_type": "stream",
     "text": [
      "OD file exist\n"
     ]
    }
   ],
   "source": [
    "ODpath = Path(\"../data/OD/\")\n",
    "OD_file = ODpath.joinpath(\"od_distance_1k_clean.csv.gz\")\n",
    "if OD_file.exists ():\n",
    "    print (\"OD file exist\")\n",
    "else:\n",
    "    print (\"OD file does not exist\")\n",
    "    "
   ]
  },
  {
   "cell_type": "code",
   "execution_count": 3,
   "metadata": {},
   "outputs": [
    {
     "name": "stdout",
     "output_type": "stream",
     "text": [
      "Wall time: 2min 15s\n"
     ]
    }
   ],
   "source": [
    "%time df = pd.read_csv(OD_file, compression='gzip', dtype={'w_geocode': str,'h_geocode':str})"
   ]
  },
  {
   "cell_type": "markdown",
   "metadata": {},
   "source": [
    "#### Group the data to determine max and min values\n",
    "Should be between near 1k to 70k"
   ]
  },
  {
   "cell_type": "code",
   "execution_count": 4,
   "metadata": {},
   "outputs": [],
   "source": [
    "df_group = df.groupby(['w_geocode']).sum()\n",
    "df_group_limited = df_group[(df_group['S000'] >= 1000)]"
   ]
  },
  {
   "cell_type": "code",
   "execution_count": 5,
   "metadata": {},
   "outputs": [
    {
     "data": {
      "text/plain": [
       "71280"
      ]
     },
     "execution_count": 5,
     "metadata": {},
     "output_type": "execute_result"
    }
   ],
   "source": [
    "df_group_limited.S000.max()"
   ]
  },
  {
   "cell_type": "code",
   "execution_count": 6,
   "metadata": {},
   "outputs": [
    {
     "data": {
      "text/plain": [
       "1000"
      ]
     },
     "execution_count": 6,
     "metadata": {},
     "output_type": "execute_result"
    }
   ],
   "source": [
    "df_group_limited.S000.min()"
   ]
  },
  {
   "cell_type": "code",
   "execution_count": null,
   "metadata": {},
   "outputs": [],
   "source": []
  },
  {
   "cell_type": "markdown",
   "metadata": {},
   "source": [
    "#### Identify all state FIPS codes in data"
   ]
  },
  {
   "cell_type": "code",
   "execution_count": 7,
   "metadata": {},
   "outputs": [
    {
     "name": "stdout",
     "output_type": "stream",
     "text": [
      "48\n"
     ]
    }
   ],
   "source": [
    "state_list = df['w_geocode'].str.slice(0,2).unique().tolist()\n",
    "print (len(state_list))"
   ]
  },
  {
   "cell_type": "markdown",
   "metadata": {},
   "source": [
    "#### Create a column to contain the state FIPS"
   ]
  },
  {
   "cell_type": "code",
   "execution_count": 8,
   "metadata": {},
   "outputs": [],
   "source": [
    "df['state'] = df['w_geocode'].str.slice(0,2)"
   ]
  },
  {
   "cell_type": "code",
   "execution_count": 9,
   "metadata": {},
   "outputs": [
    {
     "data": {
      "text/html": [
       "<div>\n",
       "<style scoped>\n",
       "    .dataframe tbody tr th:only-of-type {\n",
       "        vertical-align: middle;\n",
       "    }\n",
       "\n",
       "    .dataframe tbody tr th {\n",
       "        vertical-align: top;\n",
       "    }\n",
       "\n",
       "    .dataframe thead th {\n",
       "        text-align: right;\n",
       "    }\n",
       "</style>\n",
       "<table border=\"1\" class=\"dataframe\">\n",
       "  <thead>\n",
       "    <tr style=\"text-align: right;\">\n",
       "      <th></th>\n",
       "      <th>w_geocode</th>\n",
       "      <th>h_geocode</th>\n",
       "      <th>distance</th>\n",
       "      <th>w_group_count</th>\n",
       "      <th>S000</th>\n",
       "      <th>SA01</th>\n",
       "      <th>SA02</th>\n",
       "      <th>SA03</th>\n",
       "      <th>SE01</th>\n",
       "      <th>SE02</th>\n",
       "      <th>SE03</th>\n",
       "      <th>SI01</th>\n",
       "      <th>SI02</th>\n",
       "      <th>SI03</th>\n",
       "      <th>w_lat</th>\n",
       "      <th>w_lon</th>\n",
       "      <th>h_lat</th>\n",
       "      <th>h_lon</th>\n",
       "      <th>state</th>\n",
       "    </tr>\n",
       "  </thead>\n",
       "  <tbody>\n",
       "    <tr>\n",
       "      <th>0</th>\n",
       "      <td>010010205001001</td>\n",
       "      <td>010010201001016</td>\n",
       "      <td>5896</td>\n",
       "      <td>1076</td>\n",
       "      <td>1</td>\n",
       "      <td>1</td>\n",
       "      <td>0</td>\n",
       "      <td>0</td>\n",
       "      <td>1</td>\n",
       "      <td>0</td>\n",
       "      <td>0</td>\n",
       "      <td>0</td>\n",
       "      <td>1</td>\n",
       "      <td>0</td>\n",
       "      <td>32.457</td>\n",
       "      <td>-86.415</td>\n",
       "      <td>32.467</td>\n",
       "      <td>-86.477</td>\n",
       "      <td>01</td>\n",
       "    </tr>\n",
       "    <tr>\n",
       "      <th>1</th>\n",
       "      <td>010010205001001</td>\n",
       "      <td>010010201001025</td>\n",
       "      <td>6964</td>\n",
       "      <td>1076</td>\n",
       "      <td>1</td>\n",
       "      <td>1</td>\n",
       "      <td>0</td>\n",
       "      <td>0</td>\n",
       "      <td>0</td>\n",
       "      <td>1</td>\n",
       "      <td>0</td>\n",
       "      <td>0</td>\n",
       "      <td>1</td>\n",
       "      <td>0</td>\n",
       "      <td>32.457</td>\n",
       "      <td>-86.415</td>\n",
       "      <td>32.460</td>\n",
       "      <td>-86.489</td>\n",
       "      <td>01</td>\n",
       "    </tr>\n",
       "    <tr>\n",
       "      <th>2</th>\n",
       "      <td>010010205001001</td>\n",
       "      <td>010010201002016</td>\n",
       "      <td>7088</td>\n",
       "      <td>1076</td>\n",
       "      <td>2</td>\n",
       "      <td>0</td>\n",
       "      <td>2</td>\n",
       "      <td>0</td>\n",
       "      <td>0</td>\n",
       "      <td>0</td>\n",
       "      <td>2</td>\n",
       "      <td>0</td>\n",
       "      <td>2</td>\n",
       "      <td>0</td>\n",
       "      <td>32.457</td>\n",
       "      <td>-86.415</td>\n",
       "      <td>32.474</td>\n",
       "      <td>-86.488</td>\n",
       "      <td>01</td>\n",
       "    </tr>\n",
       "    <tr>\n",
       "      <th>3</th>\n",
       "      <td>010010205001001</td>\n",
       "      <td>010010201002017</td>\n",
       "      <td>6830</td>\n",
       "      <td>1076</td>\n",
       "      <td>3</td>\n",
       "      <td>3</td>\n",
       "      <td>0</td>\n",
       "      <td>0</td>\n",
       "      <td>1</td>\n",
       "      <td>2</td>\n",
       "      <td>0</td>\n",
       "      <td>0</td>\n",
       "      <td>1</td>\n",
       "      <td>2</td>\n",
       "      <td>32.457</td>\n",
       "      <td>-86.415</td>\n",
       "      <td>32.477</td>\n",
       "      <td>-86.484</td>\n",
       "      <td>01</td>\n",
       "    </tr>\n",
       "    <tr>\n",
       "      <th>4</th>\n",
       "      <td>010010205001001</td>\n",
       "      <td>010010201002022</td>\n",
       "      <td>7304</td>\n",
       "      <td>1076</td>\n",
       "      <td>1</td>\n",
       "      <td>0</td>\n",
       "      <td>1</td>\n",
       "      <td>0</td>\n",
       "      <td>0</td>\n",
       "      <td>1</td>\n",
       "      <td>0</td>\n",
       "      <td>0</td>\n",
       "      <td>1</td>\n",
       "      <td>0</td>\n",
       "      <td>32.457</td>\n",
       "      <td>-86.415</td>\n",
       "      <td>32.488</td>\n",
       "      <td>-86.483</td>\n",
       "      <td>01</td>\n",
       "    </tr>\n",
       "  </tbody>\n",
       "</table>\n",
       "</div>"
      ],
      "text/plain": [
       "         w_geocode        h_geocode  distance  w_group_count  S000  SA01  \\\n",
       "0  010010205001001  010010201001016      5896           1076     1     1   \n",
       "1  010010205001001  010010201001025      6964           1076     1     1   \n",
       "2  010010205001001  010010201002016      7088           1076     2     0   \n",
       "3  010010205001001  010010201002017      6830           1076     3     3   \n",
       "4  010010205001001  010010201002022      7304           1076     1     0   \n",
       "\n",
       "   SA02  SA03  SE01  SE02  SE03  SI01  SI02  SI03   w_lat   w_lon   h_lat  \\\n",
       "0     0     0     1     0     0     0     1     0  32.457 -86.415  32.467   \n",
       "1     0     0     0     1     0     0     1     0  32.457 -86.415  32.460   \n",
       "2     2     0     0     0     2     0     2     0  32.457 -86.415  32.474   \n",
       "3     0     0     1     2     0     0     1     2  32.457 -86.415  32.477   \n",
       "4     1     0     0     1     0     0     1     0  32.457 -86.415  32.488   \n",
       "\n",
       "    h_lon state  \n",
       "0 -86.477    01  \n",
       "1 -86.489    01  \n",
       "2 -86.488    01  \n",
       "3 -86.484    01  \n",
       "4 -86.483    01  "
      ]
     },
     "execution_count": 9,
     "metadata": {},
     "output_type": "execute_result"
    }
   ],
   "source": [
    "df.head()"
   ]
  },
  {
   "cell_type": "markdown",
   "metadata": {},
   "source": [
    "#### Funtion to write each state file to csv"
   ]
  },
  {
   "cell_type": "code",
   "execution_count": 10,
   "metadata": {},
   "outputs": [],
   "source": [
    "def write_state(df_state):\n",
    "    df_state.to_csv(out_state, compression='gzip', index=None)"
   ]
  },
  {
   "cell_type": "markdown",
   "metadata": {},
   "source": [
    "#### Loop through each State FIPS code and call function to write csv"
   ]
  },
  {
   "cell_type": "code",
   "execution_count": 19,
   "metadata": {},
   "outputs": [],
   "source": [
    "for index in range(0,len(state_list)):\n",
    "    state_id = state_list[index]\n",
    "    df_state = df[df['state'] == state_id]\n",
    "    outputstate = state_id + '_od_distance_1k.csv.gz'\n",
    "    out_state = ODpath.joinpath(outputstate)\n",
    "    write_state(df_state)"
   ]
  },
  {
   "cell_type": "code",
   "execution_count": null,
   "metadata": {},
   "outputs": [],
   "source": []
  }
 ],
 "metadata": {
  "kernelspec": {
   "display_name": "Python 3",
   "language": "python",
   "name": "python3"
  },
  "language_info": {
   "codemirror_mode": {
    "name": "ipython",
    "version": 3
   },
   "file_extension": ".py",
   "mimetype": "text/x-python",
   "name": "python",
   "nbconvert_exporter": "python",
   "pygments_lexer": "ipython3",
   "version": "3.7.0"
  }
 },
 "nbformat": 4,
 "nbformat_minor": 2
}
