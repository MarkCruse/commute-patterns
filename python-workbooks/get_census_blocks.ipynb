{
 "cells": [
  {
   "cell_type": "markdown",
   "metadata": {},
   "source": [
    "### Retrieve Census Block Centroid Coordinate Data"
   ]
  },
  {
   "cell_type": "code",
   "execution_count": 1,
   "metadata": {},
   "outputs": [],
   "source": [
    "from ftplib import FTP\n",
    "import pandas as pd\n",
    "import geopandas as gpd\n",
    "import zipfile\n",
    "from pathlib import Path\n",
    "import timeit\n",
    "from IPython.display import clear_output\n",
    "from shutil import unpack_archive\n",
    "import numpy as np"
   ]
  },
  {
   "cell_type": "markdown",
   "metadata": {},
   "source": [
    "#### Create directory path for temp storage of downloads"
   ]
  },
  {
   "cell_type": "code",
   "execution_count": 2,
   "metadata": {},
   "outputs": [],
   "source": [
    "ftpTmp = Path('../data/ftp-temp/')\n",
    "ftpTmp.mkdir(exist_ok=True, parents=True)"
   ]
  },
  {
   "cell_type": "markdown",
   "metadata": {},
   "source": [
    "#### Function - Load the shapefile information into GeoPandas"
   ]
  },
  {
   "cell_type": "code",
   "execution_count": 3,
   "metadata": {},
   "outputs": [],
   "source": [
    "def get_data(filename):\n",
    "    gdf = gpd.read_file(filename, dtype={'GEOID10': 'object', 'INTPTLAT10': 'float', 'INTPTLON10': 'float'})  # set data types \n",
    "    return gdf"
   ]
  },
  {
   "cell_type": "markdown",
   "metadata": {},
   "source": [
    "#### Extract files from compressed file (zip)"
   ]
  },
  {
   "cell_type": "code",
   "execution_count": 4,
   "metadata": {},
   "outputs": [],
   "source": [
    "def extract_files(zip_path_file):\n",
    "    unpack_archive(str(zip_path_file), extract_dir=str(ftpTmp))\n",
    "    fh.close()"
   ]
  },
  {
   "cell_type": "markdown",
   "metadata": {},
   "source": [
    "#### Function - Write the block dataframe to list"
   ]
  },
  {
   "cell_type": "code",
   "execution_count": 5,
   "metadata": {},
   "outputs": [],
   "source": [
    "def append_list(df_gdf, count_records):\n",
    "    #keep only the rows that are not water\n",
    "    df_gdf = df_gdf.drop(df_gdf[(df_gdf['AWATER10'] > 0) & (df_gdf['ALAND10'] == 0)].index)\n",
    "    \n",
    "    #exclude Puerto Rico and island areas\n",
    "    if str(df_gdf['STATEFP10'].unique()[0]) in st_list:\n",
    "        df_list.append(df_gdf)\n",
    "        count_records = count_records+len(df_gdf)\n",
    "        \n",
    "    # drop the columns that are not needed\n",
    "    cols=['STATEFP10','COUNTYFP10','TRACTCE10','BLOCKCE10','NAME10','MTFCC10','UR10','UACE10','UATYPE','FUNCSTAT10','ALAND10','AWATER10','geometry']\n",
    "    df_gdf.drop(cols, axis=1, inplace=True)\n",
    "    df_gdf.rename(columns={'GEOID10': 'block_geoid', 'INTPTLAT10': 'lat', 'INTPTLON10': 'lon'}, inplace=True)\n",
    "    return count_records"
   ]
  },
  {
   "cell_type": "markdown",
   "metadata": {},
   "source": [
    "#### Function - Convert decimal time to minutes and seconds"
   ]
  },
  {
   "cell_type": "code",
   "execution_count": 6,
   "metadata": {},
   "outputs": [],
   "source": [
    "def get_time(timer):\n",
    "    minutes, seconds = int(np.floor(timer)), round(np.asscalar(timer % 1)*60)\n",
    "    return [minutes, seconds]"
   ]
  },
  {
   "cell_type": "markdown",
   "metadata": {},
   "source": [
    "#### Setup FTP connection with Census Bureau"
   ]
  },
  {
   "cell_type": "code",
   "execution_count": 7,
   "metadata": {},
   "outputs": [
    {
     "name": "stdout",
     "output_type": "stream",
     "text": [
      "['tl_2018_01_tabblock10.zip', 'tl_2018_02_tabblock10.zip', 'tl_2018_04_tabblock10.zip', 'tl_2018_05_tabblock10.zip', 'tl_2018_06_tabblock10.zip', 'tl_2018_08_tabblock10.zip', 'tl_2018_09_tabblock10.zip', 'tl_2018_10_tabblock10.zip', 'tl_2018_11_tabblock10.zip', 'tl_2018_12_tabblock10.zip', 'tl_2018_13_tabblock10.zip', 'tl_2018_15_tabblock10.zip', 'tl_2018_16_tabblock10.zip', 'tl_2018_17_tabblock10.zip', 'tl_2018_18_tabblock10.zip', 'tl_2018_19_tabblock10.zip', 'tl_2018_20_tabblock10.zip', 'tl_2018_21_tabblock10.zip', 'tl_2018_22_tabblock10.zip', 'tl_2018_23_tabblock10.zip', 'tl_2018_24_tabblock10.zip', 'tl_2018_25_tabblock10.zip', 'tl_2018_26_tabblock10.zip', 'tl_2018_27_tabblock10.zip', 'tl_2018_28_tabblock10.zip', 'tl_2018_29_tabblock10.zip', 'tl_2018_30_tabblock10.zip', 'tl_2018_31_tabblock10.zip', 'tl_2018_32_tabblock10.zip', 'tl_2018_33_tabblock10.zip', 'tl_2018_34_tabblock10.zip', 'tl_2018_35_tabblock10.zip', 'tl_2018_36_tabblock10.zip', 'tl_2018_37_tabblock10.zip', 'tl_2018_38_tabblock10.zip', 'tl_2018_39_tabblock10.zip', 'tl_2018_40_tabblock10.zip', 'tl_2018_41_tabblock10.zip', 'tl_2018_42_tabblock10.zip', 'tl_2018_44_tabblock10.zip', 'tl_2018_45_tabblock10.zip', 'tl_2018_46_tabblock10.zip', 'tl_2018_47_tabblock10.zip', 'tl_2018_48_tabblock10.zip', 'tl_2018_49_tabblock10.zip', 'tl_2018_50_tabblock10.zip', 'tl_2018_51_tabblock10.zip', 'tl_2018_53_tabblock10.zip', 'tl_2018_54_tabblock10.zip', 'tl_2018_55_tabblock10.zip', 'tl_2018_56_tabblock10.zip', 'tl_2018_60_tabblock10.zip', 'tl_2018_66_tabblock10.zip', 'tl_2018_69_tabblock10.zip', 'tl_2018_72_tabblock10.zip', 'tl_2018_78_tabblock10.zip']\n"
     ]
    }
   ],
   "source": [
    "ftp = FTP('ftp2.census.gov')\n",
    "ftp.login()\n",
    "ftp.cwd('geo/tiger/TIGER2018/TABBLOCK/')\n",
    "file_list = ftp.nlst()\n",
    "# print a list of all files in the FTP folder\n",
    "print(file_list)"
   ]
  },
  {
   "cell_type": "markdown",
   "metadata": {},
   "source": [
    "#### Loop through the ftp files, download, extract, load, and save"
   ]
  },
  {
   "cell_type": "code",
   "execution_count": 8,
   "metadata": {},
   "outputs": [
    {
     "name": "stdout",
     "output_type": "stream",
     "text": [
      "\n",
      "\n",
      "Processing Complete\n",
      "Total time: 268 minutes 11 seconds\n",
      "\n",
      "Total count: 10,549,216\n"
     ]
    }
   ],
   "source": [
    "# set various counting variables\n",
    "counter = 0\n",
    "decimals = 0   \n",
    "# start a timer\n",
    "start = timeit.default_timer()\n",
    "\n",
    "# create a blank list to accumulate the dataframes\n",
    "df_list = []\n",
    "count_records = 0\n",
    "# a list of state fips to be included (eliminates Puerto Rico, Samoa,Guam,Mariana Islans, Virgin Island, and Island Areas) \n",
    "# see https://www.census.gov/geographies/reference-files/2017/demo/popest/2017-fips.html\n",
    "st_list = ['01','02','04','05','06','08','09','10','11','12','13','15','16','17','18','19','20','21','22','23','24','25','26','27','28','29','30','31','32','33','34','35','36','37','38','39','40','41','42','44','45','46','47','48','49','50','51','53','54','55','56']\n",
    "\n",
    "\n",
    "for index, zip_filename in enumerate(file_list):\n",
    "    \n",
    "    # create a file path for the download\n",
    "    zip_path_file = ftpTmp.joinpath(file_list[index])\n",
    "    \n",
    "    # write download file to storage area\n",
    "    fh = open (zip_path_file, \"wb\")\n",
    "    print (\"STARTED download for file: \" + zip_filename)\n",
    "    ftp.retrbinary(\"RETR \" + zip_filename, fh.write)\n",
    "    \n",
    "    # open downloaded file for exdf\n",
    "    fh = open(zip_path_file, \"rb\")\n",
    "    zp = zipfile.ZipFile(fh)\n",
    "    \n",
    "    # call extract function\n",
    "    extract_files(zip_path_file)\n",
    "    \n",
    "    # assign file handles to each of the files extracted\n",
    "    cpg, dbf, prj, shp, xml1, xml2, shx = [filename for filename in zp.namelist()]\n",
    "    \n",
    "    fh.close\n",
    "    zp.close\n",
    "    print(shp)\n",
    "    \n",
    "    # add a path to the shapefile\n",
    "    shape_file = ftpTmp.joinpath(shp)\n",
    "    \n",
    "    # call function to create a geodataframe\n",
    "    df_gdf = get_data(shape_file)\n",
    "    \n",
    "    # call function to append the geodataframe to a list\n",
    "    count_records = append_list(df_gdf, count_records)\n",
    "    \n",
    "    #removes extracted files and zip file\n",
    "    zip_path_file.unlink()\n",
    "    shape_file.unlink()\n",
    "    file_to_rem = ftpTmp.joinpath(cpg)\n",
    "    file_to_rem.unlink()    \n",
    "    file_to_rem = ftpTmp.joinpath(dbf)\n",
    "    file_to_rem.unlink()    \n",
    "    file_to_rem = ftpTmp.joinpath(xml1)\n",
    "    file_to_rem.unlink()    \n",
    "    file_to_rem = ftpTmp.joinpath(xml2)\n",
    "    file_to_rem.unlink()    \n",
    "    file_to_rem = ftpTmp.joinpath(shx)\n",
    "    file_to_rem.unlink()    \n",
    "    file_to_rem = ftpTmp.joinpath(prj)\n",
    "    file_to_rem.unlink()\n",
    "\n",
    "    # get the current time on timer\n",
    "    stop = timeit.default_timer()\n",
    "    \n",
    "    #create a numpy array to calculate time\n",
    "    timer = np.array([(stop-start)/60])\n",
    "    # call function to calculate minutes and seconds\n",
    "    min_sec = get_time(timer)\n",
    "    minutes, seconds = min_sec[0], min_sec[1]\n",
    "    \n",
    "    # clear the output below this cell\n",
    "    clear_output(wait=True)\n",
    "    \n",
    "    # print a few lines for progress monitoring\n",
    "    print('Processed df file:',zip_filename)\n",
    "    print('Timer:', minutes, 'minutes', seconds, 'seconds')\n",
    "    print('Current record count:', \"{:,}\".format(count_records),'\\n')\n",
    "    counter+=1\n",
    "    \n",
    "# clear the output below this cell\n",
    "clear_output(wait=True)\n",
    "print('\\n\\nProcessing Complete\\nTotal time:', minutes, 'minutes', seconds, 'seconds')\n",
    "print('\\nTotal count:', \"{:,}\".format(count_records))"
   ]
  },
  {
   "cell_type": "markdown",
   "metadata": {},
   "source": [
    "#### Remove the ftp temp folder"
   ]
  },
  {
   "cell_type": "code",
   "execution_count": 9,
   "metadata": {},
   "outputs": [],
   "source": [
    "ftpTmp.rmdir()"
   ]
  },
  {
   "cell_type": "markdown",
   "metadata": {},
   "source": [
    "#### Create a Pandas dataframe containing all block records"
   ]
  },
  {
   "cell_type": "code",
   "execution_count": 10,
   "metadata": {},
   "outputs": [
    {
     "name": "stdout",
     "output_type": "stream",
     "text": [
      "Wall time: 761 ms\n"
     ]
    }
   ],
   "source": [
    "%time df_out = pd.concat(df_list)"
   ]
  },
  {
   "cell_type": "markdown",
   "metadata": {},
   "source": [
    "#### Create directory path for output file"
   ]
  },
  {
   "cell_type": "code",
   "execution_count": 11,
   "metadata": {},
   "outputs": [],
   "source": [
    "outputPath = Path('../data/blocks/')\n",
    "outputPath.mkdir(exist_ok=True, parents=True)"
   ]
  },
  {
   "cell_type": "markdown",
   "metadata": {},
   "source": [
    "#### Name zip file"
   ]
  },
  {
   "cell_type": "code",
   "execution_count": 12,
   "metadata": {},
   "outputs": [],
   "source": [
    "outputZip = 'block_centroids_ftp.csv.gz'"
   ]
  },
  {
   "cell_type": "markdown",
   "metadata": {},
   "source": [
    "#### Create full path with zip file"
   ]
  },
  {
   "cell_type": "code",
   "execution_count": 13,
   "metadata": {},
   "outputs": [],
   "source": [
    "out_Zip = outputPath.joinpath(outputZip)"
   ]
  },
  {
   "cell_type": "markdown",
   "metadata": {},
   "source": [
    "#### Write dataframe to compressed CSV"
   ]
  },
  {
   "cell_type": "code",
   "execution_count": 14,
   "metadata": {},
   "outputs": [
    {
     "name": "stdout",
     "output_type": "stream",
     "text": [
      "\n",
      "Data compression complete.\n",
      "Total time: 1 minutes 58 seconds\n"
     ]
    },
    {
     "name": "stderr",
     "output_type": "stream",
     "text": [
      "C:\\Users\\mdcr226\\AppData\\Local\\Continuum\\anaconda3\\envs\\sandbox\\lib\\site-packages\\ipykernel_launcher.py:2: DeprecationWarning: np.asscalar(a) is deprecated since NumPy v1.16, use a.item() instead\n",
      "  \n"
     ]
    }
   ],
   "source": [
    "# start a timer\n",
    "start = timeit.default_timer()\n",
    "print ('Compressing dataframe. Please be patient.')\n",
    "df_out.to_csv(out_Zip, compression='gzip', index=None)\n",
    "clear_output(wait=True)\n",
    "# get the current time on timer\n",
    "stop = timeit.default_timer()\n",
    "timer = np.array([(stop-start)/60])\n",
    "min_sec = get_time(timer)\n",
    "minutes, seconds = min_sec[0], min_sec[1]\n",
    "print('\\nData compression complete.\\nTotal time:', minutes, 'minutes', seconds, 'seconds')"
   ]
  },
  {
   "cell_type": "code",
   "execution_count": 15,
   "metadata": {},
   "outputs": [
    {
     "name": "stdout",
     "output_type": "stream",
     "text": [
      "Number of block records written to file: 10,549,216\n"
     ]
    }
   ],
   "source": [
    "print('Number of block records written to file:',\"{:,}\".format(len(df_out)))"
   ]
  },
  {
   "cell_type": "code",
   "execution_count": 16,
   "metadata": {},
   "outputs": [
    {
     "name": "stdout",
     "output_type": "stream",
     "text": [
      "<class 'geopandas.geodataframe.GeoDataFrame'>\n",
      "Int64Index: 10549216 entries, 0 to 86203\n",
      "Data columns (total 3 columns):\n",
      "block_geoid    object\n",
      "lat            object\n",
      "lon            object\n",
      "dtypes: object(3)\n",
      "memory usage: 321.9+ MB\n"
     ]
    }
   ],
   "source": [
    "df_out.info()"
   ]
  },
  {
   "cell_type": "code",
   "execution_count": 17,
   "metadata": {},
   "outputs": [],
   "source": [
    "df_dups = pd.DataFrame(df_out,columns=['block_geoid'])"
   ]
  },
  {
   "cell_type": "code",
   "execution_count": 18,
   "metadata": {},
   "outputs": [
    {
     "data": {
      "text/plain": [
       "10549216"
      ]
     },
     "execution_count": 18,
     "metadata": {},
     "output_type": "execute_result"
    }
   ],
   "source": [
    "len(df_out)"
   ]
  },
  {
   "cell_type": "code",
   "execution_count": 19,
   "metadata": {},
   "outputs": [
    {
     "data": {
      "text/plain": [
       "10549216"
      ]
     },
     "execution_count": 19,
     "metadata": {},
     "output_type": "execute_result"
    }
   ],
   "source": [
    "df_unique = df_dups.drop_duplicates()\n",
    "len(df_unique)"
   ]
  }
 ],
 "metadata": {
  "kernelspec": {
   "display_name": "Python 3",
   "language": "python",
   "name": "python3"
  },
  "language_info": {
   "codemirror_mode": {
    "name": "ipython",
    "version": 3
   },
   "file_extension": ".py",
   "mimetype": "text/x-python",
   "name": "python",
   "nbconvert_exporter": "python",
   "pygments_lexer": "ipython3",
   "version": "3.7.1"
  }
 },
 "nbformat": 4,
 "nbformat_minor": 4
}
