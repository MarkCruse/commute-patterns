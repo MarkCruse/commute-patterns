{
 "cells": [
  {
   "cell_type": "markdown",
   "metadata": {},
   "source": [
    "## Randomize Points in Polygon "
   ]
  },
  {
   "cell_type": "code",
   "execution_count": 1,
   "metadata": {},
   "outputs": [],
   "source": [
    "%matplotlib inline\n",
    "\n",
    "import pandas as pd\n",
    "import geopandas as gpd\n",
    "import geoplot\n",
    "import fiona\n",
    "import os\n",
    "import random\n",
    "from shapely.geometry import Polygon, Point, LineString, mapping"
   ]
  },
  {
   "cell_type": "markdown",
   "metadata": {},
   "source": [
    "### Import dataset using FTP"
   ]
  },
  {
   "cell_type": "raw",
   "metadata": {},
   "source": [
    "state_raw = gpd.read_file('ftp://ftp2.census.gov/geo/tiger/TIGER2018/TABBLOCK/tl_2018_21_tabblock10.zip')"
   ]
  },
  {
   "cell_type": "markdown",
   "metadata": {},
   "source": [
    "#### or from downloaded zip"
   ]
  },
  {
   "cell_type": "code",
   "execution_count": 2,
   "metadata": {},
   "outputs": [],
   "source": [
    "state_raw = gpd.read_file('zip://./Census-blocks/tl_2018_21_tabblock10.zip')"
   ]
  },
  {
   "cell_type": "markdown",
   "metadata": {},
   "source": [
    "#### Make a copy of dataframe for manipulations"
   ]
  },
  {
   "cell_type": "code",
   "execution_count": 3,
   "metadata": {},
   "outputs": [],
   "source": [
    "block_poly = state_raw.copy()"
   ]
  },
  {
   "cell_type": "markdown",
   "metadata": {},
   "source": [
    "#### Drop unneeded columns"
   ]
  },
  {
   "cell_type": "code",
   "execution_count": 4,
   "metadata": {},
   "outputs": [],
   "source": [
    "columns =['STATEFP10', 'COUNTYFP10', 'TRACTCE10', 'BLOCKCE10', 'NAME10', 'MTFCC10', 'UR10', 'UACE10', 'UATYPE', 'FUNCSTAT10', 'ALAND10', 'AWATER10', 'INTPTLAT10', 'INTPTLON10']"
   ]
  },
  {
   "cell_type": "code",
   "execution_count": 5,
   "metadata": {},
   "outputs": [],
   "source": [
    "block_poly.drop(columns, inplace=True, axis=1)"
   ]
  },
  {
   "cell_type": "code",
   "execution_count": 6,
   "metadata": {},
   "outputs": [
    {
     "data": {
      "text/html": [
       "<div>\n",
       "<style scoped>\n",
       "    .dataframe tbody tr th:only-of-type {\n",
       "        vertical-align: middle;\n",
       "    }\n",
       "\n",
       "    .dataframe tbody tr th {\n",
       "        vertical-align: top;\n",
       "    }\n",
       "\n",
       "    .dataframe thead th {\n",
       "        text-align: right;\n",
       "    }\n",
       "</style>\n",
       "<table border=\"1\" class=\"dataframe\">\n",
       "  <thead>\n",
       "    <tr style=\"text-align: right;\">\n",
       "      <th></th>\n",
       "      <th>GEOID10</th>\n",
       "      <th>geometry</th>\n",
       "    </tr>\n",
       "  </thead>\n",
       "  <tbody>\n",
       "    <tr>\n",
       "      <th>0</th>\n",
       "      <td>210099503002074</td>\n",
       "      <td>POLYGON ((-85.967221 37.029612, -85.967004 37....</td>\n",
       "    </tr>\n",
       "    <tr>\n",
       "      <th>1</th>\n",
       "      <td>212270115002051</td>\n",
       "      <td>POLYGON ((-86.374337 36.905521, -86.374335 36....</td>\n",
       "    </tr>\n",
       "    <tr>\n",
       "      <th>2</th>\n",
       "      <td>211499705002073</td>\n",
       "      <td>POLYGON ((-87.31331899999999 37.447166, -87.31...</td>\n",
       "    </tr>\n",
       "    <tr>\n",
       "      <th>3</th>\n",
       "      <td>210459503003016</td>\n",
       "      <td>POLYGON ((-84.91801699999999 37.325795, -84.91...</td>\n",
       "    </tr>\n",
       "    <tr>\n",
       "      <th>4</th>\n",
       "      <td>210979503002030</td>\n",
       "      <td>POLYGON ((-84.33703199999999 38.396072, -84.33...</td>\n",
       "    </tr>\n",
       "  </tbody>\n",
       "</table>\n",
       "</div>"
      ],
      "text/plain": [
       "           GEOID10                                           geometry\n",
       "0  210099503002074  POLYGON ((-85.967221 37.029612, -85.967004 37....\n",
       "1  212270115002051  POLYGON ((-86.374337 36.905521, -86.374335 36....\n",
       "2  211499705002073  POLYGON ((-87.31331899999999 37.447166, -87.31...\n",
       "3  210459503003016  POLYGON ((-84.91801699999999 37.325795, -84.91...\n",
       "4  210979503002030  POLYGON ((-84.33703199999999 38.396072, -84.33..."
      ]
     },
     "execution_count": 6,
     "metadata": {},
     "output_type": "execute_result"
    }
   ],
   "source": [
    "block_poly.head()"
   ]
  },
  {
   "cell_type": "markdown",
   "metadata": {},
   "source": [
    "### Select a single census block"
   ]
  },
  {
   "cell_type": "code",
   "execution_count": 7,
   "metadata": {},
   "outputs": [
    {
     "data": {
      "image/png": "[encoded data removed]",
      "text/plain": [
       "<Figure size 864x864 with 1 Axes>"
      ]
     },
     "metadata": {
      "needs_background": "light"
     },
     "output_type": "display_data"
    }
   ],
   "source": [
    "my_block = block_poly.loc[block_poly['GEOID10'] == '210670023022003']\n",
    "ax = my_block.plot(figsize=(12,12));"
   ]
  },
  {
   "cell_type": "markdown",
   "metadata": {},
   "source": [
    "### Randomly place points within polygon"
   ]
  },
  {
   "cell_type": "code",
   "execution_count": 8,
   "metadata": {},
   "outputs": [],
   "source": [
    "poly = my_block['geometry']"
   ]
  },
  {
   "cell_type": "code",
   "execution_count": null,
   "metadata": {},
   "outputs": [],
   "source": []
  },
  {
   "cell_type": "code",
   "execution_count": 9,
   "metadata": {},
   "outputs": [
    {
     "name": "stdout",
     "output_type": "stream",
     "text": [
      "POINT (-84.47453442036391 37.99755290309878)\n",
      "POINT (-84.47399465555196 37.99808763575956)\n",
      "POINT (-84.47427306482054 37.99753638005878)\n",
      "POINT (-84.47583661210662 37.99687822240634)\n",
      "POINT (-84.47509134778585 37.99787272209728)\n",
      "POINT (-84.47666438281119 37.99684855070768)\n",
      "POINT (-84.47526336070223 37.99807378103414)\n",
      "POINT (-84.4748667177886 37.99798108613825)\n",
      "POINT (-84.47404603007972 37.99807523482853)\n",
      "POINT (-84.47562565517987 37.99719415466685)\n",
      "POINT (-84.47592430866654 37.99710853731118)\n",
      "POINT (-84.47635516373046 37.99733885313825)\n",
      "POINT (-84.47369854629852 37.99814505464369)\n",
      "POINT (-84.47575974833897 37.9974268539085)\n",
      "POINT (-84.47607392464953 37.99739032914279)\n",
      "POINT (-84.47522623100033 37.99783936306522)\n",
      "POINT (-84.47568800709453 37.99715484053804)\n",
      "POINT (-84.47519332952201 37.99773335831983)\n",
      "POINT (-84.47491556097346 37.99763435478429)\n",
      "POINT (-84.47420838817776 37.99842397978856)\n",
      "POINT (-84.4759846869762 37.99781156131123)\n",
      "POINT (-84.47605207972549 37.99679785937605)\n",
      "POINT (-84.47443779051657 37.99735003734214)\n",
      "POINT (-84.47598154830743 37.99672684171623)\n",
      "POINT (-84.47492000018873 37.99753017027334)\n"
     ]
    }
   ],
   "source": [
    "list_of_points = []\n",
    "counter = 0\n",
    "while counter < 25:\n",
    "    pnt = Point(random.uniform(poly.bounds.minx, poly.bounds.maxx), random.uniform(poly.bounds.miny, poly.bounds.maxy))\n",
    "    if (poly.contains(pnt)).bool():\n",
    "        list_of_points.append(pnt)\n",
    "        counter +=1 \n",
    "        print(pnt)"
   ]
  },
  {
   "cell_type": "markdown",
   "metadata": {},
   "source": [
    "(https://stackoverflow.com/questions/1233546/converting-list-of-tuples-into-a-dictionary)"
   ]
  },
  {
   "cell_type": "code",
   "execution_count": 10,
   "metadata": {},
   "outputs": [
    {
     "name": "stdout",
     "output_type": "stream",
     "text": [
      "{'type': 'Point', 'coordinates': (-84.47453442036391, 37.99755290309878)}\n",
      "{'type': 'Point', 'coordinates': (-84.47399465555196, 37.99808763575956)}\n",
      "{'type': 'Point', 'coordinates': (-84.47427306482054, 37.997536380058776)}\n",
      "{'type': 'Point', 'coordinates': (-84.47583661210662, 37.996878222406345)}\n",
      "{'type': 'Point', 'coordinates': (-84.47509134778585, 37.99787272209728)}\n",
      "{'type': 'Point', 'coordinates': (-84.4766643828112, 37.99684855070768)}\n",
      "{'type': 'Point', 'coordinates': (-84.47526336070223, 37.99807378103414)}\n",
      "{'type': 'Point', 'coordinates': (-84.4748667177886, 37.99798108613825)}\n",
      "{'type': 'Point', 'coordinates': (-84.47404603007972, 37.998075234828534)}\n",
      "{'type': 'Point', 'coordinates': (-84.47562565517987, 37.99719415466685)}\n",
      "{'type': 'Point', 'coordinates': (-84.47592430866654, 37.997108537311185)}\n",
      "{'type': 'Point', 'coordinates': (-84.47635516373046, 37.997338853138245)}\n",
      "{'type': 'Point', 'coordinates': (-84.47369854629852, 37.99814505464369)}\n",
      "{'type': 'Point', 'coordinates': (-84.47575974833897, 37.9974268539085)}\n",
      "{'type': 'Point', 'coordinates': (-84.47607392464953, 37.99739032914279)}\n",
      "{'type': 'Point', 'coordinates': (-84.47522623100033, 37.99783936306522)}\n",
      "{'type': 'Point', 'coordinates': (-84.47568800709453, 37.99715484053804)}\n",
      "{'type': 'Point', 'coordinates': (-84.47519332952201, 37.99773335831983)}\n",
      "{'type': 'Point', 'coordinates': (-84.47491556097346, 37.99763435478429)}\n",
      "{'type': 'Point', 'coordinates': (-84.47420838817776, 37.998423979788555)}\n",
      "{'type': 'Point', 'coordinates': (-84.4759846869762, 37.99781156131123)}\n",
      "{'type': 'Point', 'coordinates': (-84.47605207972549, 37.99679785937605)}\n",
      "{'type': 'Point', 'coordinates': (-84.47443779051657, 37.997350037342144)}\n",
      "{'type': 'Point', 'coordinates': (-84.47598154830743, 37.99672684171623)}\n",
      "{'type': 'Point', 'coordinates': (-84.47492000018873, 37.99753017027334)}\n"
     ]
    }
   ],
   "source": [
    "for geom in list_of_points:\n",
    "    x = mapping(geom)\n",
    "    print (x)"
   ]
  },
  {
   "cell_type": "markdown",
   "metadata": {},
   "source": [
    "### Create a dataframe from the list of dictionaries"
   ]
  },
  {
   "cell_type": "code",
   "execution_count": 11,
   "metadata": {},
   "outputs": [
    {
     "name": "stdout",
     "output_type": "stream",
     "text": [
      "['geometry']\n"
     ]
    }
   ],
   "source": [
    "point_df = pd.DataFrame(list_of_points)\n",
    "point_df.columns = ['geometry']\n",
    "print(point_df.columns.values)"
   ]
  },
  {
   "cell_type": "code",
   "execution_count": 12,
   "metadata": {},
   "outputs": [
    {
     "data": {
      "text/plain": [
       "geopandas.geodataframe.GeoDataFrame"
      ]
     },
     "execution_count": 12,
     "metadata": {},
     "output_type": "execute_result"
    }
   ],
   "source": [
    "geo_df = gpd.GeoDataFrame(point_df, geometry='geometry')\n",
    "type(geo_df)"
   ]
  },
  {
   "cell_type": "code",
   "execution_count": 13,
   "metadata": {},
   "outputs": [
    {
     "data": {
      "image/png": "[encoded data removed]",
      "text/plain": [
       "<Figure size 864x864 with 1 Axes>"
      ]
     },
     "metadata": {
      "needs_background": "light"
     },
     "output_type": "display_data"
    }
   ],
   "source": [
    "ax = geo_df.plot(figsize=(12,12));"
   ]
  },
  {
   "cell_type": "code",
   "execution_count": 20,
   "metadata": {},
   "outputs": [
    {
     "data": {
      "image/png": "[encoded data removed]",
      "text/plain": [
       "<Figure size 864x864 with 1 Axes>"
      ]
     },
     "metadata": {
      "needs_background": "light"
     },
     "output_type": "display_data"
    }
   ],
   "source": [
    "#ax = df1.plot()\n",
    "#df2.plot(ax=ax)\n",
    "\n",
    "ax = my_block.plot(figsize=(12,12))\n",
    "geo_df.plot(ax=ax, markersize=45, color='k');\n"
   ]
  },
  {
   "cell_type": "code",
   "execution_count": null,
   "metadata": {},
   "outputs": [],
   "source": []
  },
  {
   "cell_type": "code",
   "execution_count": null,
   "metadata": {},
   "outputs": [],
   "source": []
  }
 ],
 "metadata": {
  "kernelspec": {
   "display_name": "Python 3",
   "language": "python",
   "name": "python3"
  },
  "language_info": {
   "codemirror_mode": {
    "name": "ipython",
    "version": 3
   },
   "file_extension": ".py",
   "mimetype": "text/x-python",
   "name": "python",
   "nbconvert_exporter": "python",
   "pygments_lexer": "ipython3",
   "version": "3.7.2"
  }
 },
 "nbformat": 4,
 "nbformat_minor": 2
}
