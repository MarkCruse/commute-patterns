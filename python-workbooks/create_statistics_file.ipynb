{
 "cells": [
  {
   "cell_type": "markdown",
   "metadata": {},
   "source": [
    "## Create the Statistics File"
   ]
  },
  {
   "cell_type": "markdown",
   "metadata": {},
   "source": [
    "#### Function - Process the statistics "
   ]
  },
  {
   "cell_type": "code",
   "execution_count": 15,
   "metadata": {},
   "outputs": [],
   "source": [
    "def chunk_process_stats(df):\n",
    "    # create a group of all workplace geoids\n",
    "    #df.drop(['h_geocode'], axis = 1, inplace = True)\n",
    "    df_group = df.groupby(['w_geocode']).sum()\n",
    "    return df_group"
   ]
  },
  {
   "cell_type": "code",
   "execution_count": 16,
   "metadata": {},
   "outputs": [
    {
     "name": "stdout",
     "output_type": "stream",
     "text": [
      "CPU times: user 3.72 ms, sys: 18.6 ms, total: 22.3 ms\n",
      "Wall time: 50.3 ms\n"
     ]
    }
   ],
   "source": [
    "%time df_chunk = pd.read_csv(OD_file, compression='gzip', dtype={'w_geocode': str,'h_geocode':str}, chunksize=10000000)"
   ]
  },
  {
   "cell_type": "code",
   "execution_count": 17,
   "metadata": {},
   "outputs": [
    {
     "name": "stdout",
     "output_type": "stream",
     "text": [
      "Chunk number: 12\n",
      "Length of dataframe: 660,179 \n",
      "\n",
      "Timer: 3 minutes 24 seconds\n",
      "\n",
      "Data group stats complete.\n"
     ]
    }
   ],
   "source": [
    "chunk_num = 1\n",
    "decimals = 0   \n",
    "chunk_stats_list=[]\n",
    "\n",
    "\n",
    "print('Reading in the chunk dataframe')\n",
    "start = timeit.default_timer()\n",
    "for df in df_chunk:\n",
    "    print('Starting processing for chunk #', chunk_num)\n",
    "    # call function to group and filter the data \n",
    "    stats_filter_chunk = chunk_process_stats(df)\n",
    "    # append the filtered data to list\n",
    "    chunk_stats_list.append(stats_filter_chunk)\n",
    "    \n",
    "    # get the current time on timer\n",
    "    stop = timeit.default_timer()\n",
    "    timer = np.array([(stop-start)/60])\n",
    "    min_sec = get_time(timer)\n",
    "    minutes, seconds = min_sec[0], min_sec[1]\n",
    "    \n",
    "    clear_output(wait=True)\n",
    "    print('Chunk number:', chunk_num)\n",
    "    print('Length of dataframe:',\"{:,}\".format(len(stats_filter_chunk)),'\\n')\n",
    "    print('Timer:', minutes, 'minutes', seconds, 'seconds')\n",
    "    chunk_num += 1\n",
    "\n",
    "print('\\nData group stats complete.')"
   ]
  },
  {
   "cell_type": "code",
   "execution_count": null,
   "metadata": {},
   "outputs": [],
   "source": []
  },
  {
   "cell_type": "markdown",
   "metadata": {},
   "source": [
    "#### Create a dataframe from the chunk list"
   ]
  },
  {
   "cell_type": "code",
   "execution_count": 18,
   "metadata": {},
   "outputs": [
    {
     "name": "stdout",
     "output_type": "stream",
     "text": [
      "CPU times: user 205 ms, sys: 100 ms, total: 305 ms\n",
      "Wall time: 328 ms\n",
      "\n",
      "records loaded to dataframe: 2,815,940 \n",
      "\n",
      "\n"
     ]
    },
    {
     "data": {
      "text/html": [
       "<div>\n",
       "<style scoped>\n",
       "    .dataframe tbody tr th:only-of-type {\n",
       "        vertical-align: middle;\n",
       "    }\n",
       "\n",
       "    .dataframe tbody tr th {\n",
       "        vertical-align: top;\n",
       "    }\n",
       "\n",
       "    .dataframe thead th {\n",
       "        text-align: right;\n",
       "    }\n",
       "</style>\n",
       "<table border=\"1\" class=\"dataframe\">\n",
       "  <thead>\n",
       "    <tr style=\"text-align: right;\">\n",
       "      <th></th>\n",
       "      <th>S000</th>\n",
       "      <th>SA01</th>\n",
       "      <th>SA02</th>\n",
       "      <th>SA03</th>\n",
       "      <th>SE01</th>\n",
       "      <th>SE02</th>\n",
       "      <th>SE03</th>\n",
       "      <th>SI01</th>\n",
       "      <th>SI02</th>\n",
       "      <th>SI03</th>\n",
       "    </tr>\n",
       "    <tr>\n",
       "      <th>w_geocode</th>\n",
       "      <th></th>\n",
       "      <th></th>\n",
       "      <th></th>\n",
       "      <th></th>\n",
       "      <th></th>\n",
       "      <th></th>\n",
       "      <th></th>\n",
       "      <th></th>\n",
       "      <th></th>\n",
       "      <th></th>\n",
       "    </tr>\n",
       "  </thead>\n",
       "  <tbody>\n",
       "    <tr>\n",
       "      <th>010010201001000</th>\n",
       "      <td>6</td>\n",
       "      <td>1</td>\n",
       "      <td>3</td>\n",
       "      <td>2</td>\n",
       "      <td>3</td>\n",
       "      <td>3</td>\n",
       "      <td>0</td>\n",
       "      <td>3</td>\n",
       "      <td>0</td>\n",
       "      <td>3</td>\n",
       "    </tr>\n",
       "  </tbody>\n",
       "</table>\n",
       "</div>"
      ],
      "text/plain": [
       "                 S000  SA01  SA02  SA03  SE01  SE02  SE03  SI01  SI02  SI03\n",
       "w_geocode                                                                  \n",
       "010010201001000     6     1     3     2     3     3     0     3     0     3"
      ]
     },
     "execution_count": 18,
     "metadata": {},
     "output_type": "execute_result"
    }
   ],
   "source": [
    "# concat the list into dataframe \n",
    "%time df_concat_stats = pd.concat(chunk_stats_list,ignore_index=False)\n",
    "\n",
    "print ('\\nrecords loaded to dataframe:', \"{:,}\".format(len(df_concat_stats)),'\\n\\n')\n",
    "df_concat_stats.head(1)"
   ]
  },
  {
   "cell_type": "code",
   "execution_count": 19,
   "metadata": {},
   "outputs": [
    {
     "data": {
      "text/html": [
       "<div>\n",
       "<style scoped>\n",
       "    .dataframe tbody tr th:only-of-type {\n",
       "        vertical-align: middle;\n",
       "    }\n",
       "\n",
       "    .dataframe tbody tr th {\n",
       "        vertical-align: top;\n",
       "    }\n",
       "\n",
       "    .dataframe thead th {\n",
       "        text-align: right;\n",
       "    }\n",
       "</style>\n",
       "<table border=\"1\" class=\"dataframe\">\n",
       "  <thead>\n",
       "    <tr style=\"text-align: right;\">\n",
       "      <th></th>\n",
       "      <th>w_geocode</th>\n",
       "      <th>S000</th>\n",
       "      <th>SA01</th>\n",
       "      <th>SA02</th>\n",
       "      <th>SA03</th>\n",
       "      <th>SE01</th>\n",
       "      <th>SE02</th>\n",
       "      <th>SE03</th>\n",
       "      <th>SI01</th>\n",
       "      <th>SI02</th>\n",
       "      <th>SI03</th>\n",
       "    </tr>\n",
       "  </thead>\n",
       "  <tbody>\n",
       "    <tr>\n",
       "      <th>0</th>\n",
       "      <td>010010201001000</td>\n",
       "      <td>6</td>\n",
       "      <td>1</td>\n",
       "      <td>3</td>\n",
       "      <td>2</td>\n",
       "      <td>3</td>\n",
       "      <td>3</td>\n",
       "      <td>0</td>\n",
       "      <td>3</td>\n",
       "      <td>0</td>\n",
       "      <td>3</td>\n",
       "    </tr>\n",
       "    <tr>\n",
       "      <th>1</th>\n",
       "      <td>010010201001016</td>\n",
       "      <td>17</td>\n",
       "      <td>1</td>\n",
       "      <td>13</td>\n",
       "      <td>3</td>\n",
       "      <td>5</td>\n",
       "      <td>1</td>\n",
       "      <td>11</td>\n",
       "      <td>0</td>\n",
       "      <td>0</td>\n",
       "      <td>17</td>\n",
       "    </tr>\n",
       "    <tr>\n",
       "      <th>2</th>\n",
       "      <td>010010201001018</td>\n",
       "      <td>24</td>\n",
       "      <td>3</td>\n",
       "      <td>12</td>\n",
       "      <td>9</td>\n",
       "      <td>0</td>\n",
       "      <td>12</td>\n",
       "      <td>12</td>\n",
       "      <td>17</td>\n",
       "      <td>7</td>\n",
       "      <td>0</td>\n",
       "    </tr>\n",
       "    <tr>\n",
       "      <th>3</th>\n",
       "      <td>010010201001022</td>\n",
       "      <td>267</td>\n",
       "      <td>23</td>\n",
       "      <td>167</td>\n",
       "      <td>77</td>\n",
       "      <td>67</td>\n",
       "      <td>66</td>\n",
       "      <td>134</td>\n",
       "      <td>0</td>\n",
       "      <td>0</td>\n",
       "      <td>267</td>\n",
       "    </tr>\n",
       "    <tr>\n",
       "      <th>4</th>\n",
       "      <td>010010201001023</td>\n",
       "      <td>6</td>\n",
       "      <td>2</td>\n",
       "      <td>1</td>\n",
       "      <td>3</td>\n",
       "      <td>1</td>\n",
       "      <td>3</td>\n",
       "      <td>2</td>\n",
       "      <td>0</td>\n",
       "      <td>0</td>\n",
       "      <td>6</td>\n",
       "    </tr>\n",
       "  </tbody>\n",
       "</table>\n",
       "</div>"
      ],
      "text/plain": [
       "         w_geocode  S000  SA01  SA02  SA03  SE01  SE02  SE03  SI01  SI02  SI03\n",
       "0  010010201001000     6     1     3     2     3     3     0     3     0     3\n",
       "1  010010201001016    17     1    13     3     5     1    11     0     0    17\n",
       "2  010010201001018    24     3    12     9     0    12    12    17     7     0\n",
       "3  010010201001022   267    23   167    77    67    66   134     0     0   267\n",
       "4  010010201001023     6     2     1     3     1     3     2     0     0     6"
      ]
     },
     "execution_count": 19,
     "metadata": {},
     "output_type": "execute_result"
    }
   ],
   "source": [
    "df_concat_stats.reset_index(drop=False, inplace=True)\n",
    "df_concat_stats.head()"
   ]
  },
  {
   "cell_type": "markdown",
   "metadata": {},
   "source": [
    "#### Group the concatentated dataframe"
   ]
  },
  {
   "cell_type": "code",
   "execution_count": 20,
   "metadata": {},
   "outputs": [
    {
     "name": "stdout",
     "output_type": "stream",
     "text": [
      "\n",
      "records loaded to dataframe: 2,085,972 \n",
      "\n",
      "\n"
     ]
    }
   ],
   "source": [
    "df_group = df_concat_stats.groupby(['w_geocode']).sum()\n",
    "print ('\\nrecords loaded to dataframe:', \"{:,}\".format(len(df_group)),'\\n\\n')"
   ]
  },
  {
   "cell_type": "markdown",
   "metadata": {},
   "source": [
    "#### Add centroid info for the work block location"
   ]
  },
  {
   "cell_type": "code",
   "execution_count": 21,
   "metadata": {},
   "outputs": [
    {
     "name": "stdout",
     "output_type": "stream",
     "text": [
      "\n",
      "records in dataframe: 2,085,972 \n",
      "\n",
      "records in dataframe with 1000+ employees: 17,355 \n",
      "\n",
      "\n"
     ]
    },
    {
     "data": {
      "text/html": [
       "<div>\n",
       "<style scoped>\n",
       "    .dataframe tbody tr th:only-of-type {\n",
       "        vertical-align: middle;\n",
       "    }\n",
       "\n",
       "    .dataframe tbody tr th {\n",
       "        vertical-align: top;\n",
       "    }\n",
       "\n",
       "    .dataframe thead th {\n",
       "        text-align: right;\n",
       "    }\n",
       "</style>\n",
       "<table border=\"1\" class=\"dataframe\">\n",
       "  <thead>\n",
       "    <tr style=\"text-align: right;\">\n",
       "      <th></th>\n",
       "      <th>w_geocode</th>\n",
       "      <th>S000</th>\n",
       "      <th>SA01</th>\n",
       "      <th>SA02</th>\n",
       "      <th>SA03</th>\n",
       "      <th>SE01</th>\n",
       "      <th>SE02</th>\n",
       "      <th>SE03</th>\n",
       "      <th>SI01</th>\n",
       "      <th>SI02</th>\n",
       "      <th>SI03</th>\n",
       "      <th>w_lat</th>\n",
       "      <th>w_lon</th>\n",
       "    </tr>\n",
       "  </thead>\n",
       "  <tbody>\n",
       "    <tr>\n",
       "      <th>0</th>\n",
       "      <td>010010205001001</td>\n",
       "      <td>1100</td>\n",
       "      <td>536</td>\n",
       "      <td>426</td>\n",
       "      <td>138</td>\n",
       "      <td>534</td>\n",
       "      <td>412</td>\n",
       "      <td>154</td>\n",
       "      <td>13</td>\n",
       "      <td>540</td>\n",
       "      <td>547</td>\n",
       "      <td>32.45674</td>\n",
       "      <td>-86.415025</td>\n",
       "    </tr>\n",
       "  </tbody>\n",
       "</table>\n",
       "</div>"
      ],
      "text/plain": [
       "         w_geocode  S000  SA01  SA02  SA03  SE01  SE02  SE03  SI01  SI02  \\\n",
       "0  010010205001001  1100   536   426   138   534   412   154    13   540   \n",
       "\n",
       "   SI03     w_lat      w_lon  \n",
       "0   547  32.45674 -86.415025  "
      ]
     },
     "execution_count": 21,
     "metadata": {},
     "output_type": "execute_result"
    }
   ],
   "source": [
    "# load the centroid file\n",
    "centroids = pd.read_csv(block_file, dtype={'block_geoid': 'object', 'lat': 'float', 'lon': 'float'})\n",
    "# merge the centroid data frame with the grouped dataframe\n",
    "merge_result = pd.merge(df_group, centroids,left_on=  ['w_geocode'],right_on= ['block_geoid'],how = 'left')\n",
    "#merge_result.drop(['block_geoid'], axis=1, inplace=True)\n",
    "merge_result.rename(columns={'block_geoid': 'w_geocode', 'lat': 'w_lat', 'lon': 'w_lon'}, inplace=True)\n",
    "merge_result = merge_result[['w_geocode','S000','SA01','SA02','SA03','SE01','SE02','SE03','SI01','SI02','SI03','w_lat','w_lon']]\n",
    "print ('\\nrecords in dataframe:', \"{:,}\".format(len(merge_result)),'\\n')\n",
    "df_stats = merge_result[(merge_result['S000'] >= 1000)]\n",
    "print ('records in dataframe with 1000+ employees:', \"{:,}\".format(len(df_stats)),'\\n\\n')\n",
    "df_stats.reset_index(drop=True, inplace=True)\n",
    "df_stats.head(1)"
   ]
  },
  {
   "cell_type": "markdown",
   "metadata": {},
   "source": [
    "#### Are there any nulls?"
   ]
  },
  {
   "cell_type": "code",
   "execution_count": 22,
   "metadata": {},
   "outputs": [
    {
     "name": "stdout",
     "output_type": "stream",
     "text": [
      "\n",
      "the number of null records: 122 \n",
      "\n",
      "\n"
     ]
    },
    {
     "data": {
      "text/html": [
       "<div>\n",
       "<style scoped>\n",
       "    .dataframe tbody tr th:only-of-type {\n",
       "        vertical-align: middle;\n",
       "    }\n",
       "\n",
       "    .dataframe tbody tr th {\n",
       "        vertical-align: top;\n",
       "    }\n",
       "\n",
       "    .dataframe thead th {\n",
       "        text-align: right;\n",
       "    }\n",
       "</style>\n",
       "<table border=\"1\" class=\"dataframe\">\n",
       "  <thead>\n",
       "    <tr style=\"text-align: right;\">\n",
       "      <th></th>\n",
       "      <th>w_geocode</th>\n",
       "      <th>S000</th>\n",
       "      <th>SA01</th>\n",
       "      <th>SA02</th>\n",
       "      <th>SA03</th>\n",
       "      <th>SE01</th>\n",
       "      <th>SE02</th>\n",
       "      <th>SE03</th>\n",
       "      <th>SI01</th>\n",
       "      <th>SI02</th>\n",
       "      <th>SI03</th>\n",
       "      <th>w_lat</th>\n",
       "      <th>w_lon</th>\n",
       "    </tr>\n",
       "  </thead>\n",
       "  <tbody>\n",
       "    <tr>\n",
       "      <th>179</th>\n",
       "      <td>NaN</td>\n",
       "      <td>1530</td>\n",
       "      <td>257</td>\n",
       "      <td>924</td>\n",
       "      <td>349</td>\n",
       "      <td>599</td>\n",
       "      <td>522</td>\n",
       "      <td>409</td>\n",
       "      <td>1189</td>\n",
       "      <td>308</td>\n",
       "      <td>33</td>\n",
       "      <td>NaN</td>\n",
       "      <td>NaN</td>\n",
       "    </tr>\n",
       "    <tr>\n",
       "      <th>180</th>\n",
       "      <td>NaN</td>\n",
       "      <td>1042</td>\n",
       "      <td>161</td>\n",
       "      <td>551</td>\n",
       "      <td>330</td>\n",
       "      <td>581</td>\n",
       "      <td>312</td>\n",
       "      <td>149</td>\n",
       "      <td>956</td>\n",
       "      <td>49</td>\n",
       "      <td>37</td>\n",
       "      <td>NaN</td>\n",
       "      <td>NaN</td>\n",
       "    </tr>\n",
       "    <tr>\n",
       "      <th>181</th>\n",
       "      <td>NaN</td>\n",
       "      <td>1572</td>\n",
       "      <td>819</td>\n",
       "      <td>585</td>\n",
       "      <td>168</td>\n",
       "      <td>563</td>\n",
       "      <td>789</td>\n",
       "      <td>220</td>\n",
       "      <td>4</td>\n",
       "      <td>1056</td>\n",
       "      <td>512</td>\n",
       "      <td>NaN</td>\n",
       "      <td>NaN</td>\n",
       "    </tr>\n",
       "    <tr>\n",
       "      <th>182</th>\n",
       "      <td>NaN</td>\n",
       "      <td>2857</td>\n",
       "      <td>300</td>\n",
       "      <td>1854</td>\n",
       "      <td>703</td>\n",
       "      <td>85</td>\n",
       "      <td>330</td>\n",
       "      <td>2442</td>\n",
       "      <td>46</td>\n",
       "      <td>6</td>\n",
       "      <td>2805</td>\n",
       "      <td>NaN</td>\n",
       "      <td>NaN</td>\n",
       "    </tr>\n",
       "    <tr>\n",
       "      <th>183</th>\n",
       "      <td>NaN</td>\n",
       "      <td>1937</td>\n",
       "      <td>273</td>\n",
       "      <td>1163</td>\n",
       "      <td>501</td>\n",
       "      <td>45</td>\n",
       "      <td>143</td>\n",
       "      <td>1749</td>\n",
       "      <td>1328</td>\n",
       "      <td>0</td>\n",
       "      <td>609</td>\n",
       "      <td>NaN</td>\n",
       "      <td>NaN</td>\n",
       "    </tr>\n",
       "  </tbody>\n",
       "</table>\n",
       "</div>"
      ],
      "text/plain": [
       "    w_geocode  S000  SA01  SA02  SA03  SE01  SE02  SE03  SI01  SI02  SI03  \\\n",
       "179       NaN  1530   257   924   349   599   522   409  1189   308    33   \n",
       "180       NaN  1042   161   551   330   581   312   149   956    49    37   \n",
       "181       NaN  1572   819   585   168   563   789   220     4  1056   512   \n",
       "182       NaN  2857   300  1854   703    85   330  2442    46     6  2805   \n",
       "183       NaN  1937   273  1163   501    45   143  1749  1328     0   609   \n",
       "\n",
       "     w_lat  w_lon  \n",
       "179    NaN    NaN  \n",
       "180    NaN    NaN  \n",
       "181    NaN    NaN  \n",
       "182    NaN    NaN  \n",
       "183    NaN    NaN  "
      ]
     },
     "execution_count": 22,
     "metadata": {},
     "output_type": "execute_result"
    }
   ],
   "source": [
    "df_null = df_stats[df_stats.isnull().any(axis=1)]\n",
    "print ('\\nthe number of null records:', \"{:,}\".format(len(df_null)),'\\n\\n')\n",
    "df_null.head()"
   ]
  },
  {
   "cell_type": "markdown",
   "metadata": {},
   "source": [
    "#### Remove rows with any nulls"
   ]
  },
  {
   "cell_type": "code",
   "execution_count": 23,
   "metadata": {},
   "outputs": [
    {
     "data": {
      "text/html": [
       "<div>\n",
       "<style scoped>\n",
       "    .dataframe tbody tr th:only-of-type {\n",
       "        vertical-align: middle;\n",
       "    }\n",
       "\n",
       "    .dataframe tbody tr th {\n",
       "        vertical-align: top;\n",
       "    }\n",
       "\n",
       "    .dataframe thead th {\n",
       "        text-align: right;\n",
       "    }\n",
       "</style>\n",
       "<table border=\"1\" class=\"dataframe\">\n",
       "  <thead>\n",
       "    <tr style=\"text-align: right;\">\n",
       "      <th></th>\n",
       "      <th>w_geocode</th>\n",
       "      <th>S000</th>\n",
       "      <th>SA01</th>\n",
       "      <th>SA02</th>\n",
       "      <th>SA03</th>\n",
       "      <th>SE01</th>\n",
       "      <th>SE02</th>\n",
       "      <th>SE03</th>\n",
       "      <th>SI01</th>\n",
       "      <th>SI02</th>\n",
       "      <th>SI03</th>\n",
       "      <th>w_lat</th>\n",
       "      <th>w_lon</th>\n",
       "    </tr>\n",
       "  </thead>\n",
       "  <tbody>\n",
       "    <tr>\n",
       "      <th>0</th>\n",
       "      <td>010010205001001</td>\n",
       "      <td>1100</td>\n",
       "      <td>536</td>\n",
       "      <td>426</td>\n",
       "      <td>138</td>\n",
       "      <td>534</td>\n",
       "      <td>412</td>\n",
       "      <td>154</td>\n",
       "      <td>13</td>\n",
       "      <td>540</td>\n",
       "      <td>547</td>\n",
       "      <td>32.456740</td>\n",
       "      <td>-86.415025</td>\n",
       "    </tr>\n",
       "    <tr>\n",
       "      <th>1</th>\n",
       "      <td>010030107032109</td>\n",
       "      <td>1009</td>\n",
       "      <td>498</td>\n",
       "      <td>406</td>\n",
       "      <td>105</td>\n",
       "      <td>517</td>\n",
       "      <td>332</td>\n",
       "      <td>160</td>\n",
       "      <td>0</td>\n",
       "      <td>584</td>\n",
       "      <td>425</td>\n",
       "      <td>30.667644</td>\n",
       "      <td>-87.849564</td>\n",
       "    </tr>\n",
       "    <tr>\n",
       "      <th>2</th>\n",
       "      <td>010030112023027</td>\n",
       "      <td>1088</td>\n",
       "      <td>173</td>\n",
       "      <td>656</td>\n",
       "      <td>259</td>\n",
       "      <td>93</td>\n",
       "      <td>413</td>\n",
       "      <td>582</td>\n",
       "      <td>0</td>\n",
       "      <td>0</td>\n",
       "      <td>1088</td>\n",
       "      <td>30.518815</td>\n",
       "      <td>-87.888250</td>\n",
       "    </tr>\n",
       "    <tr>\n",
       "      <th>3</th>\n",
       "      <td>010030115021041</td>\n",
       "      <td>1280</td>\n",
       "      <td>560</td>\n",
       "      <td>522</td>\n",
       "      <td>198</td>\n",
       "      <td>719</td>\n",
       "      <td>397</td>\n",
       "      <td>164</td>\n",
       "      <td>0</td>\n",
       "      <td>805</td>\n",
       "      <td>475</td>\n",
       "      <td>30.372959</td>\n",
       "      <td>-87.684560</td>\n",
       "    </tr>\n",
       "    <tr>\n",
       "      <th>4</th>\n",
       "      <td>010059505002038</td>\n",
       "      <td>1448</td>\n",
       "      <td>432</td>\n",
       "      <td>793</td>\n",
       "      <td>223</td>\n",
       "      <td>105</td>\n",
       "      <td>1020</td>\n",
       "      <td>323</td>\n",
       "      <td>1448</td>\n",
       "      <td>0</td>\n",
       "      <td>0</td>\n",
       "      <td>31.801006</td>\n",
       "      <td>-85.332896</td>\n",
       "    </tr>\n",
       "  </tbody>\n",
       "</table>\n",
       "</div>"
      ],
      "text/plain": [
       "         w_geocode  S000  SA01  SA02  SA03  SE01  SE02  SE03  SI01  SI02  \\\n",
       "0  010010205001001  1100   536   426   138   534   412   154    13   540   \n",
       "1  010030107032109  1009   498   406   105   517   332   160     0   584   \n",
       "2  010030112023027  1088   173   656   259    93   413   582     0     0   \n",
       "3  010030115021041  1280   560   522   198   719   397   164     0   805   \n",
       "4  010059505002038  1448   432   793   223   105  1020   323  1448     0   \n",
       "\n",
       "   SI03      w_lat      w_lon  \n",
       "0   547  32.456740 -86.415025  \n",
       "1   425  30.667644 -87.849564  \n",
       "2  1088  30.518815 -87.888250  \n",
       "3   475  30.372959 -87.684560  \n",
       "4     0  31.801006 -85.332896  "
      ]
     },
     "execution_count": 23,
     "metadata": {},
     "output_type": "execute_result"
    }
   ],
   "source": [
    "df_stats_clean = df_stats.dropna(how='any')\n",
    "df_null = df_stats[df_stats.isnull().any(axis=1)]\n",
    "df_stats_clean.head()"
   ]
  },
  {
   "cell_type": "code",
   "execution_count": 24,
   "metadata": {},
   "outputs": [],
   "source": [
    "outputZip2 = 'od_stats.csv.gz'"
   ]
  },
  {
   "cell_type": "code",
   "execution_count": 25,
   "metadata": {},
   "outputs": [],
   "source": [
    "out_Zip = ODpath.joinpath(outputZip2)"
   ]
  },
  {
   "cell_type": "code",
   "execution_count": 26,
   "metadata": {},
   "outputs": [
    {
     "name": "stdout",
     "output_type": "stream",
     "text": [
      "CPU times: user 640 ms, sys: 68.4 ms, total: 709 ms\n",
      "Wall time: 957 ms\n"
     ]
    }
   ],
   "source": [
    "%time df_stats_clean.to_csv(out_Zip, compression='gzip', index=False)"
   ]
  },
  {
   "cell_type": "code",
   "execution_count": null,
   "metadata": {},
   "outputs": [],
   "source": []
  }
 ],
 "metadata": {
  "kernelspec": {
   "display_name": "Python 3",
   "language": "python",
   "name": "python3"
  },
  "language_info": {
   "codemirror_mode": {
    "name": "ipython",
    "version": 3
   },
   "file_extension": ".py",
   "mimetype": "text/x-python",
   "name": "python",
   "nbconvert_exporter": "python",
   "pygments_lexer": "ipython3",
   "version": "3.7.0"
  }
 },
 "nbformat": 4,
 "nbformat_minor": 2
}
