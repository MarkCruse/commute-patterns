{
 "cells": [
  {
   "cell_type": "markdown",
   "metadata": {},
   "source": [
    "## Compare Dask dataframe to Pandas dataframe"
   ]
  },
  {
   "cell_type": "code",
   "execution_count": 1,
   "metadata": {},
   "outputs": [],
   "source": [
    "import dask.dataframe as dd\n",
    "import pandas as pd\n",
    "import os"
   ]
  },
  {
   "cell_type": "code",
   "execution_count": 2,
   "metadata": {},
   "outputs": [
    {
     "name": "stdout",
     "output_type": "stream",
     "text": [
      "filesize: 16478536649 KB\n"
     ]
    }
   ],
   "source": [
    "print ('filesize:' ,os.path.getsize('single_file_polygons.csv'), 'KB')"
   ]
  },
  {
   "cell_type": "code",
   "execution_count": 3,
   "metadata": {},
   "outputs": [],
   "source": [
    "filename = 'single_file_polygons.csv'"
   ]
  },
  {
   "cell_type": "markdown",
   "metadata": {},
   "source": [
    "### Load CSV data to Pandas dataframe"
   ]
  },
  {
   "cell_type": "code",
   "execution_count": 4,
   "metadata": {},
   "outputs": [
    {
     "name": "stdout",
     "output_type": "stream",
     "text": [
      "Wall time: 2min 22s\n"
     ]
    }
   ],
   "source": [
    "%time pd_df = pd.read_csv(filename, dtype='str')"
   ]
  },
  {
   "cell_type": "code",
   "execution_count": 5,
   "metadata": {},
   "outputs": [
    {
     "data": {
      "text/html": [
       "<div>\n",
       "<style scoped>\n",
       "    .dataframe tbody tr th:only-of-type {\n",
       "        vertical-align: middle;\n",
       "    }\n",
       "\n",
       "    .dataframe tbody tr th {\n",
       "        vertical-align: top;\n",
       "    }\n",
       "\n",
       "    .dataframe thead th {\n",
       "        text-align: right;\n",
       "    }\n",
       "</style>\n",
       "<table border=\"1\" class=\"dataframe\">\n",
       "  <thead>\n",
       "    <tr style=\"text-align: right;\">\n",
       "      <th></th>\n",
       "      <th>GEOID10</th>\n",
       "      <th>geometry</th>\n",
       "    </tr>\n",
       "  </thead>\n",
       "  <tbody>\n",
       "    <tr>\n",
       "      <th>11166331</th>\n",
       "      <td>780309610001003</td>\n",
       "      <td>POLYGON ((-64.94630000000001 18.34073, -64.946...</td>\n",
       "    </tr>\n",
       "    <tr>\n",
       "      <th>11166332</th>\n",
       "      <td>780309608001006</td>\n",
       "      <td>POLYGON ((-64.96974399999999 18.353771, -64.96...</td>\n",
       "    </tr>\n",
       "    <tr>\n",
       "      <th>11166333</th>\n",
       "      <td>780309612002017</td>\n",
       "      <td>POLYGON ((-64.92904799999999 18.342978, -64.92...</td>\n",
       "    </tr>\n",
       "    <tr>\n",
       "      <th>11166334</th>\n",
       "      <td>780109705002006</td>\n",
       "      <td>POLYGON ((-64.758572 17.740839, -64.75856 17.7...</td>\n",
       "    </tr>\n",
       "    <tr>\n",
       "      <th>11166335</th>\n",
       "      <td>780109704001050</td>\n",
       "      <td>POLYGON ((-64.72993 17.72733, -64.729738 17.72...</td>\n",
       "    </tr>\n",
       "  </tbody>\n",
       "</table>\n",
       "</div>"
      ],
      "text/plain": [
       "                  GEOID10                                           geometry\n",
       "11166331  780309610001003  POLYGON ((-64.94630000000001 18.34073, -64.946...\n",
       "11166332  780309608001006  POLYGON ((-64.96974399999999 18.353771, -64.96...\n",
       "11166333  780309612002017  POLYGON ((-64.92904799999999 18.342978, -64.92...\n",
       "11166334  780109705002006  POLYGON ((-64.758572 17.740839, -64.75856 17.7...\n",
       "11166335  780109704001050  POLYGON ((-64.72993 17.72733, -64.729738 17.72..."
      ]
     },
     "execution_count": 5,
     "metadata": {},
     "output_type": "execute_result"
    }
   ],
   "source": [
    "pd_df.tail()"
   ]
  },
  {
   "cell_type": "code",
   "execution_count": 6,
   "metadata": {},
   "outputs": [
    {
     "name": "stdout",
     "output_type": "stream",
     "text": [
      "<class 'pandas.core.frame.DataFrame'>\n",
      "RangeIndex: 11166336 entries, 0 to 11166335\n",
      "Data columns (total 2 columns):\n",
      "GEOID10     object\n",
      "geometry    object\n",
      "dtypes: object(2)\n",
      "memory usage: 170.4+ MB\n"
     ]
    }
   ],
   "source": [
    "pd_df.info()"
   ]
  },
  {
   "cell_type": "markdown",
   "metadata": {},
   "source": [
    "### Load CSV data to Dask dataframe"
   ]
  },
  {
   "cell_type": "code",
   "execution_count": 7,
   "metadata": {},
   "outputs": [
    {
     "name": "stdout",
     "output_type": "stream",
     "text": [
      "Wall time: 53.2 ms\n"
     ]
    }
   ],
   "source": [
    "%time dask_df = dd.read_csv(filename, dtype='str')"
   ]
  },
  {
   "cell_type": "code",
   "execution_count": 8,
   "metadata": {},
   "outputs": [
    {
     "name": "stdout",
     "output_type": "stream",
     "text": [
      "<class 'dask.dataframe.core.DataFrame'>\n",
      "Columns: 2 entries, GEOID10 to geometry\n",
      "dtypes: object(2)"
     ]
    }
   ],
   "source": [
    "dask_df.info()"
   ]
  },
  {
   "cell_type": "code",
   "execution_count": 10,
   "metadata": {},
   "outputs": [
    {
     "data": {
      "text/html": [
       "<div>\n",
       "<style scoped>\n",
       "    .dataframe tbody tr th:only-of-type {\n",
       "        vertical-align: middle;\n",
       "    }\n",
       "\n",
       "    .dataframe tbody tr th {\n",
       "        vertical-align: top;\n",
       "    }\n",
       "\n",
       "    .dataframe thead th {\n",
       "        text-align: right;\n",
       "    }\n",
       "</style>\n",
       "<table border=\"1\" class=\"dataframe\">\n",
       "  <thead>\n",
       "    <tr style=\"text-align: right;\">\n",
       "      <th></th>\n",
       "      <th>GEOID10</th>\n",
       "      <th>geometry</th>\n",
       "    </tr>\n",
       "  </thead>\n",
       "  <tbody>\n",
       "    <tr>\n",
       "      <th>33288</th>\n",
       "      <td>780309610001003</td>\n",
       "      <td>POLYGON ((-64.94630000000001 18.34073, -64.946...</td>\n",
       "    </tr>\n",
       "    <tr>\n",
       "      <th>33289</th>\n",
       "      <td>780309608001006</td>\n",
       "      <td>POLYGON ((-64.96974399999999 18.353771, -64.96...</td>\n",
       "    </tr>\n",
       "    <tr>\n",
       "      <th>33290</th>\n",
       "      <td>780309612002017</td>\n",
       "      <td>POLYGON ((-64.92904799999999 18.342978, -64.92...</td>\n",
       "    </tr>\n",
       "    <tr>\n",
       "      <th>33291</th>\n",
       "      <td>780109705002006</td>\n",
       "      <td>POLYGON ((-64.758572 17.740839, -64.75856 17.7...</td>\n",
       "    </tr>\n",
       "    <tr>\n",
       "      <th>33292</th>\n",
       "      <td>780109704001050</td>\n",
       "      <td>POLYGON ((-64.72993 17.72733, -64.729738 17.72...</td>\n",
       "    </tr>\n",
       "  </tbody>\n",
       "</table>\n",
       "</div>"
      ],
      "text/plain": [
       "               GEOID10                                           geometry\n",
       "33288  780309610001003  POLYGON ((-64.94630000000001 18.34073, -64.946...\n",
       "33289  780309608001006  POLYGON ((-64.96974399999999 18.353771, -64.96...\n",
       "33290  780309612002017  POLYGON ((-64.92904799999999 18.342978, -64.92...\n",
       "33291  780109705002006  POLYGON ((-64.758572 17.740839, -64.75856 17.7...\n",
       "33292  780109704001050  POLYGON ((-64.72993 17.72733, -64.729738 17.72..."
      ]
     },
     "execution_count": 10,
     "metadata": {},
     "output_type": "execute_result"
    }
   ],
   "source": [
    "dask_df.tail()"
   ]
  },
  {
   "cell_type": "markdown",
   "metadata": {},
   "source": [
    "_Info Sources:_   \n",
    "&nbsp;&nbsp;&nbsp;&nbsp;&nbsp;&nbsp;[Dask – A better way to work with large CSV files in Python](https://pythondata.com/dask-large-csv-python/)  \n",
    "&nbsp;&nbsp;&nbsp;&nbsp;&nbsp;&nbsp;[Ultimate guide to handle Big Datasets for Machine Learning using Dask (in Python)](https://www.analyticsvidhya.com/blog/2018/08/dask-big-datasets-machine_learning-python/)"
   ]
  },
  {
   "cell_type": "code",
   "execution_count": null,
   "metadata": {},
   "outputs": [],
   "source": []
  }
 ],
 "metadata": {
  "kernelspec": {
   "display_name": "Python 3",
   "language": "python",
   "name": "python3"
  },
  "language_info": {
   "codemirror_mode": {
    "name": "ipython",
    "version": 3
   },
   "file_extension": ".py",
   "mimetype": "text/x-python",
   "name": "python",
   "nbconvert_exporter": "python",
   "pygments_lexer": "ipython3",
   "version": "3.7.0"
  }
 },
 "nbformat": 4,
 "nbformat_minor": 2
}
