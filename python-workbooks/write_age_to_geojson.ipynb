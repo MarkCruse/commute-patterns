{
 "cells": [
  {
   "cell_type": "markdown",
   "metadata": {},
   "source": [
    "## Create the Earnings JSON data for Tiles"
   ]
  },
  {
   "cell_type": "code",
   "execution_count": 1,
   "metadata": {},
   "outputs": [],
   "source": [
    "import pandas as pd\n",
    "import geopandas as gp\n",
    "import fiona\n",
    "import shapely.geometry as geom\n",
    "\n",
    "from pathlib import Path"
   ]
  },
  {
   "cell_type": "markdown",
   "metadata": {},
   "source": [
    "#### Locate file needed for processing"
   ]
  },
  {
   "cell_type": "code",
   "execution_count": 2,
   "metadata": {},
   "outputs": [
    {
     "name": "stdout",
     "output_type": "stream",
     "text": [
      "OD file exist\n"
     ]
    }
   ],
   "source": [
    "ODpath = Path(\"../data/OD/\")\n",
    "OD_file = ODpath.joinpath(\"od_distance_1k-15k_15-60_miles.csv\")\n",
    "if OD_file.exists ():\n",
    "    print (\"OD file exist\")\n",
    "else:\n",
    "    print (\"OD file does not exist\")\n",
    "    "
   ]
  },
  {
   "cell_type": "markdown",
   "metadata": {},
   "source": [
    "#### Read file"
   ]
  },
  {
   "cell_type": "code",
   "execution_count": 3,
   "metadata": {},
   "outputs": [
    {
     "name": "stdout",
     "output_type": "stream",
     "text": [
      "\n",
      "The number of records: 8,383,570 \n",
      "\n",
      "\n"
     ]
    },
    {
     "data": {
      "text/html": [
       "<div>\n",
       "<style scoped>\n",
       "    .dataframe tbody tr th:only-of-type {\n",
       "        vertical-align: middle;\n",
       "    }\n",
       "\n",
       "    .dataframe tbody tr th {\n",
       "        vertical-align: top;\n",
       "    }\n",
       "\n",
       "    .dataframe thead th {\n",
       "        text-align: right;\n",
       "    }\n",
       "</style>\n",
       "<table border=\"1\" class=\"dataframe\">\n",
       "  <thead>\n",
       "    <tr style=\"text-align: right;\">\n",
       "      <th></th>\n",
       "      <th>w_geocode</th>\n",
       "      <th>h_geocode</th>\n",
       "      <th>distance</th>\n",
       "      <th>S000</th>\n",
       "      <th>SA01</th>\n",
       "      <th>SA02</th>\n",
       "      <th>SA03</th>\n",
       "      <th>SE01</th>\n",
       "      <th>SE02</th>\n",
       "      <th>SE03</th>\n",
       "      <th>SI01</th>\n",
       "      <th>SI02</th>\n",
       "      <th>SI03</th>\n",
       "      <th>w_lat</th>\n",
       "      <th>w_lon</th>\n",
       "      <th>h_lat</th>\n",
       "      <th>h_lon</th>\n",
       "      <th>state</th>\n",
       "      <th>w_group_count</th>\n",
       "    </tr>\n",
       "  </thead>\n",
       "  <tbody>\n",
       "    <tr>\n",
       "      <th>0</th>\n",
       "      <td>020200007023012</td>\n",
       "      <td>020200001011055</td>\n",
       "      <td>31749</td>\n",
       "      <td>2</td>\n",
       "      <td>1</td>\n",
       "      <td>0</td>\n",
       "      <td>1</td>\n",
       "      <td>0</td>\n",
       "      <td>2</td>\n",
       "      <td>0</td>\n",
       "      <td>0</td>\n",
       "      <td>1</td>\n",
       "      <td>1</td>\n",
       "      <td>61.212</td>\n",
       "      <td>-149.742</td>\n",
       "      <td>61.436</td>\n",
       "      <td>-149.375</td>\n",
       "      <td>2</td>\n",
       "      <td>1548</td>\n",
       "    </tr>\n",
       "    <tr>\n",
       "      <th>1</th>\n",
       "      <td>020200007023012</td>\n",
       "      <td>020200001012050</td>\n",
       "      <td>28342</td>\n",
       "      <td>1</td>\n",
       "      <td>0</td>\n",
       "      <td>0</td>\n",
       "      <td>1</td>\n",
       "      <td>1</td>\n",
       "      <td>0</td>\n",
       "      <td>0</td>\n",
       "      <td>0</td>\n",
       "      <td>1</td>\n",
       "      <td>0</td>\n",
       "      <td>61.212</td>\n",
       "      <td>-149.742</td>\n",
       "      <td>61.411</td>\n",
       "      <td>-149.414</td>\n",
       "      <td>2</td>\n",
       "      <td>1548</td>\n",
       "    </tr>\n",
       "    <tr>\n",
       "      <th>2</th>\n",
       "      <td>020200007023012</td>\n",
       "      <td>020200001012064</td>\n",
       "      <td>27888</td>\n",
       "      <td>1</td>\n",
       "      <td>0</td>\n",
       "      <td>1</td>\n",
       "      <td>0</td>\n",
       "      <td>0</td>\n",
       "      <td>1</td>\n",
       "      <td>0</td>\n",
       "      <td>0</td>\n",
       "      <td>0</td>\n",
       "      <td>1</td>\n",
       "      <td>61.212</td>\n",
       "      <td>-149.742</td>\n",
       "      <td>61.413</td>\n",
       "      <td>-149.431</td>\n",
       "      <td>2</td>\n",
       "      <td>1548</td>\n",
       "    </tr>\n",
       "  </tbody>\n",
       "</table>\n",
       "</div>"
      ],
      "text/plain": [
       "         w_geocode        h_geocode  distance  S000  SA01  SA02  SA03  SE01  \\\n",
       "0  020200007023012  020200001011055     31749     2     1     0     1     0   \n",
       "1  020200007023012  020200001012050     28342     1     0     0     1     1   \n",
       "2  020200007023012  020200001012064     27888     1     0     1     0     0   \n",
       "\n",
       "   SE02  SE03  SI01  SI02  SI03   w_lat    w_lon   h_lat    h_lon  state  \\\n",
       "0     2     0     0     1     1  61.212 -149.742  61.436 -149.375      2   \n",
       "1     0     0     0     1     0  61.212 -149.742  61.411 -149.414      2   \n",
       "2     1     0     0     0     1  61.212 -149.742  61.413 -149.431      2   \n",
       "\n",
       "  w_group_count  \n",
       "0          1548  \n",
       "1          1548  \n",
       "2          1548  "
      ]
     },
     "execution_count": 3,
     "metadata": {},
     "output_type": "execute_result"
    }
   ],
   "source": [
    "df = pd.read_csv(OD_file, dtype={'w_geocode': str,'h_geocode':str, 'w_group_count':str})\n",
    "\n",
    "print ('\\nThe number of records:', \"{:,}\".format(len(df)),'\\n\\n')\n",
    "\n",
    "df.head(3)"
   ]
  },
  {
   "cell_type": "markdown",
   "metadata": {},
   "source": [
    "#### Create a LineString geometry"
   ]
  },
  {
   "cell_type": "code",
   "execution_count": 4,
   "metadata": {},
   "outputs": [
    {
     "name": "stdout",
     "output_type": "stream",
     "text": [
      "\n",
      "LineString geometries created.\n"
     ]
    }
   ],
   "source": [
    "df['geometry'] = df.apply(lambda x: geom.LineString([(x['w_lon'], x['w_lat'] ), (x['h_lon'],x['h_lat'])]), axis = 1)\n",
    "print ('\\nLineString geometries created.')"
   ]
  },
  {
   "cell_type": "markdown",
   "metadata": {},
   "source": [
    "#### Drop unecessary columns"
   ]
  },
  {
   "cell_type": "code",
   "execution_count": 5,
   "metadata": {},
   "outputs": [
    {
     "data": {
      "text/html": [
       "<div>\n",
       "<style scoped>\n",
       "    .dataframe tbody tr th:only-of-type {\n",
       "        vertical-align: middle;\n",
       "    }\n",
       "\n",
       "    .dataframe tbody tr th {\n",
       "        vertical-align: top;\n",
       "    }\n",
       "\n",
       "    .dataframe thead th {\n",
       "        text-align: right;\n",
       "    }\n",
       "</style>\n",
       "<table border=\"1\" class=\"dataframe\">\n",
       "  <thead>\n",
       "    <tr style=\"text-align: right;\">\n",
       "      <th></th>\n",
       "      <th>w_geocode</th>\n",
       "      <th>distance</th>\n",
       "      <th>S000</th>\n",
       "      <th>SA01</th>\n",
       "      <th>SA02</th>\n",
       "      <th>SA03</th>\n",
       "      <th>SE01</th>\n",
       "      <th>SE02</th>\n",
       "      <th>SE03</th>\n",
       "      <th>SI01</th>\n",
       "      <th>SI02</th>\n",
       "      <th>SI03</th>\n",
       "      <th>geometry</th>\n",
       "    </tr>\n",
       "  </thead>\n",
       "  <tbody>\n",
       "    <tr>\n",
       "      <th>0</th>\n",
       "      <td>020200007023012</td>\n",
       "      <td>31749</td>\n",
       "      <td>2</td>\n",
       "      <td>1</td>\n",
       "      <td>0</td>\n",
       "      <td>1</td>\n",
       "      <td>0</td>\n",
       "      <td>2</td>\n",
       "      <td>0</td>\n",
       "      <td>0</td>\n",
       "      <td>1</td>\n",
       "      <td>1</td>\n",
       "      <td>LINESTRING (-149.742 61.212, -149.375 61.43600...</td>\n",
       "    </tr>\n",
       "    <tr>\n",
       "      <th>1</th>\n",
       "      <td>020200007023012</td>\n",
       "      <td>28342</td>\n",
       "      <td>1</td>\n",
       "      <td>0</td>\n",
       "      <td>0</td>\n",
       "      <td>1</td>\n",
       "      <td>1</td>\n",
       "      <td>0</td>\n",
       "      <td>0</td>\n",
       "      <td>0</td>\n",
       "      <td>1</td>\n",
       "      <td>0</td>\n",
       "      <td>LINESTRING (-149.742 61.212, -149.414 61.411)</td>\n",
       "    </tr>\n",
       "    <tr>\n",
       "      <th>2</th>\n",
       "      <td>020200007023012</td>\n",
       "      <td>27888</td>\n",
       "      <td>1</td>\n",
       "      <td>0</td>\n",
       "      <td>1</td>\n",
       "      <td>0</td>\n",
       "      <td>0</td>\n",
       "      <td>1</td>\n",
       "      <td>0</td>\n",
       "      <td>0</td>\n",
       "      <td>0</td>\n",
       "      <td>1</td>\n",
       "      <td>LINESTRING (-149.742 61.212, -149.431 61.413)</td>\n",
       "    </tr>\n",
       "  </tbody>\n",
       "</table>\n",
       "</div>"
      ],
      "text/plain": [
       "         w_geocode  distance  S000  SA01  SA02  SA03  SE01  SE02  SE03  SI01  \\\n",
       "0  020200007023012     31749     2     1     0     1     0     2     0     0   \n",
       "1  020200007023012     28342     1     0     0     1     1     0     0     0   \n",
       "2  020200007023012     27888     1     0     1     0     0     1     0     0   \n",
       "\n",
       "   SI02  SI03                                           geometry  \n",
       "0     1     1  LINESTRING (-149.742 61.212, -149.375 61.43600...  \n",
       "1     1     0      LINESTRING (-149.742 61.212, -149.414 61.411)  \n",
       "2     0     1      LINESTRING (-149.742 61.212, -149.431 61.413)  "
      ]
     },
     "execution_count": 5,
     "metadata": {},
     "output_type": "execute_result"
    }
   ],
   "source": [
    "df.drop(['h_geocode', 'h_lat', 'h_lon', 'w_group_count', 'w_lat', 'w_lon', 'state'],axis=1, inplace=True)\n",
    "\n",
    "df.head(3)"
   ]
  },
  {
   "cell_type": "markdown",
   "metadata": {},
   "source": [
    "#### Build DataFrames & Process based on distance of commute"
   ]
  },
  {
   "cell_type": "code",
   "execution_count": 6,
   "metadata": {},
   "outputs": [
    {
     "name": "stdout",
     "output_type": "stream",
     "text": [
      "\n",
      "The number of records age1_short: 519,869\n",
      "The number of records age1_medium: 492,882\n",
      "The number of records age1_long:  606,181\n",
      "\n",
      "The number of records age2_short: 1,738,074\n",
      "The number of records age2_medium: 1,666,285\n",
      "The number of recordsage2_long:  1,749,646\n",
      "\n",
      "The number of records age3_short: 657,255\n",
      "The number of records age3_medium: 613,549\n",
      "The number of records age3_long:  665,189\n"
     ]
    }
   ],
   "source": [
    "df_age1 = df[df['SA01'] >= 1].copy()\n",
    "age1_short = df_age1[(df_age1['distance'] < 32000)]\n",
    "age1_med = df_age1[((df_age1['distance'] >= 32000) & (df_age1['distance'] < 46000))]\n",
    "age1_long = df_age1[(df_age1['distance'] >= 46000)]\n",
    "print ('\\nThe number of records age1_short:', \"{:,}\".format(len(age1_short)))\n",
    "print ('The number of records age1_medium:', \"{:,}\".format(len(age1_med)))\n",
    "print ('The number of records age1_long: ', \"{:,}\".format(len(age1_long)))\n",
    "\n",
    "df_age2 = df[df['SA02'] >= 1].copy()\n",
    "age2_short = df_age2[(df_age2['distance'] < 32000)]\n",
    "age2_med = df_age2[((df_age2['distance'] >= 32000) & (df_age2['distance'] < 46000))]\n",
    "age2_long = df_age2[(df_age2['distance'] >= 46000)]\n",
    "print ('\\nThe number of records age2_short:', \"{:,}\".format(len(age2_short)))\n",
    "print ('The number of records age2_medium:', \"{:,}\".format(len(age2_med)))\n",
    "print ('The number of recordsage2_long: ', \"{:,}\".format(len(age2_long)))\n",
    "\n",
    "df_age3 = df[df['SA03'] >= 1].copy()\n",
    "age3_short = df_age3[(df_age3['distance'] < 32000)]\n",
    "age3_med = df_age3[((df_age3['distance'] >= 32000) & (df_age3['distance'] < 46000))]\n",
    "age3_long = df_age3[(df_age3['distance'] >= 46000)]\n",
    "print ('\\nThe number of records age3_short:', \"{:,}\".format(len(age3_short)))\n",
    "print ('The number of records age3_medium:', \"{:,}\".format(len(age3_med)))\n",
    "print ('The number of records age3_long: ', \"{:,}\".format(len(age3_long)))"
   ]
  },
  {
   "cell_type": "markdown",
   "metadata": {},
   "source": [
    "#### Remove the unneeded columns"
   ]
  },
  {
   "cell_type": "code",
   "execution_count": 7,
   "metadata": {},
   "outputs": [],
   "source": [
    "df_age1.drop(['distance', 'S000','SA01','SA02','SA03','SE01','SE02','SE03','SI01','SI02','SI03'],axis=1, inplace=True)\n",
    "df_age2.drop(['distance', 'S000','SA01','SA02','SA03','SE01','SE02','SE03','SI01','SI02','SI03'],axis=1, inplace=True)\n",
    "df_age3.drop(['distance', 'S000','SA01','SA02','SA03','SE01','SE02','SE03','SI01','SI02','SI03'],axis=1, inplace=True)"
   ]
  },
  {
   "cell_type": "markdown",
   "metadata": {},
   "source": [
    "#### Write the GeoDataFrames to JSON"
   ]
  },
  {
   "cell_type": "code",
   "execution_count": 8,
   "metadata": {},
   "outputs": [
    {
     "name": "stdout",
     "output_type": "stream",
     "text": [
      "\n",
      "The number of records written to age1_short geo dataframe: 519,869\n",
      "\n",
      "The number of records written to age1_medium geo dataframe: 492,882\n",
      "\n",
      "The number of records written to age1_long geo dataframe: 606,181\n"
     ]
    }
   ],
   "source": [
    "gdf_age1_short = gp.GeoDataFrame(age1_short, geometry='geometry')\n",
    "gdf_age1_medium = gp.GeoDataFrame(age1_med, geometry='geometry')\n",
    "gdf_age1_long = gp.GeoDataFrame(age1_long, geometry='geometry')\n",
    "output = 'age1_short.json'\n",
    "out_path_file = ODpath.joinpath(output)\n",
    "gdf_age1_short.to_file(out_path_file, ageex=None, driver='GeoJSON')\n",
    "\n",
    "print ('\\nThe number of records written to age1_short geo dataframe:', \"{:,}\".format(len(gdf_age1_short)))\n",
    "output = 'age1_medium.json'\n",
    "out_path_file = ODpath.joinpath(output)\n",
    "gdf_age1_medium.to_file(out_path_file, ageex=None, driver='GeoJSON')\n",
    "print ('\\nThe number of records written to age1_medium geo dataframe:', \"{:,}\".format(len(gdf_age1_medium)))\n",
    "output = 'age1_long.json'\n",
    "out_path_file = ODpath.joinpath(output)\n",
    "gdf_age1_long.to_file(out_path_file, ageex=None, driver='GeoJSON')\n",
    "print ('\\nThe number of records written to age1_long geo dataframe:', \"{:,}\".format(len(gdf_age1_long)))"
   ]
  },
  {
   "cell_type": "code",
   "execution_count": 9,
   "metadata": {},
   "outputs": [
    {
     "name": "stdout",
     "output_type": "stream",
     "text": [
      "\n",
      "The number of records written to age2_short geo dataframe: 1,738,074\n",
      "\n",
      "The number of records written to age2_medium geo dataframe: 1,666,285\n",
      "\n",
      "The number of records written to age2_long geo dataframe: 1,749,646\n"
     ]
    }
   ],
   "source": [
    "gdf_age2_short = gp.GeoDataFrame(age2_short, geometry='geometry')\n",
    "gdf_age2_medium = gp.GeoDataFrame(age2_med, geometry='geometry')\n",
    "gdf_age2_long = gp.GeoDataFrame(age2_long, geometry='geometry')\n",
    "output = 'age2_short.json'\n",
    "out_path_file = ODpath.joinpath(output)\n",
    "gdf_age2_short.to_file(out_path_file, ageex=None, driver='GeoJSON')\n",
    "print ('\\nThe number of records written to age2_short geo dataframe:', \"{:,}\".format(len(gdf_age2_short)))\n",
    "output = 'age2_medium.json'\n",
    "out_path_file = ODpath.joinpath(output)\n",
    "gdf_age2_medium.to_file(out_path_file, ageex=None, driver='GeoJSON')\n",
    "print ('\\nThe number of records written to age2_medium geo dataframe:', \"{:,}\".format(len(gdf_age2_medium)))\n",
    "output = 'age2_long.json'\n",
    "out_path_file = ODpath.joinpath(output)\n",
    "gdf_age2_long.to_file(out_path_file, ageex=None, driver='GeoJSON')\n",
    "print ('\\nThe number of records written to age2_long geo dataframe:', \"{:,}\".format(len(gdf_age2_long)))"
   ]
  },
  {
   "cell_type": "code",
   "execution_count": 10,
   "metadata": {},
   "outputs": [
    {
     "name": "stdout",
     "output_type": "stream",
     "text": [
      "\n",
      "The number of record written to age3_short geo dataframe: 657,255\n",
      "\n",
      "The number of records written to age3_medium geo dataframe: 613,549\n",
      "\n",
      "The number of records written to age3_long geo dataframe: 665,189\n"
     ]
    }
   ],
   "source": [
    "gdf_age3_short = gp.GeoDataFrame(age3_short, geometry='geometry')\n",
    "gdf_age3_medium = gp.GeoDataFrame(age3_med, geometry='geometry')\n",
    "gdf_age3_long = gp.GeoDataFrame(age3_long, geometry='geometry')\n",
    "output = 'age3_short.json'\n",
    "out_path_file = ODpath.joinpath(output)\n",
    "gdf_age3_short.to_file(out_path_file, ageex=None, driver='GeoJSON')\n",
    "print ('\\nThe number of record written to age3_short geo dataframe:', \"{:,}\".format(len(gdf_age3_short)))\n",
    "output = 'age3_medium.json'\n",
    "out_path_file = ODpath.joinpath(output)\n",
    "gdf_age3_medium.to_file(out_path_file, ageex=None, driver='GeoJSON')\n",
    "print ('\\nThe number of records written to age3_medium geo dataframe:', \"{:,}\".format(len(gdf_age3_medium)))\n",
    "output = 'age3_long.json'\n",
    "out_path_file = ODpath.joinpath(output)\n",
    "gdf_age3_long.to_file(out_path_file, ageex=None, driver='GeoJSON')\n",
    "print ('\\nThe number of records written to age3_long geo dataframe:', \"{:,}\".format(len(gdf_age3_long)))"
   ]
  }
 ],
 "metadata": {
  "kernelspec": {
   "display_name": "Python 3",
   "language": "python",
   "name": "python3"
  },
  "language_info": {
   "codemirror_mode": {
    "name": "ipython",
    "version": 3
   },
   "file_extension": ".py",
   "mimetype": "text/x-python",
   "name": "python",
   "nbconvert_exporter": "python",
   "pygments_lexer": "ipython3",
   "version": "3.7.2"
  }
 },
 "nbformat": 4,
 "nbformat_minor": 2
}
