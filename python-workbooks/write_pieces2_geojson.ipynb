{
 "cells": [
  {
   "cell_type": "code",
   "execution_count": 1,
   "metadata": {},
   "outputs": [],
   "source": [
    "import pandas as pd\n",
    "import geopandas as gp\n",
    "import fiona\n",
    "import shapely.geometry as geom\n",
    "\n",
    "from pathlib import Path"
   ]
  },
  {
   "cell_type": "markdown",
   "metadata": {},
   "source": [
    "#### Create the ??\\_od_distance\\_1000\\_plus.csv file first using \"write_state_csv.ipynb\""
   ]
  },
  {
   "cell_type": "code",
   "execution_count": 2,
   "metadata": {},
   "outputs": [
    {
     "name": "stdout",
     "output_type": "stream",
     "text": [
      "OD file exist\n"
     ]
    }
   ],
   "source": [
    "ODpath = Path(\"../data/OD/\")\n",
    "OD_file = ODpath.joinpath(\"od_distance_1k-15k_15-60_miles.csv\")\n",
    "if OD_file.exists ():\n",
    "    print (\"OD file exist\")\n",
    "else:\n",
    "    print (\"OD file does not exist\")\n",
    "    "
   ]
  },
  {
   "cell_type": "code",
   "execution_count": 3,
   "metadata": {},
   "outputs": [
    {
     "name": "stdout",
     "output_type": "stream",
     "text": [
      "\n",
      "The number of records: 8,385,215 \n",
      "\n",
      "\n"
     ]
    }
   ],
   "source": [
    "df = pd.read_csv(OD_file, dtype={'w_geocode': str,'h_geocode':str, 'w_group_count':str})\n",
    "\n",
    "print ('\\nThe number of records:', \"{:,}\".format(len(df)),'\\n\\n')"
   ]
  },
  {
   "cell_type": "markdown",
   "metadata": {},
   "source": [
    "#### Create a LineString geometry, Drop home location columns"
   ]
  },
  {
   "cell_type": "code",
   "execution_count": null,
   "metadata": {},
   "outputs": [],
   "source": [
    "df['geometry'] = df.apply(lambda x: geom.LineString([(x['w_lon'], x['w_lat'] ), (x['h_lon'],x['h_lat'])]), axis = 1)\n",
    "\n",
    "df.drop(['h_lat', 'h_lon', 'w_group_count', 'w_lat', 'w_lon'],axis=1, inplace=True)\n",
    "\n",
    "df.head(3)"
   ]
  },
  {
   "cell_type": "markdown",
   "metadata": {},
   "source": [
    "#### Build Age DataFrames & Process to geoDataFrames"
   ]
  },
  {
   "cell_type": "code",
   "execution_count": 12,
   "metadata": {},
   "outputs": [
    {
     "name": "stdout",
     "output_type": "stream",
     "text": [
      "\n",
      "The number of records: 1,618,594 \n",
      "\n",
      "\n"
     ]
    }
   ],
   "source": [
    "age1 = df[df['SA01'] >= 1 ]\n",
    "\n",
    "print ('\\nThe number of records:', \"{:,}\".format(len(age1)),'\\n\\n')"
   ]
  },
  {
   "cell_type": "code",
   "execution_count": 28,
   "metadata": {},
   "outputs": [
    {
     "name": "stdout",
     "output_type": "stream",
     "text": [
      "\n",
      "The number of records: 519,278 \n",
      "\n",
      "\n"
     ]
    }
   ],
   "source": [
    "age1_short = df[(df['SA01'] >= 1) & (df['distance'] < 32000)]\n",
    "\n",
    "print ('\\nThe number of records:', \"{:,}\".format(len(age1_short)),'\\n\\n')"
   ]
  },
  {
   "cell_type": "code",
   "execution_count": 29,
   "metadata": {},
   "outputs": [
    {
     "name": "stdout",
     "output_type": "stream",
     "text": [
      "\n",
      "The number of records: 492,892 \n",
      "\n",
      "\n"
     ]
    }
   ],
   "source": [
    "age1_med = df[(df['SA01'] >= 1) & ((df['distance'] >= 32000) & (df['distance'] < 46000))]\n",
    "\n",
    "print ('\\nThe number of records:', \"{:,}\".format(len(age1_med)),'\\n\\n')"
   ]
  },
  {
   "cell_type": "code",
   "execution_count": 30,
   "metadata": {},
   "outputs": [
    {
     "name": "stdout",
     "output_type": "stream",
     "text": [
      "\n",
      "The number of records: 606,424 \n",
      "\n",
      "\n"
     ]
    }
   ],
   "source": [
    "age1_long = df[(df['SA01'] >= 1) & (df['distance'] >= 46000)]\n",
    "\n",
    "print ('\\nThe number of records:', \"{:,}\".format(len(age1_long)),'\\n\\n')"
   ]
  },
  {
   "cell_type": "code",
   "execution_count": 35,
   "metadata": {},
   "outputs": [
    {
     "data": {
      "text/html": [
       "<div>\n",
       "<style scoped>\n",
       "    .dataframe tbody tr th:only-of-type {\n",
       "        vertical-align: middle;\n",
       "    }\n",
       "\n",
       "    .dataframe tbody tr th {\n",
       "        vertical-align: top;\n",
       "    }\n",
       "\n",
       "    .dataframe thead th {\n",
       "        text-align: right;\n",
       "    }\n",
       "</style>\n",
       "<table border=\"1\" class=\"dataframe\">\n",
       "  <thead>\n",
       "    <tr style=\"text-align: right;\">\n",
       "      <th></th>\n",
       "      <th>geometry</th>\n",
       "    </tr>\n",
       "  </thead>\n",
       "  <tbody>\n",
       "    <tr>\n",
       "      <th>1</th>\n",
       "      <td>LINESTRING (-86.41500000000001 32.457, -86.572...</td>\n",
       "    </tr>\n",
       "    <tr>\n",
       "      <th>2</th>\n",
       "      <td>LINESTRING (-86.41500000000001 32.457, -86.581...</td>\n",
       "    </tr>\n",
       "    <tr>\n",
       "      <th>7</th>\n",
       "      <td>LINESTRING (-86.41500000000001 32.457, -86.486...</td>\n",
       "    </tr>\n",
       "    <tr>\n",
       "      <th>8</th>\n",
       "      <td>LINESTRING (-86.41500000000001 32.457, -86.474...</td>\n",
       "    </tr>\n",
       "    <tr>\n",
       "      <th>11</th>\n",
       "      <td>LINESTRING (-86.41500000000001 32.457, -86.691...</td>\n",
       "    </tr>\n",
       "  </tbody>\n",
       "</table>\n",
       "</div>"
      ],
      "text/plain": [
       "                                             geometry\n",
       "1   LINESTRING (-86.41500000000001 32.457, -86.572...\n",
       "2   LINESTRING (-86.41500000000001 32.457, -86.581...\n",
       "7   LINESTRING (-86.41500000000001 32.457, -86.486...\n",
       "8   LINESTRING (-86.41500000000001 32.457, -86.474...\n",
       "11  LINESTRING (-86.41500000000001 32.457, -86.691..."
      ]
     },
     "execution_count": 35,
     "metadata": {},
     "output_type": "execute_result"
    }
   ],
   "source": [
    "age1_shorts = age1_short.drop(['S000', 'SA01', 'SA02', 'SA03', 'SE01', 'SE02', 'SE03', 'SI01', 'SI02', 'SI03','w_geocode', 'h_geocode','state','distance'],axis=1)"
   ]
  },
  {
   "cell_type": "code",
   "execution_count": 37,
   "metadata": {},
   "outputs": [],
   "source": [
    "gdf_age1_short = gp.GeoDataFrame(age1_shorts, geometry='geometry')"
   ]
  },
  {
   "cell_type": "code",
   "execution_count": 38,
   "metadata": {},
   "outputs": [
    {
     "name": "stdout",
     "output_type": "stream",
     "text": [
      "\n",
      "The number of written to age1_short.json : 519,278 \n",
      "\n",
      "\n"
     ]
    }
   ],
   "source": [
    "output = 'age1_short.json'\n",
    "out_path_file = ODpath.joinpath(output)\n",
    "gdf_age1_short.to_file(out_path_file, index=None, driver='GeoJSON')\n",
    "print ('\\nThe number of written to',output,':', \"{:,}\".format(len(gdf_age1_short)),'\\n\\n')"
   ]
  },
  {
   "cell_type": "code",
   "execution_count": 39,
   "metadata": {},
   "outputs": [
    {
     "name": "stdout",
     "output_type": "stream",
     "text": [
      "\n",
      "The number of written to age1_short.csv : 519,278 \n",
      "\n",
      "\n"
     ]
    }
   ],
   "source": [
    "output = 'age1_short.csv'\n",
    "out_path_file = ODpath.joinpath(output)\n",
    "age1_shorts.to_csv(out_path_file, index=None)\n",
    "print ('\\nThe number of written to',output,':', \"{:,}\".format(len(gdf_age1_short)),'\\n\\n')"
   ]
  },
  {
   "cell_type": "code",
   "execution_count": 24,
   "metadata": {},
   "outputs": [],
   "source": [
    "age1_meds = age1_med.(['geometry'],axis=1)\n",
    "age1_longs = age1_long.drop(['S000', 'SA01', 'SA02', 'SA03', 'SE01', 'SE02', 'SE03', 'SI01', 'SI02', 'SI03'],axis=1)\n"
   ]
  },
  {
   "cell_type": "code",
   "execution_count": 25,
   "metadata": {},
   "outputs": [],
   "source": [
    "gdf_age1_medium = gp.GeoDataFrame(age1_meds, geometry='geometry')\n",
    "gdf_age1_long = gp.GeoDataFrame(age1_longs, geometry='geometry')"
   ]
  },
  {
   "cell_type": "code",
   "execution_count": 26,
   "metadata": {},
   "outputs": [
    {
     "name": "stderr",
     "output_type": "stream",
     "text": [
      "C:\\Users\\mdcr226\\AppData\\Local\\Continuum\\anaconda3\\envs\\sandbox\\lib\\site-packages\\geopandas\\io\\file.py:108: FionaDeprecationWarning: Use fiona.Env() instead.\n",
      "  with fiona.drivers():\n"
     ]
    },
    {
     "name": "stdout",
     "output_type": "stream",
     "text": [
      "\n",
      "The number of written to age1_short.json : 519,278 \n",
      "\n",
      "\n",
      "\n",
      "The number of written to age1_medium.json : 492,892 \n",
      "\n",
      "\n",
      "\n",
      "The number of written to age1_long.json : 606,424 \n",
      "\n",
      "\n"
     ]
    }
   ],
   "source": [
    "output = 'age1_medium.json'\n",
    "out_path_file = ODpath.joinpath(output)\n",
    "gdf_age1_medium.to_file(out_path_file, index=None, driver='GeoJSON')\n",
    "print ('\\nThe number of written to',output,':', \"{:,}\".format(len(gdf_age1_medium)),'\\n\\n')\n",
    "\n",
    "output = 'age1_long.json'\n",
    "out_path_file = ODpath.joinpath(output)\n",
    "gdf_age1_long.to_file(out_path_file, index=None, driver='GeoJSON')\n",
    "print ('\\nThe number of written to',output,':', \"{:,}\".format(len(gdf_age1_long)),'\\n\\n')\n",
    " \n",
    " "
   ]
  },
  {
   "cell_type": "code",
   "execution_count": 34,
   "metadata": {},
   "outputs": [
    {
     "data": {
      "text/html": [
       "<div>\n",
       "<style scoped>\n",
       "    .dataframe tbody tr th:only-of-type {\n",
       "        vertical-align: middle;\n",
       "    }\n",
       "\n",
       "    .dataframe tbody tr th {\n",
       "        vertical-align: top;\n",
       "    }\n",
       "\n",
       "    .dataframe thead th {\n",
       "        text-align: right;\n",
       "    }\n",
       "</style>\n",
       "<table border=\"1\" class=\"dataframe\">\n",
       "  <thead>\n",
       "    <tr style=\"text-align: right;\">\n",
       "      <th></th>\n",
       "      <th>w_geocode</th>\n",
       "      <th>h_geocode</th>\n",
       "      <th>distance</th>\n",
       "      <th>state</th>\n",
       "      <th>geometry</th>\n",
       "    </tr>\n",
       "  </thead>\n",
       "  <tbody>\n",
       "    <tr>\n",
       "      <th>10</th>\n",
       "      <td>010010205001001</td>\n",
       "      <td>010010210002037</td>\n",
       "      <td>34627</td>\n",
       "      <td>1</td>\n",
       "      <td>LINESTRING (-86.41500000000001 32.457, -86.687...</td>\n",
       "    </tr>\n",
       "    <tr>\n",
       "      <th>17</th>\n",
       "      <td>010010205001001</td>\n",
       "      <td>010010211002037</td>\n",
       "      <td>35901</td>\n",
       "      <td>1</td>\n",
       "      <td>LINESTRING (-86.41500000000001 32.457, -86.795...</td>\n",
       "    </tr>\n",
       "    <tr>\n",
       "      <th>40</th>\n",
       "      <td>010010205001001</td>\n",
       "      <td>010210601014019</td>\n",
       "      <td>44321</td>\n",
       "      <td>1</td>\n",
       "      <td>LINESTRING (-86.41500000000001 32.457, -86.598...</td>\n",
       "    </tr>\n",
       "    <tr>\n",
       "      <th>51</th>\n",
       "      <td>010010205001001</td>\n",
       "      <td>010210606001001</td>\n",
       "      <td>43608</td>\n",
       "      <td>1</td>\n",
       "      <td>LINESTRING (-86.41500000000001 32.457, -86.672...</td>\n",
       "    </tr>\n",
       "    <tr>\n",
       "      <th>52</th>\n",
       "      <td>010010205001001</td>\n",
       "      <td>010210606001026</td>\n",
       "      <td>41422</td>\n",
       "      <td>1</td>\n",
       "      <td>LINESTRING (-86.41500000000001 32.457, -86.702...</td>\n",
       "    </tr>\n",
       "  </tbody>\n",
       "</table>\n",
       "</div>"
      ],
      "text/plain": [
       "          w_geocode        h_geocode  distance  state  \\\n",
       "10  010010205001001  010010210002037     34627      1   \n",
       "17  010010205001001  010010211002037     35901      1   \n",
       "40  010010205001001  010210601014019     44321      1   \n",
       "51  010010205001001  010210606001001     43608      1   \n",
       "52  010010205001001  010210606001026     41422      1   \n",
       "\n",
       "                                             geometry  \n",
       "10  LINESTRING (-86.41500000000001 32.457, -86.687...  \n",
       "17  LINESTRING (-86.41500000000001 32.457, -86.795...  \n",
       "40  LINESTRING (-86.41500000000001 32.457, -86.598...  \n",
       "51  LINESTRING (-86.41500000000001 32.457, -86.672...  \n",
       "52  LINESTRING (-86.41500000000001 32.457, -86.702...  "
      ]
     },
     "execution_count": 34,
     "metadata": {},
     "output_type": "execute_result"
    }
   ],
   "source": [
    "gdf_age1_medium.head()"
   ]
  },
  {
   "cell_type": "code",
   "execution_count": 5,
   "metadata": {},
   "outputs": [
    {
     "name": "stdout",
     "output_type": "stream",
     "text": [
      "\n",
      "The number of records: 1,618,594 \n",
      "\n",
      "\n",
      "\n",
      "The number of records: 5,154,289 \n",
      "\n",
      "\n",
      "\n",
      "The number of records: 1,935,850 \n",
      "\n",
      "\n",
      "\n",
      "The number of records in geo dataframe: 1,618,594 \n",
      "\n",
      "\n",
      "\n",
      "The number of records in geo dataframe: 5,154,289 \n",
      "\n",
      "\n",
      "\n",
      "The number of records in geo dataframe: 1,935,850 \n",
      "\n",
      "\n"
     ]
    },
    {
     "name": "stderr",
     "output_type": "stream",
     "text": [
      "C:\\Users\\mdcr226\\AppData\\Local\\Continuum\\anaconda3\\envs\\sandbox\\lib\\site-packages\\geopandas\\io\\file.py:108: FionaDeprecationWarning: Use fiona.Env() instead.\n",
      "  with fiona.drivers():\n"
     ]
    }
   ],
   "source": [
    "age2 = df[df['SA02'] >= 1]\n",
    "\n",
    "age3 = df[df['SA03'] >= 1]\n",
    "\n",
    "gdf_age1 = gp.GeoDataFrame(age1, geometry='geometry')\n",
    "\n",
    "gdf_age2 = gp.GeoDataFrame(age2, geometry='geometry')\n",
    "\n",
    "gdf_age3 = gp.GeoDataFrame(age3, geometry='geometry')\n",
    "\n",
    "output = 'age1_1k-15k_15-60_miles.json'\n",
    "out_path_file = ODpath.joinpath(output)\n",
    "gdf_age1.to_file(out_path_file, index=None, driver='GeoJSON')\n",
    "print ('\\nThe number of written to',output,':', \"{:,}\".format(len(gdf_age1)),'\\n\\n')\n",
    "\n",
    "output = 'age2_1k-15k_15-60_miles.json'\n",
    "out_path_file = ODpath.joinpath(output)\n",
    "gdf_age2.to_file(out_path_file, index=None, driver='GeoJSON')\n",
    "print ('\\nThe number of written to',output,':', \"{:,}\".format(len(gdf_age2)),'\\n\\n')\n",
    "\n",
    "output = 'age3_1k-15k_15-60_miles.json'\n",
    "out_path_file = ODpath.joinpath(output)\n",
    "print ('\\nThe number of written to',output,':', \"{:,}\".format(len(gdf_age3)),'\\n\\n')"
   ]
  },
  {
   "cell_type": "code",
   "execution_count": null,
   "metadata": {},
   "outputs": [],
   "source": []
  },
  {
   "cell_type": "markdown",
   "metadata": {},
   "source": [
    "#### Build Earnings DataFrames & Process to geoDataFrames"
   ]
  },
  {
   "cell_type": "code",
   "execution_count": 6,
   "metadata": {},
   "outputs": [
    {
     "name": "stdout",
     "output_type": "stream",
     "text": [
      "\n",
      "The number of records in geo dataframe: 1,029,826 \n",
      "\n",
      "\n",
      "The number of records in geo dataframe: 2,232,490 \n",
      "\n",
      "\n",
      "The number of records in geo dataframe: 5,363,354 \n",
      "\n"
     ]
    }
   ],
   "source": [
    "earn1 = df[df['SE01'] >= 1]\n",
    "\n",
    "earn2 = df[df['SE02'] >= 1]\n",
    "\n",
    "earn3 = df[df['SE03'] >= 1]\n",
    "\n",
    "gdf_earn1 = gp.GeoDataFrame(earn1, geometry='geometry')\n",
    "print ('\\nThe number of records in geo dataframe:', \"{:,}\".format(len(gdf_earn1)),'\\n')\n",
    "\n",
    "gdf_earn2 = gp.GeoDataFrame(earn2, geometry='geometry')\n",
    "print ('\\nThe number of records in geo dataframe:', \"{:,}\".format(len(gdf_earn2)),'\\n')\n",
    "\n",
    "gdf_earn3 = gp.GeoDataFrame(earn3, geometry='geometry')\n",
    "print ('\\nThe number of records in geo dataframe:', \"{:,}\".format(len(gdf_earn3)),'\\n')\n",
    "\n",
    "output = 'earn1_1k-15k_15-60_miles.json'\n",
    "out_path_file = ODpath.joinpath(output)\n",
    "gdf_earn1.to_file(out_path_file, index=None, driver='GeoJSON')\n",
    "\n",
    "output = 'earn2_1k-15k_15-60_miles.json'\n",
    "out_path_file = ODpath.joinpath(output)\n",
    "gdf_earn2.to_file(out_path_file, index=None, driver='GeoJSON')\n",
    "\n",
    "output = 'earn3_1k-15k_15-60_miles.json'\n",
    "out_path_file = ODpath.joinpath(output)\n",
    "gdf_earn3.to_file(out_path_file, index=None, driver='GeoJSON')"
   ]
  },
  {
   "cell_type": "markdown",
   "metadata": {},
   "source": [
    "#### Build Industry DataFrames & Process to geoDataFrames"
   ]
  },
  {
   "cell_type": "code",
   "execution_count": 7,
   "metadata": {},
   "outputs": [
    {
     "name": "stdout",
     "output_type": "stream",
     "text": [
      "\n",
      "The number of records in geo dataframe: 1,183,526 \n",
      "\n",
      "\n",
      "The number of records in geo dataframe: 1,347,376 \n",
      "\n",
      "\n",
      "The number of records in geo dataframe: 5,928,661 \n",
      "\n"
     ]
    }
   ],
   "source": [
    "ind1 = df[df['SI01'] >= 1]\n",
    "\n",
    "ind2 = df[df['SI02'] >= 1]\n",
    "\n",
    "ind3 = df[df['SI03'] >= 1]\n",
    "\n",
    "gdf_ind1 = gp.GeoDataFrame(ind1, geometry='geometry')\n",
    "print ('\\nThe number of records in geo dataframe:', \"{:,}\".format(len(gdf_ind1)),'\\n')\n",
    "\n",
    "gdf_ind2 = gp.GeoDataFrame(ind2, geometry='geometry')\n",
    "print ('\\nThe number of records in geo dataframe:', \"{:,}\".format(len(gdf_ind2)),'\\n')\n",
    "\n",
    "gdf_ind3 = gp.GeoDataFrame(ind3, geometry='geometry')\n",
    "print ('\\nThe number of records in geo dataframe:', \"{:,}\".format(len(gdf_ind3)),'\\n')\n",
    "\n",
    "output = 'ind1_1k-15k_15-60_miles.json'\n",
    "out_path_file = ODpath.joinpath(output)\n",
    "gdf_ind1.to_file(out_path_file, index=None, driver='GeoJSON')\n",
    "\n",
    "output = 'ind2_1k-15k_15-60_miles.json'\n",
    "out_path_file = ODpath.joinpath(output)\n",
    "gdf_ind2.to_file(out_path_file, index=None, driver='GeoJSON')\n",
    "\n",
    "output = 'ind3_1k-15k_15-60_miles.json'\n",
    "out_path_file = ODpath.joinpath(output)\n",
    "gdf_ind3.to_file(out_path_file, index=None, driver='GeoJSON')"
   ]
  },
  {
   "cell_type": "code",
   "execution_count": 8,
   "metadata": {},
   "outputs": [
    {
     "name": "stdout",
     "output_type": "stream",
     "text": [
      "\n",
      "The number of written to ind3_1k-15k_15-60_miles.json : 5,928,661 \n",
      "\n",
      "\n"
     ]
    }
   ],
   "source": [
    "\n",
    "print ('\\nThe number of written to',output,':', \"{:,}\".format(len(gdf_ind3)),'\\n\\n')"
   ]
  },
  {
   "cell_type": "code",
   "execution_count": null,
   "metadata": {},
   "outputs": [],
   "source": []
  }
 ],
 "metadata": {
  "kernelspec": {
   "display_name": "Python 3",
   "language": "python",
   "name": "python3"
  },
  "language_info": {
   "codemirror_mode": {
    "name": "ipython",
    "version": 3
   },
   "file_extension": ".py",
   "mimetype": "text/x-python",
   "name": "python",
   "nbconvert_exporter": "python",
   "pygments_lexer": "ipython3",
   "version": "3.7.0"
  }
 },
 "nbformat": 4,
 "nbformat_minor": 2
}
