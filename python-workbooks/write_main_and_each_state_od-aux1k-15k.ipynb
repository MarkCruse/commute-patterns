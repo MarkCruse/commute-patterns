{
 "cells": [
  {
   "cell_type": "markdown",
   "metadata": {},
   "source": [
    "## Write all states and a single file for each State in the 1k-15k data range"
   ]
  },
  {
   "cell_type": "code",
   "execution_count": 1,
   "metadata": {},
   "outputs": [],
   "source": [
    "import pandas as pd\n",
    "import numpy as np\n",
    "from pathlib import Path\n",
    "import zipfile\n",
    "import timeit\n",
    "from IPython.display import clear_output"
   ]
  },
  {
   "cell_type": "code",
   "execution_count": 2,
   "metadata": {},
   "outputs": [
    {
     "name": "stdout",
     "output_type": "stream",
     "text": [
      "OD file exist\n"
     ]
    }
   ],
   "source": [
    "ODpath = Path(\"../data/OD/\")\n",
    "OD_file = ODpath.joinpath(\"od_distance_1k-15k_clean.csv.gz\")\n",
    "if OD_file.exists ():\n",
    "    print (\"OD file exist\")\n",
    "else:\n",
    "    print (\"OD file does not exist\")\n",
    "    "
   ]
  },
  {
   "cell_type": "code",
   "execution_count": 3,
   "metadata": {},
   "outputs": [
    {
     "name": "stdout",
     "output_type": "stream",
     "text": [
      "Wall time: 2min 16s\n"
     ]
    }
   ],
   "source": [
    "%time df = pd.read_csv(OD_file, compression='gzip', dtype={'w_geocode': str,'h_geocode':str})"
   ]
  },
  {
   "cell_type": "markdown",
   "metadata": {},
   "source": [
    "#### Group the data to verify max and min values\n",
    "Should be between near 1k to 15k"
   ]
  },
  {
   "cell_type": "code",
   "execution_count": 4,
   "metadata": {},
   "outputs": [
    {
     "name": "stdout",
     "output_type": "stream",
     "text": [
      "The max summed S000 is: 16312\n",
      "The min summed S000 is: 999\n"
     ]
    }
   ],
   "source": [
    "df_group = df.groupby(['w_geocode']).sum()\n",
    "print ('The max summed S000 is:', df_group.S000.max())\n",
    "print ('The min summed S000 is:', df_group.S000.min())"
   ]
  },
  {
   "cell_type": "markdown",
   "metadata": {},
   "source": [
    "#### Identify all state FIPS codes in data"
   ]
  },
  {
   "cell_type": "code",
   "execution_count": 5,
   "metadata": {},
   "outputs": [
    {
     "name": "stdout",
     "output_type": "stream",
     "text": [
      "50\n"
     ]
    }
   ],
   "source": [
    "state_list = df['w_geocode'].str.slice(0,2).unique().tolist()\n",
    "print (len(state_list))"
   ]
  },
  {
   "cell_type": "markdown",
   "metadata": {},
   "source": [
    "#### Create a column to contain the state FIPS"
   ]
  },
  {
   "cell_type": "code",
   "execution_count": 6,
   "metadata": {},
   "outputs": [
    {
     "name": "stdout",
     "output_type": "stream",
     "text": [
      "Number of records in dataframe: 27605039\n"
     ]
    },
    {
     "data": {
      "text/html": [
       "<div>\n",
       "<style scoped>\n",
       "    .dataframe tbody tr th:only-of-type {\n",
       "        vertical-align: middle;\n",
       "    }\n",
       "\n",
       "    .dataframe tbody tr th {\n",
       "        vertical-align: top;\n",
       "    }\n",
       "\n",
       "    .dataframe thead th {\n",
       "        text-align: right;\n",
       "    }\n",
       "</style>\n",
       "<table border=\"1\" class=\"dataframe\">\n",
       "  <thead>\n",
       "    <tr style=\"text-align: right;\">\n",
       "      <th></th>\n",
       "      <th>w_geocode</th>\n",
       "      <th>h_geocode</th>\n",
       "      <th>distance</th>\n",
       "      <th>w_group_count</th>\n",
       "      <th>S000</th>\n",
       "      <th>SA01</th>\n",
       "      <th>SA02</th>\n",
       "      <th>SA03</th>\n",
       "      <th>SE01</th>\n",
       "      <th>SE02</th>\n",
       "      <th>SE03</th>\n",
       "      <th>SI01</th>\n",
       "      <th>SI02</th>\n",
       "      <th>SI03</th>\n",
       "      <th>w_lat</th>\n",
       "      <th>w_lon</th>\n",
       "      <th>h_lat</th>\n",
       "      <th>h_lon</th>\n",
       "      <th>state</th>\n",
       "    </tr>\n",
       "  </thead>\n",
       "  <tbody>\n",
       "    <tr>\n",
       "      <th>0</th>\n",
       "      <td>020160002001050</td>\n",
       "      <td>020160001001250</td>\n",
       "      <td>716908</td>\n",
       "      <td>1042</td>\n",
       "      <td>3</td>\n",
       "      <td>0</td>\n",
       "      <td>1</td>\n",
       "      <td>2</td>\n",
       "      <td>0</td>\n",
       "      <td>2</td>\n",
       "      <td>1</td>\n",
       "      <td>2</td>\n",
       "      <td>1</td>\n",
       "      <td>0</td>\n",
       "      <td>53.893</td>\n",
       "      <td>-166.534</td>\n",
       "      <td>51.831</td>\n",
       "      <td>-176.630</td>\n",
       "      <td>02</td>\n",
       "    </tr>\n",
       "    <tr>\n",
       "      <th>1</th>\n",
       "      <td>020160002001050</td>\n",
       "      <td>020160001001270</td>\n",
       "      <td>714934</td>\n",
       "      <td>1042</td>\n",
       "      <td>1</td>\n",
       "      <td>0</td>\n",
       "      <td>1</td>\n",
       "      <td>0</td>\n",
       "      <td>0</td>\n",
       "      <td>0</td>\n",
       "      <td>1</td>\n",
       "      <td>1</td>\n",
       "      <td>0</td>\n",
       "      <td>0</td>\n",
       "      <td>53.893</td>\n",
       "      <td>-166.534</td>\n",
       "      <td>51.880</td>\n",
       "      <td>-176.631</td>\n",
       "      <td>02</td>\n",
       "    </tr>\n",
       "    <tr>\n",
       "      <th>2</th>\n",
       "      <td>020160002001050</td>\n",
       "      <td>020160001001453</td>\n",
       "      <td>433979</td>\n",
       "      <td>1042</td>\n",
       "      <td>1</td>\n",
       "      <td>1</td>\n",
       "      <td>0</td>\n",
       "      <td>0</td>\n",
       "      <td>0</td>\n",
       "      <td>1</td>\n",
       "      <td>0</td>\n",
       "      <td>1</td>\n",
       "      <td>0</td>\n",
       "      <td>0</td>\n",
       "      <td>53.893</td>\n",
       "      <td>-166.534</td>\n",
       "      <td>57.197</td>\n",
       "      <td>-170.186</td>\n",
       "      <td>02</td>\n",
       "    </tr>\n",
       "    <tr>\n",
       "      <th>3</th>\n",
       "      <td>020160002001050</td>\n",
       "      <td>020160001001461</td>\n",
       "      <td>430850</td>\n",
       "      <td>1042</td>\n",
       "      <td>1</td>\n",
       "      <td>1</td>\n",
       "      <td>0</td>\n",
       "      <td>0</td>\n",
       "      <td>0</td>\n",
       "      <td>1</td>\n",
       "      <td>0</td>\n",
       "      <td>0</td>\n",
       "      <td>0</td>\n",
       "      <td>1</td>\n",
       "      <td>53.893</td>\n",
       "      <td>-166.534</td>\n",
       "      <td>57.133</td>\n",
       "      <td>-170.267</td>\n",
       "      <td>02</td>\n",
       "    </tr>\n",
       "    <tr>\n",
       "      <th>4</th>\n",
       "      <td>020160002001050</td>\n",
       "      <td>020160001001475</td>\n",
       "      <td>430559</td>\n",
       "      <td>1042</td>\n",
       "      <td>1</td>\n",
       "      <td>0</td>\n",
       "      <td>1</td>\n",
       "      <td>0</td>\n",
       "      <td>0</td>\n",
       "      <td>1</td>\n",
       "      <td>0</td>\n",
       "      <td>1</td>\n",
       "      <td>0</td>\n",
       "      <td>0</td>\n",
       "      <td>53.893</td>\n",
       "      <td>-166.534</td>\n",
       "      <td>57.127</td>\n",
       "      <td>-170.273</td>\n",
       "      <td>02</td>\n",
       "    </tr>\n",
       "  </tbody>\n",
       "</table>\n",
       "</div>"
      ],
      "text/plain": [
       "         w_geocode        h_geocode  distance  w_group_count  S000  SA01  \\\n",
       "0  020160002001050  020160001001250    716908           1042     3     0   \n",
       "1  020160002001050  020160001001270    714934           1042     1     0   \n",
       "2  020160002001050  020160001001453    433979           1042     1     1   \n",
       "3  020160002001050  020160001001461    430850           1042     1     1   \n",
       "4  020160002001050  020160001001475    430559           1042     1     0   \n",
       "\n",
       "   SA02  SA03  SE01  SE02  SE03  SI01  SI02  SI03   w_lat    w_lon   h_lat  \\\n",
       "0     1     2     0     2     1     2     1     0  53.893 -166.534  51.831   \n",
       "1     1     0     0     0     1     1     0     0  53.893 -166.534  51.880   \n",
       "2     0     0     0     1     0     1     0     0  53.893 -166.534  57.197   \n",
       "3     0     0     0     1     0     0     0     1  53.893 -166.534  57.133   \n",
       "4     1     0     0     1     0     1     0     0  53.893 -166.534  57.127   \n",
       "\n",
       "     h_lon state  \n",
       "0 -176.630    02  \n",
       "1 -176.631    02  \n",
       "2 -170.186    02  \n",
       "3 -170.267    02  \n",
       "4 -170.273    02  "
      ]
     },
     "execution_count": 6,
     "metadata": {},
     "output_type": "execute_result"
    }
   ],
   "source": [
    "df['state'] = df['w_geocode'].str.slice(0,2)\n",
    "print ('Number of records in dataframe:', len(df))\n",
    "df.head()"
   ]
  },
  {
   "cell_type": "markdown",
   "metadata": {},
   "source": [
    "#### Filter the data to include commute distances > 15 miles and <60 miles"
   ]
  },
  {
   "cell_type": "code",
   "execution_count": 7,
   "metadata": {},
   "outputs": [
    {
     "name": "stdout",
     "output_type": "stream",
     "text": [
      "Number of records after filter for 15-60 mile commutes: 8401012\n"
     ]
    }
   ],
   "source": [
    "df_filter = df[(df['distance'] > 24000) & (df['distance'] <= 100000)]\n",
    "print ('Number of records after filter for 15-60 mile commutes:', len(df_filter))"
   ]
  },
  {
   "cell_type": "markdown",
   "metadata": {},
   "source": [
    "#### Reset the w_group_count\n",
    "** This is need to correct an issue caused by chunking the data in an earlier step"
   ]
  },
  {
   "cell_type": "code",
   "execution_count": 8,
   "metadata": {},
   "outputs": [],
   "source": [
    "df_w_counts = pd.DataFrame(df,columns=['w_geocode','w_group_count'])"
   ]
  },
  {
   "cell_type": "code",
   "execution_count": 9,
   "metadata": {},
   "outputs": [],
   "source": [
    "df_w_counts_unique = df_w_counts.drop_duplicates()"
   ]
  },
  {
   "cell_type": "code",
   "execution_count": 10,
   "metadata": {},
   "outputs": [
    {
     "data": {
      "text/html": [
       "<div>\n",
       "<style scoped>\n",
       "    .dataframe tbody tr th:only-of-type {\n",
       "        vertical-align: middle;\n",
       "    }\n",
       "\n",
       "    .dataframe tbody tr th {\n",
       "        vertical-align: top;\n",
       "    }\n",
       "\n",
       "    .dataframe thead th {\n",
       "        text-align: right;\n",
       "    }\n",
       "</style>\n",
       "<table border=\"1\" class=\"dataframe\">\n",
       "  <thead>\n",
       "    <tr style=\"text-align: right;\">\n",
       "      <th></th>\n",
       "      <th>w_geocode</th>\n",
       "      <th>w_group_count</th>\n",
       "    </tr>\n",
       "  </thead>\n",
       "  <tbody>\n",
       "    <tr>\n",
       "      <th>0</th>\n",
       "      <td>010010205001001</td>\n",
       "      <td>1076</td>\n",
       "    </tr>\n",
       "    <tr>\n",
       "      <th>1</th>\n",
       "      <td>010030112023027</td>\n",
       "      <td>1069</td>\n",
       "    </tr>\n",
       "    <tr>\n",
       "      <th>2</th>\n",
       "      <td>010030115021041</td>\n",
       "      <td>1183</td>\n",
       "    </tr>\n",
       "    <tr>\n",
       "      <th>3</th>\n",
       "      <td>010059505002038</td>\n",
       "      <td>1061</td>\n",
       "    </tr>\n",
       "    <tr>\n",
       "      <th>4</th>\n",
       "      <td>010150007002053</td>\n",
       "      <td>1082</td>\n",
       "    </tr>\n",
       "  </tbody>\n",
       "</table>\n",
       "</div>"
      ],
      "text/plain": [
       "         w_geocode  w_group_count\n",
       "0  010010205001001           1076\n",
       "1  010030112023027           1069\n",
       "2  010030115021041           1183\n",
       "3  010059505002038           1061\n",
       "4  010150007002053           1082"
      ]
     },
     "execution_count": 10,
     "metadata": {},
     "output_type": "execute_result"
    }
   ],
   "source": [
    "df_w_count_group = df_w_counts_unique.groupby(['w_geocode']).sum()\n",
    "df_w_count_group = df_w_count_group.reset_index()\n",
    "df_w_count_group.head()"
   ]
  },
  {
   "cell_type": "markdown",
   "metadata": {},
   "source": [
    "#### Merge the reset counts with the dataframe"
   ]
  },
  {
   "cell_type": "code",
   "execution_count": 11,
   "metadata": {},
   "outputs": [
    {
     "data": {
      "text/html": [
       "<div>\n",
       "<style scoped>\n",
       "    .dataframe tbody tr th:only-of-type {\n",
       "        vertical-align: middle;\n",
       "    }\n",
       "\n",
       "    .dataframe tbody tr th {\n",
       "        vertical-align: top;\n",
       "    }\n",
       "\n",
       "    .dataframe thead th {\n",
       "        text-align: right;\n",
       "    }\n",
       "</style>\n",
       "<table border=\"1\" class=\"dataframe\">\n",
       "  <thead>\n",
       "    <tr style=\"text-align: right;\">\n",
       "      <th></th>\n",
       "      <th>w_geocode</th>\n",
       "      <th>h_geocode</th>\n",
       "      <th>distance</th>\n",
       "      <th>S000</th>\n",
       "      <th>SA01</th>\n",
       "      <th>SA02</th>\n",
       "      <th>SA03</th>\n",
       "      <th>SE01</th>\n",
       "      <th>SE02</th>\n",
       "      <th>SE03</th>\n",
       "      <th>SI01</th>\n",
       "      <th>SI02</th>\n",
       "      <th>SI03</th>\n",
       "      <th>w_lat</th>\n",
       "      <th>w_lon</th>\n",
       "      <th>h_lat</th>\n",
       "      <th>h_lon</th>\n",
       "      <th>state</th>\n",
       "      <th>w_group_count</th>\n",
       "    </tr>\n",
       "  </thead>\n",
       "  <tbody>\n",
       "    <tr>\n",
       "      <th>0</th>\n",
       "      <td>020200007023012</td>\n",
       "      <td>020200001011055</td>\n",
       "      <td>31749</td>\n",
       "      <td>2</td>\n",
       "      <td>1</td>\n",
       "      <td>0</td>\n",
       "      <td>1</td>\n",
       "      <td>0</td>\n",
       "      <td>2</td>\n",
       "      <td>0</td>\n",
       "      <td>0</td>\n",
       "      <td>1</td>\n",
       "      <td>1</td>\n",
       "      <td>61.212</td>\n",
       "      <td>-149.742</td>\n",
       "      <td>61.436</td>\n",
       "      <td>-149.375</td>\n",
       "      <td>02</td>\n",
       "      <td>1548</td>\n",
       "    </tr>\n",
       "    <tr>\n",
       "      <th>1</th>\n",
       "      <td>020200007023012</td>\n",
       "      <td>020200001012050</td>\n",
       "      <td>28342</td>\n",
       "      <td>1</td>\n",
       "      <td>0</td>\n",
       "      <td>0</td>\n",
       "      <td>1</td>\n",
       "      <td>1</td>\n",
       "      <td>0</td>\n",
       "      <td>0</td>\n",
       "      <td>0</td>\n",
       "      <td>1</td>\n",
       "      <td>0</td>\n",
       "      <td>61.212</td>\n",
       "      <td>-149.742</td>\n",
       "      <td>61.411</td>\n",
       "      <td>-149.414</td>\n",
       "      <td>02</td>\n",
       "      <td>1548</td>\n",
       "    </tr>\n",
       "    <tr>\n",
       "      <th>2</th>\n",
       "      <td>020200007023012</td>\n",
       "      <td>020200001012064</td>\n",
       "      <td>27888</td>\n",
       "      <td>1</td>\n",
       "      <td>0</td>\n",
       "      <td>1</td>\n",
       "      <td>0</td>\n",
       "      <td>0</td>\n",
       "      <td>1</td>\n",
       "      <td>0</td>\n",
       "      <td>0</td>\n",
       "      <td>0</td>\n",
       "      <td>1</td>\n",
       "      <td>61.212</td>\n",
       "      <td>-149.742</td>\n",
       "      <td>61.413</td>\n",
       "      <td>-149.431</td>\n",
       "      <td>02</td>\n",
       "      <td>1548</td>\n",
       "    </tr>\n",
       "    <tr>\n",
       "      <th>3</th>\n",
       "      <td>020200007023012</td>\n",
       "      <td>020200001013004</td>\n",
       "      <td>28501</td>\n",
       "      <td>4</td>\n",
       "      <td>1</td>\n",
       "      <td>1</td>\n",
       "      <td>2</td>\n",
       "      <td>0</td>\n",
       "      <td>3</td>\n",
       "      <td>1</td>\n",
       "      <td>0</td>\n",
       "      <td>4</td>\n",
       "      <td>0</td>\n",
       "      <td>61.212</td>\n",
       "      <td>-149.742</td>\n",
       "      <td>61.426</td>\n",
       "      <td>-149.452</td>\n",
       "      <td>02</td>\n",
       "      <td>1548</td>\n",
       "    </tr>\n",
       "    <tr>\n",
       "      <th>4</th>\n",
       "      <td>020200007023012</td>\n",
       "      <td>020200001013006</td>\n",
       "      <td>28019</td>\n",
       "      <td>1</td>\n",
       "      <td>0</td>\n",
       "      <td>0</td>\n",
       "      <td>1</td>\n",
       "      <td>1</td>\n",
       "      <td>0</td>\n",
       "      <td>0</td>\n",
       "      <td>0</td>\n",
       "      <td>1</td>\n",
       "      <td>0</td>\n",
       "      <td>61.212</td>\n",
       "      <td>-149.742</td>\n",
       "      <td>61.417</td>\n",
       "      <td>-149.440</td>\n",
       "      <td>02</td>\n",
       "      <td>1548</td>\n",
       "    </tr>\n",
       "  </tbody>\n",
       "</table>\n",
       "</div>"
      ],
      "text/plain": [
       "         w_geocode        h_geocode  distance  S000  SA01  SA02  SA03  SE01  \\\n",
       "0  020200007023012  020200001011055     31749     2     1     0     1     0   \n",
       "1  020200007023012  020200001012050     28342     1     0     0     1     1   \n",
       "2  020200007023012  020200001012064     27888     1     0     1     0     0   \n",
       "3  020200007023012  020200001013004     28501     4     1     1     2     0   \n",
       "4  020200007023012  020200001013006     28019     1     0     0     1     1   \n",
       "\n",
       "   SE02  SE03  SI01  SI02  SI03   w_lat    w_lon   h_lat    h_lon state  \\\n",
       "0     2     0     0     1     1  61.212 -149.742  61.436 -149.375    02   \n",
       "1     0     0     0     1     0  61.212 -149.742  61.411 -149.414    02   \n",
       "2     1     0     0     0     1  61.212 -149.742  61.413 -149.431    02   \n",
       "3     3     1     0     4     0  61.212 -149.742  61.426 -149.452    02   \n",
       "4     0     0     0     1     0  61.212 -149.742  61.417 -149.440    02   \n",
       "\n",
       "   w_group_count  \n",
       "0           1548  \n",
       "1           1548  \n",
       "2           1548  \n",
       "3           1548  \n",
       "4           1548  "
      ]
     },
     "execution_count": 11,
     "metadata": {},
     "output_type": "execute_result"
    }
   ],
   "source": [
    "merge_result = pd.merge(df_filter, df_w_count_group, left_on=  ['w_geocode'],right_on= ['w_geocode'],how = 'left')\n",
    "\n",
    "merge_result.rename(columns={'w_group_count_y': 'w_group_count'}, inplace=True)\n",
    "# Remove duplicate column names with _x suffix\n",
    "merge_result.drop(list(merge_result.filter(regex='_x')), axis=1, inplace=True)\n",
    "merge_result.head()"
   ]
  },
  {
   "cell_type": "markdown",
   "metadata": {},
   "source": [
    "#### With updated counts filter for those above 15,000 employees per block"
   ]
  },
  {
   "cell_type": "code",
   "execution_count": 12,
   "metadata": {},
   "outputs": [],
   "source": [
    "df_filter = merge_result[(merge_result['w_group_count'] < 15000)]"
   ]
  },
  {
   "cell_type": "markdown",
   "metadata": {},
   "source": [
    "#### Write the updated file to compressed CSV"
   ]
  },
  {
   "cell_type": "code",
   "execution_count": 13,
   "metadata": {},
   "outputs": [
    {
     "name": "stdout",
     "output_type": "stream",
     "text": [
      "Number of records written: 8383570\n"
     ]
    }
   ],
   "source": [
    "output = 'od_distance_1k-15k_15-60_miles.csv'\n",
    "out_file_path = ODpath.joinpath(output)\n",
    "df_filter.to_csv(out_file_path, index=None)\n",
    "print ('Number of records written:', len(df_filter))"
   ]
  },
  {
   "cell_type": "markdown",
   "metadata": {},
   "source": [
    "#### Funtion to write each state file to csv"
   ]
  },
  {
   "cell_type": "code",
   "execution_count": 14,
   "metadata": {},
   "outputs": [],
   "source": [
    "def write_state(df_state):\n",
    "    df_state.to_csv(out_state, index=None)"
   ]
  },
  {
   "cell_type": "markdown",
   "metadata": {},
   "source": [
    "#### Loop through each State FIPS code and call function to write csv"
   ]
  },
  {
   "cell_type": "code",
   "execution_count": 15,
   "metadata": {},
   "outputs": [],
   "source": [
    "for index in range(0,len(state_list)):\n",
    "    state_id = state_list[index]\n",
    "    df_state = df_filter[df_filter['state'] == state_id]\n",
    "    outputstate = state_id + '_od_distance_1k-15k_15-60_miles.csv'\n",
    "    out_state = ODpath.joinpath(outputstate)\n",
    "    write_state(df_state)"
   ]
  },
  {
   "cell_type": "markdown",
   "metadata": {},
   "source": [
    "### END"
   ]
  },
  {
   "cell_type": "code",
   "execution_count": null,
   "metadata": {},
   "outputs": [],
   "source": []
  }
 ],
 "metadata": {
  "kernelspec": {
   "display_name": "Python 3",
   "language": "python",
   "name": "python3"
  },
  "language_info": {
   "codemirror_mode": {
    "name": "ipython",
    "version": 3
   },
   "file_extension": ".py",
   "mimetype": "text/x-python",
   "name": "python",
   "nbconvert_exporter": "python",
   "pygments_lexer": "ipython3",
   "version": "3.7.0"
  }
 },
 "nbformat": 4,
 "nbformat_minor": 2
}
