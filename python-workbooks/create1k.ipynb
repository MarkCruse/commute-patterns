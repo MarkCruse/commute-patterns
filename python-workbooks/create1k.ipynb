{
 "cells": [
  {
   "cell_type": "code",
   "execution_count": null,
   "metadata": {},
   "outputs": [],
   "source": []
  },
  {
   "cell_type": "code",
   "execution_count": 1,
   "metadata": {},
   "outputs": [],
   "source": [
    "import pandas as pd\n",
    "from pathlib import Path\n"
   ]
  },
  {
   "cell_type": "code",
   "execution_count": 2,
   "metadata": {},
   "outputs": [
    {
     "name": "stdout",
     "output_type": "stream",
     "text": [
      "OD file exist\n"
     ]
    }
   ],
   "source": [
    "ODpath = Path(\"../data/OD/\")\n",
    "OD_file = ODpath.joinpath(\"od_distance_1000_plus.csv.gz\")\n",
    "if OD_file.exists ():\n",
    "    print (\"OD file exist\")\n",
    "else:\n",
    "    print (\"OD file does not exist\")\n"
   ]
  },
  {
   "cell_type": "code",
   "execution_count": null,
   "metadata": {},
   "outputs": [],
   "source": []
  },
  {
   "cell_type": "code",
   "execution_count": 3,
   "metadata": {},
   "outputs": [],
   "source": [
    "df = pd.read_csv(OD_file, dtype={'w_geocode': str,'h_geocode':str, 'w_group_count':str})"
   ]
  },
  {
   "cell_type": "code",
   "execution_count": 4,
   "metadata": {},
   "outputs": [
    {
     "data": {
      "text/html": [
       "<div>\n",
       "<style scoped>\n",
       "    .dataframe tbody tr th:only-of-type {\n",
       "        vertical-align: middle;\n",
       "    }\n",
       "\n",
       "    .dataframe tbody tr th {\n",
       "        vertical-align: top;\n",
       "    }\n",
       "\n",
       "    .dataframe thead th {\n",
       "        text-align: right;\n",
       "    }\n",
       "</style>\n",
       "<table border=\"1\" class=\"dataframe\">\n",
       "  <thead>\n",
       "    <tr style=\"text-align: right;\">\n",
       "      <th></th>\n",
       "      <th>w_geocode</th>\n",
       "      <th>h_geocode</th>\n",
       "      <th>distance</th>\n",
       "      <th>w_group_count</th>\n",
       "      <th>S000</th>\n",
       "      <th>SA01</th>\n",
       "      <th>SA02</th>\n",
       "      <th>SA03</th>\n",
       "      <th>SE01</th>\n",
       "      <th>SE02</th>\n",
       "      <th>SE03</th>\n",
       "      <th>SI01</th>\n",
       "      <th>SI02</th>\n",
       "      <th>SI03</th>\n",
       "      <th>w_lat</th>\n",
       "      <th>w_lon</th>\n",
       "      <th>h_lat</th>\n",
       "      <th>h_lon</th>\n",
       "    </tr>\n",
       "  </thead>\n",
       "  <tbody>\n",
       "    <tr>\n",
       "      <th>0</th>\n",
       "      <td>010010205001001</td>\n",
       "      <td>010010201001016</td>\n",
       "      <td>5896</td>\n",
       "      <td>1076</td>\n",
       "      <td>1</td>\n",
       "      <td>1</td>\n",
       "      <td>0</td>\n",
       "      <td>0</td>\n",
       "      <td>1</td>\n",
       "      <td>0</td>\n",
       "      <td>0</td>\n",
       "      <td>0</td>\n",
       "      <td>1</td>\n",
       "      <td>0</td>\n",
       "      <td>32.45674</td>\n",
       "      <td>-86.41503</td>\n",
       "      <td>32.46662</td>\n",
       "      <td>-86.47665</td>\n",
       "    </tr>\n",
       "    <tr>\n",
       "      <th>1</th>\n",
       "      <td>010010205001001</td>\n",
       "      <td>010010201001025</td>\n",
       "      <td>6964</td>\n",
       "      <td>1076</td>\n",
       "      <td>1</td>\n",
       "      <td>1</td>\n",
       "      <td>0</td>\n",
       "      <td>0</td>\n",
       "      <td>0</td>\n",
       "      <td>1</td>\n",
       "      <td>0</td>\n",
       "      <td>0</td>\n",
       "      <td>1</td>\n",
       "      <td>0</td>\n",
       "      <td>32.45674</td>\n",
       "      <td>-86.41503</td>\n",
       "      <td>32.45980</td>\n",
       "      <td>-86.48900</td>\n",
       "    </tr>\n",
       "    <tr>\n",
       "      <th>2</th>\n",
       "      <td>010010205001001</td>\n",
       "      <td>010010201002016</td>\n",
       "      <td>7088</td>\n",
       "      <td>1076</td>\n",
       "      <td>2</td>\n",
       "      <td>0</td>\n",
       "      <td>2</td>\n",
       "      <td>0</td>\n",
       "      <td>0</td>\n",
       "      <td>0</td>\n",
       "      <td>2</td>\n",
       "      <td>0</td>\n",
       "      <td>2</td>\n",
       "      <td>0</td>\n",
       "      <td>32.45674</td>\n",
       "      <td>-86.41503</td>\n",
       "      <td>32.47418</td>\n",
       "      <td>-86.48756</td>\n",
       "    </tr>\n",
       "    <tr>\n",
       "      <th>3</th>\n",
       "      <td>010010205001001</td>\n",
       "      <td>010010201002017</td>\n",
       "      <td>6830</td>\n",
       "      <td>1076</td>\n",
       "      <td>3</td>\n",
       "      <td>3</td>\n",
       "      <td>0</td>\n",
       "      <td>0</td>\n",
       "      <td>1</td>\n",
       "      <td>2</td>\n",
       "      <td>0</td>\n",
       "      <td>0</td>\n",
       "      <td>1</td>\n",
       "      <td>2</td>\n",
       "      <td>32.45674</td>\n",
       "      <td>-86.41503</td>\n",
       "      <td>32.47724</td>\n",
       "      <td>-86.48353</td>\n",
       "    </tr>\n",
       "    <tr>\n",
       "      <th>4</th>\n",
       "      <td>010010205001001</td>\n",
       "      <td>010010201002022</td>\n",
       "      <td>7304</td>\n",
       "      <td>1076</td>\n",
       "      <td>1</td>\n",
       "      <td>0</td>\n",
       "      <td>1</td>\n",
       "      <td>0</td>\n",
       "      <td>0</td>\n",
       "      <td>1</td>\n",
       "      <td>0</td>\n",
       "      <td>0</td>\n",
       "      <td>1</td>\n",
       "      <td>0</td>\n",
       "      <td>32.45674</td>\n",
       "      <td>-86.41503</td>\n",
       "      <td>32.48800</td>\n",
       "      <td>-86.48342</td>\n",
       "    </tr>\n",
       "  </tbody>\n",
       "</table>\n",
       "</div>"
      ],
      "text/plain": [
       "         w_geocode        h_geocode  distance w_group_count  S000  SA01  SA02  \\\n",
       "0  010010205001001  010010201001016      5896          1076     1     1     0   \n",
       "1  010010205001001  010010201001025      6964          1076     1     1     0   \n",
       "2  010010205001001  010010201002016      7088          1076     2     0     2   \n",
       "3  010010205001001  010010201002017      6830          1076     3     3     0   \n",
       "4  010010205001001  010010201002022      7304          1076     1     0     1   \n",
       "\n",
       "   SA03  SE01  SE02  SE03  SI01  SI02  SI03     w_lat     w_lon     h_lat  \\\n",
       "0     0     1     0     0     0     1     0  32.45674 -86.41503  32.46662   \n",
       "1     0     0     1     0     0     1     0  32.45674 -86.41503  32.45980   \n",
       "2     0     0     0     2     0     2     0  32.45674 -86.41503  32.47418   \n",
       "3     0     1     2     0     0     1     2  32.45674 -86.41503  32.47724   \n",
       "4     0     0     1     0     0     1     0  32.45674 -86.41503  32.48800   \n",
       "\n",
       "      h_lon  \n",
       "0 -86.47665  \n",
       "1 -86.48900  \n",
       "2 -86.48756  \n",
       "3 -86.48353  \n",
       "4 -86.48342  "
      ]
     },
     "execution_count": 4,
     "metadata": {},
     "output_type": "execute_result"
    }
   ],
   "source": [
    "df.head()"
   ]
  },
  {
   "cell_type": "code",
   "execution_count": 5,
   "metadata": {},
   "outputs": [
    {
     "name": "stdout",
     "output_type": "stream",
     "text": [
      "48\n"
     ]
    }
   ],
   "source": [
    "state_list = df['w_geocode'].str.slice(0,2).unique().tolist()\n",
    "print (len(state_list))"
   ]
  },
  {
   "cell_type": "markdown",
   "metadata": {},
   "source": [
    "#### Create a column to contain the state FIPS"
   ]
  },
  {
   "cell_type": "code",
   "execution_count": 6,
   "metadata": {},
   "outputs": [],
   "source": [
    "df['state'] = df['w_geocode'].str.slice(0,2)"
   ]
  },
  {
   "cell_type": "code",
   "execution_count": 7,
   "metadata": {},
   "outputs": [
    {
     "data": {
      "text/plain": [
       "28588823"
      ]
     },
     "execution_count": 7,
     "metadata": {},
     "output_type": "execute_result"
    }
   ],
   "source": [
    "len(df)"
   ]
  },
  {
   "cell_type": "markdown",
   "metadata": {},
   "source": [
    "#### Verify the lat lon columns are float"
   ]
  },
  {
   "cell_type": "code",
   "execution_count": 8,
   "metadata": {},
   "outputs": [
    {
     "name": "stdout",
     "output_type": "stream",
     "text": [
      "<class 'pandas.core.frame.DataFrame'>\n",
      "RangeIndex: 28588823 entries, 0 to 28588822\n",
      "Data columns (total 19 columns):\n",
      "w_geocode        object\n",
      "h_geocode        object\n",
      "distance         int64\n",
      "w_group_count    object\n",
      "S000             int64\n",
      "SA01             int64\n",
      "SA02             int64\n",
      "SA03             int64\n",
      "SE01             int64\n",
      "SE02             int64\n",
      "SE03             int64\n",
      "SI01             int64\n",
      "SI02             int64\n",
      "SI03             int64\n",
      "w_lat            float64\n",
      "w_lon            float64\n",
      "h_lat            float64\n",
      "h_lon            float64\n",
      "state            object\n",
      "dtypes: float64(4), int64(11), object(4)\n",
      "memory usage: 4.0+ GB\n"
     ]
    }
   ],
   "source": [
    "df.info()"
   ]
  },
  {
   "cell_type": "markdown",
   "metadata": {},
   "source": [
    "#### Reduce the precision on the lat & lon columns"
   ]
  },
  {
   "cell_type": "code",
   "execution_count": 10,
   "metadata": {},
   "outputs": [],
   "source": [
    "df.w_lat =  df.w_lat.map(lambda x: '%.3f' % x)\n",
    "df.w_lon =  df.w_lon.map(lambda x: '%.3f' % x)\n",
    "df.h_lat =  df.h_lat.map(lambda x: '%.3f' % x)\n",
    "df.h_lon =  df.h_lon.map(lambda x: '%.3f' % x)"
   ]
  },
  {
   "cell_type": "code",
   "execution_count": 11,
   "metadata": {},
   "outputs": [
    {
     "data": {
      "text/html": [
       "<div>\n",
       "<style scoped>\n",
       "    .dataframe tbody tr th:only-of-type {\n",
       "        vertical-align: middle;\n",
       "    }\n",
       "\n",
       "    .dataframe tbody tr th {\n",
       "        vertical-align: top;\n",
       "    }\n",
       "\n",
       "    .dataframe thead th {\n",
       "        text-align: right;\n",
       "    }\n",
       "</style>\n",
       "<table border=\"1\" class=\"dataframe\">\n",
       "  <thead>\n",
       "    <tr style=\"text-align: right;\">\n",
       "      <th></th>\n",
       "      <th>w_geocode</th>\n",
       "      <th>h_geocode</th>\n",
       "      <th>distance</th>\n",
       "      <th>w_group_count</th>\n",
       "      <th>S000</th>\n",
       "      <th>SA01</th>\n",
       "      <th>SA02</th>\n",
       "      <th>SA03</th>\n",
       "      <th>SE01</th>\n",
       "      <th>SE02</th>\n",
       "      <th>SE03</th>\n",
       "      <th>SI01</th>\n",
       "      <th>SI02</th>\n",
       "      <th>SI03</th>\n",
       "      <th>w_lat</th>\n",
       "      <th>w_lon</th>\n",
       "      <th>h_lat</th>\n",
       "      <th>h_lon</th>\n",
       "      <th>state</th>\n",
       "    </tr>\n",
       "  </thead>\n",
       "  <tbody>\n",
       "    <tr>\n",
       "      <th>0</th>\n",
       "      <td>010010205001001</td>\n",
       "      <td>010010201001016</td>\n",
       "      <td>5896</td>\n",
       "      <td>1076</td>\n",
       "      <td>1</td>\n",
       "      <td>1</td>\n",
       "      <td>0</td>\n",
       "      <td>0</td>\n",
       "      <td>1</td>\n",
       "      <td>0</td>\n",
       "      <td>0</td>\n",
       "      <td>0</td>\n",
       "      <td>1</td>\n",
       "      <td>0</td>\n",
       "      <td>32.457</td>\n",
       "      <td>-86.415</td>\n",
       "      <td>32.467</td>\n",
       "      <td>-86.477</td>\n",
       "      <td>01</td>\n",
       "    </tr>\n",
       "    <tr>\n",
       "      <th>1</th>\n",
       "      <td>010010205001001</td>\n",
       "      <td>010010201001025</td>\n",
       "      <td>6964</td>\n",
       "      <td>1076</td>\n",
       "      <td>1</td>\n",
       "      <td>1</td>\n",
       "      <td>0</td>\n",
       "      <td>0</td>\n",
       "      <td>0</td>\n",
       "      <td>1</td>\n",
       "      <td>0</td>\n",
       "      <td>0</td>\n",
       "      <td>1</td>\n",
       "      <td>0</td>\n",
       "      <td>32.457</td>\n",
       "      <td>-86.415</td>\n",
       "      <td>32.460</td>\n",
       "      <td>-86.489</td>\n",
       "      <td>01</td>\n",
       "    </tr>\n",
       "    <tr>\n",
       "      <th>2</th>\n",
       "      <td>010010205001001</td>\n",
       "      <td>010010201002016</td>\n",
       "      <td>7088</td>\n",
       "      <td>1076</td>\n",
       "      <td>2</td>\n",
       "      <td>0</td>\n",
       "      <td>2</td>\n",
       "      <td>0</td>\n",
       "      <td>0</td>\n",
       "      <td>0</td>\n",
       "      <td>2</td>\n",
       "      <td>0</td>\n",
       "      <td>2</td>\n",
       "      <td>0</td>\n",
       "      <td>32.457</td>\n",
       "      <td>-86.415</td>\n",
       "      <td>32.474</td>\n",
       "      <td>-86.488</td>\n",
       "      <td>01</td>\n",
       "    </tr>\n",
       "    <tr>\n",
       "      <th>3</th>\n",
       "      <td>010010205001001</td>\n",
       "      <td>010010201002017</td>\n",
       "      <td>6830</td>\n",
       "      <td>1076</td>\n",
       "      <td>3</td>\n",
       "      <td>3</td>\n",
       "      <td>0</td>\n",
       "      <td>0</td>\n",
       "      <td>1</td>\n",
       "      <td>2</td>\n",
       "      <td>0</td>\n",
       "      <td>0</td>\n",
       "      <td>1</td>\n",
       "      <td>2</td>\n",
       "      <td>32.457</td>\n",
       "      <td>-86.415</td>\n",
       "      <td>32.477</td>\n",
       "      <td>-86.484</td>\n",
       "      <td>01</td>\n",
       "    </tr>\n",
       "    <tr>\n",
       "      <th>4</th>\n",
       "      <td>010010205001001</td>\n",
       "      <td>010010201002022</td>\n",
       "      <td>7304</td>\n",
       "      <td>1076</td>\n",
       "      <td>1</td>\n",
       "      <td>0</td>\n",
       "      <td>1</td>\n",
       "      <td>0</td>\n",
       "      <td>0</td>\n",
       "      <td>1</td>\n",
       "      <td>0</td>\n",
       "      <td>0</td>\n",
       "      <td>1</td>\n",
       "      <td>0</td>\n",
       "      <td>32.457</td>\n",
       "      <td>-86.415</td>\n",
       "      <td>32.488</td>\n",
       "      <td>-86.483</td>\n",
       "      <td>01</td>\n",
       "    </tr>\n",
       "  </tbody>\n",
       "</table>\n",
       "</div>"
      ],
      "text/plain": [
       "         w_geocode        h_geocode  distance w_group_count  S000  SA01  SA02  \\\n",
       "0  010010205001001  010010201001016      5896          1076     1     1     0   \n",
       "1  010010205001001  010010201001025      6964          1076     1     1     0   \n",
       "2  010010205001001  010010201002016      7088          1076     2     0     2   \n",
       "3  010010205001001  010010201002017      6830          1076     3     3     0   \n",
       "4  010010205001001  010010201002022      7304          1076     1     0     1   \n",
       "\n",
       "   SA03  SE01  SE02  SE03  SI01  SI02  SI03   w_lat    w_lon   h_lat    h_lon  \\\n",
       "0     0     1     0     0     0     1     0  32.457  -86.415  32.467  -86.477   \n",
       "1     0     0     1     0     0     1     0  32.457  -86.415  32.460  -86.489   \n",
       "2     0     0     0     2     0     2     0  32.457  -86.415  32.474  -86.488   \n",
       "3     0     1     2     0     0     1     2  32.457  -86.415  32.477  -86.484   \n",
       "4     0     0     1     0     0     1     0  32.457  -86.415  32.488  -86.483   \n",
       "\n",
       "  state  \n",
       "0    01  \n",
       "1    01  \n",
       "2    01  \n",
       "3    01  \n",
       "4    01  "
      ]
     },
     "execution_count": 11,
     "metadata": {},
     "output_type": "execute_result"
    }
   ],
   "source": [
    "df.head()"
   ]
  },
  {
   "cell_type": "code",
   "execution_count": null,
   "metadata": {},
   "outputs": [],
   "source": []
  },
  {
   "cell_type": "markdown",
   "metadata": {},
   "source": [
    "#### Name zip file"
   ]
  },
  {
   "cell_type": "code",
   "execution_count": 12,
   "metadata": {},
   "outputs": [],
   "source": [
    "outputZip = 'od_distance_1k.csv.gz'"
   ]
  },
  {
   "cell_type": "markdown",
   "metadata": {},
   "source": [
    "#### Create full path with zip file"
   ]
  },
  {
   "cell_type": "code",
   "execution_count": 13,
   "metadata": {},
   "outputs": [],
   "source": [
    "out_Zip = ODpath.joinpath(outputZip)"
   ]
  },
  {
   "cell_type": "markdown",
   "metadata": {},
   "source": [
    "#### Write all the OD line data to compressed csv file"
   ]
  },
  {
   "cell_type": "code",
   "execution_count": 15,
   "metadata": {},
   "outputs": [
    {
     "name": "stdout",
     "output_type": "stream",
     "text": [
      "Compressing dataframe. Please be patient.\n"
     ]
    }
   ],
   "source": [
    "print ('Compressing dataframe. Please be patient.')\n",
    "df.to_csv(out_Zip, compression='gzip', index=None)"
   ]
  },
  {
   "cell_type": "code",
   "execution_count": 18,
   "metadata": {},
   "outputs": [
    {
     "data": {
      "text/plain": [
       "'9936'"
      ]
     },
     "execution_count": 18,
     "metadata": {},
     "output_type": "execute_result"
    }
   ],
   "source": [
    "df.w_group_count.max()"
   ]
  },
  {
   "cell_type": "code",
   "execution_count": 19,
   "metadata": {},
   "outputs": [
    {
     "data": {
      "text/plain": [
       "Index(['w_geocode', 'h_geocode', 'distance', 'w_group_count', 'S000', 'SA01',\n",
       "       'SA02', 'SA03', 'SE01', 'SE02', 'SE03', 'SI01', 'SI02', 'SI03', 'w_lat',\n",
       "       'w_lon', 'h_lat', 'h_lon', 'state'],\n",
       "      dtype='object')"
      ]
     },
     "execution_count": 19,
     "metadata": {},
     "output_type": "execute_result"
    }
   ],
   "source": [
    "df.columns"
   ]
  },
  {
   "cell_type": "code",
   "execution_count": 20,
   "metadata": {},
   "outputs": [],
   "source": [
    "df_limited = df.filter(['state','S000', 'SA01','SA02', 'SA03', 'SE01', 'SE02', 'SE03', 'SI01', 'SI02', 'SI03'])"
   ]
  },
  {
   "cell_type": "code",
   "execution_count": 21,
   "metadata": {},
   "outputs": [
    {
     "data": {
      "text/html": [
       "<div>\n",
       "<style scoped>\n",
       "    .dataframe tbody tr th:only-of-type {\n",
       "        vertical-align: middle;\n",
       "    }\n",
       "\n",
       "    .dataframe tbody tr th {\n",
       "        vertical-align: top;\n",
       "    }\n",
       "\n",
       "    .dataframe thead th {\n",
       "        text-align: right;\n",
       "    }\n",
       "</style>\n",
       "<table border=\"1\" class=\"dataframe\">\n",
       "  <thead>\n",
       "    <tr style=\"text-align: right;\">\n",
       "      <th></th>\n",
       "      <th>state</th>\n",
       "      <th>S000</th>\n",
       "      <th>SA01</th>\n",
       "      <th>SA02</th>\n",
       "      <th>SA03</th>\n",
       "      <th>SE01</th>\n",
       "      <th>SE02</th>\n",
       "      <th>SE03</th>\n",
       "      <th>SI01</th>\n",
       "      <th>SI02</th>\n",
       "      <th>SI03</th>\n",
       "    </tr>\n",
       "  </thead>\n",
       "  <tbody>\n",
       "    <tr>\n",
       "      <th>0</th>\n",
       "      <td>01</td>\n",
       "      <td>1</td>\n",
       "      <td>1</td>\n",
       "      <td>0</td>\n",
       "      <td>0</td>\n",
       "      <td>1</td>\n",
       "      <td>0</td>\n",
       "      <td>0</td>\n",
       "      <td>0</td>\n",
       "      <td>1</td>\n",
       "      <td>0</td>\n",
       "    </tr>\n",
       "    <tr>\n",
       "      <th>1</th>\n",
       "      <td>01</td>\n",
       "      <td>1</td>\n",
       "      <td>1</td>\n",
       "      <td>0</td>\n",
       "      <td>0</td>\n",
       "      <td>0</td>\n",
       "      <td>1</td>\n",
       "      <td>0</td>\n",
       "      <td>0</td>\n",
       "      <td>1</td>\n",
       "      <td>0</td>\n",
       "    </tr>\n",
       "    <tr>\n",
       "      <th>2</th>\n",
       "      <td>01</td>\n",
       "      <td>2</td>\n",
       "      <td>0</td>\n",
       "      <td>2</td>\n",
       "      <td>0</td>\n",
       "      <td>0</td>\n",
       "      <td>0</td>\n",
       "      <td>2</td>\n",
       "      <td>0</td>\n",
       "      <td>2</td>\n",
       "      <td>0</td>\n",
       "    </tr>\n",
       "    <tr>\n",
       "      <th>3</th>\n",
       "      <td>01</td>\n",
       "      <td>3</td>\n",
       "      <td>3</td>\n",
       "      <td>0</td>\n",
       "      <td>0</td>\n",
       "      <td>1</td>\n",
       "      <td>2</td>\n",
       "      <td>0</td>\n",
       "      <td>0</td>\n",
       "      <td>1</td>\n",
       "      <td>2</td>\n",
       "    </tr>\n",
       "    <tr>\n",
       "      <th>4</th>\n",
       "      <td>01</td>\n",
       "      <td>1</td>\n",
       "      <td>0</td>\n",
       "      <td>1</td>\n",
       "      <td>0</td>\n",
       "      <td>0</td>\n",
       "      <td>1</td>\n",
       "      <td>0</td>\n",
       "      <td>0</td>\n",
       "      <td>1</td>\n",
       "      <td>0</td>\n",
       "    </tr>\n",
       "  </tbody>\n",
       "</table>\n",
       "</div>"
      ],
      "text/plain": [
       "  state  S000  SA01  SA02  SA03  SE01  SE02  SE03  SI01  SI02  SI03\n",
       "0    01     1     1     0     0     1     0     0     0     1     0\n",
       "1    01     1     1     0     0     0     1     0     0     1     0\n",
       "2    01     2     0     2     0     0     0     2     0     2     0\n",
       "3    01     3     3     0     0     1     2     0     0     1     2\n",
       "4    01     1     0     1     0     0     1     0     0     1     0"
      ]
     },
     "execution_count": 21,
     "metadata": {},
     "output_type": "execute_result"
    }
   ],
   "source": [
    "df_limited.head()"
   ]
  },
  {
   "cell_type": "code",
   "execution_count": 22,
   "metadata": {},
   "outputs": [
    {
     "name": "stdout",
     "output_type": "stream",
     "text": [
      "\n",
      "records loaded to dataframe: 48 \n",
      "\n",
      "\n"
     ]
    }
   ],
   "source": [
    "df_group = df_limited.groupby(['state']).sum()\n",
    "print ('\\nrecords loaded to dataframe:', \"{:,}\".format(len(df_group)),'\\n\\n')"
   ]
  },
  {
   "cell_type": "code",
   "execution_count": 23,
   "metadata": {},
   "outputs": [
    {
     "data": {
      "text/html": [
       "<div>\n",
       "<style scoped>\n",
       "    .dataframe tbody tr th:only-of-type {\n",
       "        vertical-align: middle;\n",
       "    }\n",
       "\n",
       "    .dataframe tbody tr th {\n",
       "        vertical-align: top;\n",
       "    }\n",
       "\n",
       "    .dataframe thead th {\n",
       "        text-align: right;\n",
       "    }\n",
       "</style>\n",
       "<table border=\"1\" class=\"dataframe\">\n",
       "  <thead>\n",
       "    <tr style=\"text-align: right;\">\n",
       "      <th></th>\n",
       "      <th>S000</th>\n",
       "      <th>SA01</th>\n",
       "      <th>SA02</th>\n",
       "      <th>SA03</th>\n",
       "      <th>SE01</th>\n",
       "      <th>SE02</th>\n",
       "      <th>SE03</th>\n",
       "      <th>SI01</th>\n",
       "      <th>SI02</th>\n",
       "      <th>SI03</th>\n",
       "    </tr>\n",
       "    <tr>\n",
       "      <th>state</th>\n",
       "      <th></th>\n",
       "      <th></th>\n",
       "      <th></th>\n",
       "      <th></th>\n",
       "      <th></th>\n",
       "      <th></th>\n",
       "      <th></th>\n",
       "      <th></th>\n",
       "      <th></th>\n",
       "      <th></th>\n",
       "    </tr>\n",
       "  </thead>\n",
       "  <tbody>\n",
       "    <tr>\n",
       "      <th>01</th>\n",
       "      <td>305768</td>\n",
       "      <td>59392</td>\n",
       "      <td>181488</td>\n",
       "      <td>64888</td>\n",
       "      <td>34799</td>\n",
       "      <td>100547</td>\n",
       "      <td>170422</td>\n",
       "      <td>64086</td>\n",
       "      <td>29681</td>\n",
       "      <td>212001</td>\n",
       "    </tr>\n",
       "    <tr>\n",
       "      <th>04</th>\n",
       "      <td>930733</td>\n",
       "      <td>181041</td>\n",
       "      <td>542204</td>\n",
       "      <td>207488</td>\n",
       "      <td>133390</td>\n",
       "      <td>308694</td>\n",
       "      <td>488649</td>\n",
       "      <td>92906</td>\n",
       "      <td>140015</td>\n",
       "      <td>697812</td>\n",
       "    </tr>\n",
       "    <tr>\n",
       "      <th>05</th>\n",
       "      <td>209617</td>\n",
       "      <td>38695</td>\n",
       "      <td>123764</td>\n",
       "      <td>47158</td>\n",
       "      <td>25289</td>\n",
       "      <td>80695</td>\n",
       "      <td>103633</td>\n",
       "      <td>35331</td>\n",
       "      <td>21535</td>\n",
       "      <td>152751</td>\n",
       "    </tr>\n",
       "    <tr>\n",
       "      <th>06</th>\n",
       "      <td>4821130</td>\n",
       "      <td>874375</td>\n",
       "      <td>2898970</td>\n",
       "      <td>1047785</td>\n",
       "      <td>558764</td>\n",
       "      <td>1170881</td>\n",
       "      <td>3091485</td>\n",
       "      <td>648915</td>\n",
       "      <td>680890</td>\n",
       "      <td>3491325</td>\n",
       "    </tr>\n",
       "    <tr>\n",
       "      <th>08</th>\n",
       "      <td>679824</td>\n",
       "      <td>114957</td>\n",
       "      <td>409071</td>\n",
       "      <td>155796</td>\n",
       "      <td>80842</td>\n",
       "      <td>184581</td>\n",
       "      <td>414401</td>\n",
       "      <td>58966</td>\n",
       "      <td>69583</td>\n",
       "      <td>551275</td>\n",
       "    </tr>\n",
       "  </tbody>\n",
       "</table>\n",
       "</div>"
      ],
      "text/plain": [
       "          S000    SA01     SA02     SA03    SE01     SE02     SE03    SI01  \\\n",
       "state                                                                        \n",
       "01      305768   59392   181488    64888   34799   100547   170422   64086   \n",
       "04      930733  181041   542204   207488  133390   308694   488649   92906   \n",
       "05      209617   38695   123764    47158   25289    80695   103633   35331   \n",
       "06     4821130  874375  2898970  1047785  558764  1170881  3091485  648915   \n",
       "08      679824  114957   409071   155796   80842   184581   414401   58966   \n",
       "\n",
       "         SI02     SI03  \n",
       "state                   \n",
       "01      29681   212001  \n",
       "04     140015   697812  \n",
       "05      21535   152751  \n",
       "06     680890  3491325  \n",
       "08      69583   551275  "
      ]
     },
     "execution_count": 23,
     "metadata": {},
     "output_type": "execute_result"
    }
   ],
   "source": [
    "df_group.head()"
   ]
  },
  {
   "cell_type": "code",
   "execution_count": null,
   "metadata": {},
   "outputs": [],
   "source": []
  }
 ],
 "metadata": {
  "kernelspec": {
   "display_name": "Python 3",
   "language": "python",
   "name": "python3"
  },
  "language_info": {
   "codemirror_mode": {
    "name": "ipython",
    "version": 3
   },
   "file_extension": ".py",
   "mimetype": "text/x-python",
   "name": "python",
   "nbconvert_exporter": "python",
   "pygments_lexer": "ipython3",
   "version": "3.7.0"
  }
 },
 "nbformat": 4,
 "nbformat_minor": 2
}
