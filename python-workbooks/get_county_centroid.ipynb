{
 "cells": [
  {
   "cell_type": "markdown",
   "metadata": {},
   "source": [
    "### Retrieve Census County Centroid Coordinate Data"
   ]
  },
  {
   "cell_type": "code",
   "execution_count": 1,
   "metadata": {},
   "outputs": [],
   "source": [
    "import zipfile\n",
    "import urllib.request\n",
    "import shutil\n",
    "import geopandas as gpd\n",
    "from pathlib import Path\n",
    "\n",
    "from shutil import unpack_archive"
   ]
  },
  {
   "cell_type": "markdown",
   "metadata": {},
   "source": [
    "#### Create directory path for temp storage of downloads"
   ]
  },
  {
   "cell_type": "code",
   "execution_count": 2,
   "metadata": {},
   "outputs": [],
   "source": [
    "ftpTmp = Path('../data/ftp-temp/')\n",
    "ftpTmp.mkdir(exist_ok=True, parents=True)"
   ]
  },
  {
   "cell_type": "markdown",
   "metadata": {},
   "source": [
    "#### Function - Load the shapefile information into GeoPandas"
   ]
  },
  {
   "cell_type": "code",
   "execution_count": 12,
   "metadata": {},
   "outputs": [],
   "source": [
    "def get_data(filename):\n",
    "    gdf = gpd.read_file(filename)\n",
    "    return gdf"
   ]
  },
  {
   "cell_type": "markdown",
   "metadata": {},
   "source": [
    "#### Extract files from compressed file (zip)"
   ]
  },
  {
   "cell_type": "code",
   "execution_count": 4,
   "metadata": {},
   "outputs": [],
   "source": [
    "def extract_files(zip_path_file):\n",
    "    unpack_archive(str(zip_path_file), extract_dir=str(ftpTmp))"
   ]
  },
  {
   "cell_type": "markdown",
   "metadata": {},
   "source": [
    "#### URL for County Shapefile"
   ]
  },
  {
   "cell_type": "code",
   "execution_count": 5,
   "metadata": {},
   "outputs": [],
   "source": [
    "url = 'https://www2.census.gov/geo/tiger/TIGER2018/COUNTY/tl_2018_us_county.zip'\n",
    "file_name = 'tl_2018_us_county.zip'"
   ]
  },
  {
   "cell_type": "code",
   "execution_count": 6,
   "metadata": {},
   "outputs": [],
   "source": [
    "# create a file path for the download\n",
    "zip_path_file = ftpTmp.joinpath(file_name)"
   ]
  },
  {
   "cell_type": "code",
   "execution_count": 7,
   "metadata": {},
   "outputs": [],
   "source": [
    "with urllib.request.urlopen(url) as response, open(zip_path_file, 'wb') as out_file:\n",
    "    shutil.copyfileobj(response, out_file)\n",
    "    with zipfile.ZipFile(file_name) as zf:\n",
    "        zf.extractall()"
   ]
  },
  {
   "cell_type": "code",
   "execution_count": 8,
   "metadata": {},
   "outputs": [
    {
     "name": "stdout",
     "output_type": "stream",
     "text": [
      "tl_2018_us_county.shp\n"
     ]
    }
   ],
   "source": [
    "\n",
    "# call extract function\n",
    "extract_files(zip_path_file)\n",
    "\n",
    "# assign file handles to each of the files extracted\n",
    "cpg, dbf, prj, shp, xml1, xml2, shx = [filename for filename in zf.namelist()]\n",
    "print(shp)\n",
    "\n",
    "# add a path to the shapefile\n",
    "shape_file = ftpTmp.joinpath(shp)\n",
    "\n",
    "# call function to create a geodataframe\n",
    "county_gdf = get_data(shape_file)\n",
    "\n",
    "# call function to append the geodataframe to a list\n",
    "#count_records = append_list(tract_gdf, count_records)\n",
    "\n",
    "#removes extracted files and zip file\n",
    "zip_path_file.unlink()\n",
    "shape_file.unlink()\n",
    "file_to_rem = ftpTmp.joinpath(cpg)\n",
    "file_to_rem.unlink()    \n",
    "file_to_rem = ftpTmp.joinpath(dbf)\n",
    "file_to_rem.unlink()    \n",
    "file_to_rem = ftpTmp.joinpath(xml1)\n",
    "file_to_rem.unlink()    \n",
    "file_to_rem = ftpTmp.joinpath(xml2)\n",
    "file_to_rem.unlink()    \n",
    "file_to_rem = ftpTmp.joinpath(shx)\n",
    "file_to_rem.unlink()    \n",
    "file_to_rem = ftpTmp.joinpath(prj)\n",
    "file_to_rem.unlink()\n",
    "ftpTmp.rmdir()"
   ]
  },
  {
   "cell_type": "code",
   "execution_count": 26,
   "metadata": {},
   "outputs": [
    {
     "name": "stdout",
     "output_type": "stream",
     "text": [
      "<class 'geopandas.geodataframe.GeoDataFrame'>\n",
      "RangeIndex: 3233 entries, 0 to 3232\n",
      "Data columns (total 18 columns):\n",
      "STATEFP     3233 non-null object\n",
      "COUNTYFP    3233 non-null object\n",
      "COUNTYNS    3233 non-null object\n",
      "GEOID       3233 non-null object\n",
      "NAME        3233 non-null object\n",
      "NAMELSAD    3233 non-null object\n",
      "LSAD        3233 non-null object\n",
      "CLASSFP     3233 non-null object\n",
      "MTFCC       3233 non-null object\n",
      "CSAFP       1231 non-null object\n",
      "CBSAFP      1899 non-null object\n",
      "METDIVFP    113 non-null object\n",
      "FUNCSTAT    3233 non-null object\n",
      "ALAND       3233 non-null int64\n",
      "AWATER      3233 non-null int64\n",
      "INTPTLAT    3233 non-null object\n",
      "INTPTLON    3233 non-null object\n",
      "geometry    3233 non-null object\n",
      "dtypes: int64(2), object(16)\n",
      "memory usage: 454.7+ KB\n"
     ]
    }
   ],
   "source": [
    "county_gdf.info()"
   ]
  },
  {
   "cell_type": "code",
   "execution_count": 29,
   "metadata": {},
   "outputs": [],
   "source": [
    "cols=['STATEFP','COUNTYFP','COUNTYNS','NAME','NAMELSAD','LSAD','CLASSFP','MTFCC','CSAFP','CBSAFP',\n",
    "                'METDIVFP','FUNCSTAT','ALAND','AWATER','geometry']\n",
    "county_gdf.drop(cols, axis=1, inplace=True)"
   ]
  },
  {
   "cell_type": "code",
   "execution_count": 35,
   "metadata": {},
   "outputs": [],
   "source": [
    "county_gdf.rename(columns={'GEOID': 'county_geoid','INTPTLAT': 'county_lat', 'INTPTLON': 'county_lon'}, inplace=True)"
   ]
  },
  {
   "cell_type": "code",
   "execution_count": 36,
   "metadata": {},
   "outputs": [
    {
     "name": "stdout",
     "output_type": "stream",
     "text": [
      "<class 'geopandas.geodataframe.GeoDataFrame'>\n",
      "RangeIndex: 3233 entries, 0 to 3232\n",
      "Data columns (total 3 columns):\n",
      "county_geoid    3233 non-null object\n",
      "county_lat      3233 non-null object\n",
      "county_lon      3233 non-null object\n",
      "dtypes: object(3)\n",
      "memory usage: 75.9+ KB\n"
     ]
    }
   ],
   "source": [
    "county_gdf.info()"
   ]
  },
  {
   "cell_type": "markdown",
   "metadata": {},
   "source": [
    "#### Create directory path for output file"
   ]
  },
  {
   "cell_type": "code",
   "execution_count": 37,
   "metadata": {},
   "outputs": [],
   "source": [
    "outputPath = Path('../data/county/')\n",
    "outputPath.mkdir(exist_ok=True, parents=True)"
   ]
  },
  {
   "cell_type": "markdown",
   "metadata": {},
   "source": [
    "#### Name zip file"
   ]
  },
  {
   "cell_type": "code",
   "execution_count": 38,
   "metadata": {},
   "outputs": [],
   "source": [
    "output_file = 'county_centroids.csv'"
   ]
  },
  {
   "cell_type": "markdown",
   "metadata": {},
   "source": [
    "#### Create full path with zip file"
   ]
  },
  {
   "cell_type": "code",
   "execution_count": 39,
   "metadata": {},
   "outputs": [],
   "source": [
    "output = outputPath.joinpath(output_file)"
   ]
  },
  {
   "cell_type": "markdown",
   "metadata": {},
   "source": [
    "#### Write dataframe to compressed CSV"
   ]
  },
  {
   "cell_type": "code",
   "execution_count": 40,
   "metadata": {},
   "outputs": [
    {
     "name": "stdout",
     "output_type": "stream",
     "text": [
      "Number of tract records written to file: 3,233\n"
     ]
    }
   ],
   "source": [
    "county_gdf.to_csv(output, index=None)\n",
    "print('Number of tract records written to file:',\"{:,}\".format(len(county_gdf)))"
   ]
  }
 ],
 "metadata": {
  "kernelspec": {
   "display_name": "Python 3",
   "language": "python",
   "name": "python3"
  },
  "language_info": {
   "codemirror_mode": {
    "name": "ipython",
    "version": 3
   },
   "file_extension": ".py",
   "mimetype": "text/x-python",
   "name": "python",
   "nbconvert_exporter": "python",
   "pygments_lexer": "ipython3",
   "version": "3.7.0"
  }
 },
 "nbformat": 4,
 "nbformat_minor": 2
}
