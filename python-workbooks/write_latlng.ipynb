{
 "cells": [
  {
   "cell_type": "code",
   "execution_count": 1,
   "metadata": {},
   "outputs": [],
   "source": [
    "import pandas as pd\n",
    "from pathlib import Path"
   ]
  },
  {
   "cell_type": "code",
   "execution_count": null,
   "metadata": {},
   "outputs": [],
   "source": []
  },
  {
   "cell_type": "code",
   "execution_count": 2,
   "metadata": {},
   "outputs": [
    {
     "name": "stdout",
     "output_type": "stream",
     "text": [
      "OD file exist\n"
     ]
    }
   ],
   "source": [
    "ODpath = Path(\"../data/OD/\")\n",
    "OD_file = ODpath.joinpath(\"21_od_distance_1000_plus.csv.gz\")\n",
    "if OD_file.exists ():\n",
    "    print (\"OD file exist\")\n",
    "else:\n",
    "    print (\"OD file does not exist\")\n",
    "    "
   ]
  },
  {
   "cell_type": "code",
   "execution_count": 3,
   "metadata": {},
   "outputs": [],
   "source": [
    "df = pd.read_csv(OD_file, dtype={'w_geocode': str,'h_geocode':str, 'w_group_count':str})\n",
    "len(df)"
   ]
  },
  {
   "cell_type": "code",
   "execution_count": 4,
   "metadata": {},
   "outputs": [
    {
     "data": {
      "text/html": [
       "<div>\n",
       "<style scoped>\n",
       "    .dataframe tbody tr th:only-of-type {\n",
       "        vertical-align: middle;\n",
       "    }\n",
       "\n",
       "    .dataframe tbody tr th {\n",
       "        vertical-align: top;\n",
       "    }\n",
       "\n",
       "    .dataframe thead th {\n",
       "        text-align: right;\n",
       "    }\n",
       "</style>\n",
       "<table border=\"1\" class=\"dataframe\">\n",
       "  <thead>\n",
       "    <tr style=\"text-align: right;\">\n",
       "      <th></th>\n",
       "      <th>w_geocode</th>\n",
       "      <th>h_geocode</th>\n",
       "      <th>distance</th>\n",
       "      <th>w_group_count</th>\n",
       "      <th>S000</th>\n",
       "      <th>SA01</th>\n",
       "      <th>SA02</th>\n",
       "      <th>SA03</th>\n",
       "      <th>SE01</th>\n",
       "      <th>SE02</th>\n",
       "      <th>SE03</th>\n",
       "      <th>SI01</th>\n",
       "      <th>SI02</th>\n",
       "      <th>SI03</th>\n",
       "      <th>w_lat</th>\n",
       "      <th>w_lon</th>\n",
       "      <th>h_lat</th>\n",
       "      <th>h_lon</th>\n",
       "      <th>state</th>\n",
       "    </tr>\n",
       "  </thead>\n",
       "  <tbody>\n",
       "    <tr>\n",
       "      <th>0</th>\n",
       "      <td>210099505002000</td>\n",
       "      <td>210019702001066</td>\n",
       "      <td>55447</td>\n",
       "      <td>1212</td>\n",
       "      <td>1</td>\n",
       "      <td>0</td>\n",
       "      <td>1</td>\n",
       "      <td>0</td>\n",
       "      <td>0</td>\n",
       "      <td>0</td>\n",
       "      <td>1</td>\n",
       "      <td>0</td>\n",
       "      <td>0</td>\n",
       "      <td>1</td>\n",
       "      <td>37.0108</td>\n",
       "      <td>-85.90684</td>\n",
       "      <td>37.16855</td>\n",
       "      <td>-85.31508</td>\n",
       "      <td>21</td>\n",
       "    </tr>\n",
       "    <tr>\n",
       "      <th>1</th>\n",
       "      <td>210099505002000</td>\n",
       "      <td>210019702001086</td>\n",
       "      <td>47802</td>\n",
       "      <td>1212</td>\n",
       "      <td>1</td>\n",
       "      <td>0</td>\n",
       "      <td>1</td>\n",
       "      <td>0</td>\n",
       "      <td>0</td>\n",
       "      <td>0</td>\n",
       "      <td>1</td>\n",
       "      <td>0</td>\n",
       "      <td>0</td>\n",
       "      <td>1</td>\n",
       "      <td>37.0108</td>\n",
       "      <td>-85.90684</td>\n",
       "      <td>37.13799</td>\n",
       "      <td>-85.39325</td>\n",
       "      <td>21</td>\n",
       "    </tr>\n",
       "    <tr>\n",
       "      <th>2</th>\n",
       "      <td>210099505002000</td>\n",
       "      <td>210019703001021</td>\n",
       "      <td>73360</td>\n",
       "      <td>1212</td>\n",
       "      <td>1</td>\n",
       "      <td>0</td>\n",
       "      <td>1</td>\n",
       "      <td>0</td>\n",
       "      <td>0</td>\n",
       "      <td>0</td>\n",
       "      <td>1</td>\n",
       "      <td>0</td>\n",
       "      <td>0</td>\n",
       "      <td>1</td>\n",
       "      <td>37.0108</td>\n",
       "      <td>-85.90684</td>\n",
       "      <td>37.17078</td>\n",
       "      <td>-85.10622</td>\n",
       "      <td>21</td>\n",
       "    </tr>\n",
       "    <tr>\n",
       "      <th>3</th>\n",
       "      <td>210099505002000</td>\n",
       "      <td>210019703001030</td>\n",
       "      <td>62186</td>\n",
       "      <td>1212</td>\n",
       "      <td>2</td>\n",
       "      <td>1</td>\n",
       "      <td>1</td>\n",
       "      <td>0</td>\n",
       "      <td>0</td>\n",
       "      <td>1</td>\n",
       "      <td>1</td>\n",
       "      <td>0</td>\n",
       "      <td>0</td>\n",
       "      <td>2</td>\n",
       "      <td>37.0108</td>\n",
       "      <td>-85.90684</td>\n",
       "      <td>37.15698</td>\n",
       "      <td>-85.23166</td>\n",
       "      <td>21</td>\n",
       "    </tr>\n",
       "    <tr>\n",
       "      <th>4</th>\n",
       "      <td>210099505002000</td>\n",
       "      <td>210019703002035</td>\n",
       "      <td>63240</td>\n",
       "      <td>1212</td>\n",
       "      <td>1</td>\n",
       "      <td>0</td>\n",
       "      <td>1</td>\n",
       "      <td>0</td>\n",
       "      <td>0</td>\n",
       "      <td>1</td>\n",
       "      <td>0</td>\n",
       "      <td>0</td>\n",
       "      <td>0</td>\n",
       "      <td>1</td>\n",
       "      <td>37.0108</td>\n",
       "      <td>-85.90684</td>\n",
       "      <td>37.08517</td>\n",
       "      <td>-85.20200</td>\n",
       "      <td>21</td>\n",
       "    </tr>\n",
       "  </tbody>\n",
       "</table>\n",
       "</div>"
      ],
      "text/plain": [
       "         w_geocode        h_geocode  distance w_group_count  S000  SA01  SA02  \\\n",
       "0  210099505002000  210019702001066     55447          1212     1     0     1   \n",
       "1  210099505002000  210019702001086     47802          1212     1     0     1   \n",
       "2  210099505002000  210019703001021     73360          1212     1     0     1   \n",
       "3  210099505002000  210019703001030     62186          1212     2     1     1   \n",
       "4  210099505002000  210019703002035     63240          1212     1     0     1   \n",
       "\n",
       "   SA03  SE01  SE02  SE03  SI01  SI02  SI03    w_lat     w_lon     h_lat  \\\n",
       "0     0     0     0     1     0     0     1  37.0108 -85.90684  37.16855   \n",
       "1     0     0     0     1     0     0     1  37.0108 -85.90684  37.13799   \n",
       "2     0     0     0     1     0     0     1  37.0108 -85.90684  37.17078   \n",
       "3     0     0     1     1     0     0     2  37.0108 -85.90684  37.15698   \n",
       "4     0     0     1     0     0     0     1  37.0108 -85.90684  37.08517   \n",
       "\n",
       "      h_lon  state  \n",
       "0 -85.31508     21  \n",
       "1 -85.39325     21  \n",
       "2 -85.10622     21  \n",
       "3 -85.23166     21  \n",
       "4 -85.20200     21  "
      ]
     },
     "execution_count": 4,
     "metadata": {},
     "output_type": "execute_result"
    }
   ],
   "source": [
    "df.head()"
   ]
  },
  {
   "cell_type": "code",
   "execution_count": 21,
   "metadata": {},
   "outputs": [],
   "source": [
    "unzip_file=ODpath.joinpath(\"21_od_distance_1000_plus.csv\")\n",
    "df_filter = df[(df['distance'] <= 100000)]\n",
    "df_filter.to_csv(unzip_file, index=None, float_format='%.3f')"
   ]
  },
  {
   "cell_type": "code",
   "execution_count": 5,
   "metadata": {},
   "outputs": [
    {
     "data": {
      "text/plain": [
       "278282"
      ]
     },
     "execution_count": 5,
     "metadata": {},
     "output_type": "execute_result"
    }
   ],
   "source": []
  },
  {
   "cell_type": "code",
   "execution_count": 7,
   "metadata": {},
   "outputs": [],
   "source": [
    "state_id = '21'\n",
    "outputstate = state_id + '_latlng_1000_plus.csv'\n",
    "#outputstate = state_id + '_latlng.csv.gz'\n",
    "out_state = ODpath.joinpath(outputstate)"
   ]
  },
  {
   "cell_type": "code",
   "execution_count": 8,
   "metadata": {},
   "outputs": [],
   "source": [
    "df_all = df.drop(['w_geocode','h_geocode','distance','S000','SA01','SA02','SA03','SE01','SE02','SE03','SI01','SI02','SI03','state'],axis=1)\n",
    "df_all.to_csv(out_state, index=None, float_format='%.3f')\n",
    "#df_all.to_csv(out_state, compression='gzip', index=None, float_format='%.3f')"
   ]
  },
  {
   "cell_type": "code",
   "execution_count": 9,
   "metadata": {},
   "outputs": [],
   "source": []
  },
  {
   "cell_type": "markdown",
   "metadata": {},
   "source": [
    "#### Filter data by those earning 1,250 per month or less"
   ]
  },
  {
   "cell_type": "code",
   "execution_count": 10,
   "metadata": {},
   "outputs": [
    {
     "name": "stdout",
     "output_type": "stream",
     "text": [
      "Length of dataframe: 42,498 \n",
      "\n"
     ]
    }
   ],
   "source": [
    "df_limited_filter = df[(df['SE01'] > 0) & (df['distance'] <= 100000)]\n",
    "df_limited_income = df_limited_filter.copy()\n",
    "\n",
    "df_limited_income.drop(['w_geocode','h_geocode','w_group_count','S000','SA01','SA02','SA03','SE01','SE02','SE03','SI01','SI02','SI03','state'],axis=1, inplace=True)\n",
    "print('Length of dataframe:',\"{:,}\".format(len(df_limited_income)),'\\n')"
   ]
  },
  {
   "cell_type": "code",
   "execution_count": 11,
   "metadata": {},
   "outputs": [],
   "source": [
    "df_limited_income.distance =  df_limited_income.distance.map(lambda x: '%.0f' % x)\n"
   ]
  },
  {
   "cell_type": "code",
   "execution_count": 12,
   "metadata": {},
   "outputs": [
    {
     "data": {
      "text/html": [
       "<div>\n",
       "<style scoped>\n",
       "    .dataframe tbody tr th:only-of-type {\n",
       "        vertical-align: middle;\n",
       "    }\n",
       "\n",
       "    .dataframe tbody tr th {\n",
       "        vertical-align: top;\n",
       "    }\n",
       "\n",
       "    .dataframe thead th {\n",
       "        text-align: right;\n",
       "    }\n",
       "</style>\n",
       "<table border=\"1\" class=\"dataframe\">\n",
       "  <thead>\n",
       "    <tr style=\"text-align: right;\">\n",
       "      <th></th>\n",
       "      <th>distance</th>\n",
       "      <th>w_lat</th>\n",
       "      <th>w_lon</th>\n",
       "      <th>h_lat</th>\n",
       "      <th>h_lon</th>\n",
       "    </tr>\n",
       "  </thead>\n",
       "  <tbody>\n",
       "    <tr>\n",
       "      <th>40</th>\n",
       "      <td>19511</td>\n",
       "      <td>37.0108</td>\n",
       "      <td>-85.90684</td>\n",
       "      <td>37.15453</td>\n",
       "      <td>-85.78048</td>\n",
       "    </tr>\n",
       "    <tr>\n",
       "      <th>74</th>\n",
       "      <td>4217</td>\n",
       "      <td>37.0108</td>\n",
       "      <td>-85.90684</td>\n",
       "      <td>37.04357</td>\n",
       "      <td>-85.93083</td>\n",
       "    </tr>\n",
       "    <tr>\n",
       "      <th>85</th>\n",
       "      <td>14411</td>\n",
       "      <td>37.0108</td>\n",
       "      <td>-85.90684</td>\n",
       "      <td>37.13879</td>\n",
       "      <td>-85.93423</td>\n",
       "    </tr>\n",
       "    <tr>\n",
       "      <th>120</th>\n",
       "      <td>13332</td>\n",
       "      <td>37.0108</td>\n",
       "      <td>-85.90684</td>\n",
       "      <td>37.10432</td>\n",
       "      <td>-86.00092</td>\n",
       "    </tr>\n",
       "    <tr>\n",
       "      <th>121</th>\n",
       "      <td>10171</td>\n",
       "      <td>37.0108</td>\n",
       "      <td>-85.90684</td>\n",
       "      <td>37.08299</td>\n",
       "      <td>-85.97727</td>\n",
       "    </tr>\n",
       "  </tbody>\n",
       "</table>\n",
       "</div>"
      ],
      "text/plain": [
       "    distance    w_lat     w_lon     h_lat     h_lon\n",
       "40     19511  37.0108 -85.90684  37.15453 -85.78048\n",
       "74      4217  37.0108 -85.90684  37.04357 -85.93083\n",
       "85     14411  37.0108 -85.90684  37.13879 -85.93423\n",
       "120    13332  37.0108 -85.90684  37.10432 -86.00092\n",
       "121    10171  37.0108 -85.90684  37.08299 -85.97727"
      ]
     },
     "execution_count": 12,
     "metadata": {},
     "output_type": "execute_result"
    }
   ],
   "source": [
    "df_limited_income.head()"
   ]
  },
  {
   "cell_type": "code",
   "execution_count": 13,
   "metadata": {},
   "outputs": [],
   "source": [
    "state_id = '21'\n",
    "outputstate = state_id + '_latlng_low_income_1000_plus.csv'\n",
    "#outputstate = state_id + '_latlng_low_income.csv.gz'\n",
    "out_state = ODpath.joinpath(outputstate)\n",
    "df_limited_income.to_csv(out_state, index=None, float_format='%.3f')\n",
    "#df_limited_income.to_csv(out_state, compression='gzip', index=None, float_format='%.3f')"
   ]
  },
  {
   "cell_type": "markdown",
   "metadata": {},
   "source": [
    "#### Filter data by those earning more than 1,250 and less than 3,333 per month"
   ]
  },
  {
   "cell_type": "code",
   "execution_count": 14,
   "metadata": {},
   "outputs": [
    {
     "name": "stdout",
     "output_type": "stream",
     "text": [
      "Length of dataframe: 102,278 \n",
      "\n"
     ]
    }
   ],
   "source": [
    "df_limited_income = df[(df['SE02'] > 0) & (df['distance'] <= 100000)]\n",
    "print('Length of dataframe:',\"{:,}\".format(len(df_limited_income)),'\\n')"
   ]
  },
  {
   "cell_type": "code",
   "execution_count": 15,
   "metadata": {},
   "outputs": [],
   "source": [
    "state_id = '21'\n",
    "outputstate = state_id + '_latlng_medium_income_1000_plus.csv'\n",
    "#outputstate = state_id + '_latlng_medium_income.csv.gz'\n",
    "out_state = ODpath.joinpath(outputstate)\n",
    "df_limited_income.to_csv(out_state, index=None, float_format='%.3f')\n",
    "#df_limited_income.to_csv(out_state, compression='gzip', index=None, float_format='%.3f')"
   ]
  },
  {
   "cell_type": "markdown",
   "metadata": {},
   "source": [
    "#### Filter data by those earning 3,3333 per month or more"
   ]
  },
  {
   "cell_type": "code",
   "execution_count": 16,
   "metadata": {},
   "outputs": [
    {
     "name": "stdout",
     "output_type": "stream",
     "text": [
      "Length of dataframe: 138,610 \n",
      "\n"
     ]
    }
   ],
   "source": [
    "df_limited_income = df[(df['SE03'] > 0) & (df['distance'] <= 100000)]\n",
    "print('Length of dataframe:',\"{:,}\".format(len(df_limited_income)),'\\n')"
   ]
  },
  {
   "cell_type": "code",
   "execution_count": 17,
   "metadata": {},
   "outputs": [],
   "source": [
    "state_id = '21'\n",
    "outputstate = state_id + '_latlng_high_income_1000_plus.csv'\n",
    "#outputstate = state_id + '_latlng_high_income.csv.gz'\n",
    "out_state = ODpath.joinpath(outputstate)\n",
    "df_limited_income.to_csv(out_state, index=None, float_format='%.3f')\n",
    "#df_limited_income.to_csv(out_state, compression='gzip', index=None, float_format='%.3f')"
   ]
  },
  {
   "cell_type": "code",
   "execution_count": null,
   "metadata": {},
   "outputs": [],
   "source": []
  },
  {
   "cell_type": "code",
   "execution_count": null,
   "metadata": {},
   "outputs": [],
   "source": []
  }
 ],
 "metadata": {
  "kernelspec": {
   "display_name": "Python 3",
   "language": "python",
   "name": "python3"
  },
  "language_info": {
   "codemirror_mode": {
    "name": "ipython",
    "version": 3
   },
   "file_extension": ".py",
   "mimetype": "text/x-python",
   "name": "python",
   "nbconvert_exporter": "python",
   "pygments_lexer": "ipython3",
   "version": "3.7.0"
  }
 },
 "nbformat": 4,
 "nbformat_minor": 2
}
