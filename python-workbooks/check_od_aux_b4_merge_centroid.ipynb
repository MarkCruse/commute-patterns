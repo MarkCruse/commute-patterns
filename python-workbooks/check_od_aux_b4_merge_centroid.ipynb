{
 "cells": [
  {
   "cell_type": "code",
   "execution_count": null,
   "metadata": {},
   "outputs": [],
   "source": []
  },
  {
   "cell_type": "code",
   "execution_count": 1,
   "metadata": {},
   "outputs": [],
   "source": [
    "import pandas as pd\n",
    "import numpy as np\n",
    "from pathlib import Path\n",
    "import zipfile\n",
    "import timeit\n",
    "from IPython.display import clear_output"
   ]
  },
  {
   "cell_type": "code",
   "execution_count": 2,
   "metadata": {},
   "outputs": [
    {
     "name": "stdout",
     "output_type": "stream",
     "text": [
      "OD file exist\n",
      "Block Centroid file exist\n"
     ]
    }
   ],
   "source": [
    "ODpath = Path(\"../data/OD/\")\n",
    "OD_file = ODpath.joinpath(\"od_aux_1k.csv.gz\")\n",
    "if OD_file.exists ():\n",
    "    print (\"OD file exist\")\n",
    "else:\n",
    "    print (\"OD file does not exist\")\n",
    "    \n",
    "blockPath = Path(\"../data/blocks/\")\n",
    "block_file = blockPath.joinpath(\"block_centroids.csv.gz\")\n",
    "if block_file.exists ():\n",
    "    print (\"Block Centroid file exist\")\n",
    "else:\n",
    "    print (\"Block Centroid file does not exist\")"
   ]
  },
  {
   "cell_type": "code",
   "execution_count": 3,
   "metadata": {},
   "outputs": [
    {
     "name": "stdout",
     "output_type": "stream",
     "text": [
      "Wall time: 4min 36s\n"
     ]
    }
   ],
   "source": [
    "%time df = pd.read_csv(OD_file, compression='gzip', dtype={'w_geocode': str,'h_geocode':str})"
   ]
  },
  {
   "cell_type": "code",
   "execution_count": null,
   "metadata": {},
   "outputs": [],
   "source": []
  },
  {
   "cell_type": "code",
   "execution_count": 4,
   "metadata": {},
   "outputs": [],
   "source": [
    "df_group = df.groupby(['w_geocode']).sum()\n",
    "df_group_limited = df_group[(df_group['S000'] >= 1000)]"
   ]
  },
  {
   "cell_type": "code",
   "execution_count": 5,
   "metadata": {},
   "outputs": [
    {
     "data": {
      "text/html": [
       "<div>\n",
       "<style scoped>\n",
       "    .dataframe tbody tr th:only-of-type {\n",
       "        vertical-align: middle;\n",
       "    }\n",
       "\n",
       "    .dataframe tbody tr th {\n",
       "        vertical-align: top;\n",
       "    }\n",
       "\n",
       "    .dataframe thead th {\n",
       "        text-align: right;\n",
       "    }\n",
       "</style>\n",
       "<table border=\"1\" class=\"dataframe\">\n",
       "  <thead>\n",
       "    <tr style=\"text-align: right;\">\n",
       "      <th></th>\n",
       "      <th>S000</th>\n",
       "      <th>SA01</th>\n",
       "      <th>SA02</th>\n",
       "      <th>SA03</th>\n",
       "      <th>SE01</th>\n",
       "      <th>SE02</th>\n",
       "      <th>SE03</th>\n",
       "      <th>SI01</th>\n",
       "      <th>SI02</th>\n",
       "      <th>SI03</th>\n",
       "    </tr>\n",
       "    <tr>\n",
       "      <th>w_geocode</th>\n",
       "      <th></th>\n",
       "      <th></th>\n",
       "      <th></th>\n",
       "      <th></th>\n",
       "      <th></th>\n",
       "      <th></th>\n",
       "      <th></th>\n",
       "      <th></th>\n",
       "      <th></th>\n",
       "      <th></th>\n",
       "    </tr>\n",
       "  </thead>\n",
       "  <tbody>\n",
       "    <tr>\n",
       "      <th>010010205001001</th>\n",
       "      <td>1100</td>\n",
       "      <td>536</td>\n",
       "      <td>426</td>\n",
       "      <td>138</td>\n",
       "      <td>534</td>\n",
       "      <td>412</td>\n",
       "      <td>154</td>\n",
       "      <td>13</td>\n",
       "      <td>540</td>\n",
       "      <td>547</td>\n",
       "    </tr>\n",
       "    <tr>\n",
       "      <th>010030107032109</th>\n",
       "      <td>1009</td>\n",
       "      <td>498</td>\n",
       "      <td>406</td>\n",
       "      <td>105</td>\n",
       "      <td>517</td>\n",
       "      <td>332</td>\n",
       "      <td>160</td>\n",
       "      <td>0</td>\n",
       "      <td>584</td>\n",
       "      <td>425</td>\n",
       "    </tr>\n",
       "    <tr>\n",
       "      <th>010030112023027</th>\n",
       "      <td>1088</td>\n",
       "      <td>173</td>\n",
       "      <td>656</td>\n",
       "      <td>259</td>\n",
       "      <td>93</td>\n",
       "      <td>413</td>\n",
       "      <td>582</td>\n",
       "      <td>0</td>\n",
       "      <td>0</td>\n",
       "      <td>1088</td>\n",
       "    </tr>\n",
       "    <tr>\n",
       "      <th>010030115021041</th>\n",
       "      <td>1280</td>\n",
       "      <td>560</td>\n",
       "      <td>522</td>\n",
       "      <td>198</td>\n",
       "      <td>719</td>\n",
       "      <td>397</td>\n",
       "      <td>164</td>\n",
       "      <td>0</td>\n",
       "      <td>805</td>\n",
       "      <td>475</td>\n",
       "    </tr>\n",
       "    <tr>\n",
       "      <th>010059505002038</th>\n",
       "      <td>1448</td>\n",
       "      <td>432</td>\n",
       "      <td>793</td>\n",
       "      <td>223</td>\n",
       "      <td>105</td>\n",
       "      <td>1020</td>\n",
       "      <td>323</td>\n",
       "      <td>1448</td>\n",
       "      <td>0</td>\n",
       "      <td>0</td>\n",
       "    </tr>\n",
       "  </tbody>\n",
       "</table>\n",
       "</div>"
      ],
      "text/plain": [
       "                 S000  SA01  SA02  SA03  SE01  SE02  SE03  SI01  SI02  SI03\n",
       "w_geocode                                                                  \n",
       "010010205001001  1100   536   426   138   534   412   154    13   540   547\n",
       "010030107032109  1009   498   406   105   517   332   160     0   584   425\n",
       "010030112023027  1088   173   656   259    93   413   582     0     0  1088\n",
       "010030115021041  1280   560   522   198   719   397   164     0   805   475\n",
       "010059505002038  1448   432   793   223   105  1020   323  1448     0     0"
      ]
     },
     "execution_count": 5,
     "metadata": {},
     "output_type": "execute_result"
    }
   ],
   "source": [
    "df_group_limited.head()"
   ]
  },
  {
   "cell_type": "code",
   "execution_count": 6,
   "metadata": {},
   "outputs": [
    {
     "data": {
      "text/plain": [
       "71373"
      ]
     },
     "execution_count": 6,
     "metadata": {},
     "output_type": "execute_result"
    }
   ],
   "source": [
    "df_group_limited.S000.max()"
   ]
  },
  {
   "cell_type": "code",
   "execution_count": 7,
   "metadata": {},
   "outputs": [],
   "source": [
    "df2 = pd.merge(df, df_group_limited, on='w_geocode', suffixes=('','_del'))"
   ]
  },
  {
   "cell_type": "code",
   "execution_count": 8,
   "metadata": {},
   "outputs": [
    {
     "data": {
      "text/html": [
       "<div>\n",
       "<style scoped>\n",
       "    .dataframe tbody tr th:only-of-type {\n",
       "        vertical-align: middle;\n",
       "    }\n",
       "\n",
       "    .dataframe tbody tr th {\n",
       "        vertical-align: top;\n",
       "    }\n",
       "\n",
       "    .dataframe thead th {\n",
       "        text-align: right;\n",
       "    }\n",
       "</style>\n",
       "<table border=\"1\" class=\"dataframe\">\n",
       "  <thead>\n",
       "    <tr style=\"text-align: right;\">\n",
       "      <th></th>\n",
       "      <th>w_geocode</th>\n",
       "      <th>h_geocode</th>\n",
       "      <th>S000</th>\n",
       "      <th>SA01</th>\n",
       "      <th>SA02</th>\n",
       "      <th>SA03</th>\n",
       "      <th>SE01</th>\n",
       "      <th>SE02</th>\n",
       "      <th>SE03</th>\n",
       "      <th>SI01</th>\n",
       "      <th>...</th>\n",
       "      <th>S000_del</th>\n",
       "      <th>SA01_del</th>\n",
       "      <th>SA02_del</th>\n",
       "      <th>SA03_del</th>\n",
       "      <th>SE01_del</th>\n",
       "      <th>SE02_del</th>\n",
       "      <th>SE03_del</th>\n",
       "      <th>SI01_del</th>\n",
       "      <th>SI02_del</th>\n",
       "      <th>SI03_del</th>\n",
       "    </tr>\n",
       "  </thead>\n",
       "  <tbody>\n",
       "    <tr>\n",
       "      <th>0</th>\n",
       "      <td>020160002001050</td>\n",
       "      <td>020160001001250</td>\n",
       "      <td>3</td>\n",
       "      <td>0</td>\n",
       "      <td>1</td>\n",
       "      <td>2</td>\n",
       "      <td>0</td>\n",
       "      <td>2</td>\n",
       "      <td>1</td>\n",
       "      <td>2</td>\n",
       "      <td>...</td>\n",
       "      <td>1530</td>\n",
       "      <td>257</td>\n",
       "      <td>924</td>\n",
       "      <td>349</td>\n",
       "      <td>599</td>\n",
       "      <td>522</td>\n",
       "      <td>409</td>\n",
       "      <td>1189</td>\n",
       "      <td>308</td>\n",
       "      <td>33</td>\n",
       "    </tr>\n",
       "    <tr>\n",
       "      <th>1</th>\n",
       "      <td>020160002001050</td>\n",
       "      <td>020160001001270</td>\n",
       "      <td>1</td>\n",
       "      <td>0</td>\n",
       "      <td>1</td>\n",
       "      <td>0</td>\n",
       "      <td>0</td>\n",
       "      <td>0</td>\n",
       "      <td>1</td>\n",
       "      <td>1</td>\n",
       "      <td>...</td>\n",
       "      <td>1530</td>\n",
       "      <td>257</td>\n",
       "      <td>924</td>\n",
       "      <td>349</td>\n",
       "      <td>599</td>\n",
       "      <td>522</td>\n",
       "      <td>409</td>\n",
       "      <td>1189</td>\n",
       "      <td>308</td>\n",
       "      <td>33</td>\n",
       "    </tr>\n",
       "    <tr>\n",
       "      <th>2</th>\n",
       "      <td>020160002001050</td>\n",
       "      <td>020160001001453</td>\n",
       "      <td>1</td>\n",
       "      <td>1</td>\n",
       "      <td>0</td>\n",
       "      <td>0</td>\n",
       "      <td>0</td>\n",
       "      <td>1</td>\n",
       "      <td>0</td>\n",
       "      <td>1</td>\n",
       "      <td>...</td>\n",
       "      <td>1530</td>\n",
       "      <td>257</td>\n",
       "      <td>924</td>\n",
       "      <td>349</td>\n",
       "      <td>599</td>\n",
       "      <td>522</td>\n",
       "      <td>409</td>\n",
       "      <td>1189</td>\n",
       "      <td>308</td>\n",
       "      <td>33</td>\n",
       "    </tr>\n",
       "    <tr>\n",
       "      <th>3</th>\n",
       "      <td>020160002001050</td>\n",
       "      <td>020160001001461</td>\n",
       "      <td>1</td>\n",
       "      <td>1</td>\n",
       "      <td>0</td>\n",
       "      <td>0</td>\n",
       "      <td>0</td>\n",
       "      <td>1</td>\n",
       "      <td>0</td>\n",
       "      <td>0</td>\n",
       "      <td>...</td>\n",
       "      <td>1530</td>\n",
       "      <td>257</td>\n",
       "      <td>924</td>\n",
       "      <td>349</td>\n",
       "      <td>599</td>\n",
       "      <td>522</td>\n",
       "      <td>409</td>\n",
       "      <td>1189</td>\n",
       "      <td>308</td>\n",
       "      <td>33</td>\n",
       "    </tr>\n",
       "    <tr>\n",
       "      <th>4</th>\n",
       "      <td>020160002001050</td>\n",
       "      <td>020160001001475</td>\n",
       "      <td>1</td>\n",
       "      <td>0</td>\n",
       "      <td>1</td>\n",
       "      <td>0</td>\n",
       "      <td>0</td>\n",
       "      <td>1</td>\n",
       "      <td>0</td>\n",
       "      <td>1</td>\n",
       "      <td>...</td>\n",
       "      <td>1530</td>\n",
       "      <td>257</td>\n",
       "      <td>924</td>\n",
       "      <td>349</td>\n",
       "      <td>599</td>\n",
       "      <td>522</td>\n",
       "      <td>409</td>\n",
       "      <td>1189</td>\n",
       "      <td>308</td>\n",
       "      <td>33</td>\n",
       "    </tr>\n",
       "  </tbody>\n",
       "</table>\n",
       "<p>5 rows × 22 columns</p>\n",
       "</div>"
      ],
      "text/plain": [
       "         w_geocode        h_geocode  S000  SA01  SA02  SA03  SE01  SE02  SE03  \\\n",
       "0  020160002001050  020160001001250     3     0     1     2     0     2     1   \n",
       "1  020160002001050  020160001001270     1     0     1     0     0     0     1   \n",
       "2  020160002001050  020160001001453     1     1     0     0     0     1     0   \n",
       "3  020160002001050  020160001001461     1     1     0     0     0     1     0   \n",
       "4  020160002001050  020160001001475     1     0     1     0     0     1     0   \n",
       "\n",
       "   SI01    ...     S000_del  SA01_del  SA02_del  SA03_del  SE01_del  SE02_del  \\\n",
       "0     2    ...         1530       257       924       349       599       522   \n",
       "1     1    ...         1530       257       924       349       599       522   \n",
       "2     1    ...         1530       257       924       349       599       522   \n",
       "3     0    ...         1530       257       924       349       599       522   \n",
       "4     1    ...         1530       257       924       349       599       522   \n",
       "\n",
       "   SE03_del  SI01_del  SI02_del  SI03_del  \n",
       "0       409      1189       308        33  \n",
       "1       409      1189       308        33  \n",
       "2       409      1189       308        33  \n",
       "3       409      1189       308        33  \n",
       "4       409      1189       308        33  \n",
       "\n",
       "[5 rows x 22 columns]"
      ]
     },
     "execution_count": 8,
     "metadata": {},
     "output_type": "execute_result"
    }
   ],
   "source": [
    "df2.head()"
   ]
  },
  {
   "cell_type": "code",
   "execution_count": null,
   "metadata": {},
   "outputs": [],
   "source": [
    "# keep the sum of the S000 to use in later filtering\n",
    "df2.rename(columns={'S000_del': 'w_group_count'}, inplace=True)\n",
    "df2.drop(list(df2.filter(regex='_del')), axis=1, inplace=True)\n",
    "    "
   ]
  },
  {
   "cell_type": "code",
   "execution_count": null,
   "metadata": {},
   "outputs": [],
   "source": []
  },
  {
   "cell_type": "code",
   "execution_count": null,
   "metadata": {},
   "outputs": [],
   "source": []
  },
  {
   "cell_type": "code",
   "execution_count": 9,
   "metadata": {},
   "outputs": [],
   "source": [
    "outputPath = Path(\"../data/OD/\")\n",
    "outputPath.mkdir(exist_ok=True, parents=True)"
   ]
  },
  {
   "cell_type": "markdown",
   "metadata": {},
   "source": [
    "#### Name zip file"
   ]
  },
  {
   "cell_type": "code",
   "execution_count": 10,
   "metadata": {},
   "outputs": [],
   "source": [
    "outputZip = 'od_aux_1k.csv.gz'"
   ]
  },
  {
   "cell_type": "markdown",
   "metadata": {},
   "source": [
    "#### Create full path with zip file"
   ]
  },
  {
   "cell_type": "code",
   "execution_count": 11,
   "metadata": {},
   "outputs": [],
   "source": [
    "out_Zip = outputPath.joinpath(outputZip)"
   ]
  }
 ],
 "metadata": {
  "kernelspec": {
   "display_name": "Python 3",
   "language": "python",
   "name": "python3"
  },
  "language_info": {
   "codemirror_mode": {
    "name": "ipython",
    "version": 3
   },
   "file_extension": ".py",
   "mimetype": "text/x-python",
   "name": "python",
   "nbconvert_exporter": "python",
   "pygments_lexer": "ipython3",
   "version": "3.7.0"
  }
 },
 "nbformat": 4,
 "nbformat_minor": 2
}
