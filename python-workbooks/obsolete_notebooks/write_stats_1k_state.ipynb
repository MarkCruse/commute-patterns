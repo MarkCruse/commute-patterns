{
 "cells": [
  {
   "cell_type": "markdown",
   "metadata": {},
   "source": [
    "## Create the Statistics Files"
   ]
  },
  {
   "cell_type": "code",
   "execution_count": 1,
   "metadata": {},
   "outputs": [],
   "source": [
    "import pandas as pd\n",
    "from pathlib import Path\n",
    "import zipfile"
   ]
  },
  {
   "cell_type": "code",
   "execution_count": 2,
   "metadata": {},
   "outputs": [
    {
     "name": "stdout",
     "output_type": "stream",
     "text": [
      "OD file exist\n"
     ]
    }
   ],
   "source": [
    "ODpath = Path(\"../data/OD/\")\n",
    "OD_file = ODpath.joinpath(\"od_distance_1k_clean.csv.gz\")\n",
    "if OD_file.exists ():\n",
    "    print (\"OD file exist\")\n",
    "else:\n",
    "    print (\"OD file does not exist\")\n",
    "    "
   ]
  },
  {
   "cell_type": "code",
   "execution_count": 3,
   "metadata": {},
   "outputs": [
    {
     "name": "stdout",
     "output_type": "stream",
     "text": [
      "Wall time: 2min 19s\n"
     ]
    }
   ],
   "source": [
    "%time df = pd.read_csv(OD_file, compression='gzip', dtype={'w_geocode': str,'h_geocode':str})"
   ]
  },
  {
   "cell_type": "markdown",
   "metadata": {},
   "source": [
    "#### Identify all state FIPS codes in data"
   ]
  },
  {
   "cell_type": "code",
   "execution_count": 4,
   "metadata": {},
   "outputs": [
    {
     "name": "stdout",
     "output_type": "stream",
     "text": [
      "48\n"
     ]
    }
   ],
   "source": [
    "state_list = df['w_geocode'].str.slice(0,2).unique().tolist()\n",
    "print (len(state_list))"
   ]
  },
  {
   "cell_type": "markdown",
   "metadata": {},
   "source": [
    "#### Create a column to contain the state FIPS"
   ]
  },
  {
   "cell_type": "code",
   "execution_count": 5,
   "metadata": {},
   "outputs": [],
   "source": [
    "df['state'] = df['w_geocode'].str.slice(0,2)"
   ]
  },
  {
   "cell_type": "markdown",
   "metadata": {},
   "source": [
    "#### Group the data to determine max and min values\n",
    "Should be between near 1k to 70k"
   ]
  },
  {
   "cell_type": "code",
   "execution_count": 6,
   "metadata": {},
   "outputs": [],
   "source": [
    "df_group = df.groupby(['w_geocode']).sum()\n",
    "df_group_limited = df_group[(df_group['S000'] >= 1000)]"
   ]
  },
  {
   "cell_type": "code",
   "execution_count": 7,
   "metadata": {},
   "outputs": [
    {
     "data": {
      "text/plain": [
       "71280"
      ]
     },
     "execution_count": 7,
     "metadata": {},
     "output_type": "execute_result"
    }
   ],
   "source": [
    "df_group_limited.S000.max()"
   ]
  },
  {
   "cell_type": "code",
   "execution_count": 8,
   "metadata": {},
   "outputs": [
    {
     "data": {
      "text/plain": [
       "1000"
      ]
     },
     "execution_count": 8,
     "metadata": {},
     "output_type": "execute_result"
    }
   ],
   "source": [
    "df_group_limited.S000.min()"
   ]
  },
  {
   "cell_type": "code",
   "execution_count": 9,
   "metadata": {},
   "outputs": [
    {
     "data": {
      "text/html": [
       "<div>\n",
       "<style scoped>\n",
       "    .dataframe tbody tr th:only-of-type {\n",
       "        vertical-align: middle;\n",
       "    }\n",
       "\n",
       "    .dataframe tbody tr th {\n",
       "        vertical-align: top;\n",
       "    }\n",
       "\n",
       "    .dataframe thead th {\n",
       "        text-align: right;\n",
       "    }\n",
       "</style>\n",
       "<table border=\"1\" class=\"dataframe\">\n",
       "  <thead>\n",
       "    <tr style=\"text-align: right;\">\n",
       "      <th></th>\n",
       "      <th>w_geocode</th>\n",
       "      <th>h_geocode</th>\n",
       "      <th>distance</th>\n",
       "      <th>w_group_count</th>\n",
       "      <th>S000</th>\n",
       "      <th>SA01</th>\n",
       "      <th>SA02</th>\n",
       "      <th>SA03</th>\n",
       "      <th>SE01</th>\n",
       "      <th>SE02</th>\n",
       "      <th>SE03</th>\n",
       "      <th>SI01</th>\n",
       "      <th>SI02</th>\n",
       "      <th>SI03</th>\n",
       "      <th>w_lat</th>\n",
       "      <th>w_lon</th>\n",
       "      <th>h_lat</th>\n",
       "      <th>h_lon</th>\n",
       "      <th>state</th>\n",
       "    </tr>\n",
       "  </thead>\n",
       "  <tbody>\n",
       "    <tr>\n",
       "      <th>0</th>\n",
       "      <td>010010205001001</td>\n",
       "      <td>010010201001016</td>\n",
       "      <td>5896</td>\n",
       "      <td>1076</td>\n",
       "      <td>1</td>\n",
       "      <td>1</td>\n",
       "      <td>0</td>\n",
       "      <td>0</td>\n",
       "      <td>1</td>\n",
       "      <td>0</td>\n",
       "      <td>0</td>\n",
       "      <td>0</td>\n",
       "      <td>1</td>\n",
       "      <td>0</td>\n",
       "      <td>32.457</td>\n",
       "      <td>-86.415</td>\n",
       "      <td>32.467</td>\n",
       "      <td>-86.477</td>\n",
       "      <td>01</td>\n",
       "    </tr>\n",
       "    <tr>\n",
       "      <th>1</th>\n",
       "      <td>010010205001001</td>\n",
       "      <td>010010201001025</td>\n",
       "      <td>6964</td>\n",
       "      <td>1076</td>\n",
       "      <td>1</td>\n",
       "      <td>1</td>\n",
       "      <td>0</td>\n",
       "      <td>0</td>\n",
       "      <td>0</td>\n",
       "      <td>1</td>\n",
       "      <td>0</td>\n",
       "      <td>0</td>\n",
       "      <td>1</td>\n",
       "      <td>0</td>\n",
       "      <td>32.457</td>\n",
       "      <td>-86.415</td>\n",
       "      <td>32.460</td>\n",
       "      <td>-86.489</td>\n",
       "      <td>01</td>\n",
       "    </tr>\n",
       "    <tr>\n",
       "      <th>2</th>\n",
       "      <td>010010205001001</td>\n",
       "      <td>010010201002016</td>\n",
       "      <td>7088</td>\n",
       "      <td>1076</td>\n",
       "      <td>2</td>\n",
       "      <td>0</td>\n",
       "      <td>2</td>\n",
       "      <td>0</td>\n",
       "      <td>0</td>\n",
       "      <td>0</td>\n",
       "      <td>2</td>\n",
       "      <td>0</td>\n",
       "      <td>2</td>\n",
       "      <td>0</td>\n",
       "      <td>32.457</td>\n",
       "      <td>-86.415</td>\n",
       "      <td>32.474</td>\n",
       "      <td>-86.488</td>\n",
       "      <td>01</td>\n",
       "    </tr>\n",
       "    <tr>\n",
       "      <th>3</th>\n",
       "      <td>010010205001001</td>\n",
       "      <td>010010201002017</td>\n",
       "      <td>6830</td>\n",
       "      <td>1076</td>\n",
       "      <td>3</td>\n",
       "      <td>3</td>\n",
       "      <td>0</td>\n",
       "      <td>0</td>\n",
       "      <td>1</td>\n",
       "      <td>2</td>\n",
       "      <td>0</td>\n",
       "      <td>0</td>\n",
       "      <td>1</td>\n",
       "      <td>2</td>\n",
       "      <td>32.457</td>\n",
       "      <td>-86.415</td>\n",
       "      <td>32.477</td>\n",
       "      <td>-86.484</td>\n",
       "      <td>01</td>\n",
       "    </tr>\n",
       "    <tr>\n",
       "      <th>4</th>\n",
       "      <td>010010205001001</td>\n",
       "      <td>010010201002022</td>\n",
       "      <td>7304</td>\n",
       "      <td>1076</td>\n",
       "      <td>1</td>\n",
       "      <td>0</td>\n",
       "      <td>1</td>\n",
       "      <td>0</td>\n",
       "      <td>0</td>\n",
       "      <td>1</td>\n",
       "      <td>0</td>\n",
       "      <td>0</td>\n",
       "      <td>1</td>\n",
       "      <td>0</td>\n",
       "      <td>32.457</td>\n",
       "      <td>-86.415</td>\n",
       "      <td>32.488</td>\n",
       "      <td>-86.483</td>\n",
       "      <td>01</td>\n",
       "    </tr>\n",
       "  </tbody>\n",
       "</table>\n",
       "</div>"
      ],
      "text/plain": [
       "         w_geocode        h_geocode  distance  w_group_count  S000  SA01  \\\n",
       "0  010010205001001  010010201001016      5896           1076     1     1   \n",
       "1  010010205001001  010010201001025      6964           1076     1     1   \n",
       "2  010010205001001  010010201002016      7088           1076     2     0   \n",
       "3  010010205001001  010010201002017      6830           1076     3     3   \n",
       "4  010010205001001  010010201002022      7304           1076     1     0   \n",
       "\n",
       "   SA02  SA03  SE01  SE02  SE03  SI01  SI02  SI03   w_lat   w_lon   h_lat  \\\n",
       "0     0     0     1     0     0     0     1     0  32.457 -86.415  32.467   \n",
       "1     0     0     0     1     0     0     1     0  32.457 -86.415  32.460   \n",
       "2     2     0     0     0     2     0     2     0  32.457 -86.415  32.474   \n",
       "3     0     0     1     2     0     0     1     2  32.457 -86.415  32.477   \n",
       "4     1     0     0     1     0     0     1     0  32.457 -86.415  32.488   \n",
       "\n",
       "    h_lon state  \n",
       "0 -86.477    01  \n",
       "1 -86.489    01  \n",
       "2 -86.488    01  \n",
       "3 -86.484    01  \n",
       "4 -86.483    01  "
      ]
     },
     "execution_count": 9,
     "metadata": {},
     "output_type": "execute_result"
    }
   ],
   "source": [
    "df.head()"
   ]
  },
  {
   "cell_type": "code",
   "execution_count": 10,
   "metadata": {},
   "outputs": [
    {
     "data": {
      "text/html": [
       "<div>\n",
       "<style scoped>\n",
       "    .dataframe tbody tr th:only-of-type {\n",
       "        vertical-align: middle;\n",
       "    }\n",
       "\n",
       "    .dataframe tbody tr th {\n",
       "        vertical-align: top;\n",
       "    }\n",
       "\n",
       "    .dataframe thead th {\n",
       "        text-align: right;\n",
       "    }\n",
       "</style>\n",
       "<table border=\"1\" class=\"dataframe\">\n",
       "  <thead>\n",
       "    <tr style=\"text-align: right;\">\n",
       "      <th></th>\n",
       "      <th>distance</th>\n",
       "      <th>w_group_count</th>\n",
       "      <th>S000</th>\n",
       "      <th>SA01</th>\n",
       "      <th>SA02</th>\n",
       "      <th>SA03</th>\n",
       "      <th>SE01</th>\n",
       "      <th>SE02</th>\n",
       "      <th>SE03</th>\n",
       "      <th>SI01</th>\n",
       "      <th>SI02</th>\n",
       "      <th>SI03</th>\n",
       "      <th>w_lat</th>\n",
       "      <th>w_lon</th>\n",
       "      <th>h_lat</th>\n",
       "      <th>h_lon</th>\n",
       "    </tr>\n",
       "    <tr>\n",
       "      <th>w_geocode</th>\n",
       "      <th></th>\n",
       "      <th></th>\n",
       "      <th></th>\n",
       "      <th></th>\n",
       "      <th></th>\n",
       "      <th></th>\n",
       "      <th></th>\n",
       "      <th></th>\n",
       "      <th></th>\n",
       "      <th></th>\n",
       "      <th></th>\n",
       "      <th></th>\n",
       "      <th></th>\n",
       "      <th></th>\n",
       "      <th></th>\n",
       "      <th></th>\n",
       "    </tr>\n",
       "  </thead>\n",
       "  <tbody>\n",
       "    <tr>\n",
       "      <th>010010205001001</th>\n",
       "      <td>64350037</td>\n",
       "      <td>998528</td>\n",
       "      <td>1076</td>\n",
       "      <td>522</td>\n",
       "      <td>420</td>\n",
       "      <td>134</td>\n",
       "      <td>520</td>\n",
       "      <td>405</td>\n",
       "      <td>151</td>\n",
       "      <td>13</td>\n",
       "      <td>530</td>\n",
       "      <td>533</td>\n",
       "      <td>30120.096</td>\n",
       "      <td>-80193.120</td>\n",
       "      <td>30228.317</td>\n",
       "      <td>-80207.445</td>\n",
       "    </tr>\n",
       "    <tr>\n",
       "      <th>010030112023027</th>\n",
       "      <td>24903670</td>\n",
       "      <td>813509</td>\n",
       "      <td>1069</td>\n",
       "      <td>170</td>\n",
       "      <td>643</td>\n",
       "      <td>256</td>\n",
       "      <td>92</td>\n",
       "      <td>403</td>\n",
       "      <td>574</td>\n",
       "      <td>0</td>\n",
       "      <td>0</td>\n",
       "      <td>1069</td>\n",
       "      <td>23224.959</td>\n",
       "      <td>-66882.768</td>\n",
       "      <td>23367.245</td>\n",
       "      <td>-66836.761</td>\n",
       "    </tr>\n",
       "    <tr>\n",
       "      <th>010030115021041</th>\n",
       "      <td>98730069</td>\n",
       "      <td>1081262</td>\n",
       "      <td>1183</td>\n",
       "      <td>520</td>\n",
       "      <td>482</td>\n",
       "      <td>181</td>\n",
       "      <td>657</td>\n",
       "      <td>374</td>\n",
       "      <td>152</td>\n",
       "      <td>0</td>\n",
       "      <td>751</td>\n",
       "      <td>432</td>\n",
       "      <td>27760.922</td>\n",
       "      <td>-80144.090</td>\n",
       "      <td>28510.338</td>\n",
       "      <td>-79933.250</td>\n",
       "    </tr>\n",
       "    <tr>\n",
       "      <th>010059505002038</th>\n",
       "      <td>21818131</td>\n",
       "      <td>597343</td>\n",
       "      <td>1061</td>\n",
       "      <td>289</td>\n",
       "      <td>610</td>\n",
       "      <td>162</td>\n",
       "      <td>74</td>\n",
       "      <td>699</td>\n",
       "      <td>288</td>\n",
       "      <td>1061</td>\n",
       "      <td>0</td>\n",
       "      <td>0</td>\n",
       "      <td>17903.963</td>\n",
       "      <td>-48042.479</td>\n",
       "      <td>17934.720</td>\n",
       "      <td>-48085.621</td>\n",
       "    </tr>\n",
       "    <tr>\n",
       "      <th>010150007002053</th>\n",
       "      <td>19549400</td>\n",
       "      <td>816910</td>\n",
       "      <td>1082</td>\n",
       "      <td>118</td>\n",
       "      <td>720</td>\n",
       "      <td>244</td>\n",
       "      <td>188</td>\n",
       "      <td>342</td>\n",
       "      <td>552</td>\n",
       "      <td>0</td>\n",
       "      <td>0</td>\n",
       "      <td>1082</td>\n",
       "      <td>25441.235</td>\n",
       "      <td>-64797.120</td>\n",
       "      <td>25457.605</td>\n",
       "      <td>-64856.141</td>\n",
       "    </tr>\n",
       "  </tbody>\n",
       "</table>\n",
       "</div>"
      ],
      "text/plain": [
       "                 distance  w_group_count  S000  SA01  SA02  SA03  SE01  SE02  \\\n",
       "w_geocode                                                                      \n",
       "010010205001001  64350037         998528  1076   522   420   134   520   405   \n",
       "010030112023027  24903670         813509  1069   170   643   256    92   403   \n",
       "010030115021041  98730069        1081262  1183   520   482   181   657   374   \n",
       "010059505002038  21818131         597343  1061   289   610   162    74   699   \n",
       "010150007002053  19549400         816910  1082   118   720   244   188   342   \n",
       "\n",
       "                 SE03  SI01  SI02  SI03      w_lat      w_lon      h_lat  \\\n",
       "w_geocode                                                                  \n",
       "010010205001001   151    13   530   533  30120.096 -80193.120  30228.317   \n",
       "010030112023027   574     0     0  1069  23224.959 -66882.768  23367.245   \n",
       "010030115021041   152     0   751   432  27760.922 -80144.090  28510.338   \n",
       "010059505002038   288  1061     0     0  17903.963 -48042.479  17934.720   \n",
       "010150007002053   552     0     0  1082  25441.235 -64797.120  25457.605   \n",
       "\n",
       "                     h_lon  \n",
       "w_geocode                   \n",
       "010010205001001 -80207.445  \n",
       "010030112023027 -66836.761  \n",
       "010030115021041 -79933.250  \n",
       "010059505002038 -48085.621  \n",
       "010150007002053 -64856.141  "
      ]
     },
     "execution_count": 10,
     "metadata": {},
     "output_type": "execute_result"
    }
   ],
   "source": [
    "df_group.head()"
   ]
  },
  {
   "cell_type": "code",
   "execution_count": 11,
   "metadata": {},
   "outputs": [
    {
     "data": {
      "text/plain": [
       "Index(['distance', 'w_group_count', 'S000', 'SA01', 'SA02', 'SA03', 'SE01',\n",
       "       'SE02', 'SE03', 'SI01', 'SI02', 'SI03', 'w_lat', 'w_lon', 'h_lat',\n",
       "       'h_lon'],\n",
       "      dtype='object')"
      ]
     },
     "execution_count": 11,
     "metadata": {},
     "output_type": "execute_result"
    }
   ],
   "source": [
    "df_group.columns"
   ]
  },
  {
   "cell_type": "code",
   "execution_count": 12,
   "metadata": {},
   "outputs": [],
   "source": [
    "df_group.drop(['distance','w_group_count','w_lat', 'w_lon', 'h_lat', 'h_lon'], axis=1, inplace=True)"
   ]
  },
  {
   "cell_type": "code",
   "execution_count": 13,
   "metadata": {},
   "outputs": [
    {
     "data": {
      "text/html": [
       "<div>\n",
       "<style scoped>\n",
       "    .dataframe tbody tr th:only-of-type {\n",
       "        vertical-align: middle;\n",
       "    }\n",
       "\n",
       "    .dataframe tbody tr th {\n",
       "        vertical-align: top;\n",
       "    }\n",
       "\n",
       "    .dataframe thead th {\n",
       "        text-align: right;\n",
       "    }\n",
       "</style>\n",
       "<table border=\"1\" class=\"dataframe\">\n",
       "  <thead>\n",
       "    <tr style=\"text-align: right;\">\n",
       "      <th></th>\n",
       "      <th>S000</th>\n",
       "      <th>SA01</th>\n",
       "      <th>SA02</th>\n",
       "      <th>SA03</th>\n",
       "      <th>SE01</th>\n",
       "      <th>SE02</th>\n",
       "      <th>SE03</th>\n",
       "      <th>SI01</th>\n",
       "      <th>SI02</th>\n",
       "      <th>SI03</th>\n",
       "    </tr>\n",
       "    <tr>\n",
       "      <th>w_geocode</th>\n",
       "      <th></th>\n",
       "      <th></th>\n",
       "      <th></th>\n",
       "      <th></th>\n",
       "      <th></th>\n",
       "      <th></th>\n",
       "      <th></th>\n",
       "      <th></th>\n",
       "      <th></th>\n",
       "      <th></th>\n",
       "    </tr>\n",
       "  </thead>\n",
       "  <tbody>\n",
       "    <tr>\n",
       "      <th>010010205001001</th>\n",
       "      <td>1076</td>\n",
       "      <td>522</td>\n",
       "      <td>420</td>\n",
       "      <td>134</td>\n",
       "      <td>520</td>\n",
       "      <td>405</td>\n",
       "      <td>151</td>\n",
       "      <td>13</td>\n",
       "      <td>530</td>\n",
       "      <td>533</td>\n",
       "    </tr>\n",
       "    <tr>\n",
       "      <th>010030112023027</th>\n",
       "      <td>1069</td>\n",
       "      <td>170</td>\n",
       "      <td>643</td>\n",
       "      <td>256</td>\n",
       "      <td>92</td>\n",
       "      <td>403</td>\n",
       "      <td>574</td>\n",
       "      <td>0</td>\n",
       "      <td>0</td>\n",
       "      <td>1069</td>\n",
       "    </tr>\n",
       "    <tr>\n",
       "      <th>010030115021041</th>\n",
       "      <td>1183</td>\n",
       "      <td>520</td>\n",
       "      <td>482</td>\n",
       "      <td>181</td>\n",
       "      <td>657</td>\n",
       "      <td>374</td>\n",
       "      <td>152</td>\n",
       "      <td>0</td>\n",
       "      <td>751</td>\n",
       "      <td>432</td>\n",
       "    </tr>\n",
       "    <tr>\n",
       "      <th>010059505002038</th>\n",
       "      <td>1061</td>\n",
       "      <td>289</td>\n",
       "      <td>610</td>\n",
       "      <td>162</td>\n",
       "      <td>74</td>\n",
       "      <td>699</td>\n",
       "      <td>288</td>\n",
       "      <td>1061</td>\n",
       "      <td>0</td>\n",
       "      <td>0</td>\n",
       "    </tr>\n",
       "    <tr>\n",
       "      <th>010150007002053</th>\n",
       "      <td>1082</td>\n",
       "      <td>118</td>\n",
       "      <td>720</td>\n",
       "      <td>244</td>\n",
       "      <td>188</td>\n",
       "      <td>342</td>\n",
       "      <td>552</td>\n",
       "      <td>0</td>\n",
       "      <td>0</td>\n",
       "      <td>1082</td>\n",
       "    </tr>\n",
       "  </tbody>\n",
       "</table>\n",
       "</div>"
      ],
      "text/plain": [
       "                 S000  SA01  SA02  SA03  SE01  SE02  SE03  SI01  SI02  SI03\n",
       "w_geocode                                                                  \n",
       "010010205001001  1076   522   420   134   520   405   151    13   530   533\n",
       "010030112023027  1069   170   643   256    92   403   574     0     0  1069\n",
       "010030115021041  1183   520   482   181   657   374   152     0   751   432\n",
       "010059505002038  1061   289   610   162    74   699   288  1061     0     0\n",
       "010150007002053  1082   118   720   244   188   342   552     0     0  1082"
      ]
     },
     "execution_count": 13,
     "metadata": {},
     "output_type": "execute_result"
    }
   ],
   "source": [
    "df_group.head()"
   ]
  },
  {
   "cell_type": "code",
   "execution_count": 14,
   "metadata": {},
   "outputs": [
    {
     "data": {
      "text/plain": [
       "71280"
      ]
     },
     "execution_count": 14,
     "metadata": {},
     "output_type": "execute_result"
    }
   ],
   "source": [
    "df_group.S000.max()"
   ]
  },
  {
   "cell_type": "code",
   "execution_count": 15,
   "metadata": {},
   "outputs": [
    {
     "data": {
      "text/plain": [
       "999"
      ]
     },
     "execution_count": 15,
     "metadata": {},
     "output_type": "execute_result"
    }
   ],
   "source": [
    "df_group.S000.min()"
   ]
  },
  {
   "cell_type": "code",
   "execution_count": 16,
   "metadata": {},
   "outputs": [
    {
     "data": {
      "text/plain": [
       "16070"
      ]
     },
     "execution_count": 16,
     "metadata": {},
     "output_type": "execute_result"
    }
   ],
   "source": [
    "len(df_group)"
   ]
  },
  {
   "cell_type": "code",
   "execution_count": 17,
   "metadata": {},
   "outputs": [],
   "source": [
    "ODpath = Path(\"../data/OD/\")\n",
    "OD_file_out = ODpath.joinpath(\"1k_plus_od_stats.csv\")\n",
    "df_group.to_csv(OD_file_out, index=None)"
   ]
  },
  {
   "cell_type": "markdown",
   "metadata": {},
   "source": [
    "#### Load the centroid file to dataframe for merging lat lng"
   ]
  },
  {
   "cell_type": "code",
   "execution_count": 18,
   "metadata": {},
   "outputs": [
    {
     "name": "stdout",
     "output_type": "stream",
     "text": [
      "Block Centroid file exist\n"
     ]
    }
   ],
   "source": [
    "blockPath = Path(\"../data/blocks/\")\n",
    "block_file = blockPath.joinpath(\"block_centroids.csv.gz\")\n",
    "if block_file.exists ():\n",
    "    print (\"Block Centroid file exist\")\n",
    "else:\n",
    "    print (\"Block Centroid file does not exist\")"
   ]
  },
  {
   "cell_type": "code",
   "execution_count": 19,
   "metadata": {},
   "outputs": [],
   "source": [
    "# load the centroid file\n",
    "centroids = pd.read_csv(block_file, dtype={'block_geoid': 'object', 'lat': 'float', 'lon': 'float'})"
   ]
  },
  {
   "cell_type": "markdown",
   "metadata": {},
   "source": [
    "#### Merge with df to get the lat lon assigned to the w_geocode"
   ]
  },
  {
   "cell_type": "code",
   "execution_count": 20,
   "metadata": {},
   "outputs": [
    {
     "data": {
      "text/html": [
       "<div>\n",
       "<style scoped>\n",
       "    .dataframe tbody tr th:only-of-type {\n",
       "        vertical-align: middle;\n",
       "    }\n",
       "\n",
       "    .dataframe tbody tr th {\n",
       "        vertical-align: top;\n",
       "    }\n",
       "\n",
       "    .dataframe thead th {\n",
       "        text-align: right;\n",
       "    }\n",
       "</style>\n",
       "<table border=\"1\" class=\"dataframe\">\n",
       "  <thead>\n",
       "    <tr style=\"text-align: right;\">\n",
       "      <th></th>\n",
       "      <th>S000</th>\n",
       "      <th>SA01</th>\n",
       "      <th>SA02</th>\n",
       "      <th>SA03</th>\n",
       "      <th>SE01</th>\n",
       "      <th>SE02</th>\n",
       "      <th>SE03</th>\n",
       "      <th>SI01</th>\n",
       "      <th>SI02</th>\n",
       "      <th>SI03</th>\n",
       "      <th>block_geoid</th>\n",
       "      <th>lat</th>\n",
       "      <th>lon</th>\n",
       "    </tr>\n",
       "  </thead>\n",
       "  <tbody>\n",
       "    <tr>\n",
       "      <th>0</th>\n",
       "      <td>1076</td>\n",
       "      <td>522</td>\n",
       "      <td>420</td>\n",
       "      <td>134</td>\n",
       "      <td>520</td>\n",
       "      <td>405</td>\n",
       "      <td>151</td>\n",
       "      <td>13</td>\n",
       "      <td>530</td>\n",
       "      <td>533</td>\n",
       "      <td>010010205001001</td>\n",
       "      <td>32.456740</td>\n",
       "      <td>-86.415025</td>\n",
       "    </tr>\n",
       "    <tr>\n",
       "      <th>1</th>\n",
       "      <td>1069</td>\n",
       "      <td>170</td>\n",
       "      <td>643</td>\n",
       "      <td>256</td>\n",
       "      <td>92</td>\n",
       "      <td>403</td>\n",
       "      <td>574</td>\n",
       "      <td>0</td>\n",
       "      <td>0</td>\n",
       "      <td>1069</td>\n",
       "      <td>010030112023027</td>\n",
       "      <td>30.518815</td>\n",
       "      <td>-87.888250</td>\n",
       "    </tr>\n",
       "    <tr>\n",
       "      <th>2</th>\n",
       "      <td>1183</td>\n",
       "      <td>520</td>\n",
       "      <td>482</td>\n",
       "      <td>181</td>\n",
       "      <td>657</td>\n",
       "      <td>374</td>\n",
       "      <td>152</td>\n",
       "      <td>0</td>\n",
       "      <td>751</td>\n",
       "      <td>432</td>\n",
       "      <td>010030115021041</td>\n",
       "      <td>30.372959</td>\n",
       "      <td>-87.684560</td>\n",
       "    </tr>\n",
       "    <tr>\n",
       "      <th>3</th>\n",
       "      <td>1061</td>\n",
       "      <td>289</td>\n",
       "      <td>610</td>\n",
       "      <td>162</td>\n",
       "      <td>74</td>\n",
       "      <td>699</td>\n",
       "      <td>288</td>\n",
       "      <td>1061</td>\n",
       "      <td>0</td>\n",
       "      <td>0</td>\n",
       "      <td>010059505002038</td>\n",
       "      <td>31.801006</td>\n",
       "      <td>-85.332896</td>\n",
       "    </tr>\n",
       "    <tr>\n",
       "      <th>4</th>\n",
       "      <td>1082</td>\n",
       "      <td>118</td>\n",
       "      <td>720</td>\n",
       "      <td>244</td>\n",
       "      <td>188</td>\n",
       "      <td>342</td>\n",
       "      <td>552</td>\n",
       "      <td>0</td>\n",
       "      <td>0</td>\n",
       "      <td>1082</td>\n",
       "      <td>010150007002053</td>\n",
       "      <td>33.696812</td>\n",
       "      <td>-85.824191</td>\n",
       "    </tr>\n",
       "  </tbody>\n",
       "</table>\n",
       "</div>"
      ],
      "text/plain": [
       "   S000  SA01  SA02  SA03  SE01  SE02  SE03  SI01  SI02  SI03  \\\n",
       "0  1076   522   420   134   520   405   151    13   530   533   \n",
       "1  1069   170   643   256    92   403   574     0     0  1069   \n",
       "2  1183   520   482   181   657   374   152     0   751   432   \n",
       "3  1061   289   610   162    74   699   288  1061     0     0   \n",
       "4  1082   118   720   244   188   342   552     0     0  1082   \n",
       "\n",
       "       block_geoid        lat        lon  \n",
       "0  010010205001001  32.456740 -86.415025  \n",
       "1  010030112023027  30.518815 -87.888250  \n",
       "2  010030115021041  30.372959 -87.684560  \n",
       "3  010059505002038  31.801006 -85.332896  \n",
       "4  010150007002053  33.696812 -85.824191  "
      ]
     },
     "execution_count": 20,
     "metadata": {},
     "output_type": "execute_result"
    }
   ],
   "source": [
    "merge_4latlng = pd.merge(df_group, centroids,left_on=  ['w_geocode'],right_on= ['block_geoid'],how = 'left')\n",
    "merge_4latlng.head()"
   ]
  },
  {
   "cell_type": "code",
   "execution_count": 21,
   "metadata": {},
   "outputs": [
    {
     "data": {
      "text/plain": [
       "Index(['S000', 'SA01', 'SA02', 'SA03', 'SE01', 'SE02', 'SE03', 'SI01', 'SI02',\n",
       "       'SI03', 'block_geoid', 'lat', 'lon'],\n",
       "      dtype='object')"
      ]
     },
     "execution_count": 21,
     "metadata": {},
     "output_type": "execute_result"
    }
   ],
   "source": [
    "merge_4latlng.columns"
   ]
  },
  {
   "cell_type": "code",
   "execution_count": 22,
   "metadata": {},
   "outputs": [
    {
     "data": {
      "text/plain": [
       "16070"
      ]
     },
     "execution_count": 22,
     "metadata": {},
     "output_type": "execute_result"
    }
   ],
   "source": [
    "len(merge_4latlng)"
   ]
  },
  {
   "cell_type": "markdown",
   "metadata": {},
   "source": [
    "#### Are there any nulls?"
   ]
  },
  {
   "cell_type": "code",
   "execution_count": 23,
   "metadata": {},
   "outputs": [
    {
     "name": "stdout",
     "output_type": "stream",
     "text": [
      "\n",
      "the number of null records: 0 \n",
      "\n",
      "\n"
     ]
    },
    {
     "data": {
      "text/html": [
       "<div>\n",
       "<style scoped>\n",
       "    .dataframe tbody tr th:only-of-type {\n",
       "        vertical-align: middle;\n",
       "    }\n",
       "\n",
       "    .dataframe tbody tr th {\n",
       "        vertical-align: top;\n",
       "    }\n",
       "\n",
       "    .dataframe thead th {\n",
       "        text-align: right;\n",
       "    }\n",
       "</style>\n",
       "<table border=\"1\" class=\"dataframe\">\n",
       "  <thead>\n",
       "    <tr style=\"text-align: right;\">\n",
       "      <th></th>\n",
       "      <th>S000</th>\n",
       "      <th>SA01</th>\n",
       "      <th>SA02</th>\n",
       "      <th>SA03</th>\n",
       "      <th>SE01</th>\n",
       "      <th>SE02</th>\n",
       "      <th>SE03</th>\n",
       "      <th>SI01</th>\n",
       "      <th>SI02</th>\n",
       "      <th>SI03</th>\n",
       "      <th>block_geoid</th>\n",
       "      <th>lat</th>\n",
       "      <th>lon</th>\n",
       "    </tr>\n",
       "  </thead>\n",
       "  <tbody>\n",
       "  </tbody>\n",
       "</table>\n",
       "</div>"
      ],
      "text/plain": [
       "Empty DataFrame\n",
       "Columns: [S000, SA01, SA02, SA03, SE01, SE02, SE03, SI01, SI02, SI03, block_geoid, lat, lon]\n",
       "Index: []"
      ]
     },
     "execution_count": 23,
     "metadata": {},
     "output_type": "execute_result"
    }
   ],
   "source": [
    "df_null = merge_4latlng[merge_4latlng.isnull().any(axis=1)]\n",
    "print ('\\nthe number of null records:', \"{:,}\".format(len(df_null)),'\\n\\n')\n",
    "df_null.head()"
   ]
  },
  {
   "cell_type": "markdown",
   "metadata": {},
   "source": [
    "#### Remove rows with any nulls"
   ]
  },
  {
   "cell_type": "code",
   "execution_count": 24,
   "metadata": {},
   "outputs": [
    {
     "data": {
      "text/html": [
       "<div>\n",
       "<style scoped>\n",
       "    .dataframe tbody tr th:only-of-type {\n",
       "        vertical-align: middle;\n",
       "    }\n",
       "\n",
       "    .dataframe tbody tr th {\n",
       "        vertical-align: top;\n",
       "    }\n",
       "\n",
       "    .dataframe thead th {\n",
       "        text-align: right;\n",
       "    }\n",
       "</style>\n",
       "<table border=\"1\" class=\"dataframe\">\n",
       "  <thead>\n",
       "    <tr style=\"text-align: right;\">\n",
       "      <th></th>\n",
       "      <th>S000</th>\n",
       "      <th>SA01</th>\n",
       "      <th>SA02</th>\n",
       "      <th>SA03</th>\n",
       "      <th>SE01</th>\n",
       "      <th>SE02</th>\n",
       "      <th>SE03</th>\n",
       "      <th>SI01</th>\n",
       "      <th>SI02</th>\n",
       "      <th>SI03</th>\n",
       "      <th>block_geoid</th>\n",
       "      <th>lat</th>\n",
       "      <th>lon</th>\n",
       "    </tr>\n",
       "  </thead>\n",
       "  <tbody>\n",
       "    <tr>\n",
       "      <th>0</th>\n",
       "      <td>1076</td>\n",
       "      <td>522</td>\n",
       "      <td>420</td>\n",
       "      <td>134</td>\n",
       "      <td>520</td>\n",
       "      <td>405</td>\n",
       "      <td>151</td>\n",
       "      <td>13</td>\n",
       "      <td>530</td>\n",
       "      <td>533</td>\n",
       "      <td>010010205001001</td>\n",
       "      <td>32.456740</td>\n",
       "      <td>-86.415025</td>\n",
       "    </tr>\n",
       "    <tr>\n",
       "      <th>1</th>\n",
       "      <td>1069</td>\n",
       "      <td>170</td>\n",
       "      <td>643</td>\n",
       "      <td>256</td>\n",
       "      <td>92</td>\n",
       "      <td>403</td>\n",
       "      <td>574</td>\n",
       "      <td>0</td>\n",
       "      <td>0</td>\n",
       "      <td>1069</td>\n",
       "      <td>010030112023027</td>\n",
       "      <td>30.518815</td>\n",
       "      <td>-87.888250</td>\n",
       "    </tr>\n",
       "    <tr>\n",
       "      <th>2</th>\n",
       "      <td>1183</td>\n",
       "      <td>520</td>\n",
       "      <td>482</td>\n",
       "      <td>181</td>\n",
       "      <td>657</td>\n",
       "      <td>374</td>\n",
       "      <td>152</td>\n",
       "      <td>0</td>\n",
       "      <td>751</td>\n",
       "      <td>432</td>\n",
       "      <td>010030115021041</td>\n",
       "      <td>30.372959</td>\n",
       "      <td>-87.684560</td>\n",
       "    </tr>\n",
       "    <tr>\n",
       "      <th>3</th>\n",
       "      <td>1061</td>\n",
       "      <td>289</td>\n",
       "      <td>610</td>\n",
       "      <td>162</td>\n",
       "      <td>74</td>\n",
       "      <td>699</td>\n",
       "      <td>288</td>\n",
       "      <td>1061</td>\n",
       "      <td>0</td>\n",
       "      <td>0</td>\n",
       "      <td>010059505002038</td>\n",
       "      <td>31.801006</td>\n",
       "      <td>-85.332896</td>\n",
       "    </tr>\n",
       "    <tr>\n",
       "      <th>4</th>\n",
       "      <td>1082</td>\n",
       "      <td>118</td>\n",
       "      <td>720</td>\n",
       "      <td>244</td>\n",
       "      <td>188</td>\n",
       "      <td>342</td>\n",
       "      <td>552</td>\n",
       "      <td>0</td>\n",
       "      <td>0</td>\n",
       "      <td>1082</td>\n",
       "      <td>010150007002053</td>\n",
       "      <td>33.696812</td>\n",
       "      <td>-85.824191</td>\n",
       "    </tr>\n",
       "  </tbody>\n",
       "</table>\n",
       "</div>"
      ],
      "text/plain": [
       "   S000  SA01  SA02  SA03  SE01  SE02  SE03  SI01  SI02  SI03  \\\n",
       "0  1076   522   420   134   520   405   151    13   530   533   \n",
       "1  1069   170   643   256    92   403   574     0     0  1069   \n",
       "2  1183   520   482   181   657   374   152     0   751   432   \n",
       "3  1061   289   610   162    74   699   288  1061     0     0   \n",
       "4  1082   118   720   244   188   342   552     0     0  1082   \n",
       "\n",
       "       block_geoid        lat        lon  \n",
       "0  010010205001001  32.456740 -86.415025  \n",
       "1  010030112023027  30.518815 -87.888250  \n",
       "2  010030115021041  30.372959 -87.684560  \n",
       "3  010059505002038  31.801006 -85.332896  \n",
       "4  010150007002053  33.696812 -85.824191  "
      ]
     },
     "execution_count": 24,
     "metadata": {},
     "output_type": "execute_result"
    }
   ],
   "source": [
    "df_stats_clean = merge_4latlng.dropna(how='any')\n",
    "df_null = merge_4latlng[merge_4latlng.isnull().any(axis=1)]\n",
    "df_stats_clean.head()"
   ]
  },
  {
   "cell_type": "code",
   "execution_count": 25,
   "metadata": {},
   "outputs": [
    {
     "data": {
      "text/plain": [
       "16070"
      ]
     },
     "execution_count": 25,
     "metadata": {},
     "output_type": "execute_result"
    }
   ],
   "source": [
    "len(df_stats_clean)"
   ]
  },
  {
   "cell_type": "markdown",
   "metadata": {},
   "source": [
    "#### Write the block level stats"
   ]
  },
  {
   "cell_type": "code",
   "execution_count": 26,
   "metadata": {},
   "outputs": [],
   "source": [
    "OD_file_out = ODpath.joinpath(\"1k_plus_od_block_stats.csv\")\n",
    "df_stats_clean.to_csv(OD_file_out, index=None)"
   ]
  },
  {
   "cell_type": "markdown",
   "metadata": {},
   "source": [
    "#### Sum the records for each state"
   ]
  },
  {
   "cell_type": "code",
   "execution_count": 27,
   "metadata": {},
   "outputs": [],
   "source": [
    "df_state_group = df.groupby(['state']).sum()"
   ]
  },
  {
   "cell_type": "code",
   "execution_count": 28,
   "metadata": {},
   "outputs": [
    {
     "data": {
      "text/plain": [
       "48"
      ]
     },
     "execution_count": 28,
     "metadata": {},
     "output_type": "execute_result"
    }
   ],
   "source": [
    "len(df_state_group)"
   ]
  },
  {
   "cell_type": "code",
   "execution_count": 29,
   "metadata": {},
   "outputs": [
    {
     "data": {
      "text/plain": [
       "Index(['distance', 'w_group_count', 'S000', 'SA01', 'SA02', 'SA03', 'SE01',\n",
       "       'SE02', 'SE03', 'SI01', 'SI02', 'SI03', 'w_lat', 'w_lon', 'h_lat',\n",
       "       'h_lon'],\n",
       "      dtype='object')"
      ]
     },
     "execution_count": 29,
     "metadata": {},
     "output_type": "execute_result"
    }
   ],
   "source": [
    "df_state_group.columns"
   ]
  },
  {
   "cell_type": "code",
   "execution_count": 30,
   "metadata": {},
   "outputs": [
    {
     "data": {
      "text/html": [
       "<div>\n",
       "<style scoped>\n",
       "    .dataframe tbody tr th:only-of-type {\n",
       "        vertical-align: middle;\n",
       "    }\n",
       "\n",
       "    .dataframe tbody tr th {\n",
       "        vertical-align: top;\n",
       "    }\n",
       "\n",
       "    .dataframe thead th {\n",
       "        text-align: right;\n",
       "    }\n",
       "</style>\n",
       "<table border=\"1\" class=\"dataframe\">\n",
       "  <thead>\n",
       "    <tr style=\"text-align: right;\">\n",
       "      <th></th>\n",
       "      <th>S000</th>\n",
       "      <th>SA01</th>\n",
       "      <th>SA02</th>\n",
       "      <th>SA03</th>\n",
       "      <th>SE01</th>\n",
       "      <th>SE02</th>\n",
       "      <th>SE03</th>\n",
       "      <th>SI01</th>\n",
       "      <th>SI02</th>\n",
       "      <th>SI03</th>\n",
       "    </tr>\n",
       "    <tr>\n",
       "      <th>state</th>\n",
       "      <th></th>\n",
       "      <th></th>\n",
       "      <th></th>\n",
       "      <th></th>\n",
       "      <th></th>\n",
       "      <th></th>\n",
       "      <th></th>\n",
       "      <th></th>\n",
       "      <th></th>\n",
       "      <th></th>\n",
       "    </tr>\n",
       "  </thead>\n",
       "  <tbody>\n",
       "    <tr>\n",
       "      <th>01</th>\n",
       "      <td>305768</td>\n",
       "      <td>59392</td>\n",
       "      <td>181488</td>\n",
       "      <td>64888</td>\n",
       "      <td>34799</td>\n",
       "      <td>100547</td>\n",
       "      <td>170422</td>\n",
       "      <td>64086</td>\n",
       "      <td>29681</td>\n",
       "      <td>212001</td>\n",
       "    </tr>\n",
       "    <tr>\n",
       "      <th>04</th>\n",
       "      <td>930733</td>\n",
       "      <td>181041</td>\n",
       "      <td>542204</td>\n",
       "      <td>207488</td>\n",
       "      <td>133390</td>\n",
       "      <td>308694</td>\n",
       "      <td>488649</td>\n",
       "      <td>92906</td>\n",
       "      <td>140015</td>\n",
       "      <td>697812</td>\n",
       "    </tr>\n",
       "    <tr>\n",
       "      <th>05</th>\n",
       "      <td>209617</td>\n",
       "      <td>38695</td>\n",
       "      <td>123764</td>\n",
       "      <td>47158</td>\n",
       "      <td>25289</td>\n",
       "      <td>80695</td>\n",
       "      <td>103633</td>\n",
       "      <td>35331</td>\n",
       "      <td>21535</td>\n",
       "      <td>152751</td>\n",
       "    </tr>\n",
       "    <tr>\n",
       "      <th>06</th>\n",
       "      <td>4821130</td>\n",
       "      <td>874375</td>\n",
       "      <td>2898970</td>\n",
       "      <td>1047785</td>\n",
       "      <td>558764</td>\n",
       "      <td>1170881</td>\n",
       "      <td>3091485</td>\n",
       "      <td>648915</td>\n",
       "      <td>680890</td>\n",
       "      <td>3491325</td>\n",
       "    </tr>\n",
       "    <tr>\n",
       "      <th>08</th>\n",
       "      <td>679824</td>\n",
       "      <td>114957</td>\n",
       "      <td>409071</td>\n",
       "      <td>155796</td>\n",
       "      <td>80842</td>\n",
       "      <td>184581</td>\n",
       "      <td>414401</td>\n",
       "      <td>58966</td>\n",
       "      <td>69583</td>\n",
       "      <td>551275</td>\n",
       "    </tr>\n",
       "  </tbody>\n",
       "</table>\n",
       "</div>"
      ],
      "text/plain": [
       "          S000    SA01     SA02     SA03    SE01     SE02     SE03    SI01  \\\n",
       "state                                                                        \n",
       "01      305768   59392   181488    64888   34799   100547   170422   64086   \n",
       "04      930733  181041   542204   207488  133390   308694   488649   92906   \n",
       "05      209617   38695   123764    47158   25289    80695   103633   35331   \n",
       "06     4821130  874375  2898970  1047785  558764  1170881  3091485  648915   \n",
       "08      679824  114957   409071   155796   80842   184581   414401   58966   \n",
       "\n",
       "         SI02     SI03  \n",
       "state                   \n",
       "01      29681   212001  \n",
       "04     140015   697812  \n",
       "05      21535   152751  \n",
       "06     680890  3491325  \n",
       "08      69583   551275  "
      ]
     },
     "execution_count": 30,
     "metadata": {},
     "output_type": "execute_result"
    }
   ],
   "source": [
    "df_state_group.drop(['distance','w_group_count','w_lat', 'w_lon', 'h_lat', 'h_lon'], axis=1, inplace=True)\n",
    "df_state_group.head()"
   ]
  },
  {
   "cell_type": "markdown",
   "metadata": {},
   "source": [
    "#### Write the state level stats"
   ]
  },
  {
   "cell_type": "code",
   "execution_count": 31,
   "metadata": {},
   "outputs": [],
   "source": [
    "OD_file_out = ODpath.joinpath(\"1k_plus_od_state_stats.csv\")\n",
    "df_state_group.to_csv(OD_file_out)"
   ]
  },
  {
   "cell_type": "markdown",
   "metadata": {},
   "source": [
    "#### Count the number of records for each state"
   ]
  },
  {
   "cell_type": "code",
   "execution_count": 32,
   "metadata": {},
   "outputs": [],
   "source": [
    "df['count'] = 1"
   ]
  },
  {
   "cell_type": "code",
   "execution_count": 33,
   "metadata": {},
   "outputs": [
    {
     "data": {
      "text/html": [
       "<div>\n",
       "<style scoped>\n",
       "    .dataframe tbody tr th:only-of-type {\n",
       "        vertical-align: middle;\n",
       "    }\n",
       "\n",
       "    .dataframe tbody tr th {\n",
       "        vertical-align: top;\n",
       "    }\n",
       "\n",
       "    .dataframe thead th {\n",
       "        text-align: right;\n",
       "    }\n",
       "</style>\n",
       "<table border=\"1\" class=\"dataframe\">\n",
       "  <thead>\n",
       "    <tr style=\"text-align: right;\">\n",
       "      <th></th>\n",
       "      <th>w_geocode</th>\n",
       "      <th>h_geocode</th>\n",
       "      <th>distance</th>\n",
       "      <th>w_group_count</th>\n",
       "      <th>S000</th>\n",
       "      <th>SA01</th>\n",
       "      <th>SA02</th>\n",
       "      <th>SA03</th>\n",
       "      <th>SE01</th>\n",
       "      <th>SE02</th>\n",
       "      <th>SE03</th>\n",
       "      <th>SI01</th>\n",
       "      <th>SI02</th>\n",
       "      <th>SI03</th>\n",
       "      <th>w_lat</th>\n",
       "      <th>w_lon</th>\n",
       "      <th>h_lat</th>\n",
       "      <th>h_lon</th>\n",
       "      <th>state</th>\n",
       "      <th>count</th>\n",
       "    </tr>\n",
       "  </thead>\n",
       "  <tbody>\n",
       "    <tr>\n",
       "      <th>0</th>\n",
       "      <td>010010205001001</td>\n",
       "      <td>010010201001016</td>\n",
       "      <td>5896</td>\n",
       "      <td>1076</td>\n",
       "      <td>1</td>\n",
       "      <td>1</td>\n",
       "      <td>0</td>\n",
       "      <td>0</td>\n",
       "      <td>1</td>\n",
       "      <td>0</td>\n",
       "      <td>0</td>\n",
       "      <td>0</td>\n",
       "      <td>1</td>\n",
       "      <td>0</td>\n",
       "      <td>32.457</td>\n",
       "      <td>-86.415</td>\n",
       "      <td>32.467</td>\n",
       "      <td>-86.477</td>\n",
       "      <td>01</td>\n",
       "      <td>1</td>\n",
       "    </tr>\n",
       "    <tr>\n",
       "      <th>1</th>\n",
       "      <td>010010205001001</td>\n",
       "      <td>010010201001025</td>\n",
       "      <td>6964</td>\n",
       "      <td>1076</td>\n",
       "      <td>1</td>\n",
       "      <td>1</td>\n",
       "      <td>0</td>\n",
       "      <td>0</td>\n",
       "      <td>0</td>\n",
       "      <td>1</td>\n",
       "      <td>0</td>\n",
       "      <td>0</td>\n",
       "      <td>1</td>\n",
       "      <td>0</td>\n",
       "      <td>32.457</td>\n",
       "      <td>-86.415</td>\n",
       "      <td>32.460</td>\n",
       "      <td>-86.489</td>\n",
       "      <td>01</td>\n",
       "      <td>1</td>\n",
       "    </tr>\n",
       "    <tr>\n",
       "      <th>2</th>\n",
       "      <td>010010205001001</td>\n",
       "      <td>010010201002016</td>\n",
       "      <td>7088</td>\n",
       "      <td>1076</td>\n",
       "      <td>2</td>\n",
       "      <td>0</td>\n",
       "      <td>2</td>\n",
       "      <td>0</td>\n",
       "      <td>0</td>\n",
       "      <td>0</td>\n",
       "      <td>2</td>\n",
       "      <td>0</td>\n",
       "      <td>2</td>\n",
       "      <td>0</td>\n",
       "      <td>32.457</td>\n",
       "      <td>-86.415</td>\n",
       "      <td>32.474</td>\n",
       "      <td>-86.488</td>\n",
       "      <td>01</td>\n",
       "      <td>1</td>\n",
       "    </tr>\n",
       "    <tr>\n",
       "      <th>3</th>\n",
       "      <td>010010205001001</td>\n",
       "      <td>010010201002017</td>\n",
       "      <td>6830</td>\n",
       "      <td>1076</td>\n",
       "      <td>3</td>\n",
       "      <td>3</td>\n",
       "      <td>0</td>\n",
       "      <td>0</td>\n",
       "      <td>1</td>\n",
       "      <td>2</td>\n",
       "      <td>0</td>\n",
       "      <td>0</td>\n",
       "      <td>1</td>\n",
       "      <td>2</td>\n",
       "      <td>32.457</td>\n",
       "      <td>-86.415</td>\n",
       "      <td>32.477</td>\n",
       "      <td>-86.484</td>\n",
       "      <td>01</td>\n",
       "      <td>1</td>\n",
       "    </tr>\n",
       "    <tr>\n",
       "      <th>4</th>\n",
       "      <td>010010205001001</td>\n",
       "      <td>010010201002022</td>\n",
       "      <td>7304</td>\n",
       "      <td>1076</td>\n",
       "      <td>1</td>\n",
       "      <td>0</td>\n",
       "      <td>1</td>\n",
       "      <td>0</td>\n",
       "      <td>0</td>\n",
       "      <td>1</td>\n",
       "      <td>0</td>\n",
       "      <td>0</td>\n",
       "      <td>1</td>\n",
       "      <td>0</td>\n",
       "      <td>32.457</td>\n",
       "      <td>-86.415</td>\n",
       "      <td>32.488</td>\n",
       "      <td>-86.483</td>\n",
       "      <td>01</td>\n",
       "      <td>1</td>\n",
       "    </tr>\n",
       "  </tbody>\n",
       "</table>\n",
       "</div>"
      ],
      "text/plain": [
       "         w_geocode        h_geocode  distance  w_group_count  S000  SA01  \\\n",
       "0  010010205001001  010010201001016      5896           1076     1     1   \n",
       "1  010010205001001  010010201001025      6964           1076     1     1   \n",
       "2  010010205001001  010010201002016      7088           1076     2     0   \n",
       "3  010010205001001  010010201002017      6830           1076     3     3   \n",
       "4  010010205001001  010010201002022      7304           1076     1     0   \n",
       "\n",
       "   SA02  SA03  SE01  SE02  SE03  SI01  SI02  SI03   w_lat   w_lon   h_lat  \\\n",
       "0     0     0     1     0     0     0     1     0  32.457 -86.415  32.467   \n",
       "1     0     0     0     1     0     0     1     0  32.457 -86.415  32.460   \n",
       "2     2     0     0     0     2     0     2     0  32.457 -86.415  32.474   \n",
       "3     0     0     1     2     0     0     1     2  32.457 -86.415  32.477   \n",
       "4     1     0     0     1     0     0     1     0  32.457 -86.415  32.488   \n",
       "\n",
       "    h_lon state  count  \n",
       "0 -86.477    01      1  \n",
       "1 -86.489    01      1  \n",
       "2 -86.488    01      1  \n",
       "3 -86.484    01      1  \n",
       "4 -86.483    01      1  "
      ]
     },
     "execution_count": 33,
     "metadata": {},
     "output_type": "execute_result"
    }
   ],
   "source": [
    "df.head()"
   ]
  },
  {
   "cell_type": "code",
   "execution_count": 34,
   "metadata": {},
   "outputs": [
    {
     "data": {
      "text/plain": [
       "Index(['w_geocode', 'h_geocode', 'distance', 'w_group_count', 'S000', 'SA01',\n",
       "       'SA02', 'SA03', 'SE01', 'SE02', 'SE03', 'SI01', 'SI02', 'SI03', 'w_lat',\n",
       "       'w_lon', 'h_lat', 'h_lon', 'state', 'count'],\n",
       "      dtype='object')"
      ]
     },
     "execution_count": 34,
     "metadata": {},
     "output_type": "execute_result"
    }
   ],
   "source": [
    "df.columns"
   ]
  },
  {
   "cell_type": "code",
   "execution_count": 35,
   "metadata": {},
   "outputs": [],
   "source": [
    "df_state_count = df[['state', 'count']]"
   ]
  },
  {
   "cell_type": "code",
   "execution_count": 36,
   "metadata": {},
   "outputs": [
    {
     "data": {
      "text/plain": [
       "28588823"
      ]
     },
     "execution_count": 36,
     "metadata": {},
     "output_type": "execute_result"
    }
   ],
   "source": [
    "len(df_state_count)"
   ]
  },
  {
   "cell_type": "code",
   "execution_count": 37,
   "metadata": {},
   "outputs": [],
   "source": [
    "df_state_counts = df_state_count.groupby(['state']).sum()"
   ]
  },
  {
   "cell_type": "code",
   "execution_count": 38,
   "metadata": {},
   "outputs": [
    {
     "data": {
      "text/html": [
       "<div>\n",
       "<style scoped>\n",
       "    .dataframe tbody tr th:only-of-type {\n",
       "        vertical-align: middle;\n",
       "    }\n",
       "\n",
       "    .dataframe tbody tr th {\n",
       "        vertical-align: top;\n",
       "    }\n",
       "\n",
       "    .dataframe thead th {\n",
       "        text-align: right;\n",
       "    }\n",
       "</style>\n",
       "<table border=\"1\" class=\"dataframe\">\n",
       "  <thead>\n",
       "    <tr style=\"text-align: right;\">\n",
       "      <th></th>\n",
       "      <th>count</th>\n",
       "    </tr>\n",
       "    <tr>\n",
       "      <th>state</th>\n",
       "      <th></th>\n",
       "    </tr>\n",
       "  </thead>\n",
       "  <tbody>\n",
       "    <tr>\n",
       "      <th>01</th>\n",
       "      <td>229357</td>\n",
       "    </tr>\n",
       "    <tr>\n",
       "      <th>04</th>\n",
       "      <td>773416</td>\n",
       "    </tr>\n",
       "    <tr>\n",
       "      <th>05</th>\n",
       "      <td>139430</td>\n",
       "    </tr>\n",
       "    <tr>\n",
       "      <th>06</th>\n",
       "      <td>4110184</td>\n",
       "    </tr>\n",
       "    <tr>\n",
       "      <th>08</th>\n",
       "      <td>552157</td>\n",
       "    </tr>\n",
       "    <tr>\n",
       "      <th>09</th>\n",
       "      <td>271396</td>\n",
       "    </tr>\n",
       "    <tr>\n",
       "      <th>10</th>\n",
       "      <td>69201</td>\n",
       "    </tr>\n",
       "    <tr>\n",
       "      <th>11</th>\n",
       "      <td>265545</td>\n",
       "    </tr>\n",
       "    <tr>\n",
       "      <th>12</th>\n",
       "      <td>1865715</td>\n",
       "    </tr>\n",
       "    <tr>\n",
       "      <th>13</th>\n",
       "      <td>866588</td>\n",
       "    </tr>\n",
       "    <tr>\n",
       "      <th>16</th>\n",
       "      <td>57174</td>\n",
       "    </tr>\n",
       "    <tr>\n",
       "      <th>17</th>\n",
       "      <td>1492216</td>\n",
       "    </tr>\n",
       "    <tr>\n",
       "      <th>18</th>\n",
       "      <td>502184</td>\n",
       "    </tr>\n",
       "    <tr>\n",
       "      <th>19</th>\n",
       "      <td>169186</td>\n",
       "    </tr>\n",
       "    <tr>\n",
       "      <th>20</th>\n",
       "      <td>178684</td>\n",
       "    </tr>\n",
       "    <tr>\n",
       "      <th>21</th>\n",
       "      <td>278282</td>\n",
       "    </tr>\n",
       "    <tr>\n",
       "      <th>22</th>\n",
       "      <td>272948</td>\n",
       "    </tr>\n",
       "    <tr>\n",
       "      <th>23</th>\n",
       "      <td>46236</td>\n",
       "    </tr>\n",
       "    <tr>\n",
       "      <th>24</th>\n",
       "      <td>523278</td>\n",
       "    </tr>\n",
       "    <tr>\n",
       "      <th>25</th>\n",
       "      <td>799761</td>\n",
       "    </tr>\n",
       "    <tr>\n",
       "      <th>26</th>\n",
       "      <td>941415</td>\n",
       "    </tr>\n",
       "    <tr>\n",
       "      <th>27</th>\n",
       "      <td>545352</td>\n",
       "    </tr>\n",
       "    <tr>\n",
       "      <th>28</th>\n",
       "      <td>123820</td>\n",
       "    </tr>\n",
       "    <tr>\n",
       "      <th>29</th>\n",
       "      <td>375142</td>\n",
       "    </tr>\n",
       "    <tr>\n",
       "      <th>30</th>\n",
       "      <td>16203</td>\n",
       "    </tr>\n",
       "    <tr>\n",
       "      <th>31</th>\n",
       "      <td>131412</td>\n",
       "    </tr>\n",
       "    <tr>\n",
       "      <th>32</th>\n",
       "      <td>296915</td>\n",
       "    </tr>\n",
       "    <tr>\n",
       "      <th>33</th>\n",
       "      <td>60699</td>\n",
       "    </tr>\n",
       "    <tr>\n",
       "      <th>34</th>\n",
       "      <td>786750</td>\n",
       "    </tr>\n",
       "    <tr>\n",
       "      <th>35</th>\n",
       "      <td>96299</td>\n",
       "    </tr>\n",
       "    <tr>\n",
       "      <th>36</th>\n",
       "      <td>2567351</td>\n",
       "    </tr>\n",
       "    <tr>\n",
       "      <th>37</th>\n",
       "      <td>734605</td>\n",
       "    </tr>\n",
       "    <tr>\n",
       "      <th>38</th>\n",
       "      <td>22111</td>\n",
       "    </tr>\n",
       "    <tr>\n",
       "      <th>39</th>\n",
       "      <td>995233</td>\n",
       "    </tr>\n",
       "    <tr>\n",
       "      <th>40</th>\n",
       "      <td>240603</td>\n",
       "    </tr>\n",
       "    <tr>\n",
       "      <th>41</th>\n",
       "      <td>216824</td>\n",
       "    </tr>\n",
       "    <tr>\n",
       "      <th>42</th>\n",
       "      <td>1025033</td>\n",
       "    </tr>\n",
       "    <tr>\n",
       "      <th>44</th>\n",
       "      <td>53790</td>\n",
       "    </tr>\n",
       "    <tr>\n",
       "      <th>45</th>\n",
       "      <td>291125</td>\n",
       "    </tr>\n",
       "    <tr>\n",
       "      <th>46</th>\n",
       "      <td>32036</td>\n",
       "    </tr>\n",
       "    <tr>\n",
       "      <th>47</th>\n",
       "      <td>538887</td>\n",
       "    </tr>\n",
       "    <tr>\n",
       "      <th>48</th>\n",
       "      <td>2923053</td>\n",
       "    </tr>\n",
       "    <tr>\n",
       "      <th>49</th>\n",
       "      <td>245342</td>\n",
       "    </tr>\n",
       "    <tr>\n",
       "      <th>50</th>\n",
       "      <td>13963</td>\n",
       "    </tr>\n",
       "    <tr>\n",
       "      <th>51</th>\n",
       "      <td>723842</td>\n",
       "    </tr>\n",
       "    <tr>\n",
       "      <th>53</th>\n",
       "      <td>636245</td>\n",
       "    </tr>\n",
       "    <tr>\n",
       "      <th>54</th>\n",
       "      <td>50212</td>\n",
       "    </tr>\n",
       "    <tr>\n",
       "      <th>55</th>\n",
       "      <td>441623</td>\n",
       "    </tr>\n",
       "  </tbody>\n",
       "</table>\n",
       "</div>"
      ],
      "text/plain": [
       "         count\n",
       "state         \n",
       "01      229357\n",
       "04      773416\n",
       "05      139430\n",
       "06     4110184\n",
       "08      552157\n",
       "09      271396\n",
       "10       69201\n",
       "11      265545\n",
       "12     1865715\n",
       "13      866588\n",
       "16       57174\n",
       "17     1492216\n",
       "18      502184\n",
       "19      169186\n",
       "20      178684\n",
       "21      278282\n",
       "22      272948\n",
       "23       46236\n",
       "24      523278\n",
       "25      799761\n",
       "26      941415\n",
       "27      545352\n",
       "28      123820\n",
       "29      375142\n",
       "30       16203\n",
       "31      131412\n",
       "32      296915\n",
       "33       60699\n",
       "34      786750\n",
       "35       96299\n",
       "36     2567351\n",
       "37      734605\n",
       "38       22111\n",
       "39      995233\n",
       "40      240603\n",
       "41      216824\n",
       "42     1025033\n",
       "44       53790\n",
       "45      291125\n",
       "46       32036\n",
       "47      538887\n",
       "48     2923053\n",
       "49      245342\n",
       "50       13963\n",
       "51      723842\n",
       "53      636245\n",
       "54       50212\n",
       "55      441623"
      ]
     },
     "execution_count": 38,
     "metadata": {},
     "output_type": "execute_result"
    }
   ],
   "source": [
    "df_state_counts"
   ]
  },
  {
   "cell_type": "markdown",
   "metadata": {},
   "source": [
    "#### Write the state counts"
   ]
  },
  {
   "cell_type": "code",
   "execution_count": 40,
   "metadata": {},
   "outputs": [],
   "source": [
    "OD_file_out = ODpath.joinpath(\"1k_plus_od_state_counts.csv\")\n",
    "df_state_counts.to_csv(OD_file_out)"
   ]
  },
  {
   "cell_type": "code",
   "execution_count": null,
   "metadata": {},
   "outputs": [],
   "source": []
  }
 ],
 "metadata": {
  "kernelspec": {
   "display_name": "Python 3",
   "language": "python",
   "name": "python3"
  },
  "language_info": {
   "codemirror_mode": {
    "name": "ipython",
    "version": 3
   },
   "file_extension": ".py",
   "mimetype": "text/x-python",
   "name": "python",
   "nbconvert_exporter": "python",
   "pygments_lexer": "ipython3",
   "version": "3.7.0"
  }
 },
 "nbformat": 4,
 "nbformat_minor": 2
}
