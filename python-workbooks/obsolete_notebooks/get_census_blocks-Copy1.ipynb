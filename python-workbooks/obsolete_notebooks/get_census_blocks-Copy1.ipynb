{
 "cells": [
  {
   "cell_type": "markdown",
   "metadata": {},
   "source": [
    "### Retrieve Census Block Centroid Coordinate Data"
   ]
  },
  {
   "cell_type": "code",
   "execution_count": 1,
   "metadata": {},
   "outputs": [],
   "source": [
    "from ftplib import FTP\n",
    "import pandas as pd\n",
    "import geopandas as gpd\n",
    "import zipfile\n",
    "from pathlib import Path\n",
    "import timeit\n",
    "from IPython.display import clear_output\n",
    "from shutil import unpack_archive\n",
    "import numpy as np"
   ]
  },
  {
   "cell_type": "markdown",
   "metadata": {},
   "source": [
    "#### Create directory path for temp storage of downloads"
   ]
  },
  {
   "cell_type": "code",
   "execution_count": 2,
   "metadata": {},
   "outputs": [],
   "source": [
    "ftpTmp = Path('../data/ftp-temp/')\n",
    "ftpTmp.mkdir(exist_ok=True, parents=True)"
   ]
  },
  {
   "cell_type": "markdown",
   "metadata": {},
   "source": [
    "#### Function - Load the shapefile information into GeoPandas"
   ]
  },
  {
   "cell_type": "code",
   "execution_count": 3,
   "metadata": {},
   "outputs": [],
   "source": [
    "def get_data(filename):\n",
    "    gdf = gpd.read_file(filename, dtype={'GEOID10': 'object', 'INTPTLAT10': 'float', 'INTPTLON10': 'float'})\n",
    "    return gdf"
   ]
  },
  {
   "cell_type": "markdown",
   "metadata": {},
   "source": [
    "#### Extract files from compressed file (zip)"
   ]
  },
  {
   "cell_type": "code",
   "execution_count": 4,
   "metadata": {},
   "outputs": [],
   "source": [
    "def extract_files(zip_path_file):\n",
    "    unpack_archive(str(zip_path_file), extract_dir=str(ftpTmp))\n",
    "    fh.close()"
   ]
  },
  {
   "cell_type": "markdown",
   "metadata": {},
   "source": [
    "#### Function - Write the tract dataframe to list"
   ]
  },
  {
   "cell_type": "code",
   "execution_count": 5,
   "metadata": {},
   "outputs": [],
   "source": [
    "def append_list(df_gdf, count_records):\n",
    "    #keep only the rows that are not water\n",
    "    df_gdf = df_gdf.drop(df_gdf[(df_gdf['AWATER10'] > 0) & (df_gdf['ALAND10'] == 0)].index)\n",
    "    \n",
    "    #exclude Puerto Rico and island areas\n",
    "    if str(df_gdf['STATEFP10'].unique()[0]) in st_list:\n",
    "        df_list.append(df_gdf)\n",
    "        count_records = count_records+len(df_gdf)\n",
    "        \n",
    "    # drop the columns that are not needed\n",
    "    cols=['STATEFP10','COUNTYFP10','TRACTCE10','BLOCKCE10','NAME10','MTFCC10','UR10','UACE10','UATYPE','FUNCSTAT10','ALAND10','AWATER10','geometry']\n",
    "    df_gdf.drop(cols, axis=1, inplace=True)\n",
    "    df_gdf.rename(columns={'GEOID10': 'block_geoid', 'INTPTLAT10': 'lat', 'INTPTLON10': 'lon'}, inplace=True)\n",
    "    return count_records"
   ]
  },
  {
   "cell_type": "markdown",
   "metadata": {},
   "source": [
    "#### Function - Convert decimal time to minutes and seconds"
   ]
  },
  {
   "cell_type": "code",
   "execution_count": 6,
   "metadata": {},
   "outputs": [],
   "source": [
    "def get_time(timer):\n",
    "    minutes, seconds = int(np.floor(timer)), round(np.asscalar(timer % 1)*60)\n",
    "    return [minutes, seconds]"
   ]
  },
  {
   "cell_type": "markdown",
   "metadata": {},
   "source": [
    "#### Setup FTP connection with Census Bureau"
   ]
  },
  {
   "cell_type": "code",
   "execution_count": 7,
   "metadata": {},
   "outputs": [
    {
     "name": "stdout",
     "output_type": "stream",
     "text": [
      "['tl_2018_01_tabblock10.zip', 'tl_2018_02_tabblock10.zip', 'tl_2018_04_tabblock10.zip', 'tl_2018_05_tabblock10.zip', 'tl_2018_06_tabblock10.zip', 'tl_2018_08_tabblock10.zip', 'tl_2018_09_tabblock10.zip', 'tl_2018_10_tabblock10.zip', 'tl_2018_11_tabblock10.zip', 'tl_2018_12_tabblock10.zip', 'tl_2018_13_tabblock10.zip', 'tl_2018_15_tabblock10.zip', 'tl_2018_16_tabblock10.zip', 'tl_2018_17_tabblock10.zip', 'tl_2018_18_tabblock10.zip', 'tl_2018_19_tabblock10.zip', 'tl_2018_20_tabblock10.zip', 'tl_2018_21_tabblock10.zip', 'tl_2018_22_tabblock10.zip', 'tl_2018_23_tabblock10.zip', 'tl_2018_24_tabblock10.zip', 'tl_2018_25_tabblock10.zip', 'tl_2018_26_tabblock10.zip', 'tl_2018_27_tabblock10.zip', 'tl_2018_28_tabblock10.zip', 'tl_2018_29_tabblock10.zip', 'tl_2018_30_tabblock10.zip', 'tl_2018_31_tabblock10.zip', 'tl_2018_32_tabblock10.zip', 'tl_2018_33_tabblock10.zip', 'tl_2018_34_tabblock10.zip', 'tl_2018_35_tabblock10.zip', 'tl_2018_36_tabblock10.zip', 'tl_2018_37_tabblock10.zip', 'tl_2018_38_tabblock10.zip', 'tl_2018_39_tabblock10.zip', 'tl_2018_40_tabblock10.zip', 'tl_2018_41_tabblock10.zip', 'tl_2018_42_tabblock10.zip', 'tl_2018_44_tabblock10.zip', 'tl_2018_45_tabblock10.zip', 'tl_2018_46_tabblock10.zip', 'tl_2018_47_tabblock10.zip', 'tl_2018_48_tabblock10.zip', 'tl_2018_49_tabblock10.zip', 'tl_2018_50_tabblock10.zip', 'tl_2018_51_tabblock10.zip', 'tl_2018_53_tabblock10.zip', 'tl_2018_54_tabblock10.zip', 'tl_2018_55_tabblock10.zip', 'tl_2018_56_tabblock10.zip', 'tl_2018_60_tabblock10.zip', 'tl_2018_66_tabblock10.zip', 'tl_2018_69_tabblock10.zip', 'tl_2018_72_tabblock10.zip', 'tl_2018_78_tabblock10.zip']\n"
     ]
    }
   ],
   "source": [
    "ftp = FTP('ftp2.census.gov')\n",
    "ftp.login()\n",
    "ftp.cwd('geo/tiger/TIGER2018/TABBLOCK/')\n",
    "file_list = ftp.nlst()\n",
    "# print a list of all files in the FTP folder\n",
    "print(file_list)"
   ]
  },
  {
   "cell_type": "markdown",
   "metadata": {},
   "source": [
    "#### Loop through the ftp files, download, extract, load, and save"
   ]
  },
  {
   "cell_type": "code",
   "execution_count": null,
   "metadata": {},
   "outputs": [
    {
     "name": "stdout",
     "output_type": "stream",
     "text": [
      "Processed df file: tl_2018_11_tabblock10.zip\n",
      "Timer: 40 minutes 17 seconds\n",
      "Current record count: 1,628,815 \n",
      "\n",
      "STARTED download for file: tl_2018_12_tabblock10.zip\n"
     ]
    }
   ],
   "source": [
    "# set various counting variables\n",
    "counter = 0\n",
    "decimals = 0   \n",
    "# start a timer\n",
    "start = timeit.default_timer()\n",
    "\n",
    "# create a blank list to accumulate the dataframes\n",
    "df_list = []\n",
    "count_records = 0\n",
    "# a list of state fips to be included (eliminates Puerto Rico, Samoa,Guam,Mariana Islans, Virgin Island, and Island Areas) \n",
    "# see https://www.census.gov/geo/maps-data/data/tallies/dfblock.html\n",
    "st_list = ['01','04','05','06','08','09','10','11','12','13','16','17','18','19','20','21','22','23','24','25','26','27','28','29','30','31','32','33','34','35','36','37','38','39','40','41','42','44','45','46','47','48','49','50','51','53','54','55','56']\n",
    "\n",
    "\n",
    "for index, zip_filename in enumerate(file_list):\n",
    "    \n",
    "    # create a file path for the download\n",
    "    zip_path_file = ftpTmp.joinpath(file_list[index])\n",
    "    \n",
    "    # write download file to storage area\n",
    "    fh = open (zip_path_file, \"wb\")\n",
    "    print (\"STARTED download for file: \" + zip_filename)\n",
    "    ftp.retrbinary(\"RETR \" + zip_filename, fh.write)\n",
    "    \n",
    "    # open downloaded file for exdf\n",
    "    fh = open(zip_path_file, \"rb\")\n",
    "    zp = zipfile.ZipFile(fh)\n",
    "    \n",
    "    # call df function\n",
    "    extract_files(zip_path_file)\n",
    "    \n",
    "    # assign file handles to each of the files exdfed\n",
    "    cpg, dbf, prj, shp, xml1, xml2, shx = [filename for filename in zp.namelist()]\n",
    "    \n",
    "    fh.close\n",
    "    zp.close\n",
    "    print(shp)\n",
    "    \n",
    "    # add a path to the shapefile\n",
    "    shape_file = ftpTmp.joinpath(shp)\n",
    "    \n",
    "    # call function to create a geodataframe\n",
    "    df_gdf = get_data(shape_file)\n",
    "    \n",
    "    # call function to append the geodataframe to a list\n",
    "    count_records = append_list(df_gdf, count_records)\n",
    "    \n",
    "    #removes exdfed files and zip file\n",
    "    zip_path_file.unlink()\n",
    "    shape_file.unlink()\n",
    "    file_to_rem = ftpTmp.joinpath(cpg)\n",
    "    file_to_rem.unlink()    \n",
    "    file_to_rem = ftpTmp.joinpath(dbf)\n",
    "    file_to_rem.unlink()    \n",
    "    file_to_rem = ftpTmp.joinpath(xml1)\n",
    "    file_to_rem.unlink()    \n",
    "    file_to_rem = ftpTmp.joinpath(xml2)\n",
    "    file_to_rem.unlink()    \n",
    "    file_to_rem = ftpTmp.joinpath(shx)\n",
    "    file_to_rem.unlink()    \n",
    "    file_to_rem = ftpTmp.joinpath(prj)\n",
    "    file_to_rem.unlink()\n",
    "\n",
    "    # get the current time on timer\n",
    "    stop = timeit.default_timer()\n",
    "    \n",
    "    #create a numpy array to calculate time\n",
    "    timer = np.array([(stop-start)/60])\n",
    "    # call function to calculate minutes and seconds\n",
    "    min_sec = get_time(timer)\n",
    "    minutes, seconds = min_sec[0], min_sec[1]\n",
    "    \n",
    "    # clear the output below this cell\n",
    "    clear_output(wait=True)\n",
    "    \n",
    "    # print a few lines for progress monitoring\n",
    "    print('Processed df file:',zip_filename)\n",
    "    print('Timer:', minutes, 'minutes', seconds, 'seconds')\n",
    "    print('Current record count:', \"{:,}\".format(count_records),'\\n')\n",
    "    counter+=1\n",
    "    \n",
    "# clear the output below this cell\n",
    "clear_output(wait=True)\n",
    "print('\\n\\nProcessing Complete\\nTotal time:', minutes, 'minutes', seconds, 'seconds')\n",
    "print('\\nTotal count:', \"{:,}\".format(count_records))"
   ]
  },
  {
   "cell_type": "markdown",
   "metadata": {},
   "source": [
    "#### Remove the ftp temp folder"
   ]
  },
  {
   "cell_type": "code",
   "execution_count": 9,
   "metadata": {},
   "outputs": [],
   "source": [
    "ftpTmp.rmdir()"
   ]
  },
  {
   "cell_type": "markdown",
   "metadata": {},
   "source": [
    "#### Create a Pandas dataframe containing all tract records"
   ]
  },
  {
   "cell_type": "code",
   "execution_count": 10,
   "metadata": {},
   "outputs": [
    {
     "name": "stdout",
     "output_type": "stream",
     "text": [
      "Wall time: 71.6 ms\n"
     ]
    }
   ],
   "source": [
    "%time df_out = pd.concat(df_list)"
   ]
  },
  {
   "cell_type": "markdown",
   "metadata": {},
   "source": [
    "#### Create directory path for output file"
   ]
  },
  {
   "cell_type": "code",
   "execution_count": 36,
   "metadata": {},
   "outputs": [],
   "source": [
    "outputPath = Path('../data/blocks/')\n",
    "outputPath.mkdir(exist_ok=True, parents=True)"
   ]
  },
  {
   "cell_type": "markdown",
   "metadata": {},
   "source": [
    "#### Name zip file"
   ]
  },
  {
   "cell_type": "code",
   "execution_count": 37,
   "metadata": {},
   "outputs": [],
   "source": [
    "outputZip = 'block_centroids.csv.gz'"
   ]
  },
  {
   "cell_type": "markdown",
   "metadata": {},
   "source": [
    "#### Create full path with zip file"
   ]
  },
  {
   "cell_type": "code",
   "execution_count": 38,
   "metadata": {},
   "outputs": [],
   "source": [
    "out_Zip = outputPath.joinpath(outputZip)"
   ]
  },
  {
   "cell_type": "markdown",
   "metadata": {},
   "source": [
    "#### Write dataframe to compressed CSV"
   ]
  },
  {
   "cell_type": "code",
   "execution_count": 39,
   "metadata": {},
   "outputs": [
    {
     "name": "stdout",
     "output_type": "stream",
     "text": [
      "\n",
      "Data compression complete.\n",
      "Total time: 2 minutes 30 seconds\n"
     ]
    }
   ],
   "source": [
    "# start a timer\n",
    "start = timeit.default_timer()\n",
    "print ('Compressing dataframe. Please be patient.')\n",
    "df_out.to_csv(out_Zip, compression='gzip', index=None)\n",
    "clear_output(wait=True)\n",
    "# get the current time on timer\n",
    "stop = timeit.default_timer()\n",
    "timer = np.array([(stop-start)/60])\n",
    "min_sec = get_time(timer)\n",
    "minutes, seconds = min_sec[0], min_sec[1]\n",
    "print('\\nData compression complete.\\nTotal time:', minutes, 'minutes', seconds, 'seconds')"
   ]
  },
  {
   "cell_type": "code",
   "execution_count": 12,
   "metadata": {},
   "outputs": [
    {
     "name": "stdout",
     "output_type": "stream",
     "text": [
      "Number of tract records written to file: 236,319\n"
     ]
    }
   ],
   "source": [
    "print('Number of tract records written to file:',\"{:,}\".format(len(df_out)))"
   ]
  },
  {
   "cell_type": "code",
   "execution_count": 13,
   "metadata": {},
   "outputs": [
    {
     "name": "stdout",
     "output_type": "stream",
     "text": [
      "<class 'geopandas.geodataframe.GeoDataFrame'>\n",
      "Int64Index: 236319 entries, 0 to 252265\n",
      "Data columns (total 16 columns):\n",
      "STATEFP10      236319 non-null object\n",
      "COUNTYFP10     236319 non-null object\n",
      "TRACTCE10      236319 non-null object\n",
      "BLOCKCE10      236319 non-null object\n",
      "block_geoid    236319 non-null object\n",
      "NAME10         236319 non-null object\n",
      "MTFCC10        236319 non-null object\n",
      "UR10           236319 non-null object\n",
      "UACE10         99729 non-null object\n",
      "UATYPE         99729 non-null object\n",
      "FUNCSTAT10     236319 non-null object\n",
      "ALAND10        236319 non-null int64\n",
      "AWATER10       236319 non-null int64\n",
      "lat            236319 non-null object\n",
      "lon            236319 non-null object\n",
      "geometry       236319 non-null object\n",
      "dtypes: int64(2), object(14)\n",
      "memory usage: 30.7+ MB\n"
     ]
    }
   ],
   "source": [
    "df_out.info()"
   ]
  },
  {
   "cell_type": "code",
   "execution_count": null,
   "metadata": {},
   "outputs": [],
   "source": []
  }
 ],
 "metadata": {
  "kernelspec": {
   "display_name": "Python 3",
   "language": "python",
   "name": "python3"
  },
  "language_info": {
   "codemirror_mode": {
    "name": "ipython",
    "version": 3
   },
   "file_extension": ".py",
   "mimetype": "text/x-python",
   "name": "python",
   "nbconvert_exporter": "python",
   "pygments_lexer": "ipython3",
   "version": "3.7.0"
  }
 },
 "nbformat": 4,
 "nbformat_minor": 2
}
