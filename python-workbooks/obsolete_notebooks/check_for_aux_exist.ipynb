{
 "cells": [
  {
   "cell_type": "code",
   "execution_count": null,
   "metadata": {},
   "outputs": [],
   "source": []
  },
  {
   "cell_type": "code",
   "execution_count": 1,
   "metadata": {},
   "outputs": [],
   "source": [
    "import pathlib\n",
    "import pandas as pd\n",
    "import folium"
   ]
  },
  {
   "cell_type": "code",
   "execution_count": null,
   "metadata": {},
   "outputs": [],
   "source": [
    "input_file = 'od_aux.csv.gz'\n",
    "ODpath = pathlib.Path('../data/OD/')\n",
    "ODfile = ODpath.joinpath(input_file)\n",
    "\n",
    "with ODfile.open(mode='r') as fid:\n",
    "    df_All = pd.read_csv(ODfile, dtype = {'w_geocode': object,'h_geocode': object})\n",
    "\n",
    "print ('input file: ',ODfile)\n",
    "print('\\nrecords loaded to dataframe:', \"{:,}\".format(len(df_All)),'\\n\\n')\n",
    "df_All.head(1)"
   ]
  },
  {
   "cell_type": "markdown",
   "metadata": {},
   "source": [
    "#### Set the state to analyze"
   ]
  },
  {
   "cell_type": "code",
   "execution_count": null,
   "metadata": {},
   "outputs": [],
   "source": [
    "state_id = '21'"
   ]
  },
  {
   "cell_type": "markdown",
   "metadata": {},
   "source": [
    "#### Drop all records where the work location does not being with the chosen state_id"
   ]
  },
  {
   "cell_type": "code",
   "execution_count": null,
   "metadata": {},
   "outputs": [],
   "source": [
    "df = df_All.drop(df_All[~df_All['w_geocode'].str.startswith(state_id)].index)\n",
    "df = df.reset_index(drop=True)\n",
    "print('\\nnew dataframe length: ', \"{:,}\".format(len(df)),'\\n\\n')\n",
    "df.head(1)"
   ]
  },
  {
   "cell_type": "code",
   "execution_count": 5,
   "metadata": {},
   "outputs": [],
   "source": [
    "out_state = '18'"
   ]
  },
  {
   "cell_type": "code",
   "execution_count": 6,
   "metadata": {},
   "outputs": [
    {
     "name": "stdout",
     "output_type": "stream",
     "text": [
      "<class 'pandas.core.frame.DataFrame'>\n",
      "RangeIndex: 1470400 entries, 0 to 1470399\n",
      "Data columns (total 12 columns):\n",
      "w_geocode    1470400 non-null object\n",
      "h_geocode    1470400 non-null object\n",
      "S000         1470400 non-null int64\n",
      "SA01         1470400 non-null int64\n",
      "SA02         1470400 non-null int64\n",
      "SA03         1470400 non-null int64\n",
      "SE01         1470400 non-null int64\n",
      "SE02         1470400 non-null int64\n",
      "SE03         1470400 non-null int64\n",
      "SI01         1470400 non-null int64\n",
      "SI02         1470400 non-null int64\n",
      "SI03         1470400 non-null int64\n",
      "dtypes: int64(10), object(2)\n",
      "memory usage: 134.6+ MB\n"
     ]
    }
   ],
   "source": [
    "df.info()"
   ]
  },
  {
   "cell_type": "code",
   "execution_count": 7,
   "metadata": {},
   "outputs": [
    {
     "name": "stdout",
     "output_type": "stream",
     "text": [
      "\n",
      "new dataframe length:  54,109 \n",
      "\n",
      "\n"
     ]
    },
    {
     "data": {
      "text/html": [
       "<div>\n",
       "<style scoped>\n",
       "    .dataframe tbody tr th:only-of-type {\n",
       "        vertical-align: middle;\n",
       "    }\n",
       "\n",
       "    .dataframe tbody tr th {\n",
       "        vertical-align: top;\n",
       "    }\n",
       "\n",
       "    .dataframe thead th {\n",
       "        text-align: right;\n",
       "    }\n",
       "</style>\n",
       "<table border=\"1\" class=\"dataframe\">\n",
       "  <thead>\n",
       "    <tr style=\"text-align: right;\">\n",
       "      <th></th>\n",
       "      <th>w_geocode</th>\n",
       "      <th>h_geocode</th>\n",
       "      <th>S000</th>\n",
       "      <th>SA01</th>\n",
       "      <th>SA02</th>\n",
       "      <th>SA03</th>\n",
       "      <th>SE01</th>\n",
       "      <th>SE02</th>\n",
       "      <th>SE03</th>\n",
       "      <th>SI01</th>\n",
       "      <th>SI02</th>\n",
       "      <th>SI03</th>\n",
       "    </tr>\n",
       "  </thead>\n",
       "  <tbody>\n",
       "    <tr>\n",
       "      <th>0</th>\n",
       "      <td>210019704011008</td>\n",
       "      <td>181619608001025</td>\n",
       "      <td>1</td>\n",
       "      <td>0</td>\n",
       "      <td>0</td>\n",
       "      <td>1</td>\n",
       "      <td>0</td>\n",
       "      <td>1</td>\n",
       "      <td>0</td>\n",
       "      <td>0</td>\n",
       "      <td>0</td>\n",
       "      <td>1</td>\n",
       "    </tr>\n",
       "    <tr>\n",
       "      <th>1</th>\n",
       "      <td>210019704011024</td>\n",
       "      <td>181399745004001</td>\n",
       "      <td>1</td>\n",
       "      <td>0</td>\n",
       "      <td>0</td>\n",
       "      <td>1</td>\n",
       "      <td>1</td>\n",
       "      <td>0</td>\n",
       "      <td>0</td>\n",
       "      <td>0</td>\n",
       "      <td>1</td>\n",
       "      <td>0</td>\n",
       "    </tr>\n",
       "    <tr>\n",
       "      <th>2</th>\n",
       "      <td>210019704013028</td>\n",
       "      <td>180610603001027</td>\n",
       "      <td>1</td>\n",
       "      <td>1</td>\n",
       "      <td>0</td>\n",
       "      <td>0</td>\n",
       "      <td>1</td>\n",
       "      <td>0</td>\n",
       "      <td>0</td>\n",
       "      <td>0</td>\n",
       "      <td>1</td>\n",
       "      <td>0</td>\n",
       "    </tr>\n",
       "    <tr>\n",
       "      <th>3</th>\n",
       "      <td>210019704013032</td>\n",
       "      <td>181379689002046</td>\n",
       "      <td>1</td>\n",
       "      <td>0</td>\n",
       "      <td>1</td>\n",
       "      <td>0</td>\n",
       "      <td>1</td>\n",
       "      <td>0</td>\n",
       "      <td>0</td>\n",
       "      <td>0</td>\n",
       "      <td>0</td>\n",
       "      <td>1</td>\n",
       "    </tr>\n",
       "    <tr>\n",
       "      <th>4</th>\n",
       "      <td>210019704013037</td>\n",
       "      <td>180799603012034</td>\n",
       "      <td>1</td>\n",
       "      <td>1</td>\n",
       "      <td>0</td>\n",
       "      <td>0</td>\n",
       "      <td>1</td>\n",
       "      <td>0</td>\n",
       "      <td>0</td>\n",
       "      <td>0</td>\n",
       "      <td>0</td>\n",
       "      <td>1</td>\n",
       "    </tr>\n",
       "    <tr>\n",
       "      <th>5</th>\n",
       "      <td>210019704013048</td>\n",
       "      <td>180050105002006</td>\n",
       "      <td>1</td>\n",
       "      <td>0</td>\n",
       "      <td>0</td>\n",
       "      <td>1</td>\n",
       "      <td>0</td>\n",
       "      <td>0</td>\n",
       "      <td>1</td>\n",
       "      <td>0</td>\n",
       "      <td>0</td>\n",
       "      <td>1</td>\n",
       "    </tr>\n",
       "    <tr>\n",
       "      <th>6</th>\n",
       "      <td>210019704013053</td>\n",
       "      <td>180050103003012</td>\n",
       "      <td>1</td>\n",
       "      <td>0</td>\n",
       "      <td>0</td>\n",
       "      <td>1</td>\n",
       "      <td>0</td>\n",
       "      <td>0</td>\n",
       "      <td>1</td>\n",
       "      <td>0</td>\n",
       "      <td>0</td>\n",
       "      <td>1</td>\n",
       "    </tr>\n",
       "    <tr>\n",
       "      <th>7</th>\n",
       "      <td>210019704022002</td>\n",
       "      <td>180430710062001</td>\n",
       "      <td>1</td>\n",
       "      <td>0</td>\n",
       "      <td>1</td>\n",
       "      <td>0</td>\n",
       "      <td>0</td>\n",
       "      <td>1</td>\n",
       "      <td>0</td>\n",
       "      <td>1</td>\n",
       "      <td>0</td>\n",
       "      <td>0</td>\n",
       "    </tr>\n",
       "    <tr>\n",
       "      <th>8</th>\n",
       "      <td>210019704022014</td>\n",
       "      <td>180973221002005</td>\n",
       "      <td>1</td>\n",
       "      <td>0</td>\n",
       "      <td>1</td>\n",
       "      <td>0</td>\n",
       "      <td>0</td>\n",
       "      <td>0</td>\n",
       "      <td>1</td>\n",
       "      <td>0</td>\n",
       "      <td>0</td>\n",
       "      <td>1</td>\n",
       "    </tr>\n",
       "    <tr>\n",
       "      <th>9</th>\n",
       "      <td>210019704022024</td>\n",
       "      <td>180973419032012</td>\n",
       "      <td>1</td>\n",
       "      <td>0</td>\n",
       "      <td>0</td>\n",
       "      <td>1</td>\n",
       "      <td>0</td>\n",
       "      <td>1</td>\n",
       "      <td>0</td>\n",
       "      <td>0</td>\n",
       "      <td>0</td>\n",
       "      <td>1</td>\n",
       "    </tr>\n",
       "  </tbody>\n",
       "</table>\n",
       "</div>"
      ],
      "text/plain": [
       "         w_geocode        h_geocode  S000  SA01  SA02  SA03  SE01  SE02  SE03  \\\n",
       "0  210019704011008  181619608001025     1     0     0     1     0     1     0   \n",
       "1  210019704011024  181399745004001     1     0     0     1     1     0     0   \n",
       "2  210019704013028  180610603001027     1     1     0     0     1     0     0   \n",
       "3  210019704013032  181379689002046     1     0     1     0     1     0     0   \n",
       "4  210019704013037  180799603012034     1     1     0     0     1     0     0   \n",
       "5  210019704013048  180050105002006     1     0     0     1     0     0     1   \n",
       "6  210019704013053  180050103003012     1     0     0     1     0     0     1   \n",
       "7  210019704022002  180430710062001     1     0     1     0     0     1     0   \n",
       "8  210019704022014  180973221002005     1     0     1     0     0     0     1   \n",
       "9  210019704022024  180973419032012     1     0     0     1     0     1     0   \n",
       "\n",
       "   SI01  SI02  SI03  \n",
       "0     0     0     1  \n",
       "1     0     1     0  \n",
       "2     0     1     0  \n",
       "3     0     0     1  \n",
       "4     0     0     1  \n",
       "5     0     0     1  \n",
       "6     0     0     1  \n",
       "7     1     0     0  \n",
       "8     0     0     1  \n",
       "9     0     0     1  "
      ]
     },
     "execution_count": 7,
     "metadata": {},
     "output_type": "execute_result"
    }
   ],
   "source": [
    "df2 = df.drop(df[~df['h_geocode'].str.startswith(out_state)].index)\n",
    "df2 = df2.reset_index(drop=True)\n",
    "print('\\nnew dataframe length: ', \"{:,}\".format(len(df2)),'\\n\\n')\n",
    "df2.head(10)"
   ]
  },
  {
   "cell_type": "code",
   "execution_count": 10,
   "metadata": {},
   "outputs": [
    {
     "data": {
      "text/plain": [
       "6837"
      ]
     },
     "execution_count": 10,
     "metadata": {},
     "output_type": "execute_result"
    }
   ],
   "source": [
    "df2.w_geocode.nunique()"
   ]
  },
  {
   "cell_type": "code",
   "execution_count": 11,
   "metadata": {},
   "outputs": [],
   "source": [
    "# create a group of all workplace geoids\n",
    "df_group = df.groupby(['w_geocode']).sum()\n",
    "# include only the records with over 1000 employees in the block\n",
    "df_group_limited = df_group[(df_group['S000'] >= 1000)]\n",
    "# create list of all block with > 1000 workers\n",
    "top_block_list = df_group_limited.index.tolist()\n",
    "# create a dataframe with only block with > 1000\n",
    "df2 = df[df['w_geocode'].isin(top_block_list)]\n",
    "# sort the dataframe"
   ]
  },
  {
   "cell_type": "code",
   "execution_count": 62,
   "metadata": {},
   "outputs": [
    {
     "name": "stdout",
     "output_type": "stream",
     "text": [
      "<class 'pandas.core.frame.DataFrame'>\n",
      "RangeIndex: 1470400 entries, 0 to 1470399\n",
      "Data columns (total 12 columns):\n",
      "w_geocode    1470400 non-null object\n",
      "h_geocode    1470400 non-null object\n",
      "S000         1470400 non-null int64\n",
      "SA01         1470400 non-null int64\n",
      "SA02         1470400 non-null int64\n",
      "SA03         1470400 non-null int64\n",
      "SE01         1470400 non-null int64\n",
      "SE02         1470400 non-null int64\n",
      "SE03         1470400 non-null int64\n",
      "SI01         1470400 non-null int64\n",
      "SI02         1470400 non-null int64\n",
      "SI03         1470400 non-null int64\n",
      "dtypes: int64(10), object(2)\n",
      "memory usage: 134.6+ MB\n"
     ]
    }
   ],
   "source": [
    "df.info()"
   ]
  },
  {
   "cell_type": "code",
   "execution_count": 64,
   "metadata": {},
   "outputs": [
    {
     "name": "stdout",
     "output_type": "stream",
     "text": [
      "<class 'pandas.core.frame.DataFrame'>\n",
      "Int64Index: 28301 entries, 0 to 28300\n",
      "Data columns (total 11 columns):\n",
      "w_geocode    28301 non-null object\n",
      "S000         28301 non-null int64\n",
      "SA01         28301 non-null int64\n",
      "SA02         28301 non-null int64\n",
      "SA03         28301 non-null int64\n",
      "SE01         28301 non-null int64\n",
      "SE02         28301 non-null int64\n",
      "SE03         28301 non-null int64\n",
      "SI01         28301 non-null int64\n",
      "SI02         28301 non-null int64\n",
      "SI03         28301 non-null int64\n",
      "dtypes: int64(10), object(1)\n",
      "memory usage: 2.6+ MB\n"
     ]
    }
   ],
   "source": [
    "\n",
    "#df_group = df.groupby(['w_geocode']).sum().reset_index()\n",
    "df_group = df.groupby(['w_geocode'], as_index=False).sum()\n",
    "df_group.info()"
   ]
  },
  {
   "cell_type": "code",
   "execution_count": 65,
   "metadata": {},
   "outputs": [
    {
     "name": "stdout",
     "output_type": "stream",
     "text": [
      "Index(['w_geocode', 'h_geocode', 'S000', 'SA01', 'SA02', 'SA03', 'SE01',\n",
      "       'SE02', 'SE03', 'SI01', 'SI02', 'SI03'],\n",
      "      dtype='object')\n"
     ]
    }
   ],
   "source": [
    "cols_to_use = df.columns\n",
    "print (cols_to_use)"
   ]
  },
  {
   "cell_type": "code",
   "execution_count": 66,
   "metadata": {},
   "outputs": [
    {
     "data": {
      "text/html": [
       "<div>\n",
       "<style scoped>\n",
       "    .dataframe tbody tr th:only-of-type {\n",
       "        vertical-align: middle;\n",
       "    }\n",
       "\n",
       "    .dataframe tbody tr th {\n",
       "        vertical-align: top;\n",
       "    }\n",
       "\n",
       "    .dataframe thead th {\n",
       "        text-align: right;\n",
       "    }\n",
       "</style>\n",
       "<table border=\"1\" class=\"dataframe\">\n",
       "  <thead>\n",
       "    <tr style=\"text-align: right;\">\n",
       "      <th></th>\n",
       "      <th>w_geocode</th>\n",
       "      <th>S000</th>\n",
       "      <th>SA01</th>\n",
       "      <th>SA02</th>\n",
       "      <th>SA03</th>\n",
       "      <th>SE01</th>\n",
       "      <th>SE02</th>\n",
       "      <th>SE03</th>\n",
       "      <th>SI01</th>\n",
       "      <th>SI02</th>\n",
       "      <th>SI03</th>\n",
       "    </tr>\n",
       "  </thead>\n",
       "  <tbody>\n",
       "    <tr>\n",
       "      <th>604</th>\n",
       "      <td>210099505002000</td>\n",
       "      <td>1238</td>\n",
       "      <td>137</td>\n",
       "      <td>854</td>\n",
       "      <td>247</td>\n",
       "      <td>71</td>\n",
       "      <td>599</td>\n",
       "      <td>568</td>\n",
       "      <td>0</td>\n",
       "      <td>0</td>\n",
       "      <td>1238</td>\n",
       "    </tr>\n",
       "  </tbody>\n",
       "</table>\n",
       "</div>"
      ],
      "text/plain": [
       "           w_geocode  S000  SA01  SA02  SA03  SE01  SE02  SE03  SI01  SI02  \\\n",
       "604  210099505002000  1238   137   854   247    71   599   568     0     0   \n",
       "\n",
       "     SI03  \n",
       "604  1238  "
      ]
     },
     "execution_count": 66,
     "metadata": {},
     "output_type": "execute_result"
    }
   ],
   "source": [
    "\n",
    "df_group_limited = df_group[(df_group['S000'] >= 1000)]\n",
    "df_group_limited.head(1)"
   ]
  },
  {
   "cell_type": "code",
   "execution_count": 94,
   "metadata": {},
   "outputs": [
    {
     "data": {
      "text/html": [
       "<div>\n",
       "<style scoped>\n",
       "    .dataframe tbody tr th:only-of-type {\n",
       "        vertical-align: middle;\n",
       "    }\n",
       "\n",
       "    .dataframe tbody tr th {\n",
       "        vertical-align: top;\n",
       "    }\n",
       "\n",
       "    .dataframe thead th {\n",
       "        text-align: right;\n",
       "    }\n",
       "</style>\n",
       "<table border=\"1\" class=\"dataframe\">\n",
       "  <thead>\n",
       "    <tr style=\"text-align: right;\">\n",
       "      <th></th>\n",
       "      <th>w_geocode</th>\n",
       "      <th>h_geocode</th>\n",
       "      <th>S000</th>\n",
       "      <th>SA01</th>\n",
       "      <th>SA02</th>\n",
       "      <th>SA03</th>\n",
       "      <th>SE01</th>\n",
       "      <th>SE02</th>\n",
       "      <th>SE03</th>\n",
       "      <th>SI01</th>\n",
       "      <th>SI02</th>\n",
       "      <th>SI03</th>\n",
       "      <th>w_group_count</th>\n",
       "    </tr>\n",
       "  </thead>\n",
       "  <tbody>\n",
       "    <tr>\n",
       "      <th>0</th>\n",
       "      <td>210099505002000</td>\n",
       "      <td>210019702001066</td>\n",
       "      <td>1</td>\n",
       "      <td>0</td>\n",
       "      <td>1</td>\n",
       "      <td>0</td>\n",
       "      <td>0</td>\n",
       "      <td>0</td>\n",
       "      <td>1</td>\n",
       "      <td>0</td>\n",
       "      <td>0</td>\n",
       "      <td>1</td>\n",
       "      <td>1238</td>\n",
       "    </tr>\n",
       "  </tbody>\n",
       "</table>\n",
       "</div>"
      ],
      "text/plain": [
       "         w_geocode        h_geocode  S000  SA01  SA02  SA03  SE01  SE02  SE03  \\\n",
       "0  210099505002000  210019702001066     1     0     1     0     0     0     1   \n",
       "\n",
       "   SI01  SI02  SI03  w_group_count  \n",
       "0     0     0     1           1238  "
      ]
     },
     "execution_count": 94,
     "metadata": {},
     "output_type": "execute_result"
    }
   ],
   "source": [
    "result = pd.merge(df, df_group_limited, on='w_geocode', suffixes=('','_del'))\n",
    "result.rename(columns={'S000_del': 'w_group_count'}, inplace=True)\n",
    "result.drop(list(result.filter(regex='_del')), axis=1, inplace=True)\n",
    "result.head(1)"
   ]
  },
  {
   "cell_type": "code",
   "execution_count": 91,
   "metadata": {},
   "outputs": [
    {
     "name": "stdout",
     "output_type": "stream",
     "text": [
      "1470400\n",
      "223\n",
      "336546\n"
     ]
    },
    {
     "data": {
      "text/html": [
       "<div>\n",
       "<style scoped>\n",
       "    .dataframe tbody tr th:only-of-type {\n",
       "        vertical-align: middle;\n",
       "    }\n",
       "\n",
       "    .dataframe tbody tr th {\n",
       "        vertical-align: top;\n",
       "    }\n",
       "\n",
       "    .dataframe thead th {\n",
       "        text-align: right;\n",
       "    }\n",
       "</style>\n",
       "<table border=\"1\" class=\"dataframe\">\n",
       "  <thead>\n",
       "    <tr style=\"text-align: right;\">\n",
       "      <th></th>\n",
       "      <th>w_geocode</th>\n",
       "      <th>w_group_count</th>\n",
       "      <th>h_geocode</th>\n",
       "    </tr>\n",
       "  </thead>\n",
       "  <tbody>\n",
       "    <tr>\n",
       "      <th>0</th>\n",
       "      <td>210099505002000</td>\n",
       "      <td>1238</td>\n",
       "      <td>210019702001066</td>\n",
       "    </tr>\n",
       "    <tr>\n",
       "      <th>1</th>\n",
       "      <td>210099505002000</td>\n",
       "      <td>1238</td>\n",
       "      <td>210019702001086</td>\n",
       "    </tr>\n",
       "    <tr>\n",
       "      <th>2</th>\n",
       "      <td>210099505002000</td>\n",
       "      <td>1238</td>\n",
       "      <td>210019703001021</td>\n",
       "    </tr>\n",
       "    <tr>\n",
       "      <th>3</th>\n",
       "      <td>210099505002000</td>\n",
       "      <td>1238</td>\n",
       "      <td>210019703001030</td>\n",
       "    </tr>\n",
       "    <tr>\n",
       "      <th>4</th>\n",
       "      <td>210099505002000</td>\n",
       "      <td>1238</td>\n",
       "      <td>210019703002035</td>\n",
       "    </tr>\n",
       "  </tbody>\n",
       "</table>\n",
       "</div>"
      ],
      "text/plain": [
       "         w_geocode  w_group_count        h_geocode\n",
       "0  210099505002000           1238  210019702001066\n",
       "1  210099505002000           1238  210019702001086\n",
       "2  210099505002000           1238  210019703001021\n",
       "3  210099505002000           1238  210019703001030\n",
       "4  210099505002000           1238  210019703002035"
      ]
     },
     "execution_count": 91,
     "metadata": {},
     "output_type": "execute_result"
    }
   ],
   "source": [
    "print(len(df))\n",
    "print(len(df_group_limited))\n",
    "print(len(result))\n",
    "result.head()"
   ]
  },
  {
   "cell_type": "code",
   "execution_count": null,
   "metadata": {},
   "outputs": [],
   "source": []
  }
 ],
 "metadata": {
  "kernelspec": {
   "display_name": "Python 3",
   "language": "python",
   "name": "python3"
  },
  "language_info": {
   "codemirror_mode": {
    "name": "ipython",
    "version": 3
   },
   "file_extension": ".py",
   "mimetype": "text/x-python",
   "name": "python",
   "nbconvert_exporter": "python",
   "pygments_lexer": "ipython3",
   "version": "3.7.2"
  }
 },
 "nbformat": 4,
 "nbformat_minor": 2
}
