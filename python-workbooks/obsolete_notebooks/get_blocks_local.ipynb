{
 "cells": [
  {
   "cell_type": "code",
   "execution_count": 14,
   "metadata": {},
   "outputs": [],
   "source": [
    "import pathlib\n",
    "from pathlib import Path\n",
    "import collections\n",
    "import geopandas as gpd\n",
    "import pandas as pd\n",
    "import zipfile\n",
    "import timeit\n",
    "from IPython.display import clear_output\n",
    "from shutil import unpack_archive\n",
    "import numpy as np"
   ]
  },
  {
   "cell_type": "code",
   "execution_count": 2,
   "metadata": {},
   "outputs": [
    {
     "data": {
      "text/plain": [
       "PosixPath('/Users/mark/Documents/mapping/map698/698-project/python-workbooks')"
      ]
     },
     "execution_count": 2,
     "metadata": {},
     "output_type": "execute_result"
    }
   ],
   "source": [
    "pathlib.Path.cwd()"
   ]
  },
  {
   "cell_type": "markdown",
   "metadata": {},
   "source": [
    "#### Create directory path for temp storage of downloads"
   ]
  },
  {
   "cell_type": "code",
   "execution_count": 3,
   "metadata": {},
   "outputs": [],
   "source": [
    "ftpTmp = Path('../data/ftp-temp/')\n",
    "ftpTmp.mkdir(exist_ok=True, parents=True)"
   ]
  },
  {
   "cell_type": "markdown",
   "metadata": {},
   "source": [
    "#### Function - Load the shapefile information into GeoPandas"
   ]
  },
  {
   "cell_type": "code",
   "execution_count": 4,
   "metadata": {},
   "outputs": [],
   "source": [
    "def get_data(filename):\n",
    "    gdf = gpd.read_file(filename, dtype={'GEOID10': 'object', 'INTPTLAT10': 'float', 'INTPTLON10': 'float'})\n",
    "    return gdf"
   ]
  },
  {
   "cell_type": "markdown",
   "metadata": {},
   "source": [
    "#### Extract files from compressed file (zip)"
   ]
  },
  {
   "cell_type": "code",
   "execution_count": 5,
   "metadata": {},
   "outputs": [],
   "source": [
    "def extract_files(zip_path_file):\n",
    "    unpack_archive(str(zip_path_file), extract_dir=str(ftpTmp))\n",
    "    fh.close()"
   ]
  },
  {
   "cell_type": "markdown",
   "metadata": {},
   "source": [
    "#### Function - Write the tract dataframe to list"
   ]
  },
  {
   "cell_type": "code",
   "execution_count": 6,
   "metadata": {},
   "outputs": [],
   "source": [
    "def append_list(df_gdf, count_records):\n",
    "    #keep only the rows that are not water\n",
    "    df_gdf = df_gdf.drop(df_gdf[(df_gdf['AWATER10'] > 0) & (df_gdf['ALAND10'] == 0)].index)\n",
    "    \n",
    "    #exclude Puerto Rico and island areas\n",
    "    if str(df_gdf['STATEFP10'].unique()[0]) in st_list:\n",
    "        df_list.append(df_gdf)\n",
    "        count_records = count_records+len(df_gdf)\n",
    "        \n",
    "    # drop the columns that are not needed\n",
    "    cols=['STATEFP10','COUNTYFP10','TRACTCE10','BLOCKCE10','NAME10','MTFCC10','UR10','UACE10','UATYPE','FUNCSTAT10','ALAND10','AWATER10','geometry']\n",
    "    df_gdf.drop(cols, axis=1, inplace=True)\n",
    "    df_gdf.rename(columns={'GEOID10': 'block_geoid', 'INTPTLAT10': 'lat', 'INTPTLON10': 'lon'}, inplace=True)\n",
    "    return count_records"
   ]
  },
  {
   "cell_type": "markdown",
   "metadata": {},
   "source": [
    "#### Function - Convert decimal time to minutes and seconds"
   ]
  },
  {
   "cell_type": "code",
   "execution_count": 7,
   "metadata": {},
   "outputs": [],
   "source": [
    "def get_time(timer):\n",
    "    minutes, seconds = int(np.floor(timer)), round(np.asscalar(timer % 1)*60)\n",
    "    return [minutes, seconds]"
   ]
  },
  {
   "cell_type": "code",
   "execution_count": null,
   "metadata": {},
   "outputs": [],
   "source": []
  },
  {
   "cell_type": "code",
   "execution_count": 8,
   "metadata": {},
   "outputs": [],
   "source": [
    "BlocksPath = Path('/Users/mark/Documents/github-private/698-inspiration/Census-blocks')"
   ]
  },
  {
   "cell_type": "code",
   "execution_count": 9,
   "metadata": {},
   "outputs": [
    {
     "data": {
      "text/plain": [
       "Counter({'.zip': 56})"
      ]
     },
     "execution_count": 9,
     "metadata": {},
     "output_type": "execute_result"
    }
   ],
   "source": [
    "collections.Counter(p.suffix for p in BlocksPath.glob('*.z*'))"
   ]
  },
  {
   "cell_type": "code",
   "execution_count": null,
   "metadata": {},
   "outputs": [],
   "source": []
  },
  {
   "cell_type": "markdown",
   "metadata": {},
   "source": [
    "#### list all the files in the Census download directory"
   ]
  },
  {
   "cell_type": "code",
   "execution_count": 10,
   "metadata": {},
   "outputs": [],
   "source": [
    "file_list=[]\n",
    "directory = BlocksPath\n",
    "for path in sorted(directory.rglob('*')):\n",
    "        depth = len(path.relative_to(directory).parts)\n",
    "        file_list.append(path.name)"
   ]
  },
  {
   "cell_type": "code",
   "execution_count": 11,
   "metadata": {},
   "outputs": [
    {
     "name": "stdout",
     "output_type": "stream",
     "text": [
      "\n",
      "\n",
      "Processing Complete\n",
      "Total time: 16 minutes 27 seconds\n",
      "\n",
      "Total count: 10,498,069\n"
     ]
    }
   ],
   "source": [
    "# set various counting variables\n",
    "counter = 0\n",
    "decimals = 0   \n",
    "# start a timer\n",
    "start = timeit.default_timer()\n",
    "\n",
    "# create a blank list to accumulate the dataframes\n",
    "df_list = []\n",
    "count_records = 0\n",
    "# a list of state fips to be included (eliminates Puerto Rico, Samoa,Guam,Mariana Islans, Virgin Island, and Island Areas) \n",
    "# see https://www.census.gov/geo/maps-data/data/tallies/dfblock.html\n",
    "st_list = ['01','04','05','06','08','09','10','11','12','13','16','17','18','19','20','21','22','23','24','25','26','27','28','29','30','31','32','33','34','35','36','37','38','39','40','41','42','44','45','46','47','48','49','50','51','53','54','55','56']\n",
    "\n",
    "\n",
    "for index, zip_filename in enumerate(file_list):\n",
    "    \n",
    "    # create a file path for the download\n",
    "    zip_path_file = BlocksPath.joinpath(file_list[index])\n",
    "    \n",
    "    # open downloaded file for df\n",
    "    fh = open(zip_path_file, \"rb\")\n",
    "    zp = zipfile.ZipFile(fh)\n",
    "    \n",
    "    # call df function\n",
    "    extract_files(zip_path_file)\n",
    "    \n",
    "    # assign file handles to each of the files exdfed\n",
    "    cpg, dbf, prj, shp, xml1, xml2, shx = [filename for filename in zp.namelist()]\n",
    "    \n",
    "    fh.close\n",
    "    zp.close\n",
    "    print(shp)\n",
    "    \n",
    "    # add a path to the shapefile\n",
    "    shape_file = ftpTmp.joinpath(shp)\n",
    "    \n",
    "    # call function to create a geodataframe\n",
    "    df_gdf = get_data(shape_file)\n",
    "    \n",
    "    # call function to append the geodataframe to a list\n",
    "    count_records = append_list(df_gdf, count_records)\n",
    "    \n",
    "    #removes exdfed files and zip file\n",
    "    zip_path_file.unlink()\n",
    "    shape_file.unlink()\n",
    "    file_to_rem = ftpTmp.joinpath(cpg)\n",
    "    file_to_rem.unlink()    \n",
    "    file_to_rem = ftpTmp.joinpath(dbf)\n",
    "    file_to_rem.unlink()    \n",
    "    file_to_rem = ftpTmp.joinpath(xml1)\n",
    "    file_to_rem.unlink()    \n",
    "    file_to_rem = ftpTmp.joinpath(xml2)\n",
    "    file_to_rem.unlink()    \n",
    "    file_to_rem = ftpTmp.joinpath(shx)\n",
    "    file_to_rem.unlink()    \n",
    "    file_to_rem = ftpTmp.joinpath(prj)\n",
    "    file_to_rem.unlink()\n",
    "\n",
    "    # get the current time on timer\n",
    "    stop = timeit.default_timer()\n",
    "    \n",
    "    #create a numpy array to calculate time\n",
    "    timer = np.array([(stop-start)/60])\n",
    "    # call function to calculate minutes and seconds\n",
    "    min_sec = get_time(timer)\n",
    "    minutes, seconds = min_sec[0], min_sec[1]\n",
    "    \n",
    "    # clear the output below this cell\n",
    "    clear_output(wait=True)\n",
    "    \n",
    "    # print a few lines for progress monitoring\n",
    "    print('Processed df file:',zip_filename)\n",
    "    print('Timer:', minutes, 'minutes', seconds, 'seconds')\n",
    "    print('Current record count:', \"{:,}\".format(count_records),'\\n')\n",
    "    counter+=1\n",
    "    \n",
    "# clear the output below this cell\n",
    "clear_output(wait=True)\n",
    "print('\\n\\nProcessing Complete\\nTotal time:', minutes, 'minutes', seconds, 'seconds')\n",
    "print('\\nTotal count:', \"{:,}\".format(count_records))"
   ]
  },
  {
   "cell_type": "code",
   "execution_count": null,
   "metadata": {},
   "outputs": [],
   "source": []
  },
  {
   "cell_type": "markdown",
   "metadata": {},
   "source": [
    "#### Remove the ftp temp folder"
   ]
  },
  {
   "cell_type": "code",
   "execution_count": 12,
   "metadata": {},
   "outputs": [],
   "source": [
    "ftpTmp.rmdir()"
   ]
  },
  {
   "cell_type": "markdown",
   "metadata": {},
   "source": [
    "#### Create a Pandas dataframe containing all tract records"
   ]
  },
  {
   "cell_type": "code",
   "execution_count": 15,
   "metadata": {},
   "outputs": [
    {
     "name": "stdout",
     "output_type": "stream",
     "text": [
      "CPU times: user 1.38 s, sys: 3.51 s, total: 4.88 s\n",
      "Wall time: 5.6 s\n"
     ]
    }
   ],
   "source": [
    "%time df_out = pd.concat(df_list)"
   ]
  },
  {
   "cell_type": "markdown",
   "metadata": {},
   "source": [
    "#### Create directory path for output file"
   ]
  },
  {
   "cell_type": "code",
   "execution_count": 16,
   "metadata": {},
   "outputs": [],
   "source": [
    "outputPath = Path('../data/blocks/')\n",
    "outputPath.mkdir(exist_ok=True, parents=True)"
   ]
  },
  {
   "cell_type": "markdown",
   "metadata": {},
   "source": [
    "#### Name zip file"
   ]
  },
  {
   "cell_type": "code",
   "execution_count": 17,
   "metadata": {},
   "outputs": [],
   "source": [
    "outputZip = 'block_centroids.csv.gz'"
   ]
  },
  {
   "cell_type": "markdown",
   "metadata": {},
   "source": [
    "#### Create full path with zip file"
   ]
  },
  {
   "cell_type": "code",
   "execution_count": 18,
   "metadata": {},
   "outputs": [],
   "source": [
    "out_Zip = outputPath.joinpath(outputZip)"
   ]
  },
  {
   "cell_type": "markdown",
   "metadata": {},
   "source": [
    "#### Write dataframe to compressed CSV"
   ]
  },
  {
   "cell_type": "code",
   "execution_count": 19,
   "metadata": {},
   "outputs": [
    {
     "name": "stdout",
     "output_type": "stream",
     "text": [
      "\n",
      "Data compression complete.\n",
      "Total time: 2 minutes 27 seconds\n"
     ]
    }
   ],
   "source": [
    "# start a timer\n",
    "start = timeit.default_timer()\n",
    "print ('Compressing dataframe. Please be patient.')\n",
    "df_out.to_csv(out_Zip, compression='gzip', index=None)\n",
    "clear_output(wait=True)\n",
    "# get the current time on timer\n",
    "stop = timeit.default_timer()\n",
    "timer = np.array([(stop-start)/60])\n",
    "min_sec = get_time(timer)\n",
    "minutes, seconds = min_sec[0], min_sec[1]\n",
    "print('\\nData compression complete.\\nTotal time:', minutes, 'minutes', seconds, 'seconds')"
   ]
  },
  {
   "cell_type": "code",
   "execution_count": 20,
   "metadata": {},
   "outputs": [
    {
     "name": "stdout",
     "output_type": "stream",
     "text": [
      "Number of tract records written to file: 10,498,069\n"
     ]
    }
   ],
   "source": [
    "print('Number of tract records written to file:',\"{:,}\".format(len(df_out)))"
   ]
  },
  {
   "cell_type": "code",
   "execution_count": 21,
   "metadata": {},
   "outputs": [
    {
     "name": "stdout",
     "output_type": "stream",
     "text": [
      "<class 'geopandas.geodataframe.GeoDataFrame'>\n",
      "Int64Index: 10498069 entries, 0 to 86203\n",
      "Data columns (total 3 columns):\n",
      "block_geoid    object\n",
      "lat            object\n",
      "lon            object\n",
      "dtypes: object(3)\n",
      "memory usage: 320.4+ MB\n"
     ]
    }
   ],
   "source": [
    "df_out.info()"
   ]
  },
  {
   "cell_type": "code",
   "execution_count": 22,
   "metadata": {},
   "outputs": [
    {
     "data": {
      "text/html": [
       "<div>\n",
       "<style scoped>\n",
       "    .dataframe tbody tr th:only-of-type {\n",
       "        vertical-align: middle;\n",
       "    }\n",
       "\n",
       "    .dataframe tbody tr th {\n",
       "        vertical-align: top;\n",
       "    }\n",
       "\n",
       "    .dataframe thead th {\n",
       "        text-align: right;\n",
       "    }\n",
       "</style>\n",
       "<table border=\"1\" class=\"dataframe\">\n",
       "  <thead>\n",
       "    <tr style=\"text-align: right;\">\n",
       "      <th></th>\n",
       "      <th>block_geoid</th>\n",
       "      <th>lat</th>\n",
       "      <th>lon</th>\n",
       "    </tr>\n",
       "  </thead>\n",
       "  <tbody>\n",
       "    <tr>\n",
       "      <th>0</th>\n",
       "      <td>010890111001560</td>\n",
       "      <td>+34.5974352</td>\n",
       "      <td>-086.6606772</td>\n",
       "    </tr>\n",
       "    <tr>\n",
       "      <th>2</th>\n",
       "      <td>010890105012010</td>\n",
       "      <td>+34.8659936</td>\n",
       "      <td>-086.7366266</td>\n",
       "    </tr>\n",
       "    <tr>\n",
       "      <th>4</th>\n",
       "      <td>010890106241007</td>\n",
       "      <td>+34.7863755</td>\n",
       "      <td>-086.7546843</td>\n",
       "    </tr>\n",
       "    <tr>\n",
       "      <th>5</th>\n",
       "      <td>010630600002024</td>\n",
       "      <td>+32.9585581</td>\n",
       "      <td>-088.0510053</td>\n",
       "    </tr>\n",
       "    <tr>\n",
       "      <th>6</th>\n",
       "      <td>010630602001058</td>\n",
       "      <td>+32.7559080</td>\n",
       "      <td>-088.0879299</td>\n",
       "    </tr>\n",
       "  </tbody>\n",
       "</table>\n",
       "</div>"
      ],
      "text/plain": [
       "       block_geoid          lat           lon\n",
       "0  010890111001560  +34.5974352  -086.6606772\n",
       "2  010890105012010  +34.8659936  -086.7366266\n",
       "4  010890106241007  +34.7863755  -086.7546843\n",
       "5  010630600002024  +32.9585581  -088.0510053\n",
       "6  010630602001058  +32.7559080  -088.0879299"
      ]
     },
     "execution_count": 22,
     "metadata": {},
     "output_type": "execute_result"
    }
   ],
   "source": [
    "df_out.head()"
   ]
  },
  {
   "cell_type": "code",
   "execution_count": null,
   "metadata": {},
   "outputs": [],
   "source": []
  }
 ],
 "metadata": {
  "kernelspec": {
   "display_name": "Python 3",
   "language": "python",
   "name": "python3"
  },
  "language_info": {
   "codemirror_mode": {
    "name": "ipython",
    "version": 3
   },
   "file_extension": ".py",
   "mimetype": "text/x-python",
   "name": "python",
   "nbconvert_exporter": "python",
   "pygments_lexer": "ipython3",
   "version": "3.7.2"
  }
 },
 "nbformat": 4,
 "nbformat_minor": 2
}
